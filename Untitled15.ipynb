{
  "nbformat": 4,
  "nbformat_minor": 0,
  "metadata": {
    "colab": {
      "name": "Untitled15.ipynb",
      "provenance": [],
      "collapsed_sections": [],
      "authorship_tag": "ABX9TyP/2+PA80ItTSHwiiAxd2jL",
      "include_colab_link": true
    },
    "kernelspec": {
      "name": "python3",
      "display_name": "Python 3"
    },
    "widgets": {
      "application/vnd.jupyter.widget-state+json": {
        "29ed8ab18a4a4b1692f799d9e892650e": {
          "model_module": "@jupyter-widgets/controls",
          "model_name": "HBoxModel",
          "state": {
            "_view_name": "HBoxView",
            "_dom_classes": [],
            "_model_name": "HBoxModel",
            "_view_module": "@jupyter-widgets/controls",
            "_model_module_version": "1.5.0",
            "_view_count": null,
            "_view_module_version": "1.5.0",
            "box_style": "",
            "layout": "IPY_MODEL_337acd5298bc4c7c96fa18533add3274",
            "_model_module": "@jupyter-widgets/controls",
            "children": [
              "IPY_MODEL_66423c16d73348e98d5219a2f64c026c",
              "IPY_MODEL_f3b0e38b8b724da1999d2e647b205440"
            ]
          }
        },
        "337acd5298bc4c7c96fa18533add3274": {
          "model_module": "@jupyter-widgets/base",
          "model_name": "LayoutModel",
          "state": {
            "_view_name": "LayoutView",
            "grid_template_rows": null,
            "right": null,
            "justify_content": null,
            "_view_module": "@jupyter-widgets/base",
            "overflow": null,
            "_model_module_version": "1.2.0",
            "_view_count": null,
            "flex_flow": null,
            "width": null,
            "min_width": null,
            "border": null,
            "align_items": null,
            "bottom": null,
            "_model_module": "@jupyter-widgets/base",
            "top": null,
            "grid_column": null,
            "overflow_y": null,
            "overflow_x": null,
            "grid_auto_flow": null,
            "grid_area": null,
            "grid_template_columns": null,
            "flex": null,
            "_model_name": "LayoutModel",
            "justify_items": null,
            "grid_row": null,
            "max_height": null,
            "align_content": null,
            "visibility": null,
            "align_self": null,
            "height": null,
            "min_height": null,
            "padding": null,
            "grid_auto_rows": null,
            "grid_gap": null,
            "max_width": null,
            "order": null,
            "_view_module_version": "1.2.0",
            "grid_template_areas": null,
            "object_position": null,
            "object_fit": null,
            "grid_auto_columns": null,
            "margin": null,
            "display": null,
            "left": null
          }
        },
        "66423c16d73348e98d5219a2f64c026c": {
          "model_module": "@jupyter-widgets/controls",
          "model_name": "IntProgressModel",
          "state": {
            "_view_name": "ProgressView",
            "style": "IPY_MODEL_dbeb4ee41360421991354df9f69f82f1",
            "_dom_classes": [],
            "description": "100%",
            "_model_name": "IntProgressModel",
            "bar_style": "success",
            "max": 13,
            "_view_module": "@jupyter-widgets/controls",
            "_model_module_version": "1.5.0",
            "value": 13,
            "_view_count": null,
            "_view_module_version": "1.5.0",
            "orientation": "horizontal",
            "min": 0,
            "description_tooltip": null,
            "_model_module": "@jupyter-widgets/controls",
            "layout": "IPY_MODEL_f072aadad0b14510a18c5d313ec7b509"
          }
        },
        "f3b0e38b8b724da1999d2e647b205440": {
          "model_module": "@jupyter-widgets/controls",
          "model_name": "HTMLModel",
          "state": {
            "_view_name": "HTMLView",
            "style": "IPY_MODEL_e0c16495310449858af6085ce5e69de8",
            "_dom_classes": [],
            "description": "",
            "_model_name": "HTMLModel",
            "placeholder": "​",
            "_view_module": "@jupyter-widgets/controls",
            "_model_module_version": "1.5.0",
            "value": " 13/13 [00:03&lt;00:00,  3.41it/s]",
            "_view_count": null,
            "_view_module_version": "1.5.0",
            "description_tooltip": null,
            "_model_module": "@jupyter-widgets/controls",
            "layout": "IPY_MODEL_994c61fca49c48f184345689f80064e9"
          }
        },
        "dbeb4ee41360421991354df9f69f82f1": {
          "model_module": "@jupyter-widgets/controls",
          "model_name": "ProgressStyleModel",
          "state": {
            "_view_name": "StyleView",
            "_model_name": "ProgressStyleModel",
            "description_width": "initial",
            "_view_module": "@jupyter-widgets/base",
            "_model_module_version": "1.5.0",
            "_view_count": null,
            "_view_module_version": "1.2.0",
            "bar_color": null,
            "_model_module": "@jupyter-widgets/controls"
          }
        },
        "f072aadad0b14510a18c5d313ec7b509": {
          "model_module": "@jupyter-widgets/base",
          "model_name": "LayoutModel",
          "state": {
            "_view_name": "LayoutView",
            "grid_template_rows": null,
            "right": null,
            "justify_content": null,
            "_view_module": "@jupyter-widgets/base",
            "overflow": null,
            "_model_module_version": "1.2.0",
            "_view_count": null,
            "flex_flow": null,
            "width": null,
            "min_width": null,
            "border": null,
            "align_items": null,
            "bottom": null,
            "_model_module": "@jupyter-widgets/base",
            "top": null,
            "grid_column": null,
            "overflow_y": null,
            "overflow_x": null,
            "grid_auto_flow": null,
            "grid_area": null,
            "grid_template_columns": null,
            "flex": null,
            "_model_name": "LayoutModel",
            "justify_items": null,
            "grid_row": null,
            "max_height": null,
            "align_content": null,
            "visibility": null,
            "align_self": null,
            "height": null,
            "min_height": null,
            "padding": null,
            "grid_auto_rows": null,
            "grid_gap": null,
            "max_width": null,
            "order": null,
            "_view_module_version": "1.2.0",
            "grid_template_areas": null,
            "object_position": null,
            "object_fit": null,
            "grid_auto_columns": null,
            "margin": null,
            "display": null,
            "left": null
          }
        },
        "e0c16495310449858af6085ce5e69de8": {
          "model_module": "@jupyter-widgets/controls",
          "model_name": "DescriptionStyleModel",
          "state": {
            "_view_name": "StyleView",
            "_model_name": "DescriptionStyleModel",
            "description_width": "",
            "_view_module": "@jupyter-widgets/base",
            "_model_module_version": "1.5.0",
            "_view_count": null,
            "_view_module_version": "1.2.0",
            "_model_module": "@jupyter-widgets/controls"
          }
        },
        "994c61fca49c48f184345689f80064e9": {
          "model_module": "@jupyter-widgets/base",
          "model_name": "LayoutModel",
          "state": {
            "_view_name": "LayoutView",
            "grid_template_rows": null,
            "right": null,
            "justify_content": null,
            "_view_module": "@jupyter-widgets/base",
            "overflow": null,
            "_model_module_version": "1.2.0",
            "_view_count": null,
            "flex_flow": null,
            "width": null,
            "min_width": null,
            "border": null,
            "align_items": null,
            "bottom": null,
            "_model_module": "@jupyter-widgets/base",
            "top": null,
            "grid_column": null,
            "overflow_y": null,
            "overflow_x": null,
            "grid_auto_flow": null,
            "grid_area": null,
            "grid_template_columns": null,
            "flex": null,
            "_model_name": "LayoutModel",
            "justify_items": null,
            "grid_row": null,
            "max_height": null,
            "align_content": null,
            "visibility": null,
            "align_self": null,
            "height": null,
            "min_height": null,
            "padding": null,
            "grid_auto_rows": null,
            "grid_gap": null,
            "max_width": null,
            "order": null,
            "_view_module_version": "1.2.0",
            "grid_template_areas": null,
            "object_position": null,
            "object_fit": null,
            "grid_auto_columns": null,
            "margin": null,
            "display": null,
            "left": null
          }
        }
      }
    }
  },
  "cells": [
    {
      "cell_type": "markdown",
      "metadata": {
        "id": "view-in-github",
        "colab_type": "text"
      },
      "source": [
        "<a href=\"https://colab.research.google.com/github/lordoz234/ML/blob/master/Untitled15.ipynb\" target=\"_parent\"><img src=\"https://colab.research.google.com/assets/colab-badge.svg\" alt=\"Open In Colab\"/></a>"
      ]
    },
    {
      "cell_type": "code",
      "metadata": {
        "id": "aG6b6VCMYoZ5",
        "colab_type": "code",
        "colab": {
          "base_uri": "https://localhost:8080/",
          "height": 122
        },
        "outputId": "4cf0bed3-949e-4529-88fd-05ae2f7b8e23"
      },
      "source": [
        "from google.colab import drive\n",
        "drive.mount('/content/drive',force_remount=True)"
      ],
      "execution_count": 1,
      "outputs": [
        {
          "output_type": "stream",
          "text": [
            "Go to this URL in a browser: https://accounts.google.com/o/oauth2/auth?client_id=947318989803-6bn6qk8qdgf4n4g3pfee6491hc0brc4i.apps.googleusercontent.com&redirect_uri=urn%3aietf%3awg%3aoauth%3a2.0%3aoob&response_type=code&scope=email%20https%3a%2f%2fwww.googleapis.com%2fauth%2fdocs.test%20https%3a%2f%2fwww.googleapis.com%2fauth%2fdrive%20https%3a%2f%2fwww.googleapis.com%2fauth%2fdrive.photos.readonly%20https%3a%2f%2fwww.googleapis.com%2fauth%2fpeopleapi.readonly\n",
            "\n",
            "Enter your authorization code:\n",
            "··········\n",
            "Mounted at /content/drive\n"
          ],
          "name": "stdout"
        }
      ]
    },
    {
      "cell_type": "code",
      "metadata": {
        "id": "Jzc3LoWpYxAD",
        "colab_type": "code",
        "colab": {}
      },
      "source": [
        "import numpy as np\n",
        "import pandas as pd\n",
        "from matplotlib import pyplot as plt"
      ],
      "execution_count": 0,
      "outputs": []
    },
    {
      "cell_type": "code",
      "metadata": {
        "id": "G9dmUhixZHNb",
        "colab_type": "code",
        "colab": {}
      },
      "source": [
        "data = pd.read_csv('/content/drive/My Drive/files/ku.csv')"
      ],
      "execution_count": 0,
      "outputs": []
    },
    {
      "cell_type": "code",
      "metadata": {
        "id": "NFyNlSNdZO8k",
        "colab_type": "code",
        "colab": {
          "base_uri": "https://localhost:8080/",
          "height": 323
        },
        "outputId": "1938440b-a6fb-46a5-bc2e-9530919557f7"
      },
      "source": [
        "data.info()"
      ],
      "execution_count": 54,
      "outputs": [
        {
          "output_type": "stream",
          "text": [
            "<class 'pandas.core.frame.DataFrame'>\n",
            "RangeIndex: 2503 entries, 0 to 2502\n",
            "Data columns (total 11 columns):\n",
            " #   Column                        Non-Null Count  Dtype  \n",
            "---  ------                        --------------  -----  \n",
            " 0   files                         2503 non-null   object \n",
            " 1   is_eulerian                   2503 non-null   bool   \n",
            " 2   estrada_index                 2503 non-null   float64\n",
            " 3   is_multigraphical             2503 non-null   bool   \n",
            " 4   is_pseudographical            2503 non-null   bool   \n",
            " 5   maximal_matching              2503 non-null   int64  \n",
            " 6   number_of_cliques             2503 non-null   int64  \n",
            " 7   rich_club_coefficient         2503 non-null   float64\n",
            " 8   average_shortest_path_length  2503 non-null   float64\n",
            " 9   population                    2503 non-null   object \n",
            " 10  super_popilation              2503 non-null   object \n",
            "dtypes: bool(3), float64(3), int64(2), object(3)\n",
            "memory usage: 163.9+ KB\n"
          ],
          "name": "stdout"
        }
      ]
    },
    {
      "cell_type": "code",
      "metadata": {
        "id": "0ARijWShZ38J",
        "colab_type": "code",
        "colab": {
          "base_uri": "https://localhost:8080/",
          "height": 162
        },
        "outputId": "c7d4f97a-fd32-4b98-b86d-eb4a3770d46e"
      },
      "source": [
        "data.sample(3)"
      ],
      "execution_count": 55,
      "outputs": [
        {
          "output_type": "execute_result",
          "data": {
            "text/html": [
              "<div>\n",
              "<style scoped>\n",
              "    .dataframe tbody tr th:only-of-type {\n",
              "        vertical-align: middle;\n",
              "    }\n",
              "\n",
              "    .dataframe tbody tr th {\n",
              "        vertical-align: top;\n",
              "    }\n",
              "\n",
              "    .dataframe thead th {\n",
              "        text-align: right;\n",
              "    }\n",
              "</style>\n",
              "<table border=\"1\" class=\"dataframe\">\n",
              "  <thead>\n",
              "    <tr style=\"text-align: right;\">\n",
              "      <th></th>\n",
              "      <th>files</th>\n",
              "      <th>is_eulerian</th>\n",
              "      <th>estrada_index</th>\n",
              "      <th>is_multigraphical</th>\n",
              "      <th>is_pseudographical</th>\n",
              "      <th>maximal_matching</th>\n",
              "      <th>number_of_cliques</th>\n",
              "      <th>rich_club_coefficient</th>\n",
              "      <th>average_shortest_path_length</th>\n",
              "      <th>population</th>\n",
              "      <th>super_popilation</th>\n",
              "    </tr>\n",
              "  </thead>\n",
              "  <tbody>\n",
              "    <tr>\n",
              "      <th>1499</th>\n",
              "      <td>HG02798.txt</td>\n",
              "      <td>False</td>\n",
              "      <td>1.010035e+37</td>\n",
              "      <td>False</td>\n",
              "      <td>False</td>\n",
              "      <td>11</td>\n",
              "      <td>671</td>\n",
              "      <td>0.032298</td>\n",
              "      <td>1.967702</td>\n",
              "      <td>GWD</td>\n",
              "      <td>AFR</td>\n",
              "    </tr>\n",
              "    <tr>\n",
              "      <th>1248</th>\n",
              "      <td>NA20761.txt</td>\n",
              "      <td>False</td>\n",
              "      <td>5.992838e+24</td>\n",
              "      <td>True</td>\n",
              "      <td>True</td>\n",
              "      <td>5</td>\n",
              "      <td>656</td>\n",
              "      <td>0.015151</td>\n",
              "      <td>1.984849</td>\n",
              "      <td>TSI</td>\n",
              "      <td>EUR</td>\n",
              "    </tr>\n",
              "    <tr>\n",
              "      <th>1728</th>\n",
              "      <td>HG02190.txt</td>\n",
              "      <td>False</td>\n",
              "      <td>2.486126e+33</td>\n",
              "      <td>True</td>\n",
              "      <td>True</td>\n",
              "      <td>9</td>\n",
              "      <td>666</td>\n",
              "      <td>0.026702</td>\n",
              "      <td>1.973298</td>\n",
              "      <td>CDX</td>\n",
              "      <td>EAS</td>\n",
              "    </tr>\n",
              "  </tbody>\n",
              "</table>\n",
              "</div>"
            ],
            "text/plain": [
              "            files  is_eulerian  ...  population  super_popilation\n",
              "1499  HG02798.txt        False  ...         GWD               AFR\n",
              "1248  NA20761.txt        False  ...         TSI               EUR\n",
              "1728  HG02190.txt        False  ...         CDX               EAS\n",
              "\n",
              "[3 rows x 11 columns]"
            ]
          },
          "metadata": {
            "tags": []
          },
          "execution_count": 55
        }
      ]
    },
    {
      "cell_type": "code",
      "metadata": {
        "id": "Hhdv2M1gZR2J",
        "colab_type": "code",
        "colab": {}
      },
      "source": [
        "data['is_eulerian'] = data['is_eulerian'].map({True: 1, False: 0})\n",
        "data['is_multigraphical'] = data['is_multigraphical'].map({True: 1, False: 0})\n",
        "data['is_pseudographical'] = data['is_pseudographical'].map({True: 1, False: 0})"
      ],
      "execution_count": 0,
      "outputs": []
    },
    {
      "cell_type": "code",
      "metadata": {
        "id": "WoeSZJBdZtDt",
        "colab_type": "code",
        "colab": {
          "base_uri": "https://localhost:8080/",
          "height": 162
        },
        "outputId": "7e143cb0-894f-4636-cad5-f4512c6c0163"
      },
      "source": [
        "data.sample(3)"
      ],
      "execution_count": 57,
      "outputs": [
        {
          "output_type": "execute_result",
          "data": {
            "text/html": [
              "<div>\n",
              "<style scoped>\n",
              "    .dataframe tbody tr th:only-of-type {\n",
              "        vertical-align: middle;\n",
              "    }\n",
              "\n",
              "    .dataframe tbody tr th {\n",
              "        vertical-align: top;\n",
              "    }\n",
              "\n",
              "    .dataframe thead th {\n",
              "        text-align: right;\n",
              "    }\n",
              "</style>\n",
              "<table border=\"1\" class=\"dataframe\">\n",
              "  <thead>\n",
              "    <tr style=\"text-align: right;\">\n",
              "      <th></th>\n",
              "      <th>files</th>\n",
              "      <th>is_eulerian</th>\n",
              "      <th>estrada_index</th>\n",
              "      <th>is_multigraphical</th>\n",
              "      <th>is_pseudographical</th>\n",
              "      <th>maximal_matching</th>\n",
              "      <th>number_of_cliques</th>\n",
              "      <th>rich_club_coefficient</th>\n",
              "      <th>average_shortest_path_length</th>\n",
              "      <th>population</th>\n",
              "      <th>super_popilation</th>\n",
              "    </tr>\n",
              "  </thead>\n",
              "  <tbody>\n",
              "    <tr>\n",
              "      <th>2140</th>\n",
              "      <td>HG02489.txt</td>\n",
              "      <td>0</td>\n",
              "      <td>4.775711e+38</td>\n",
              "      <td>1</td>\n",
              "      <td>1</td>\n",
              "      <td>12</td>\n",
              "      <td>673</td>\n",
              "      <td>0.035077</td>\n",
              "      <td>1.964923</td>\n",
              "      <td>ACB</td>\n",
              "      <td>AFR</td>\n",
              "    </tr>\n",
              "    <tr>\n",
              "      <th>51</th>\n",
              "      <td>HG03908.txt</td>\n",
              "      <td>1</td>\n",
              "      <td>2.076923e+31</td>\n",
              "      <td>1</td>\n",
              "      <td>1</td>\n",
              "      <td>8</td>\n",
              "      <td>658</td>\n",
              "      <td>0.024057</td>\n",
              "      <td>1.975943</td>\n",
              "      <td>BEB</td>\n",
              "      <td>SAS</td>\n",
              "    </tr>\n",
              "    <tr>\n",
              "      <th>1876</th>\n",
              "      <td>NA19658.txt</td>\n",
              "      <td>0</td>\n",
              "      <td>8.956417e+35</td>\n",
              "      <td>0</td>\n",
              "      <td>0</td>\n",
              "      <td>11</td>\n",
              "      <td>634</td>\n",
              "      <td>0.034152</td>\n",
              "      <td>1.965848</td>\n",
              "      <td>MXL</td>\n",
              "      <td>AMR</td>\n",
              "    </tr>\n",
              "  </tbody>\n",
              "</table>\n",
              "</div>"
            ],
            "text/plain": [
              "            files  is_eulerian  ...  population  super_popilation\n",
              "2140  HG02489.txt            0  ...         ACB               AFR\n",
              "51    HG03908.txt            1  ...         BEB               SAS\n",
              "1876  NA19658.txt            0  ...         MXL               AMR\n",
              "\n",
              "[3 rows x 11 columns]"
            ]
          },
          "metadata": {
            "tags": []
          },
          "execution_count": 57
        }
      ]
    },
    {
      "cell_type": "code",
      "metadata": {
        "id": "F9UYFKQha8nk",
        "colab_type": "code",
        "colab": {}
      },
      "source": [
        "data['population'] = data['population'].map({'ASW': 1, 'YRI': 2, 'LWK': 3, 'JPT': 4, 'CDX': 5, 'CEU': 6, 'CHB': 7, 'GIH': 8, 'GWD': 9, 'MSL': 10, 'IBS': 11, \n",
        "                                             'TSI': 12, 'PJL': 13, 'ESN': 14, 'MXL': 15, 'CLM': 16, 'PEL': 17, 'CHS': 18, 'PUR': 19, 'FIN': 20, 'KHV': 21,\n",
        "                                             'BEB': 22, 'ACB': 23, 'ITU': 24, 'GBR': 25, 'STU': 26})"
      ],
      "execution_count": 0,
      "outputs": []
    },
    {
      "cell_type": "code",
      "metadata": {
        "id": "1SkmXKO6eniA",
        "colab_type": "code",
        "colab": {
          "base_uri": "https://localhost:8080/",
          "height": 162
        },
        "outputId": "fdb9aab0-db80-4358-db5b-b9daa92fb276"
      },
      "source": [
        "data.sample(3)"
      ],
      "execution_count": 59,
      "outputs": [
        {
          "output_type": "execute_result",
          "data": {
            "text/html": [
              "<div>\n",
              "<style scoped>\n",
              "    .dataframe tbody tr th:only-of-type {\n",
              "        vertical-align: middle;\n",
              "    }\n",
              "\n",
              "    .dataframe tbody tr th {\n",
              "        vertical-align: top;\n",
              "    }\n",
              "\n",
              "    .dataframe thead th {\n",
              "        text-align: right;\n",
              "    }\n",
              "</style>\n",
              "<table border=\"1\" class=\"dataframe\">\n",
              "  <thead>\n",
              "    <tr style=\"text-align: right;\">\n",
              "      <th></th>\n",
              "      <th>files</th>\n",
              "      <th>is_eulerian</th>\n",
              "      <th>estrada_index</th>\n",
              "      <th>is_multigraphical</th>\n",
              "      <th>is_pseudographical</th>\n",
              "      <th>maximal_matching</th>\n",
              "      <th>number_of_cliques</th>\n",
              "      <th>rich_club_coefficient</th>\n",
              "      <th>average_shortest_path_length</th>\n",
              "      <th>population</th>\n",
              "      <th>super_popilation</th>\n",
              "    </tr>\n",
              "  </thead>\n",
              "  <tbody>\n",
              "    <tr>\n",
              "      <th>2236</th>\n",
              "      <td>NA19380.txt</td>\n",
              "      <td>0</td>\n",
              "      <td>3.813311e+31</td>\n",
              "      <td>1</td>\n",
              "      <td>1</td>\n",
              "      <td>8</td>\n",
              "      <td>669</td>\n",
              "      <td>0.023666</td>\n",
              "      <td>1.976334</td>\n",
              "      <td>3</td>\n",
              "      <td>AFR</td>\n",
              "    </tr>\n",
              "    <tr>\n",
              "      <th>1788</th>\n",
              "      <td>HG02230.txt</td>\n",
              "      <td>0</td>\n",
              "      <td>1.601355e+29</td>\n",
              "      <td>0</td>\n",
              "      <td>0</td>\n",
              "      <td>7</td>\n",
              "      <td>653</td>\n",
              "      <td>0.021242</td>\n",
              "      <td>1.978758</td>\n",
              "      <td>11</td>\n",
              "      <td>EUR</td>\n",
              "    </tr>\n",
              "    <tr>\n",
              "      <th>1567</th>\n",
              "      <td>NA12272.txt</td>\n",
              "      <td>0</td>\n",
              "      <td>1.000169e+19</td>\n",
              "      <td>1</td>\n",
              "      <td>1</td>\n",
              "      <td>3</td>\n",
              "      <td>641</td>\n",
              "      <td>0.009331</td>\n",
              "      <td>1.990669</td>\n",
              "      <td>6</td>\n",
              "      <td>EUR</td>\n",
              "    </tr>\n",
              "  </tbody>\n",
              "</table>\n",
              "</div>"
            ],
            "text/plain": [
              "            files  is_eulerian  ...  population  super_popilation\n",
              "2236  NA19380.txt            0  ...           3               AFR\n",
              "1788  HG02230.txt            0  ...          11               EUR\n",
              "1567  NA12272.txt            0  ...           6               EUR\n",
              "\n",
              "[3 rows x 11 columns]"
            ]
          },
          "metadata": {
            "tags": []
          },
          "execution_count": 59
        }
      ]
    },
    {
      "cell_type": "code",
      "metadata": {
        "id": "XNTVphazhHCL",
        "colab_type": "code",
        "colab": {
          "base_uri": "https://localhost:8080/",
          "height": 323
        },
        "outputId": "2343382b-ab57-4485-ec99-f5ff93054bf2"
      },
      "source": [
        "data.info()"
      ],
      "execution_count": 60,
      "outputs": [
        {
          "output_type": "stream",
          "text": [
            "<class 'pandas.core.frame.DataFrame'>\n",
            "RangeIndex: 2503 entries, 0 to 2502\n",
            "Data columns (total 11 columns):\n",
            " #   Column                        Non-Null Count  Dtype  \n",
            "---  ------                        --------------  -----  \n",
            " 0   files                         2503 non-null   object \n",
            " 1   is_eulerian                   2503 non-null   int64  \n",
            " 2   estrada_index                 2503 non-null   float64\n",
            " 3   is_multigraphical             2503 non-null   int64  \n",
            " 4   is_pseudographical            2503 non-null   int64  \n",
            " 5   maximal_matching              2503 non-null   int64  \n",
            " 6   number_of_cliques             2503 non-null   int64  \n",
            " 7   rich_club_coefficient         2503 non-null   float64\n",
            " 8   average_shortest_path_length  2503 non-null   float64\n",
            " 9   population                    2503 non-null   int64  \n",
            " 10  super_popilation              2503 non-null   object \n",
            "dtypes: float64(3), int64(6), object(2)\n",
            "memory usage: 215.2+ KB\n"
          ],
          "name": "stdout"
        }
      ]
    },
    {
      "cell_type": "code",
      "metadata": {
        "id": "6iH3vU0NhXIE",
        "colab_type": "code",
        "colab": {}
      },
      "source": [
        "X, y = data.drop(['population','files', 'super_popilation', 'estrada_index', 'is_eulerian', 'rich_club_coefficient'], axis = 1), data['population']"
      ],
      "execution_count": 0,
      "outputs": []
    },
    {
      "cell_type": "code",
      "metadata": {
        "id": "smOIAAXVh2QC",
        "colab_type": "code",
        "colab": {
          "base_uri": "https://localhost:8080/",
          "height": 34
        },
        "outputId": "1790580e-ef9f-4726-a39d-c694b4671801"
      },
      "source": [
        "X.shape, y.shape"
      ],
      "execution_count": 140,
      "outputs": [
        {
          "output_type": "execute_result",
          "data": {
            "text/plain": [
              "((2503, 5), (2503,))"
            ]
          },
          "metadata": {
            "tags": []
          },
          "execution_count": 140
        }
      ]
    },
    {
      "cell_type": "code",
      "metadata": {
        "id": "s_6HwQa4h6GQ",
        "colab_type": "code",
        "colab": {}
      },
      "source": [
        "from sklearn.model_selection import train_test_split"
      ],
      "execution_count": 0,
      "outputs": []
    },
    {
      "cell_type": "code",
      "metadata": {
        "id": "HuHakslGh7yl",
        "colab_type": "code",
        "colab": {}
      },
      "source": [
        "X_train, X_holdout,  y_train, y_holdout = \\\n",
        "    train_test_split(X, y, test_size=.3, random_state=17)"
      ],
      "execution_count": 0,
      "outputs": []
    },
    {
      "cell_type": "code",
      "metadata": {
        "id": "A_m0MQY5h8qL",
        "colab_type": "code",
        "colab": {}
      },
      "source": [
        "from sklearn import preprocessing\n",
        "#X_train = preprocessing.scale(X_train, axis=0)"
      ],
      "execution_count": 0,
      "outputs": []
    },
    {
      "cell_type": "code",
      "metadata": {
        "id": "3lt36a3th-6A",
        "colab_type": "code",
        "colab": {
          "base_uri": "https://localhost:8080/",
          "height": 34
        },
        "outputId": "b19baed7-4298-4842-e1ad-872c8e198c24"
      },
      "source": [
        "X_train.shape, X_holdout.shape"
      ],
      "execution_count": 144,
      "outputs": [
        {
          "output_type": "execute_result",
          "data": {
            "text/plain": [
              "((1752, 5), (751, 5))"
            ]
          },
          "metadata": {
            "tags": []
          },
          "execution_count": 144
        }
      ]
    },
    {
      "cell_type": "code",
      "metadata": {
        "id": "FcvpVVCQiAYj",
        "colab_type": "code",
        "colab": {}
      },
      "source": [
        "from sklearn.tree import DecisionTreeClassifier"
      ],
      "execution_count": 0,
      "outputs": []
    },
    {
      "cell_type": "code",
      "metadata": {
        "id": "Y1HySs02iBvJ",
        "colab_type": "code",
        "colab": {}
      },
      "source": [
        "tree_clf = DecisionTreeClassifier(random_state=241)"
      ],
      "execution_count": 0,
      "outputs": []
    },
    {
      "cell_type": "code",
      "metadata": {
        "id": "_XamGBuWiDOu",
        "colab_type": "code",
        "colab": {
          "base_uri": "https://localhost:8080/",
          "height": 119
        },
        "outputId": "d4c06ee7-b814-44de-e6cb-22c6c74036e1"
      },
      "source": [
        "tree_clf.fit(X_train, y_train)"
      ],
      "execution_count": 147,
      "outputs": [
        {
          "output_type": "execute_result",
          "data": {
            "text/plain": [
              "DecisionTreeClassifier(ccp_alpha=0.0, class_weight=None, criterion='gini',\n",
              "                       max_depth=None, max_features=None, max_leaf_nodes=None,\n",
              "                       min_impurity_decrease=0.0, min_impurity_split=None,\n",
              "                       min_samples_leaf=1, min_samples_split=2,\n",
              "                       min_weight_fraction_leaf=0.0, presort='deprecated',\n",
              "                       random_state=241, splitter='best')"
            ]
          },
          "metadata": {
            "tags": []
          },
          "execution_count": 147
        }
      ]
    },
    {
      "cell_type": "code",
      "metadata": {
        "id": "wokiaKimllo8",
        "colab_type": "code",
        "colab": {}
      },
      "source": [
        "from sklearn.model_selection import cross_val_score, StratifiedKFold, ShuffleSplit, RepeatedKFold\n",
        "from sklearn.metrics import accuracy_score"
      ],
      "execution_count": 0,
      "outputs": []
    },
    {
      "cell_type": "code",
      "metadata": {
        "id": "PJTTz3F8loMT",
        "colab_type": "code",
        "colab": {}
      },
      "source": [
        "from tqdm import tqdm_notebook"
      ],
      "execution_count": 0,
      "outputs": []
    },
    {
      "cell_type": "code",
      "metadata": {
        "id": "gXeZ08TVlqCp",
        "colab_type": "code",
        "colab": {}
      },
      "source": [
        "skf = StratifiedKFold(n_splits=5, shuffle=True, random_state=241)\n",
        "cv = ShuffleSplit(n_splits=5, test_size=0.3, random_state=241)\n",
        "rskf = RepeatedKFold(n_splits=5, n_repeats=2, random_state=241)"
      ],
      "execution_count": 0,
      "outputs": []
    },
    {
      "cell_type": "code",
      "metadata": {
        "id": "Q8bbjS3DlsY_",
        "colab_type": "code",
        "colab": {
          "base_uri": "https://localhost:8080/",
          "height": 117,
          "referenced_widgets": [
            "29ed8ab18a4a4b1692f799d9e892650e",
            "337acd5298bc4c7c96fa18533add3274",
            "66423c16d73348e98d5219a2f64c026c",
            "f3b0e38b8b724da1999d2e647b205440",
            "dbeb4ee41360421991354df9f69f82f1",
            "f072aadad0b14510a18c5d313ec7b509",
            "e0c16495310449858af6085ce5e69de8",
            "994c61fca49c48f184345689f80064e9"
          ]
        },
        "outputId": "b351f146-e2d8-4774-e94d-af24dff4b869"
      },
      "source": [
        "cv_accuracies_by_depth, ho_accuracies_by_depth = [], []\n",
        "cv_accuracies_by_death_1, cv_accuracies_by_death_2 = [], []\n",
        "max_depth_values = np.arange(2, 15)\n",
        "\n",
        "# for each value of max depth \n",
        "for curr_max_depth in tqdm_notebook(max_depth_values):\n",
        "    tree = DecisionTreeClassifier(random_state=241, max_depth=curr_max_depth)\n",
        "\n",
        "    # perform cross-validation (algorithm - KFold)\n",
        "    val_scores = cross_val_score(estimator=tree, X=X_train, y=y_train, cv=skf)\n",
        "    cv_accuracies_by_depth.append(val_scores.mean())\n",
        "\n",
        "    # perfrom cross-validation (algorithm - ShuffleSplit)\n",
        "    val_scores = cross_val_score(estimator=tree, X=X_train, y=y_train, cv=cv)\n",
        "    cv_accuracies_by_death_1.append(val_scores.mean())\n",
        "\n",
        "    # prefrom cross-validation (algorithm - Repeat KFold)\n",
        "\n",
        "    val_scores = cross_val_score(estimator=tree, X=X_train, y=y_train, cv=rskf)\n",
        "    cv_accuracies_by_death_2.append(val_scores.mean())\n",
        "\n",
        "    # assess the model with the holdout set\n",
        "    tree.fit(X_train, y_train)\n",
        "    \n",
        "    cuur_ho_pred = tree.predict(X_holdout)\n",
        "    \n",
        "    ho_accuracies_by_depth.append(accuracy_score(y_holdout, cuur_ho_pred))"
      ],
      "execution_count": 152,
      "outputs": [
        {
          "output_type": "stream",
          "text": [
            "/usr/local/lib/python3.6/dist-packages/ipykernel_launcher.py:6: TqdmDeprecationWarning: This function will be removed in tqdm==5.0.0\n",
            "Please use `tqdm.notebook.tqdm` instead of `tqdm.tqdm_notebook`\n",
            "  \n"
          ],
          "name": "stderr"
        },
        {
          "output_type": "display_data",
          "data": {
            "application/vnd.jupyter.widget-view+json": {
              "model_id": "29ed8ab18a4a4b1692f799d9e892650e",
              "version_minor": 0,
              "version_major": 2
            },
            "text/plain": [
              "HBox(children=(IntProgress(value=0, max=13), HTML(value='')))"
            ]
          },
          "metadata": {
            "tags": []
          }
        },
        {
          "output_type": "stream",
          "text": [
            "\n"
          ],
          "name": "stdout"
        }
      ]
    },
    {
      "cell_type": "code",
      "metadata": {
        "id": "8Bun2amDlue0",
        "colab_type": "code",
        "colab": {
          "base_uri": "https://localhost:8080/",
          "height": 295
        },
        "outputId": "909d5d66-a210-4824-c091-f5a712d2ded6"
      },
      "source": [
        "plt.plot(max_depth_values, cv_accuracies_by_depth, label='CV', c='blue')\n",
        "plt.plot(max_depth_values, ho_accuracies_by_depth, label='holdout', c='orange')\n",
        "plt.plot(max_depth_values, cv_accuracies_by_death_1, label='CV1', c='red')\n",
        "plt.plot(max_depth_values, cv_accuracies_by_death_2, label='CV2', c='green')\n",
        "plt.legend();\n",
        "plt.xlabel('max depth')\n",
        "plt.ylabel('Accuracy')\n",
        "plt.title('DT validation curves for max_depth');"
      ],
      "execution_count": 153,
      "outputs": [
        {
          "output_type": "display_data",
          "data": {
            "image/png": "[encoded data removed]",
            "text/plain": [
              "<Figure size 432x288 with 1 Axes>"
            ]
          },
          "metadata": {
            "tags": [],
            "needs_background": "light"
          }
        }
      ]
    },
    {
      "cell_type": "code",
      "metadata": {
        "id": "KfcB4-O8mG03",
        "colab_type": "code",
        "colab": {}
      },
      "source": [
        "from sklearn.model_selection import cross_val_score, StratifiedKFold\n",
        "skf = StratifiedKFold(n_splits=5, shuffle=True, random_state=42)"
      ],
      "execution_count": 0,
      "outputs": []
    },
    {
      "cell_type": "code",
      "metadata": {
        "id": "UZIgsYvQmI2a",
        "colab_type": "code",
        "colab": {}
      },
      "source": [
        "from sklearn.model_selection import GridSearchCV\n",
        "from sklearn.neighbors import KNeighborsClassifier\n",
        "params = {'random_state': np.arange(52, 251), 'max_depth': np.arange(1, 15)}\n",
        "neigh = DecisionTreeClassifier(random_state=241)\n",
        "best_neigh = GridSearchCV(estimator = neigh, param_grid=params, scoring='accuracy', cv = skf)"
      ],
      "execution_count": 0,
      "outputs": []
    },
    {
      "cell_type": "code",
      "metadata": {
        "id": "y9X4zcqOmJu-",
        "colab_type": "code",
        "colab": {
          "base_uri": "https://localhost:8080/",
          "height": 357
        },
        "outputId": "63e2fd14-c959-48f0-a011-0f77f9d45a55"
      },
      "source": [
        "best_neigh.fit(X, y)"
      ],
      "execution_count": 180,
      "outputs": [
        {
          "output_type": "execute_result",
          "data": {
            "text/plain": [
              "GridSearchCV(cv=StratifiedKFold(n_splits=5, random_state=42, shuffle=True),\n",
              "             error_score=nan,\n",
              "             estimator=DecisionTreeClassifier(ccp_alpha=0.0, class_weight=None,\n",
              "                                              criterion='gini', max_depth=None,\n",
              "                                              max_features=None,\n",
              "                                              max_leaf_nodes=None,\n",
              "                                              min_impurity_decrease=0.0,\n",
              "                                              min_impurity_split=None,\n",
              "                                              min_samples_leaf=1,\n",
              "                                              min_samples_split=2,\n",
              "                                              min_weight_fraction_leaf=0.0,\n",
              "                                              presort=...\n",
              "       182, 183, 184, 185, 186, 187, 188, 189, 190, 191, 192, 193, 194,\n",
              "       195, 196, 197, 198, 199, 200, 201, 202, 203, 204, 205, 206, 207,\n",
              "       208, 209, 210, 211, 212, 213, 214, 215, 216, 217, 218, 219, 220,\n",
              "       221, 222, 223, 224, 225, 226, 227, 228, 229, 230, 231, 232, 233,\n",
              "       234, 235, 236, 237, 238, 239, 240, 241, 242, 243, 244, 245, 246,\n",
              "       247, 248, 249, 250])},\n",
              "             pre_dispatch='2*n_jobs', refit=True, return_train_score=False,\n",
              "             scoring='accuracy', verbose=0)"
            ]
          },
          "metadata": {
            "tags": []
          },
          "execution_count": 180
        }
      ]
    },
    {
      "cell_type": "code",
      "metadata": {
        "id": "ZerD06iBmNfU",
        "colab_type": "code",
        "colab": {
          "base_uri": "https://localhost:8080/",
          "height": 34
        },
        "outputId": "99431968-e0fe-4442-bdd0-60c6cdc2d34d"
      },
      "source": [
        "best_neigh.best_params_"
      ],
      "execution_count": 181,
      "outputs": [
        {
          "output_type": "execute_result",
          "data": {
            "text/plain": [
              "{'max_depth': 9, 'random_state': 218}"
            ]
          },
          "metadata": {
            "tags": []
          },
          "execution_count": 181
        }
      ]
    },
    {
      "cell_type": "code",
      "metadata": {
        "id": "l29oV7mfmPv9",
        "colab_type": "code",
        "colab": {
          "base_uri": "https://localhost:8080/",
          "height": 34
        },
        "outputId": "5a25e176-2021-46cb-d671-ef1d5379ee43"
      },
      "source": [
        "best_neigh.best_score_"
      ],
      "execution_count": 182,
      "outputs": [
        {
          "output_type": "execute_result",
          "data": {
            "text/plain": [
              "0.11026906187624749"
            ]
          },
          "metadata": {
            "tags": []
          },
          "execution_count": 182
        }
      ]
    }
  ]
}