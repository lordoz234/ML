{
  "nbformat": 4,
  "nbformat_minor": 0,
  "metadata": {
    "colab": {
      "name": "Untitled16.ipynb",
      "provenance": [],
      "collapsed_sections": [],
      "authorship_tag": "ABX9TyNPR6hFMTe7k9D+A81rJszq",
      "include_colab_link": true
    },
    "kernelspec": {
      "name": "python3",
      "display_name": "Python 3"
    }
  },
  "cells": [
    {
      "cell_type": "markdown",
      "metadata": {
        "id": "view-in-github",
        "colab_type": "text"
      },
      "source": [
        "<a href=\"https://colab.research.google.com/github/lordoz234/ML/blob/master/New_classifier.ipynb\" target=\"_parent\"><img src=\"https://colab.research.google.com/assets/colab-badge.svg\" alt=\"Open In Colab\"/></a>"
      ]
    },
    {
      "cell_type": "code",
      "metadata": {
        "id": "jT1lazpdBrkV",
        "colab_type": "code",
        "colab": {
          "base_uri": "https://localhost:8080/",
          "height": 34
        },
        "outputId": "90ea91a4-0635-4d93-b8cd-02d0c4e18fbc"
      },
      "source": [
        "from google.colab import drive\n",
        "drive.mount('/content/drive',force_remount=True)"
      ],
      "execution_count": 196,
      "outputs": [
        {
          "output_type": "stream",
          "text": [
            "Mounted at /content/drive\n"
          ],
          "name": "stdout"
        }
      ]
    },
    {
      "cell_type": "code",
      "metadata": {
        "id": "OH4Sikq8Bzgo",
        "colab_type": "code",
        "colab": {}
      },
      "source": [
        "import numpy as np\n",
        "import pandas as pd\n",
        "from matplotlib import pyplot as plt"
      ],
      "execution_count": 0,
      "outputs": []
    },
    {
      "cell_type": "code",
      "metadata": {
        "id": "f3g07OQ_B0ww",
        "colab_type": "code",
        "colab": {}
      },
      "source": [
        "data = pd.read_csv('/content/drive/My Drive/files/ku8.csv')"
      ],
      "execution_count": 0,
      "outputs": []
    },
    {
      "cell_type": "code",
      "metadata": {
        "id": "HtEcZRWRB2Fi",
        "colab_type": "code",
        "colab": {
          "base_uri": "https://localhost:8080/",
          "height": 374
        },
        "outputId": "9e03f7c4-13c2-4464-9961-408b220e72ae"
      },
      "source": [
        "data.info()"
      ],
      "execution_count": 199,
      "outputs": [
        {
          "output_type": "stream",
          "text": [
            "<class 'pandas.core.frame.DataFrame'>\n",
            "RangeIndex: 660 entries, 0 to 659\n",
            "Data columns (total 14 columns):\n",
            " #   Column                              Non-Null Count  Dtype  \n",
            "---  ------                              --------------  -----  \n",
            " 0   files                               660 non-null    object \n",
            " 1   is_eulerian                         660 non-null    bool   \n",
            " 2   degree                              660 non-null    int64  \n",
            " 3   is_multigraphical                   660 non-null    bool   \n",
            " 4   is_pseudographical                  660 non-null    bool   \n",
            " 5   maximal_matching                    660 non-null    int64  \n",
            " 6   number_of_cliques                   660 non-null    int64  \n",
            " 7   rich_club_coefficient               660 non-null    float64\n",
            " 8   average_shortest_path_length        660 non-null    float64\n",
            " 9   s_metric                            660 non-null    float64\n",
            " 10  wiener_index                        660 non-null    float64\n",
            " 11  single_source_shortest_path_length  660 non-null    int64  \n",
            " 12  population                          660 non-null    object \n",
            " 13  super_population                    660 non-null    object \n",
            "dtypes: bool(3), float64(4), int64(4), object(3)\n",
            "memory usage: 58.8+ KB\n"
          ],
          "name": "stdout"
        }
      ]
    },
    {
      "cell_type": "code",
      "metadata": {
        "id": "FONTmPUxB3Tc",
        "colab_type": "code",
        "colab": {
          "base_uri": "https://localhost:8080/",
          "height": 162
        },
        "outputId": "4ba2df86-81ca-4fbe-efb6-95cdd26ed70f"
      },
      "source": [
        "data.sample(3)"
      ],
      "execution_count": 200,
      "outputs": [
        {
          "output_type": "execute_result",
          "data": {
            "text/html": [
              "<div>\n",
              "<style scoped>\n",
              "    .dataframe tbody tr th:only-of-type {\n",
              "        vertical-align: middle;\n",
              "    }\n",
              "\n",
              "    .dataframe tbody tr th {\n",
              "        vertical-align: top;\n",
              "    }\n",
              "\n",
              "    .dataframe thead th {\n",
              "        text-align: right;\n",
              "    }\n",
              "</style>\n",
              "<table border=\"1\" class=\"dataframe\">\n",
              "  <thead>\n",
              "    <tr style=\"text-align: right;\">\n",
              "      <th></th>\n",
              "      <th>files</th>\n",
              "      <th>is_eulerian</th>\n",
              "      <th>degree</th>\n",
              "      <th>is_multigraphical</th>\n",
              "      <th>is_pseudographical</th>\n",
              "      <th>maximal_matching</th>\n",
              "      <th>number_of_cliques</th>\n",
              "      <th>rich_club_coefficient</th>\n",
              "      <th>average_shortest_path_length</th>\n",
              "      <th>s_metric</th>\n",
              "      <th>wiener_index</th>\n",
              "      <th>single_source_shortest_path_length</th>\n",
              "      <th>population</th>\n",
              "      <th>super_population</th>\n",
              "    </tr>\n",
              "  </thead>\n",
              "  <tbody>\n",
              "    <tr>\n",
              "      <th>505</th>\n",
              "      <td>HG03139.txt</td>\n",
              "      <td>False</td>\n",
              "      <td>1216</td>\n",
              "      <td>True</td>\n",
              "      <td>True</td>\n",
              "      <td>10</td>\n",
              "      <td>1148</td>\n",
              "      <td>0.017271</td>\n",
              "      <td>1.982742</td>\n",
              "      <td>129289408.0</td>\n",
              "      <td>1305394.0</td>\n",
              "      <td>1216</td>\n",
              "      <td>ESN</td>\n",
              "      <td>AFR</td>\n",
              "    </tr>\n",
              "    <tr>\n",
              "      <th>351</th>\n",
              "      <td>HG03054.txt</td>\n",
              "      <td>False</td>\n",
              "      <td>1215</td>\n",
              "      <td>False</td>\n",
              "      <td>False</td>\n",
              "      <td>16</td>\n",
              "      <td>1148</td>\n",
              "      <td>0.013842</td>\n",
              "      <td>1.986169</td>\n",
              "      <td>83038796.0</td>\n",
              "      <td>1307650.0</td>\n",
              "      <td>1215</td>\n",
              "      <td>MSL</td>\n",
              "      <td>AFR</td>\n",
              "    </tr>\n",
              "    <tr>\n",
              "      <th>240</th>\n",
              "      <td>HG02108.txt</td>\n",
              "      <td>False</td>\n",
              "      <td>1215</td>\n",
              "      <td>False</td>\n",
              "      <td>False</td>\n",
              "      <td>12</td>\n",
              "      <td>1164</td>\n",
              "      <td>0.022106</td>\n",
              "      <td>1.977894</td>\n",
              "      <td>223891369.0</td>\n",
              "      <td>1338769.0</td>\n",
              "      <td>1215</td>\n",
              "      <td>ACB</td>\n",
              "      <td>AFR</td>\n",
              "    </tr>\n",
              "  </tbody>\n",
              "</table>\n",
              "</div>"
            ],
            "text/plain": [
              "           files  is_eulerian  ...  population  super_population\n",
              "505  HG03139.txt        False  ...         ESN               AFR\n",
              "351  HG03054.txt        False  ...         MSL               AFR\n",
              "240  HG02108.txt        False  ...         ACB               AFR\n",
              "\n",
              "[3 rows x 14 columns]"
            ]
          },
          "metadata": {
            "tags": []
          },
          "execution_count": 200
        }
      ]
    },
    {
      "cell_type": "code",
      "metadata": {
        "id": "lMh7_xF7B5XD",
        "colab_type": "code",
        "colab": {}
      },
      "source": [
        "data['is_eulerian'] = data['is_eulerian'].map({True: 1, False: 0})\n",
        "data['is_multigraphical'] = data['is_multigraphical'].map({True: 1, False: 0})\n",
        "data['is_pseudographical'] = data['is_pseudographical'].map({True: 1, False: 0})"
      ],
      "execution_count": 0,
      "outputs": []
    },
    {
      "cell_type": "code",
      "metadata": {
        "id": "WJ0f0A9xB7Vn",
        "colab_type": "code",
        "colab": {
          "base_uri": "https://localhost:8080/",
          "height": 162
        },
        "outputId": "6c654361-b2f3-4768-d62b-6c9e1d613d69"
      },
      "source": [
        "data.sample(3)"
      ],
      "execution_count": 202,
      "outputs": [
        {
          "output_type": "execute_result",
          "data": {
            "text/html": [
              "<div>\n",
              "<style scoped>\n",
              "    .dataframe tbody tr th:only-of-type {\n",
              "        vertical-align: middle;\n",
              "    }\n",
              "\n",
              "    .dataframe tbody tr th {\n",
              "        vertical-align: top;\n",
              "    }\n",
              "\n",
              "    .dataframe thead th {\n",
              "        text-align: right;\n",
              "    }\n",
              "</style>\n",
              "<table border=\"1\" class=\"dataframe\">\n",
              "  <thead>\n",
              "    <tr style=\"text-align: right;\">\n",
              "      <th></th>\n",
              "      <th>files</th>\n",
              "      <th>is_eulerian</th>\n",
              "      <th>degree</th>\n",
              "      <th>is_multigraphical</th>\n",
              "      <th>is_pseudographical</th>\n",
              "      <th>maximal_matching</th>\n",
              "      <th>number_of_cliques</th>\n",
              "      <th>rich_club_coefficient</th>\n",
              "      <th>average_shortest_path_length</th>\n",
              "      <th>s_metric</th>\n",
              "      <th>wiener_index</th>\n",
              "      <th>single_source_shortest_path_length</th>\n",
              "      <th>population</th>\n",
              "      <th>super_population</th>\n",
              "    </tr>\n",
              "  </thead>\n",
              "  <tbody>\n",
              "    <tr>\n",
              "      <th>271</th>\n",
              "      <td>NA18517.txt</td>\n",
              "      <td>0</td>\n",
              "      <td>1211</td>\n",
              "      <td>1</td>\n",
              "      <td>1</td>\n",
              "      <td>12</td>\n",
              "      <td>1184</td>\n",
              "      <td>0.018424</td>\n",
              "      <td>1.981576</td>\n",
              "      <td>166487409.0</td>\n",
              "      <td>1387769.0</td>\n",
              "      <td>1211</td>\n",
              "      <td>YRI</td>\n",
              "      <td>AFR</td>\n",
              "    </tr>\n",
              "    <tr>\n",
              "      <th>54</th>\n",
              "      <td>HG02624.txt</td>\n",
              "      <td>0</td>\n",
              "      <td>1212</td>\n",
              "      <td>1</td>\n",
              "      <td>1</td>\n",
              "      <td>10</td>\n",
              "      <td>1164</td>\n",
              "      <td>0.018738</td>\n",
              "      <td>1.981262</td>\n",
              "      <td>160858489.0</td>\n",
              "      <td>1341049.0</td>\n",
              "      <td>1212</td>\n",
              "      <td>GWD</td>\n",
              "      <td>AFR</td>\n",
              "    </tr>\n",
              "    <tr>\n",
              "      <th>563</th>\n",
              "      <td>HG03556.txt</td>\n",
              "      <td>0</td>\n",
              "      <td>1212</td>\n",
              "      <td>1</td>\n",
              "      <td>1</td>\n",
              "      <td>16</td>\n",
              "      <td>1150</td>\n",
              "      <td>0.017241</td>\n",
              "      <td>1.982772</td>\n",
              "      <td>129744630.0</td>\n",
              "      <td>1309968.0</td>\n",
              "      <td>1212</td>\n",
              "      <td>MSL</td>\n",
              "      <td>AFR</td>\n",
              "    </tr>\n",
              "  </tbody>\n",
              "</table>\n",
              "</div>"
            ],
            "text/plain": [
              "           files  is_eulerian  ...  population  super_population\n",
              "271  NA18517.txt            0  ...         YRI               AFR\n",
              "54   HG02624.txt            0  ...         GWD               AFR\n",
              "563  HG03556.txt            0  ...         MSL               AFR\n",
              "\n",
              "[3 rows x 14 columns]"
            ]
          },
          "metadata": {
            "tags": []
          },
          "execution_count": 202
        }
      ]
    },
    {
      "cell_type": "code",
      "metadata": {
        "id": "pZ8NruDxB9-1",
        "colab_type": "code",
        "colab": {}
      },
      "source": [
        "data['population'] = data['population'].map({'ASW': 1, 'YRI': 2, 'LWK': 3, 'JPT': 4, 'CDX': 5, 'CEU': 6, 'CHB': 7, 'GIH': 8, 'GWD': 9, 'MSL': 10, 'IBS': 11, \n",
        "                                             'TSI': 12, 'PJL': 13, 'ESN': 14, 'MXL': 15, 'CLM': 16, 'PEL': 17, 'CHS': 18, 'PUR': 19, 'FIN': 20, 'KHV': 21,\n",
        "                                             'BEB': 22, 'ACB': 23, 'ITU': 24, 'GBR': 25, 'STU': 26})\n",
        "data['super_population'] = data['super_population'].map({'EUR': 1, 'EAS': 2, 'AMR': 3, 'SAS': 4, 'AFR': 5})"
      ],
      "execution_count": 0,
      "outputs": []
    },
    {
      "cell_type": "code",
      "metadata": {
        "id": "yP-FeqLRB_in",
        "colab_type": "code",
        "colab": {
          "base_uri": "https://localhost:8080/",
          "height": 317
        },
        "outputId": "c9626593-5911-4add-eed8-95fd8f071138"
      },
      "source": [
        "data.set_index([\"super_population\", \"population\"]).count(level=\"population\")"
      ],
      "execution_count": 204,
      "outputs": [
        {
          "output_type": "execute_result",
          "data": {
            "text/html": [
              "<div>\n",
              "<style scoped>\n",
              "    .dataframe tbody tr th:only-of-type {\n",
              "        vertical-align: middle;\n",
              "    }\n",
              "\n",
              "    .dataframe tbody tr th {\n",
              "        vertical-align: top;\n",
              "    }\n",
              "\n",
              "    .dataframe thead th {\n",
              "        text-align: right;\n",
              "    }\n",
              "</style>\n",
              "<table border=\"1\" class=\"dataframe\">\n",
              "  <thead>\n",
              "    <tr style=\"text-align: right;\">\n",
              "      <th></th>\n",
              "      <th>files</th>\n",
              "      <th>is_eulerian</th>\n",
              "      <th>degree</th>\n",
              "      <th>is_multigraphical</th>\n",
              "      <th>is_pseudographical</th>\n",
              "      <th>maximal_matching</th>\n",
              "      <th>number_of_cliques</th>\n",
              "      <th>rich_club_coefficient</th>\n",
              "      <th>average_shortest_path_length</th>\n",
              "      <th>s_metric</th>\n",
              "      <th>wiener_index</th>\n",
              "      <th>single_source_shortest_path_length</th>\n",
              "    </tr>\n",
              "    <tr>\n",
              "      <th>population</th>\n",
              "      <th></th>\n",
              "      <th></th>\n",
              "      <th></th>\n",
              "      <th></th>\n",
              "      <th></th>\n",
              "      <th></th>\n",
              "      <th></th>\n",
              "      <th></th>\n",
              "      <th></th>\n",
              "      <th></th>\n",
              "      <th></th>\n",
              "      <th></th>\n",
              "    </tr>\n",
              "  </thead>\n",
              "  <tbody>\n",
              "    <tr>\n",
              "      <th>1</th>\n",
              "      <td>61</td>\n",
              "      <td>61</td>\n",
              "      <td>61</td>\n",
              "      <td>61</td>\n",
              "      <td>61</td>\n",
              "      <td>61</td>\n",
              "      <td>61</td>\n",
              "      <td>61</td>\n",
              "      <td>61</td>\n",
              "      <td>61</td>\n",
              "      <td>61</td>\n",
              "      <td>61</td>\n",
              "    </tr>\n",
              "    <tr>\n",
              "      <th>2</th>\n",
              "      <td>107</td>\n",
              "      <td>107</td>\n",
              "      <td>107</td>\n",
              "      <td>107</td>\n",
              "      <td>107</td>\n",
              "      <td>107</td>\n",
              "      <td>107</td>\n",
              "      <td>107</td>\n",
              "      <td>107</td>\n",
              "      <td>107</td>\n",
              "      <td>107</td>\n",
              "      <td>107</td>\n",
              "    </tr>\n",
              "    <tr>\n",
              "      <th>3</th>\n",
              "      <td>99</td>\n",
              "      <td>99</td>\n",
              "      <td>99</td>\n",
              "      <td>99</td>\n",
              "      <td>99</td>\n",
              "      <td>99</td>\n",
              "      <td>99</td>\n",
              "      <td>99</td>\n",
              "      <td>99</td>\n",
              "      <td>99</td>\n",
              "      <td>99</td>\n",
              "      <td>99</td>\n",
              "    </tr>\n",
              "    <tr>\n",
              "      <th>9</th>\n",
              "      <td>113</td>\n",
              "      <td>113</td>\n",
              "      <td>113</td>\n",
              "      <td>113</td>\n",
              "      <td>113</td>\n",
              "      <td>113</td>\n",
              "      <td>113</td>\n",
              "      <td>113</td>\n",
              "      <td>113</td>\n",
              "      <td>113</td>\n",
              "      <td>113</td>\n",
              "      <td>113</td>\n",
              "    </tr>\n",
              "    <tr>\n",
              "      <th>10</th>\n",
              "      <td>85</td>\n",
              "      <td>85</td>\n",
              "      <td>85</td>\n",
              "      <td>85</td>\n",
              "      <td>85</td>\n",
              "      <td>85</td>\n",
              "      <td>85</td>\n",
              "      <td>85</td>\n",
              "      <td>85</td>\n",
              "      <td>85</td>\n",
              "      <td>85</td>\n",
              "      <td>85</td>\n",
              "    </tr>\n",
              "    <tr>\n",
              "      <th>14</th>\n",
              "      <td>99</td>\n",
              "      <td>99</td>\n",
              "      <td>99</td>\n",
              "      <td>99</td>\n",
              "      <td>99</td>\n",
              "      <td>99</td>\n",
              "      <td>99</td>\n",
              "      <td>99</td>\n",
              "      <td>99</td>\n",
              "      <td>99</td>\n",
              "      <td>99</td>\n",
              "      <td>99</td>\n",
              "    </tr>\n",
              "    <tr>\n",
              "      <th>23</th>\n",
              "      <td>96</td>\n",
              "      <td>96</td>\n",
              "      <td>96</td>\n",
              "      <td>96</td>\n",
              "      <td>96</td>\n",
              "      <td>96</td>\n",
              "      <td>96</td>\n",
              "      <td>96</td>\n",
              "      <td>96</td>\n",
              "      <td>96</td>\n",
              "      <td>96</td>\n",
              "      <td>96</td>\n",
              "    </tr>\n",
              "  </tbody>\n",
              "</table>\n",
              "</div>"
            ],
            "text/plain": [
              "            files  ...  single_source_shortest_path_length\n",
              "population         ...                                    \n",
              "1              61  ...                                  61\n",
              "2             107  ...                                 107\n",
              "3              99  ...                                  99\n",
              "9             113  ...                                 113\n",
              "10             85  ...                                  85\n",
              "14             99  ...                                  99\n",
              "23             96  ...                                  96\n",
              "\n",
              "[7 rows x 12 columns]"
            ]
          },
          "metadata": {
            "tags": []
          },
          "execution_count": 204
        }
      ]
    },
    {
      "cell_type": "code",
      "metadata": {
        "id": "oaPmcZWYCC8W",
        "colab_type": "code",
        "colab": {
          "base_uri": "https://localhost:8080/",
          "height": 162
        },
        "outputId": "5b84aac4-db40-4ce0-b14c-712e8502838e"
      },
      "source": [
        "data.sample(3)"
      ],
      "execution_count": 205,
      "outputs": [
        {
          "output_type": "execute_result",
          "data": {
            "text/html": [
              "<div>\n",
              "<style scoped>\n",
              "    .dataframe tbody tr th:only-of-type {\n",
              "        vertical-align: middle;\n",
              "    }\n",
              "\n",
              "    .dataframe tbody tr th {\n",
              "        vertical-align: top;\n",
              "    }\n",
              "\n",
              "    .dataframe thead th {\n",
              "        text-align: right;\n",
              "    }\n",
              "</style>\n",
              "<table border=\"1\" class=\"dataframe\">\n",
              "  <thead>\n",
              "    <tr style=\"text-align: right;\">\n",
              "      <th></th>\n",
              "      <th>files</th>\n",
              "      <th>is_eulerian</th>\n",
              "      <th>degree</th>\n",
              "      <th>is_multigraphical</th>\n",
              "      <th>is_pseudographical</th>\n",
              "      <th>maximal_matching</th>\n",
              "      <th>number_of_cliques</th>\n",
              "      <th>rich_club_coefficient</th>\n",
              "      <th>average_shortest_path_length</th>\n",
              "      <th>s_metric</th>\n",
              "      <th>wiener_index</th>\n",
              "      <th>single_source_shortest_path_length</th>\n",
              "      <th>population</th>\n",
              "      <th>super_population</th>\n",
              "    </tr>\n",
              "  </thead>\n",
              "  <tbody>\n",
              "    <tr>\n",
              "      <th>135</th>\n",
              "      <td>NA18486.txt</td>\n",
              "      <td>0</td>\n",
              "      <td>1217</td>\n",
              "      <td>1</td>\n",
              "      <td>1</td>\n",
              "      <td>12</td>\n",
              "      <td>1146</td>\n",
              "      <td>0.022432</td>\n",
              "      <td>1.977587</td>\n",
              "      <td>216576505.0</td>\n",
              "      <td>1297465.0</td>\n",
              "      <td>1217</td>\n",
              "      <td>2</td>\n",
              "      <td>5</td>\n",
              "    </tr>\n",
              "    <tr>\n",
              "      <th>648</th>\n",
              "      <td>HG02882.txt</td>\n",
              "      <td>0</td>\n",
              "      <td>1216</td>\n",
              "      <td>0</td>\n",
              "      <td>0</td>\n",
              "      <td>10</td>\n",
              "      <td>1167</td>\n",
              "      <td>0.017006</td>\n",
              "      <td>1.982994</td>\n",
              "      <td>133864900.0</td>\n",
              "      <td>1349152.0</td>\n",
              "      <td>1216</td>\n",
              "      <td>9</td>\n",
              "      <td>5</td>\n",
              "    </tr>\n",
              "    <tr>\n",
              "      <th>349</th>\n",
              "      <td>HG03078.txt</td>\n",
              "      <td>0</td>\n",
              "      <td>1217</td>\n",
              "      <td>0</td>\n",
              "      <td>0</td>\n",
              "      <td>10</td>\n",
              "      <td>1140</td>\n",
              "      <td>0.017391</td>\n",
              "      <td>1.982622</td>\n",
              "      <td>127476520.0</td>\n",
              "      <td>1287178.0</td>\n",
              "      <td>1217</td>\n",
              "      <td>10</td>\n",
              "      <td>5</td>\n",
              "    </tr>\n",
              "  </tbody>\n",
              "</table>\n",
              "</div>"
            ],
            "text/plain": [
              "           files  is_eulerian  ...  population  super_population\n",
              "135  NA18486.txt            0  ...           2                 5\n",
              "648  HG02882.txt            0  ...           9                 5\n",
              "349  HG03078.txt            0  ...          10                 5\n",
              "\n",
              "[3 rows x 14 columns]"
            ]
          },
          "metadata": {
            "tags": []
          },
          "execution_count": 205
        }
      ]
    },
    {
      "cell_type": "code",
      "metadata": {
        "id": "_hOlvr4KCDLo",
        "colab_type": "code",
        "colab": {
          "base_uri": "https://localhost:8080/",
          "height": 374
        },
        "outputId": "37d8ca9a-cf74-4cee-989c-2c3156d482e9"
      },
      "source": [
        "data.info()"
      ],
      "execution_count": 206,
      "outputs": [
        {
          "output_type": "stream",
          "text": [
            "<class 'pandas.core.frame.DataFrame'>\n",
            "RangeIndex: 660 entries, 0 to 659\n",
            "Data columns (total 14 columns):\n",
            " #   Column                              Non-Null Count  Dtype  \n",
            "---  ------                              --------------  -----  \n",
            " 0   files                               660 non-null    object \n",
            " 1   is_eulerian                         660 non-null    int64  \n",
            " 2   degree                              660 non-null    int64  \n",
            " 3   is_multigraphical                   660 non-null    int64  \n",
            " 4   is_pseudographical                  660 non-null    int64  \n",
            " 5   maximal_matching                    660 non-null    int64  \n",
            " 6   number_of_cliques                   660 non-null    int64  \n",
            " 7   rich_club_coefficient               660 non-null    float64\n",
            " 8   average_shortest_path_length        660 non-null    float64\n",
            " 9   s_metric                            660 non-null    float64\n",
            " 10  wiener_index                        660 non-null    float64\n",
            " 11  single_source_shortest_path_length  660 non-null    int64  \n",
            " 12  population                          660 non-null    int64  \n",
            " 13  super_population                    660 non-null    int64  \n",
            "dtypes: float64(4), int64(9), object(1)\n",
            "memory usage: 72.3+ KB\n"
          ],
          "name": "stdout"
        }
      ]
    },
    {
      "cell_type": "code",
      "metadata": {
        "id": "r3vz2kRUCGNK",
        "colab_type": "code",
        "colab": {}
      },
      "source": [
        "filter = data['population'] == 2\n",
        "filter1 = data['population'] == 9\n",
        "data = data.where(filter | filter1)"
      ],
      "execution_count": 0,
      "outputs": []
    },
    {
      "cell_type": "code",
      "metadata": {
        "id": "XGmI1maTCI_M",
        "colab_type": "code",
        "colab": {
          "base_uri": "https://localhost:8080/",
          "height": 255
        },
        "outputId": "f0778fe3-c94f-4a37-b4ca-f0a143d67a3b"
      },
      "source": [
        "data = data.dropna(axis=\"rows\", how=\"any\")\n",
        "print(data)"
      ],
      "execution_count": 208,
      "outputs": [
        {
          "output_type": "stream",
          "text": [
            "           files  is_eulerian  ...  population  super_population\n",
            "0    HG02623.txt          0.0  ...         9.0               5.0\n",
            "2    HG02810.txt          0.0  ...         9.0               5.0\n",
            "3    HG02804.txt          0.0  ...         9.0               5.0\n",
            "10   NA19117.txt          0.0  ...         2.0               5.0\n",
            "12   NA19113.txt          0.0  ...         2.0               5.0\n",
            "..           ...          ...  ...         ...               ...\n",
            "648  HG02882.txt          0.0  ...         9.0               5.0\n",
            "651  HG02666.txt          0.0  ...         9.0               5.0\n",
            "654  NA18933.txt          0.0  ...         2.0               5.0\n",
            "656  NA18853.txt          0.0  ...         2.0               5.0\n",
            "659  NA18489.txt          0.0  ...         2.0               5.0\n",
            "\n",
            "[220 rows x 14 columns]\n"
          ],
          "name": "stdout"
        }
      ]
    },
    {
      "cell_type": "code",
      "metadata": {
        "id": "0vFi_sw3CJeY",
        "colab_type": "code",
        "colab": {}
      },
      "source": [
        "X, y = data.drop(['population','files', 'super_population', 'is_eulerian', 'is_multigraphical', 'is_pseudographical'], axis = 1), data['population']"
      ],
      "execution_count": 0,
      "outputs": []
    },
    {
      "cell_type": "code",
      "metadata": {
        "id": "yaK8osqbCNbN",
        "colab_type": "code",
        "colab": {
          "base_uri": "https://localhost:8080/",
          "height": 34
        },
        "outputId": "8bc35516-4614-4042-8719-8c9489a5ed3a"
      },
      "source": [
        "X.shape, y.shape"
      ],
      "execution_count": 210,
      "outputs": [
        {
          "output_type": "execute_result",
          "data": {
            "text/plain": [
              "((220, 8), (220,))"
            ]
          },
          "metadata": {
            "tags": []
          },
          "execution_count": 210
        }
      ]
    },
    {
      "cell_type": "code",
      "metadata": {
        "id": "UsPk6O8pCOz4",
        "colab_type": "code",
        "colab": {}
      },
      "source": [
        "from sklearn.model_selection import train_test_split"
      ],
      "execution_count": 0,
      "outputs": []
    },
    {
      "cell_type": "code",
      "metadata": {
        "id": "POrzqmV_CQD8",
        "colab_type": "code",
        "colab": {}
      },
      "source": [
        "X_train, X_holdout,  y_train, y_holdout = \\\n",
        "    train_test_split(X, y, test_size=.1, random_state=251)"
      ],
      "execution_count": 0,
      "outputs": []
    },
    {
      "cell_type": "code",
      "metadata": {
        "id": "6NruW4j9CRhB",
        "colab_type": "code",
        "colab": {
          "base_uri": "https://localhost:8080/",
          "height": 34
        },
        "outputId": "0e6403fa-76f5-4023-fc0e-23d0ca0713cf"
      },
      "source": [
        "X_train.shape, X_holdout.shape"
      ],
      "execution_count": 213,
      "outputs": [
        {
          "output_type": "execute_result",
          "data": {
            "text/plain": [
              "((198, 8), (22, 8))"
            ]
          },
          "metadata": {
            "tags": []
          },
          "execution_count": 213
        }
      ]
    },
    {
      "cell_type": "code",
      "metadata": {
        "id": "UR59krC_CVyk",
        "colab_type": "code",
        "colab": {}
      },
      "source": [
        "from sklearn.tree import DecisionTreeClassifier\n",
        "from sklearn.model_selection import GridSearchCV\n",
        "from sklearn.model_selection import cross_val_score, StratifiedKFold, ShuffleSplit, RepeatedKFold, cross_val_predict\n",
        "cv = ShuffleSplit(n_splits=1, test_size=0.1)"
      ],
      "execution_count": 0,
      "outputs": []
    },
    {
      "cell_type": "code",
      "metadata": {
        "id": "4WZPjlAuCjc7",
        "colab_type": "code",
        "colab": {}
      },
      "source": [
        "depth = np.arange(2, 52)\n",
        "parameters = {'criterion':('gini', 'entropy'), \n",
        "              'max_depth': depth\n",
        "             }\n",
        "best_tree = GridSearchCV(DecisionTreeClassifier(), parameters, scoring='accuracy', cv = cv)"
      ],
      "execution_count": 0,
      "outputs": []
    },
    {
      "cell_type": "code",
      "metadata": {
        "id": "L3tVTuDJDc2d",
        "colab_type": "code",
        "colab": {
          "base_uri": "https://localhost:8080/",
          "height": 34
        },
        "outputId": "be4a35a8-15d2-49b7-bb35-0d1c4752b69c"
      },
      "source": [
        "ans = 0\n",
        "for i in range(10):\n",
        "    best_tree.fit(X_train, y_train)\n",
        "    ans += best_tree.best_score_\n",
        "print(ans/10)"
      ],
      "execution_count": 216,
      "outputs": [
        {
          "output_type": "stream",
          "text": [
            "0.7100000000000001\n"
          ],
          "name": "stdout"
        }
      ]
    },
    {
      "cell_type": "code",
      "metadata": {
        "id": "4AIljBnmIk99",
        "colab_type": "code",
        "colab": {}
      },
      "source": [
        "from sklearn.neighbors import KNeighborsClassifier"
      ],
      "execution_count": 0,
      "outputs": []
    },
    {
      "cell_type": "code",
      "metadata": {
        "id": "bCzUdu_CIxu0",
        "colab_type": "code",
        "colab": {}
      },
      "source": [
        "param_grid = {'n_neighbors':np.arange(1,62), \n",
        "              'weights': ['uniform', 'distance'],\n",
        "              'metric': ['minkowski', 'euclidean', 'manhattan']}\n",
        "best_knn = GridSearchCV(KNeighborsClassifier(), param_grid=param_grid, scoring='accuracy', cv = cv)"
      ],
      "execution_count": 0,
      "outputs": []
    },
    {
      "cell_type": "code",
      "metadata": {
        "id": "n4jXNyC9JSAq",
        "colab_type": "code",
        "colab": {
          "base_uri": "https://localhost:8080/",
          "height": 34
        },
        "outputId": "2c327f31-34d3-4f01-f7c2-a8ec350d4e30"
      },
      "source": [
        "ans = 0\n",
        "for i in range(10):\n",
        "    best_knn.fit(X_train, y_train)\n",
        "    ans += best_knn.best_score_\n",
        "print(ans/10)"
      ],
      "execution_count": 219,
      "outputs": [
        {
          "output_type": "stream",
          "text": [
            "0.73\n"
          ],
          "name": "stdout"
        }
      ]
    },
    {
      "cell_type": "code",
      "metadata": {
        "id": "pUpjB88pKwV2",
        "colab_type": "code",
        "colab": {}
      },
      "source": [
        "from sklearn.ensemble import RandomForestClassifier"
      ],
      "execution_count": 0,
      "outputs": []
    },
    {
      "cell_type": "code",
      "metadata": {
        "id": "WRIV6JBSI1Ve",
        "colab_type": "code",
        "colab": {}
      },
      "source": [
        "param_grid = {\n",
        "    'n_estimators': [200],\n",
        "    'max_features': ['sqrt'],\n",
        "    'max_depth' : range(2, 20, 3),\n",
        "    'criterion' :['gini', 'entropy'],\n",
        "}\n",
        "best_forest = GridSearchCV(RandomForestClassifier(), param_grid=param_grid, scoring='accuracy', cv = cv)"
      ],
      "execution_count": 0,
      "outputs": []
    },
    {
      "cell_type": "code",
      "metadata": {
        "id": "s0C18VALK7ES",
        "colab_type": "code",
        "colab": {
          "base_uri": "https://localhost:8080/",
          "height": 34
        },
        "outputId": "90de83ee-18f5-4b72-9e8f-109a0cefe96c"
      },
      "source": [
        "ans = 0\n",
        "for i in range(10):\n",
        "    best_forest.fit(X_train, y_train)\n",
        "    ans += best_forest.best_score_\n",
        "print(ans/10)"
      ],
      "execution_count": 222,
      "outputs": [
        {
          "output_type": "stream",
          "text": [
            "0.665\n"
          ],
          "name": "stdout"
        }
      ]
    },
    {
      "cell_type": "code",
      "metadata": {
        "id": "4BG7FloRLXy2",
        "colab_type": "code",
        "colab": {}
      },
      "source": [
        "from sklearn.ensemble import GradientBoostingClassifier"
      ],
      "execution_count": 0,
      "outputs": []
    },
    {
      "cell_type": "code",
      "metadata": {
        "id": "Wdn0J-H5L7RQ",
        "colab_type": "code",
        "colab": {}
      },
      "source": [
        "parameters = {\n",
        "    \"learning_rate\": [0.01, 0.025, 0.05, 0.075, 0.1],\n",
        "    \"max_depth\": range(2, 52, 2),\n",
        "    \"max_features\":[\"log2\",\"sqrt\"],\n",
        "    \"n_estimators\":[10],\n",
        "    }\n",
        "best_boost = GridSearchCV(GradientBoostingClassifier(), param_grid=parameters, scoring='accuracy', cv = cv)"
      ],
      "execution_count": 0,
      "outputs": []
    },
    {
      "cell_type": "code",
      "metadata": {
        "id": "1JyMO3TaMWUK",
        "colab_type": "code",
        "colab": {}
      },
      "source": [
        "ans = 0\n",
        "for i in range(10):\n",
        "    best_boost.fit(X_train, y_train)\n",
        "    ans += best_boost.best_score_\n",
        "print(ans/10)"
      ],
      "execution_count": 0,
      "outputs": []
    },
    {
      "cell_type": "code",
      "metadata": {
        "id": "SewtYUa5fQRA",
        "colab_type": "code",
        "colab": {}
      },
      "source": [
        "from sklearn.ensemble import ExtraTreesClassifier\n",
        "model = ExtraTreesClassifier(n_estimators=100, max_features=100)\n",
        "                       \n",
        "gsc = GridSearchCV(\n",
        "    estimator=model,\n",
        "    param_grid={\n",
        "        'max_features': range(2,10,2),\n",
        "        'max_depth': range(2, 30, 3)\n",
        "    },\n",
        "    cv=cv\n",
        ")"
      ],
      "execution_count": 0,
      "outputs": []
    },
    {
      "cell_type": "code",
      "metadata": {
        "id": "m6GO8GogfUWM",
        "colab_type": "code",
        "colab": {}
      },
      "source": [
        "ans = 0\n",
        "for i in range(10):\n",
        "    gsc.fit(X_train, y_train)\n",
        "    ans += gsc.best_score_\n",
        "print(ans/10)"
      ],
      "execution_count": 0,
      "outputs": []
    },
    {
      "cell_type": "code",
      "metadata": {
        "id": "5RhBWUgZifYd",
        "colab_type": "code",
        "colab": {}
      },
      "source": [
        "from sklearn.ensemble import AdaBoostClassifier\n",
        "model = AdaBoostClassifier(n_estimators=100)\n",
        "                       \n",
        "gsc1 = GridSearchCV(\n",
        "    estimator=model,\n",
        "    param_grid={\n",
        "        \"learning_rate\": [0.01, 0.025, 0.05, 0.075, 0.1],\n",
        "    },\n",
        "    cv=cv\n",
        ")"
      ],
      "execution_count": 0,
      "outputs": []
    },
    {
      "cell_type": "code",
      "metadata": {
        "id": "CO1qsbjTini6",
        "colab_type": "code",
        "colab": {}
      },
      "source": [
        "ans = 0\n",
        "for i in range(10):\n",
        "    gsc1.fit(X_train, y_train)\n",
        "    ans += gsc1.best_score_\n",
        "print(ans/10)"
      ],
      "execution_count": 0,
      "outputs": []
    }
  ]
}