{
  "nbformat": 4,
  "nbformat_minor": 0,
  "metadata": {
    "colab": {
      "name": "Untitled15.ipynb",
      "provenance": [],
      "collapsed_sections": [],
      "authorship_tag": "ABX9TyO+syrrnJJ+jLImcGdbXH1c",
      "include_colab_link": true
    },
    "kernelspec": {
      "name": "python3",
      "display_name": "Python 3"
    },
    "widgets": {
      "application/vnd.jupyter.widget-state+json": {
        "f9d2845202944905b5639612a1fd8f7c": {
          "model_module": "@jupyter-widgets/controls",
          "model_name": "HBoxModel",
          "state": {
            "_view_name": "HBoxView",
            "_dom_classes": [],
            "_model_name": "HBoxModel",
            "_view_module": "@jupyter-widgets/controls",
            "_model_module_version": "1.5.0",
            "_view_count": null,
            "_view_module_version": "1.5.0",
            "box_style": "",
            "layout": "IPY_MODEL_0e2e288ea3b54363b2b4684b1e8302bd",
            "_model_module": "@jupyter-widgets/controls",
            "children": [
              "IPY_MODEL_dfa06bbd33644f10bf48e544aef59126",
              "IPY_MODEL_405aee87b090448db96f110d8e7da28f"
            ]
          }
        },
        "0e2e288ea3b54363b2b4684b1e8302bd": {
          "model_module": "@jupyter-widgets/base",
          "model_name": "LayoutModel",
          "state": {
            "_view_name": "LayoutView",
            "grid_template_rows": null,
            "right": null,
            "justify_content": null,
            "_view_module": "@jupyter-widgets/base",
            "overflow": null,
            "_model_module_version": "1.2.0",
            "_view_count": null,
            "flex_flow": null,
            "width": null,
            "min_width": null,
            "border": null,
            "align_items": null,
            "bottom": null,
            "_model_module": "@jupyter-widgets/base",
            "top": null,
            "grid_column": null,
            "overflow_y": null,
            "overflow_x": null,
            "grid_auto_flow": null,
            "grid_area": null,
            "grid_template_columns": null,
            "flex": null,
            "_model_name": "LayoutModel",
            "justify_items": null,
            "grid_row": null,
            "max_height": null,
            "align_content": null,
            "visibility": null,
            "align_self": null,
            "height": null,
            "min_height": null,
            "padding": null,
            "grid_auto_rows": null,
            "grid_gap": null,
            "max_width": null,
            "order": null,
            "_view_module_version": "1.2.0",
            "grid_template_areas": null,
            "object_position": null,
            "object_fit": null,
            "grid_auto_columns": null,
            "margin": null,
            "display": null,
            "left": null
          }
        },
        "dfa06bbd33644f10bf48e544aef59126": {
          "model_module": "@jupyter-widgets/controls",
          "model_name": "IntProgressModel",
          "state": {
            "_view_name": "ProgressView",
            "style": "IPY_MODEL_9e4716e377714b2c8a26be4b3b30dc0f",
            "_dom_classes": [],
            "description": "100%",
            "_model_name": "IntProgressModel",
            "bar_style": "success",
            "max": 50,
            "_view_module": "@jupyter-widgets/controls",
            "_model_module_version": "1.5.0",
            "value": 50,
            "_view_count": null,
            "_view_module_version": "1.5.0",
            "orientation": "horizontal",
            "min": 0,
            "description_tooltip": null,
            "_model_module": "@jupyter-widgets/controls",
            "layout": "IPY_MODEL_8e7b200fa59941ee97050b407b4132e9"
          }
        },
        "405aee87b090448db96f110d8e7da28f": {
          "model_module": "@jupyter-widgets/controls",
          "model_name": "HTMLModel",
          "state": {
            "_view_name": "HTMLView",
            "style": "IPY_MODEL_c2fc42e610f94f3097e7b754b68ef4d9",
            "_dom_classes": [],
            "description": "",
            "_model_name": "HTMLModel",
            "placeholder": "​",
            "_view_module": "@jupyter-widgets/controls",
            "_model_module_version": "1.5.0",
            "value": " 50/50 [03:15&lt;00:00,  3.91s/it]",
            "_view_count": null,
            "_view_module_version": "1.5.0",
            "description_tooltip": null,
            "_model_module": "@jupyter-widgets/controls",
            "layout": "IPY_MODEL_23cb53d896bd420893a0ab89b21d9799"
          }
        },
        "9e4716e377714b2c8a26be4b3b30dc0f": {
          "model_module": "@jupyter-widgets/controls",
          "model_name": "ProgressStyleModel",
          "state": {
            "_view_name": "StyleView",
            "_model_name": "ProgressStyleModel",
            "description_width": "initial",
            "_view_module": "@jupyter-widgets/base",
            "_model_module_version": "1.5.0",
            "_view_count": null,
            "_view_module_version": "1.2.0",
            "bar_color": null,
            "_model_module": "@jupyter-widgets/controls"
          }
        },
        "8e7b200fa59941ee97050b407b4132e9": {
          "model_module": "@jupyter-widgets/base",
          "model_name": "LayoutModel",
          "state": {
            "_view_name": "LayoutView",
            "grid_template_rows": null,
            "right": null,
            "justify_content": null,
            "_view_module": "@jupyter-widgets/base",
            "overflow": null,
            "_model_module_version": "1.2.0",
            "_view_count": null,
            "flex_flow": null,
            "width": null,
            "min_width": null,
            "border": null,
            "align_items": null,
            "bottom": null,
            "_model_module": "@jupyter-widgets/base",
            "top": null,
            "grid_column": null,
            "overflow_y": null,
            "overflow_x": null,
            "grid_auto_flow": null,
            "grid_area": null,
            "grid_template_columns": null,
            "flex": null,
            "_model_name": "LayoutModel",
            "justify_items": null,
            "grid_row": null,
            "max_height": null,
            "align_content": null,
            "visibility": null,
            "align_self": null,
            "height": null,
            "min_height": null,
            "padding": null,
            "grid_auto_rows": null,
            "grid_gap": null,
            "max_width": null,
            "order": null,
            "_view_module_version": "1.2.0",
            "grid_template_areas": null,
            "object_position": null,
            "object_fit": null,
            "grid_auto_columns": null,
            "margin": null,
            "display": null,
            "left": null
          }
        },
        "c2fc42e610f94f3097e7b754b68ef4d9": {
          "model_module": "@jupyter-widgets/controls",
          "model_name": "DescriptionStyleModel",
          "state": {
            "_view_name": "StyleView",
            "_model_name": "DescriptionStyleModel",
            "description_width": "",
            "_view_module": "@jupyter-widgets/base",
            "_model_module_version": "1.5.0",
            "_view_count": null,
            "_view_module_version": "1.2.0",
            "_model_module": "@jupyter-widgets/controls"
          }
        },
        "23cb53d896bd420893a0ab89b21d9799": {
          "model_module": "@jupyter-widgets/base",
          "model_name": "LayoutModel",
          "state": {
            "_view_name": "LayoutView",
            "grid_template_rows": null,
            "right": null,
            "justify_content": null,
            "_view_module": "@jupyter-widgets/base",
            "overflow": null,
            "_model_module_version": "1.2.0",
            "_view_count": null,
            "flex_flow": null,
            "width": null,
            "min_width": null,
            "border": null,
            "align_items": null,
            "bottom": null,
            "_model_module": "@jupyter-widgets/base",
            "top": null,
            "grid_column": null,
            "overflow_y": null,
            "overflow_x": null,
            "grid_auto_flow": null,
            "grid_area": null,
            "grid_template_columns": null,
            "flex": null,
            "_model_name": "LayoutModel",
            "justify_items": null,
            "grid_row": null,
            "max_height": null,
            "align_content": null,
            "visibility": null,
            "align_self": null,
            "height": null,
            "min_height": null,
            "padding": null,
            "grid_auto_rows": null,
            "grid_gap": null,
            "max_width": null,
            "order": null,
            "_view_module_version": "1.2.0",
            "grid_template_areas": null,
            "object_position": null,
            "object_fit": null,
            "grid_auto_columns": null,
            "margin": null,
            "display": null,
            "left": null
          }
        },
        "b77cf78e2f814dd2812e18f8436f39db": {
          "model_module": "@jupyter-widgets/controls",
          "model_name": "HBoxModel",
          "state": {
            "_view_name": "HBoxView",
            "_dom_classes": [],
            "_model_name": "HBoxModel",
            "_view_module": "@jupyter-widgets/controls",
            "_model_module_version": "1.5.0",
            "_view_count": null,
            "_view_module_version": "1.5.0",
            "box_style": "",
            "layout": "IPY_MODEL_59a769dcdae74d4288f21ee198eced0c",
            "_model_module": "@jupyter-widgets/controls",
            "children": [
              "IPY_MODEL_148af72d1710459f8863b30c8f54f346",
              "IPY_MODEL_94a1908fde7946148bf7f193451b0464"
            ]
          }
        },
        "59a769dcdae74d4288f21ee198eced0c": {
          "model_module": "@jupyter-widgets/base",
          "model_name": "LayoutModel",
          "state": {
            "_view_name": "LayoutView",
            "grid_template_rows": null,
            "right": null,
            "justify_content": null,
            "_view_module": "@jupyter-widgets/base",
            "overflow": null,
            "_model_module_version": "1.2.0",
            "_view_count": null,
            "flex_flow": null,
            "width": null,
            "min_width": null,
            "border": null,
            "align_items": null,
            "bottom": null,
            "_model_module": "@jupyter-widgets/base",
            "top": null,
            "grid_column": null,
            "overflow_y": null,
            "overflow_x": null,
            "grid_auto_flow": null,
            "grid_area": null,
            "grid_template_columns": null,
            "flex": null,
            "_model_name": "LayoutModel",
            "justify_items": null,
            "grid_row": null,
            "max_height": null,
            "align_content": null,
            "visibility": null,
            "align_self": null,
            "height": null,
            "min_height": null,
            "padding": null,
            "grid_auto_rows": null,
            "grid_gap": null,
            "max_width": null,
            "order": null,
            "_view_module_version": "1.2.0",
            "grid_template_areas": null,
            "object_position": null,
            "object_fit": null,
            "grid_auto_columns": null,
            "margin": null,
            "display": null,
            "left": null
          }
        },
        "148af72d1710459f8863b30c8f54f346": {
          "model_module": "@jupyter-widgets/controls",
          "model_name": "IntProgressModel",
          "state": {
            "_view_name": "ProgressView",
            "style": "IPY_MODEL_2ad92ce6d7804813ac8a6de715ecdeed",
            "_dom_classes": [],
            "description": "100%",
            "_model_name": "IntProgressModel",
            "bar_style": "success",
            "max": 14,
            "_view_module": "@jupyter-widgets/controls",
            "_model_module_version": "1.5.0",
            "value": 14,
            "_view_count": null,
            "_view_module_version": "1.5.0",
            "orientation": "horizontal",
            "min": 0,
            "description_tooltip": null,
            "_model_module": "@jupyter-widgets/controls",
            "layout": "IPY_MODEL_b6b91d428e044fac9409e27026d9ef7d"
          }
        },
        "94a1908fde7946148bf7f193451b0464": {
          "model_module": "@jupyter-widgets/controls",
          "model_name": "HTMLModel",
          "state": {
            "_view_name": "HTMLView",
            "style": "IPY_MODEL_7d88ae8b17db405f91904541d1958ca5",
            "_dom_classes": [],
            "description": "",
            "_model_name": "HTMLModel",
            "placeholder": "​",
            "_view_module": "@jupyter-widgets/controls",
            "_model_module_version": "1.5.0",
            "value": " 14/14 [00:02&lt;00:00,  6.84it/s]",
            "_view_count": null,
            "_view_module_version": "1.5.0",
            "description_tooltip": null,
            "_model_module": "@jupyter-widgets/controls",
            "layout": "IPY_MODEL_8ba46fd9877e45248b38289fee3b5c85"
          }
        },
        "2ad92ce6d7804813ac8a6de715ecdeed": {
          "model_module": "@jupyter-widgets/controls",
          "model_name": "ProgressStyleModel",
          "state": {
            "_view_name": "StyleView",
            "_model_name": "ProgressStyleModel",
            "description_width": "initial",
            "_view_module": "@jupyter-widgets/base",
            "_model_module_version": "1.5.0",
            "_view_count": null,
            "_view_module_version": "1.2.0",
            "bar_color": null,
            "_model_module": "@jupyter-widgets/controls"
          }
        },
        "b6b91d428e044fac9409e27026d9ef7d": {
          "model_module": "@jupyter-widgets/base",
          "model_name": "LayoutModel",
          "state": {
            "_view_name": "LayoutView",
            "grid_template_rows": null,
            "right": null,
            "justify_content": null,
            "_view_module": "@jupyter-widgets/base",
            "overflow": null,
            "_model_module_version": "1.2.0",
            "_view_count": null,
            "flex_flow": null,
            "width": null,
            "min_width": null,
            "border": null,
            "align_items": null,
            "bottom": null,
            "_model_module": "@jupyter-widgets/base",
            "top": null,
            "grid_column": null,
            "overflow_y": null,
            "overflow_x": null,
            "grid_auto_flow": null,
            "grid_area": null,
            "grid_template_columns": null,
            "flex": null,
            "_model_name": "LayoutModel",
            "justify_items": null,
            "grid_row": null,
            "max_height": null,
            "align_content": null,
            "visibility": null,
            "align_self": null,
            "height": null,
            "min_height": null,
            "padding": null,
            "grid_auto_rows": null,
            "grid_gap": null,
            "max_width": null,
            "order": null,
            "_view_module_version": "1.2.0",
            "grid_template_areas": null,
            "object_position": null,
            "object_fit": null,
            "grid_auto_columns": null,
            "margin": null,
            "display": null,
            "left": null
          }
        },
        "7d88ae8b17db405f91904541d1958ca5": {
          "model_module": "@jupyter-widgets/controls",
          "model_name": "DescriptionStyleModel",
          "state": {
            "_view_name": "StyleView",
            "_model_name": "DescriptionStyleModel",
            "description_width": "",
            "_view_module": "@jupyter-widgets/base",
            "_model_module_version": "1.5.0",
            "_view_count": null,
            "_view_module_version": "1.2.0",
            "_model_module": "@jupyter-widgets/controls"
          }
        },
        "8ba46fd9877e45248b38289fee3b5c85": {
          "model_module": "@jupyter-widgets/base",
          "model_name": "LayoutModel",
          "state": {
            "_view_name": "LayoutView",
            "grid_template_rows": null,
            "right": null,
            "justify_content": null,
            "_view_module": "@jupyter-widgets/base",
            "overflow": null,
            "_model_module_version": "1.2.0",
            "_view_count": null,
            "flex_flow": null,
            "width": null,
            "min_width": null,
            "border": null,
            "align_items": null,
            "bottom": null,
            "_model_module": "@jupyter-widgets/base",
            "top": null,
            "grid_column": null,
            "overflow_y": null,
            "overflow_x": null,
            "grid_auto_flow": null,
            "grid_area": null,
            "grid_template_columns": null,
            "flex": null,
            "_model_name": "LayoutModel",
            "justify_items": null,
            "grid_row": null,
            "max_height": null,
            "align_content": null,
            "visibility": null,
            "align_self": null,
            "height": null,
            "min_height": null,
            "padding": null,
            "grid_auto_rows": null,
            "grid_gap": null,
            "max_width": null,
            "order": null,
            "_view_module_version": "1.2.0",
            "grid_template_areas": null,
            "object_position": null,
            "object_fit": null,
            "grid_auto_columns": null,
            "margin": null,
            "display": null,
            "left": null
          }
        },
        "1bc874670c3c43eaa5c12de2b69ab429": {
          "model_module": "@jupyter-widgets/controls",
          "model_name": "HBoxModel",
          "state": {
            "_view_name": "HBoxView",
            "_dom_classes": [],
            "_model_name": "HBoxModel",
            "_view_module": "@jupyter-widgets/controls",
            "_model_module_version": "1.5.0",
            "_view_count": null,
            "_view_module_version": "1.5.0",
            "box_style": "",
            "layout": "IPY_MODEL_e76db54659444f21bfaa7909e093774f",
            "_model_module": "@jupyter-widgets/controls",
            "children": [
              "IPY_MODEL_7e14ad3555f9424099b8c7b271935c0f",
              "IPY_MODEL_e2ad6bd9879c45ad8415d394b74bbecd"
            ]
          }
        },
        "e76db54659444f21bfaa7909e093774f": {
          "model_module": "@jupyter-widgets/base",
          "model_name": "LayoutModel",
          "state": {
            "_view_name": "LayoutView",
            "grid_template_rows": null,
            "right": null,
            "justify_content": null,
            "_view_module": "@jupyter-widgets/base",
            "overflow": null,
            "_model_module_version": "1.2.0",
            "_view_count": null,
            "flex_flow": null,
            "width": null,
            "min_width": null,
            "border": null,
            "align_items": null,
            "bottom": null,
            "_model_module": "@jupyter-widgets/base",
            "top": null,
            "grid_column": null,
            "overflow_y": null,
            "overflow_x": null,
            "grid_auto_flow": null,
            "grid_area": null,
            "grid_template_columns": null,
            "flex": null,
            "_model_name": "LayoutModel",
            "justify_items": null,
            "grid_row": null,
            "max_height": null,
            "align_content": null,
            "visibility": null,
            "align_self": null,
            "height": null,
            "min_height": null,
            "padding": null,
            "grid_auto_rows": null,
            "grid_gap": null,
            "max_width": null,
            "order": null,
            "_view_module_version": "1.2.0",
            "grid_template_areas": null,
            "object_position": null,
            "object_fit": null,
            "grid_auto_columns": null,
            "margin": null,
            "display": null,
            "left": null
          }
        },
        "7e14ad3555f9424099b8c7b271935c0f": {
          "model_module": "@jupyter-widgets/controls",
          "model_name": "IntProgressModel",
          "state": {
            "_view_name": "ProgressView",
            "style": "IPY_MODEL_9a1653ccc4d64694a8469a2f51681331",
            "_dom_classes": [],
            "description": "100%",
            "_model_name": "IntProgressModel",
            "bar_style": "success",
            "max": 14,
            "_view_module": "@jupyter-widgets/controls",
            "_model_module_version": "1.5.0",
            "value": 14,
            "_view_count": null,
            "_view_module_version": "1.5.0",
            "orientation": "horizontal",
            "min": 0,
            "description_tooltip": null,
            "_model_module": "@jupyter-widgets/controls",
            "layout": "IPY_MODEL_3db50396d9cd498ca239985d70352b18"
          }
        },
        "e2ad6bd9879c45ad8415d394b74bbecd": {
          "model_module": "@jupyter-widgets/controls",
          "model_name": "HTMLModel",
          "state": {
            "_view_name": "HTMLView",
            "style": "IPY_MODEL_0a4cda9902df4af19f762b56e2baa317",
            "_dom_classes": [],
            "description": "",
            "_model_name": "HTMLModel",
            "placeholder": "​",
            "_view_module": "@jupyter-widgets/controls",
            "_model_module_version": "1.5.0",
            "value": " 14/14 [09:32&lt;00:00, 40.88s/it]",
            "_view_count": null,
            "_view_module_version": "1.5.0",
            "description_tooltip": null,
            "_model_module": "@jupyter-widgets/controls",
            "layout": "IPY_MODEL_36d6036da043426cbca49c461d7db307"
          }
        },
        "9a1653ccc4d64694a8469a2f51681331": {
          "model_module": "@jupyter-widgets/controls",
          "model_name": "ProgressStyleModel",
          "state": {
            "_view_name": "StyleView",
            "_model_name": "ProgressStyleModel",
            "description_width": "initial",
            "_view_module": "@jupyter-widgets/base",
            "_model_module_version": "1.5.0",
            "_view_count": null,
            "_view_module_version": "1.2.0",
            "bar_color": null,
            "_model_module": "@jupyter-widgets/controls"
          }
        },
        "3db50396d9cd498ca239985d70352b18": {
          "model_module": "@jupyter-widgets/base",
          "model_name": "LayoutModel",
          "state": {
            "_view_name": "LayoutView",
            "grid_template_rows": null,
            "right": null,
            "justify_content": null,
            "_view_module": "@jupyter-widgets/base",
            "overflow": null,
            "_model_module_version": "1.2.0",
            "_view_count": null,
            "flex_flow": null,
            "width": null,
            "min_width": null,
            "border": null,
            "align_items": null,
            "bottom": null,
            "_model_module": "@jupyter-widgets/base",
            "top": null,
            "grid_column": null,
            "overflow_y": null,
            "overflow_x": null,
            "grid_auto_flow": null,
            "grid_area": null,
            "grid_template_columns": null,
            "flex": null,
            "_model_name": "LayoutModel",
            "justify_items": null,
            "grid_row": null,
            "max_height": null,
            "align_content": null,
            "visibility": null,
            "align_self": null,
            "height": null,
            "min_height": null,
            "padding": null,
            "grid_auto_rows": null,
            "grid_gap": null,
            "max_width": null,
            "order": null,
            "_view_module_version": "1.2.0",
            "grid_template_areas": null,
            "object_position": null,
            "object_fit": null,
            "grid_auto_columns": null,
            "margin": null,
            "display": null,
            "left": null
          }
        },
        "0a4cda9902df4af19f762b56e2baa317": {
          "model_module": "@jupyter-widgets/controls",
          "model_name": "DescriptionStyleModel",
          "state": {
            "_view_name": "StyleView",
            "_model_name": "DescriptionStyleModel",
            "description_width": "",
            "_view_module": "@jupyter-widgets/base",
            "_model_module_version": "1.5.0",
            "_view_count": null,
            "_view_module_version": "1.2.0",
            "_model_module": "@jupyter-widgets/controls"
          }
        },
        "36d6036da043426cbca49c461d7db307": {
          "model_module": "@jupyter-widgets/base",
          "model_name": "LayoutModel",
          "state": {
            "_view_name": "LayoutView",
            "grid_template_rows": null,
            "right": null,
            "justify_content": null,
            "_view_module": "@jupyter-widgets/base",
            "overflow": null,
            "_model_module_version": "1.2.0",
            "_view_count": null,
            "flex_flow": null,
            "width": null,
            "min_width": null,
            "border": null,
            "align_items": null,
            "bottom": null,
            "_model_module": "@jupyter-widgets/base",
            "top": null,
            "grid_column": null,
            "overflow_y": null,
            "overflow_x": null,
            "grid_auto_flow": null,
            "grid_area": null,
            "grid_template_columns": null,
            "flex": null,
            "_model_name": "LayoutModel",
            "justify_items": null,
            "grid_row": null,
            "max_height": null,
            "align_content": null,
            "visibility": null,
            "align_self": null,
            "height": null,
            "min_height": null,
            "padding": null,
            "grid_auto_rows": null,
            "grid_gap": null,
            "max_width": null,
            "order": null,
            "_view_module_version": "1.2.0",
            "grid_template_areas": null,
            "object_position": null,
            "object_fit": null,
            "grid_auto_columns": null,
            "margin": null,
            "display": null,
            "left": null
          }
        },
        "ae36d8f969814bf8b5d7caecfdc41239": {
          "model_module": "@jupyter-widgets/controls",
          "model_name": "HBoxModel",
          "state": {
            "_view_name": "HBoxView",
            "_dom_classes": [],
            "_model_name": "HBoxModel",
            "_view_module": "@jupyter-widgets/controls",
            "_model_module_version": "1.5.0",
            "_view_count": null,
            "_view_module_version": "1.5.0",
            "box_style": "",
            "layout": "IPY_MODEL_e6c8ea91d80f4a2992f82c7aace29e74",
            "_model_module": "@jupyter-widgets/controls",
            "children": [
              "IPY_MODEL_fde48dfcbc2147739f4469c274cd6a83",
              "IPY_MODEL_f9cada191b624c41ad91a45662ff0d25"
            ]
          }
        },
        "e6c8ea91d80f4a2992f82c7aace29e74": {
          "model_module": "@jupyter-widgets/base",
          "model_name": "LayoutModel",
          "state": {
            "_view_name": "LayoutView",
            "grid_template_rows": null,
            "right": null,
            "justify_content": null,
            "_view_module": "@jupyter-widgets/base",
            "overflow": null,
            "_model_module_version": "1.2.0",
            "_view_count": null,
            "flex_flow": null,
            "width": null,
            "min_width": null,
            "border": null,
            "align_items": null,
            "bottom": null,
            "_model_module": "@jupyter-widgets/base",
            "top": null,
            "grid_column": null,
            "overflow_y": null,
            "overflow_x": null,
            "grid_auto_flow": null,
            "grid_area": null,
            "grid_template_columns": null,
            "flex": null,
            "_model_name": "LayoutModel",
            "justify_items": null,
            "grid_row": null,
            "max_height": null,
            "align_content": null,
            "visibility": null,
            "align_self": null,
            "height": null,
            "min_height": null,
            "padding": null,
            "grid_auto_rows": null,
            "grid_gap": null,
            "max_width": null,
            "order": null,
            "_view_module_version": "1.2.0",
            "grid_template_areas": null,
            "object_position": null,
            "object_fit": null,
            "grid_auto_columns": null,
            "margin": null,
            "display": null,
            "left": null
          }
        },
        "fde48dfcbc2147739f4469c274cd6a83": {
          "model_module": "@jupyter-widgets/controls",
          "model_name": "IntProgressModel",
          "state": {
            "_view_name": "ProgressView",
            "style": "IPY_MODEL_3e63a4986ef848caac8f5065034bc94a",
            "_dom_classes": [],
            "description": "100%",
            "_model_name": "IntProgressModel",
            "bar_style": "success",
            "max": 6,
            "_view_module": "@jupyter-widgets/controls",
            "_model_module_version": "1.5.0",
            "value": 6,
            "_view_count": null,
            "_view_module_version": "1.5.0",
            "orientation": "horizontal",
            "min": 0,
            "description_tooltip": null,
            "_model_module": "@jupyter-widgets/controls",
            "layout": "IPY_MODEL_5114e848a3da4e9db1dcbccc99054059"
          }
        },
        "f9cada191b624c41ad91a45662ff0d25": {
          "model_module": "@jupyter-widgets/controls",
          "model_name": "HTMLModel",
          "state": {
            "_view_name": "HTMLView",
            "style": "IPY_MODEL_2f5b8eb69fa745768d4df523c20a4109",
            "_dom_classes": [],
            "description": "",
            "_model_name": "HTMLModel",
            "placeholder": "​",
            "_view_module": "@jupyter-widgets/controls",
            "_model_module_version": "1.5.0",
            "value": " 6/6 [16:34&lt;00:00, 165.74s/it]",
            "_view_count": null,
            "_view_module_version": "1.5.0",
            "description_tooltip": null,
            "_model_module": "@jupyter-widgets/controls",
            "layout": "IPY_MODEL_34ba644ddc83493bb85593c021813b06"
          }
        },
        "3e63a4986ef848caac8f5065034bc94a": {
          "model_module": "@jupyter-widgets/controls",
          "model_name": "ProgressStyleModel",
          "state": {
            "_view_name": "StyleView",
            "_model_name": "ProgressStyleModel",
            "description_width": "initial",
            "_view_module": "@jupyter-widgets/base",
            "_model_module_version": "1.5.0",
            "_view_count": null,
            "_view_module_version": "1.2.0",
            "bar_color": null,
            "_model_module": "@jupyter-widgets/controls"
          }
        },
        "5114e848a3da4e9db1dcbccc99054059": {
          "model_module": "@jupyter-widgets/base",
          "model_name": "LayoutModel",
          "state": {
            "_view_name": "LayoutView",
            "grid_template_rows": null,
            "right": null,
            "justify_content": null,
            "_view_module": "@jupyter-widgets/base",
            "overflow": null,
            "_model_module_version": "1.2.0",
            "_view_count": null,
            "flex_flow": null,
            "width": null,
            "min_width": null,
            "border": null,
            "align_items": null,
            "bottom": null,
            "_model_module": "@jupyter-widgets/base",
            "top": null,
            "grid_column": null,
            "overflow_y": null,
            "overflow_x": null,
            "grid_auto_flow": null,
            "grid_area": null,
            "grid_template_columns": null,
            "flex": null,
            "_model_name": "LayoutModel",
            "justify_items": null,
            "grid_row": null,
            "max_height": null,
            "align_content": null,
            "visibility": null,
            "align_self": null,
            "height": null,
            "min_height": null,
            "padding": null,
            "grid_auto_rows": null,
            "grid_gap": null,
            "max_width": null,
            "order": null,
            "_view_module_version": "1.2.0",
            "grid_template_areas": null,
            "object_position": null,
            "object_fit": null,
            "grid_auto_columns": null,
            "margin": null,
            "display": null,
            "left": null
          }
        },
        "2f5b8eb69fa745768d4df523c20a4109": {
          "model_module": "@jupyter-widgets/controls",
          "model_name": "DescriptionStyleModel",
          "state": {
            "_view_name": "StyleView",
            "_model_name": "DescriptionStyleModel",
            "description_width": "",
            "_view_module": "@jupyter-widgets/base",
            "_model_module_version": "1.5.0",
            "_view_count": null,
            "_view_module_version": "1.2.0",
            "_model_module": "@jupyter-widgets/controls"
          }
        },
        "34ba644ddc83493bb85593c021813b06": {
          "model_module": "@jupyter-widgets/base",
          "model_name": "LayoutModel",
          "state": {
            "_view_name": "LayoutView",
            "grid_template_rows": null,
            "right": null,
            "justify_content": null,
            "_view_module": "@jupyter-widgets/base",
            "overflow": null,
            "_model_module_version": "1.2.0",
            "_view_count": null,
            "flex_flow": null,
            "width": null,
            "min_width": null,
            "border": null,
            "align_items": null,
            "bottom": null,
            "_model_module": "@jupyter-widgets/base",
            "top": null,
            "grid_column": null,
            "overflow_y": null,
            "overflow_x": null,
            "grid_auto_flow": null,
            "grid_area": null,
            "grid_template_columns": null,
            "flex": null,
            "_model_name": "LayoutModel",
            "justify_items": null,
            "grid_row": null,
            "max_height": null,
            "align_content": null,
            "visibility": null,
            "align_self": null,
            "height": null,
            "min_height": null,
            "padding": null,
            "grid_auto_rows": null,
            "grid_gap": null,
            "max_width": null,
            "order": null,
            "_view_module_version": "1.2.0",
            "grid_template_areas": null,
            "object_position": null,
            "object_fit": null,
            "grid_auto_columns": null,
            "margin": null,
            "display": null,
            "left": null
          }
        }
      }
    }
  },
  "cells": [
    {
      "cell_type": "markdown",
      "metadata": {
        "id": "view-in-github",
        "colab_type": "text"
      },
      "source": [
        "<a href=\"https://colab.research.google.com/github/lordoz234/ML/blob/master/classifier26.ipynb\" target=\"_parent\"><img src=\"https://colab.research.google.com/assets/colab-badge.svg\" alt=\"Open In Colab\"/></a>"
      ]
    },
    {
      "cell_type": "code",
      "metadata": {
        "id": "aG6b6VCMYoZ5",
        "colab_type": "code",
        "colab": {
          "base_uri": "https://localhost:8080/",
          "height": 34
        },
        "outputId": "ebe0c698-2148-4f5f-8be6-e841b38b7c60"
      },
      "source": [
        "from google.colab import drive\n",
        "drive.mount('/content/drive',force_remount=True)"
      ],
      "execution_count": 950,
      "outputs": [
        {
          "output_type": "stream",
          "text": [
            "Mounted at /content/drive\n"
          ],
          "name": "stdout"
        }
      ]
    },
    {
      "cell_type": "code",
      "metadata": {
        "id": "Jzc3LoWpYxAD",
        "colab_type": "code",
        "colab": {}
      },
      "source": [
        "import numpy as np\n",
        "import pandas as pd\n",
        "from matplotlib import pyplot as plt"
      ],
      "execution_count": 0,
      "outputs": []
    },
    {
      "cell_type": "code",
      "metadata": {
        "id": "G9dmUhixZHNb",
        "colab_type": "code",
        "colab": {}
      },
      "source": [
        "data = pd.read_csv('/content/drive/My Drive/files/ku2.csv')"
      ],
      "execution_count": 0,
      "outputs": []
    },
    {
      "cell_type": "code",
      "metadata": {
        "id": "NFyNlSNdZO8k",
        "colab_type": "code",
        "colab": {
          "base_uri": "https://localhost:8080/",
          "height": 357
        },
        "outputId": "02d18f87-b9bf-44b4-aac7-1c7eff335022"
      },
      "source": [
        "data.info()"
      ],
      "execution_count": 953,
      "outputs": [
        {
          "output_type": "stream",
          "text": [
            "<class 'pandas.core.frame.DataFrame'>\n",
            "RangeIndex: 2503 entries, 0 to 2502\n",
            "Data columns (total 13 columns):\n",
            " #   Column                        Non-Null Count  Dtype  \n",
            "---  ------                        --------------  -----  \n",
            " 0   files                         2503 non-null   object \n",
            " 1   is_eulerian                   2503 non-null   bool   \n",
            " 2   degree                        2503 non-null   int64  \n",
            " 3   is_multigraphical             2503 non-null   bool   \n",
            " 4   is_pseudographical            2503 non-null   bool   \n",
            " 5   maximal_matching              2503 non-null   int64  \n",
            " 6   number_of_cliques             2503 non-null   int64  \n",
            " 7   rich_club_coefficient         2503 non-null   float64\n",
            " 8   average_shortest_path_length  2503 non-null   float64\n",
            " 9   s_metric                      2503 non-null   float64\n",
            " 10  wiener_index                  2503 non-null   float64\n",
            " 11  population                    2503 non-null   object \n",
            " 12  super_population              2503 non-null   object \n",
            "dtypes: bool(3), float64(4), int64(3), object(3)\n",
            "memory usage: 203.0+ KB\n"
          ],
          "name": "stdout"
        }
      ]
    },
    {
      "cell_type": "code",
      "metadata": {
        "id": "0ARijWShZ38J",
        "colab_type": "code",
        "colab": {
          "base_uri": "https://localhost:8080/",
          "height": 162
        },
        "outputId": "5db409df-7710-467d-b1c7-1b56924cac81"
      },
      "source": [
        "data.sample(3)"
      ],
      "execution_count": 954,
      "outputs": [
        {
          "output_type": "execute_result",
          "data": {
            "text/html": [
              "<div>\n",
              "<style scoped>\n",
              "    .dataframe tbody tr th:only-of-type {\n",
              "        vertical-align: middle;\n",
              "    }\n",
              "\n",
              "    .dataframe tbody tr th {\n",
              "        vertical-align: top;\n",
              "    }\n",
              "\n",
              "    .dataframe thead th {\n",
              "        text-align: right;\n",
              "    }\n",
              "</style>\n",
              "<table border=\"1\" class=\"dataframe\">\n",
              "  <thead>\n",
              "    <tr style=\"text-align: right;\">\n",
              "      <th></th>\n",
              "      <th>files</th>\n",
              "      <th>is_eulerian</th>\n",
              "      <th>degree</th>\n",
              "      <th>is_multigraphical</th>\n",
              "      <th>is_pseudographical</th>\n",
              "      <th>maximal_matching</th>\n",
              "      <th>number_of_cliques</th>\n",
              "      <th>rich_club_coefficient</th>\n",
              "      <th>average_shortest_path_length</th>\n",
              "      <th>s_metric</th>\n",
              "      <th>wiener_index</th>\n",
              "      <th>population</th>\n",
              "      <th>super_population</th>\n",
              "    </tr>\n",
              "  </thead>\n",
              "  <tbody>\n",
              "    <tr>\n",
              "      <th>912</th>\n",
              "      <td>HG04183.txt</td>\n",
              "      <td>False</td>\n",
              "      <td>710</td>\n",
              "      <td>True</td>\n",
              "      <td>True</td>\n",
              "      <td>653</td>\n",
              "      <td>668</td>\n",
              "      <td>0.026623</td>\n",
              "      <td>1.973377</td>\n",
              "      <td>35176761.0</td>\n",
              "      <td>439625.0</td>\n",
              "      <td>BEB</td>\n",
              "      <td>SAS</td>\n",
              "    </tr>\n",
              "    <tr>\n",
              "      <th>745</th>\n",
              "      <td>NA19206.txt</td>\n",
              "      <td>False</td>\n",
              "      <td>712</td>\n",
              "      <td>True</td>\n",
              "      <td>True</td>\n",
              "      <td>21</td>\n",
              "      <td>690</td>\n",
              "      <td>0.037025</td>\n",
              "      <td>1.962975</td>\n",
              "      <td>77457601.0</td>\n",
              "      <td>466609.0</td>\n",
              "      <td>YRI</td>\n",
              "      <td>AFR</td>\n",
              "    </tr>\n",
              "    <tr>\n",
              "      <th>2006</th>\n",
              "      <td>HG02307.txt</td>\n",
              "      <td>False</td>\n",
              "      <td>713</td>\n",
              "      <td>True</td>\n",
              "      <td>True</td>\n",
              "      <td>23</td>\n",
              "      <td>672</td>\n",
              "      <td>0.037999</td>\n",
              "      <td>1.962001</td>\n",
              "      <td>73393489.0</td>\n",
              "      <td>442345.0</td>\n",
              "      <td>ACB</td>\n",
              "      <td>AFR</td>\n",
              "    </tr>\n",
              "  </tbody>\n",
              "</table>\n",
              "</div>"
            ],
            "text/plain": [
              "            files  is_eulerian  ...  population  super_population\n",
              "912   HG04183.txt        False  ...         BEB               SAS\n",
              "745   NA19206.txt        False  ...         YRI               AFR\n",
              "2006  HG02307.txt        False  ...         ACB               AFR\n",
              "\n",
              "[3 rows x 13 columns]"
            ]
          },
          "metadata": {
            "tags": []
          },
          "execution_count": 954
        }
      ]
    },
    {
      "cell_type": "code",
      "metadata": {
        "id": "Hhdv2M1gZR2J",
        "colab_type": "code",
        "colab": {}
      },
      "source": [
        "data['is_eulerian'] = data['is_eulerian'].map({True: 1, False: 0})\n",
        "data['is_multigraphical'] = data['is_multigraphical'].map({True: 1, False: 0})\n",
        "data['is_pseudographical'] = data['is_pseudographical'].map({True: 1, False: 0})"
      ],
      "execution_count": 0,
      "outputs": []
    },
    {
      "cell_type": "code",
      "metadata": {
        "id": "WoeSZJBdZtDt",
        "colab_type": "code",
        "colab": {
          "base_uri": "https://localhost:8080/",
          "height": 162
        },
        "outputId": "b5a61509-fc63-48f9-dbd9-179cb1e733f2"
      },
      "source": [
        "data.sample(3)"
      ],
      "execution_count": 956,
      "outputs": [
        {
          "output_type": "execute_result",
          "data": {
            "text/html": [
              "<div>\n",
              "<style scoped>\n",
              "    .dataframe tbody tr th:only-of-type {\n",
              "        vertical-align: middle;\n",
              "    }\n",
              "\n",
              "    .dataframe tbody tr th {\n",
              "        vertical-align: top;\n",
              "    }\n",
              "\n",
              "    .dataframe thead th {\n",
              "        text-align: right;\n",
              "    }\n",
              "</style>\n",
              "<table border=\"1\" class=\"dataframe\">\n",
              "  <thead>\n",
              "    <tr style=\"text-align: right;\">\n",
              "      <th></th>\n",
              "      <th>files</th>\n",
              "      <th>is_eulerian</th>\n",
              "      <th>degree</th>\n",
              "      <th>is_multigraphical</th>\n",
              "      <th>is_pseudographical</th>\n",
              "      <th>maximal_matching</th>\n",
              "      <th>number_of_cliques</th>\n",
              "      <th>rich_club_coefficient</th>\n",
              "      <th>average_shortest_path_length</th>\n",
              "      <th>s_metric</th>\n",
              "      <th>wiener_index</th>\n",
              "      <th>population</th>\n",
              "      <th>super_population</th>\n",
              "    </tr>\n",
              "  </thead>\n",
              "  <tbody>\n",
              "    <tr>\n",
              "      <th>2046</th>\n",
              "      <td>NA12348.txt</td>\n",
              "      <td>1</td>\n",
              "      <td>710</td>\n",
              "      <td>0</td>\n",
              "      <td>0</td>\n",
              "      <td>13</td>\n",
              "      <td>662</td>\n",
              "      <td>0.023913</td>\n",
              "      <td>1.976087</td>\n",
              "      <td>27373824.0</td>\n",
              "      <td>432350.0</td>\n",
              "      <td>CEU</td>\n",
              "      <td>EUR</td>\n",
              "    </tr>\n",
              "    <tr>\n",
              "      <th>2021</th>\n",
              "      <td>HG04206.txt</td>\n",
              "      <td>0</td>\n",
              "      <td>710</td>\n",
              "      <td>0</td>\n",
              "      <td>0</td>\n",
              "      <td>19</td>\n",
              "      <td>648</td>\n",
              "      <td>0.027434</td>\n",
              "      <td>1.972566</td>\n",
              "      <td>33074001.0</td>\n",
              "      <td>413505.0</td>\n",
              "      <td>ITU</td>\n",
              "      <td>SAS</td>\n",
              "    </tr>\n",
              "    <tr>\n",
              "      <th>2172</th>\n",
              "      <td>HG01341.txt</td>\n",
              "      <td>0</td>\n",
              "      <td>715</td>\n",
              "      <td>1</td>\n",
              "      <td>1</td>\n",
              "      <td>21</td>\n",
              "      <td>648</td>\n",
              "      <td>0.033426</td>\n",
              "      <td>1.966574</td>\n",
              "      <td>49098049.0</td>\n",
              "      <td>412249.0</td>\n",
              "      <td>CLM</td>\n",
              "      <td>AMR</td>\n",
              "    </tr>\n",
              "  </tbody>\n",
              "</table>\n",
              "</div>"
            ],
            "text/plain": [
              "            files  is_eulerian  ...  population  super_population\n",
              "2046  NA12348.txt            1  ...         CEU               EUR\n",
              "2021  HG04206.txt            0  ...         ITU               SAS\n",
              "2172  HG01341.txt            0  ...         CLM               AMR\n",
              "\n",
              "[3 rows x 13 columns]"
            ]
          },
          "metadata": {
            "tags": []
          },
          "execution_count": 956
        }
      ]
    },
    {
      "cell_type": "code",
      "metadata": {
        "id": "F9UYFKQha8nk",
        "colab_type": "code",
        "colab": {}
      },
      "source": [
        "data['population'] = data['population'].map({'ASW': 1, 'YRI': 2, 'LWK': 3, 'JPT': 4, 'CDX': 5, 'CEU': 6, 'CHB': 7, 'GIH': 8, 'GWD': 9, 'MSL': 10, 'IBS': 11, \n",
        "                                             'TSI': 12, 'PJL': 13, 'ESN': 14, 'MXL': 15, 'CLM': 16, 'PEL': 17, 'CHS': 18, 'PUR': 19, 'FIN': 20, 'KHV': 21,\n",
        "                                             'BEB': 22, 'ACB': 23, 'ITU': 24, 'GBR': 25, 'STU': 26})\n",
        "data['super_population'] = data['super_population'].map({'EUR': 1, 'EAS': 2, 'AMR': 3, 'SAS': 4, 'AFR': 5})"
      ],
      "execution_count": 0,
      "outputs": []
    },
    {
      "cell_type": "code",
      "metadata": {
        "id": "gIR1ydVRXuRs",
        "colab_type": "code",
        "colab": {
          "base_uri": "https://localhost:8080/",
          "height": 255
        },
        "outputId": "ab10cd24-9b6f-48f5-e0cb-b10fa3ed9ad2"
      },
      "source": [
        "data.set_index([\"super_population\", \"population\"]).count(level=\"super_population\")"
      ],
      "execution_count": 958,
      "outputs": [
        {
          "output_type": "execute_result",
          "data": {
            "text/html": [
              "<div>\n",
              "<style scoped>\n",
              "    .dataframe tbody tr th:only-of-type {\n",
              "        vertical-align: middle;\n",
              "    }\n",
              "\n",
              "    .dataframe tbody tr th {\n",
              "        vertical-align: top;\n",
              "    }\n",
              "\n",
              "    .dataframe thead th {\n",
              "        text-align: right;\n",
              "    }\n",
              "</style>\n",
              "<table border=\"1\" class=\"dataframe\">\n",
              "  <thead>\n",
              "    <tr style=\"text-align: right;\">\n",
              "      <th></th>\n",
              "      <th>files</th>\n",
              "      <th>is_eulerian</th>\n",
              "      <th>degree</th>\n",
              "      <th>is_multigraphical</th>\n",
              "      <th>is_pseudographical</th>\n",
              "      <th>maximal_matching</th>\n",
              "      <th>number_of_cliques</th>\n",
              "      <th>rich_club_coefficient</th>\n",
              "      <th>average_shortest_path_length</th>\n",
              "      <th>s_metric</th>\n",
              "      <th>wiener_index</th>\n",
              "    </tr>\n",
              "    <tr>\n",
              "      <th>super_population</th>\n",
              "      <th></th>\n",
              "      <th></th>\n",
              "      <th></th>\n",
              "      <th></th>\n",
              "      <th></th>\n",
              "      <th></th>\n",
              "      <th></th>\n",
              "      <th></th>\n",
              "      <th></th>\n",
              "      <th></th>\n",
              "      <th></th>\n",
              "    </tr>\n",
              "  </thead>\n",
              "  <tbody>\n",
              "    <tr>\n",
              "      <th>1</th>\n",
              "      <td>503</td>\n",
              "      <td>503</td>\n",
              "      <td>503</td>\n",
              "      <td>503</td>\n",
              "      <td>503</td>\n",
              "      <td>503</td>\n",
              "      <td>503</td>\n",
              "      <td>503</td>\n",
              "      <td>503</td>\n",
              "      <td>503</td>\n",
              "      <td>503</td>\n",
              "    </tr>\n",
              "    <tr>\n",
              "      <th>2</th>\n",
              "      <td>504</td>\n",
              "      <td>504</td>\n",
              "      <td>504</td>\n",
              "      <td>504</td>\n",
              "      <td>504</td>\n",
              "      <td>504</td>\n",
              "      <td>504</td>\n",
              "      <td>504</td>\n",
              "      <td>504</td>\n",
              "      <td>504</td>\n",
              "      <td>504</td>\n",
              "    </tr>\n",
              "    <tr>\n",
              "      <th>3</th>\n",
              "      <td>347</td>\n",
              "      <td>347</td>\n",
              "      <td>347</td>\n",
              "      <td>347</td>\n",
              "      <td>347</td>\n",
              "      <td>347</td>\n",
              "      <td>347</td>\n",
              "      <td>347</td>\n",
              "      <td>347</td>\n",
              "      <td>347</td>\n",
              "      <td>347</td>\n",
              "    </tr>\n",
              "    <tr>\n",
              "      <th>4</th>\n",
              "      <td>489</td>\n",
              "      <td>489</td>\n",
              "      <td>489</td>\n",
              "      <td>489</td>\n",
              "      <td>489</td>\n",
              "      <td>489</td>\n",
              "      <td>489</td>\n",
              "      <td>489</td>\n",
              "      <td>489</td>\n",
              "      <td>489</td>\n",
              "      <td>489</td>\n",
              "    </tr>\n",
              "    <tr>\n",
              "      <th>5</th>\n",
              "      <td>660</td>\n",
              "      <td>660</td>\n",
              "      <td>660</td>\n",
              "      <td>660</td>\n",
              "      <td>660</td>\n",
              "      <td>660</td>\n",
              "      <td>660</td>\n",
              "      <td>660</td>\n",
              "      <td>660</td>\n",
              "      <td>660</td>\n",
              "      <td>660</td>\n",
              "    </tr>\n",
              "  </tbody>\n",
              "</table>\n",
              "</div>"
            ],
            "text/plain": [
              "                  files  is_eulerian  ...  s_metric  wiener_index\n",
              "super_population                      ...                        \n",
              "1                   503          503  ...       503           503\n",
              "2                   504          504  ...       504           504\n",
              "3                   347          347  ...       347           347\n",
              "4                   489          489  ...       489           489\n",
              "5                   660          660  ...       660           660\n",
              "\n",
              "[5 rows x 11 columns]"
            ]
          },
          "metadata": {
            "tags": []
          },
          "execution_count": 958
        }
      ]
    },
    {
      "cell_type": "code",
      "metadata": {
        "id": "1SkmXKO6eniA",
        "colab_type": "code",
        "colab": {
          "base_uri": "https://localhost:8080/",
          "height": 162
        },
        "outputId": "28fa9bc5-937d-4a7b-930f-60d7547aeef5"
      },
      "source": [
        "data.sample(3)"
      ],
      "execution_count": 959,
      "outputs": [
        {
          "output_type": "execute_result",
          "data": {
            "text/html": [
              "<div>\n",
              "<style scoped>\n",
              "    .dataframe tbody tr th:only-of-type {\n",
              "        vertical-align: middle;\n",
              "    }\n",
              "\n",
              "    .dataframe tbody tr th {\n",
              "        vertical-align: top;\n",
              "    }\n",
              "\n",
              "    .dataframe thead th {\n",
              "        text-align: right;\n",
              "    }\n",
              "</style>\n",
              "<table border=\"1\" class=\"dataframe\">\n",
              "  <thead>\n",
              "    <tr style=\"text-align: right;\">\n",
              "      <th></th>\n",
              "      <th>files</th>\n",
              "      <th>is_eulerian</th>\n",
              "      <th>degree</th>\n",
              "      <th>is_multigraphical</th>\n",
              "      <th>is_pseudographical</th>\n",
              "      <th>maximal_matching</th>\n",
              "      <th>number_of_cliques</th>\n",
              "      <th>rich_club_coefficient</th>\n",
              "      <th>average_shortest_path_length</th>\n",
              "      <th>s_metric</th>\n",
              "      <th>wiener_index</th>\n",
              "      <th>population</th>\n",
              "      <th>super_population</th>\n",
              "    </tr>\n",
              "  </thead>\n",
              "  <tbody>\n",
              "    <tr>\n",
              "      <th>1970</th>\n",
              "      <td>NA19077.txt</td>\n",
              "      <td>1</td>\n",
              "      <td>716</td>\n",
              "      <td>0</td>\n",
              "      <td>0</td>\n",
              "      <td>17</td>\n",
              "      <td>664</td>\n",
              "      <td>0.023842</td>\n",
              "      <td>1.976158</td>\n",
              "      <td>27541504.0</td>\n",
              "      <td>434984.0</td>\n",
              "      <td>4</td>\n",
              "      <td>2</td>\n",
              "    </tr>\n",
              "    <tr>\n",
              "      <th>1817</th>\n",
              "      <td>NA07048.txt</td>\n",
              "      <td>1</td>\n",
              "      <td>710</td>\n",
              "      <td>1</td>\n",
              "      <td>1</td>\n",
              "      <td>12</td>\n",
              "      <td>640</td>\n",
              "      <td>0.006240</td>\n",
              "      <td>1.993760</td>\n",
              "      <td>1628176.0</td>\n",
              "      <td>407684.0</td>\n",
              "      <td>6</td>\n",
              "      <td>1</td>\n",
              "    </tr>\n",
              "    <tr>\n",
              "      <th>472</th>\n",
              "      <td>HG01028.txt</td>\n",
              "      <td>0</td>\n",
              "      <td>716</td>\n",
              "      <td>1</td>\n",
              "      <td>1</td>\n",
              "      <td>20</td>\n",
              "      <td>643</td>\n",
              "      <td>0.030668</td>\n",
              "      <td>1.969332</td>\n",
              "      <td>40068900.0</td>\n",
              "      <td>406476.0</td>\n",
              "      <td>5</td>\n",
              "      <td>2</td>\n",
              "    </tr>\n",
              "  </tbody>\n",
              "</table>\n",
              "</div>"
            ],
            "text/plain": [
              "            files  is_eulerian  ...  population  super_population\n",
              "1970  NA19077.txt            1  ...           4                 2\n",
              "1817  NA07048.txt            1  ...           6                 1\n",
              "472   HG01028.txt            0  ...           5                 2\n",
              "\n",
              "[3 rows x 13 columns]"
            ]
          },
          "metadata": {
            "tags": []
          },
          "execution_count": 959
        }
      ]
    },
    {
      "cell_type": "code",
      "metadata": {
        "id": "XNTVphazhHCL",
        "colab_type": "code",
        "colab": {
          "base_uri": "https://localhost:8080/",
          "height": 357
        },
        "outputId": "5a9d0a32-ce7d-49f4-e2d9-6c01c9f027cb"
      },
      "source": [
        "data.info()"
      ],
      "execution_count": 960,
      "outputs": [
        {
          "output_type": "stream",
          "text": [
            "<class 'pandas.core.frame.DataFrame'>\n",
            "RangeIndex: 2503 entries, 0 to 2502\n",
            "Data columns (total 13 columns):\n",
            " #   Column                        Non-Null Count  Dtype  \n",
            "---  ------                        --------------  -----  \n",
            " 0   files                         2503 non-null   object \n",
            " 1   is_eulerian                   2503 non-null   int64  \n",
            " 2   degree                        2503 non-null   int64  \n",
            " 3   is_multigraphical             2503 non-null   int64  \n",
            " 4   is_pseudographical            2503 non-null   int64  \n",
            " 5   maximal_matching              2503 non-null   int64  \n",
            " 6   number_of_cliques             2503 non-null   int64  \n",
            " 7   rich_club_coefficient         2503 non-null   float64\n",
            " 8   average_shortest_path_length  2503 non-null   float64\n",
            " 9   s_metric                      2503 non-null   float64\n",
            " 10  wiener_index                  2503 non-null   float64\n",
            " 11  population                    2503 non-null   int64  \n",
            " 12  super_population              2503 non-null   int64  \n",
            "dtypes: float64(4), int64(8), object(1)\n",
            "memory usage: 254.3+ KB\n"
          ],
          "name": "stdout"
        }
      ]
    },
    {
      "cell_type": "code",
      "metadata": {
        "id": "6iH3vU0NhXIE",
        "colab_type": "code",
        "colab": {}
      },
      "source": [
        "from sklearn.preprocessing import StandardScaler\n",
        "scaler = StandardScaler()\n",
        "X, y = data.drop(['population','files', 'super_population'], axis = 1), data['population']"
      ],
      "execution_count": 0,
      "outputs": []
    },
    {
      "cell_type": "code",
      "metadata": {
        "id": "smOIAAXVh2QC",
        "colab_type": "code",
        "colab": {
          "base_uri": "https://localhost:8080/",
          "height": 34
        },
        "outputId": "c61049aa-a22b-47e7-f20b-7983e1626621"
      },
      "source": [
        "X.shape, y.shape"
      ],
      "execution_count": 962,
      "outputs": [
        {
          "output_type": "execute_result",
          "data": {
            "text/plain": [
              "((2503, 10), (2503,))"
            ]
          },
          "metadata": {
            "tags": []
          },
          "execution_count": 962
        }
      ]
    },
    {
      "cell_type": "code",
      "metadata": {
        "id": "s_6HwQa4h6GQ",
        "colab_type": "code",
        "colab": {}
      },
      "source": [
        "from sklearn.model_selection import train_test_split"
      ],
      "execution_count": 0,
      "outputs": []
    },
    {
      "cell_type": "code",
      "metadata": {
        "id": "HuHakslGh7yl",
        "colab_type": "code",
        "colab": {}
      },
      "source": [
        "X_train, X_holdout,  y_train, y_holdout = \\\n",
        "    train_test_split(X, y, test_size=.2, random_state=251)\n",
        "#X_train = scaler.fit_transform(X_train)"
      ],
      "execution_count": 0,
      "outputs": []
    },
    {
      "cell_type": "code",
      "metadata": {
        "id": "A_m0MQY5h8qL",
        "colab_type": "code",
        "colab": {}
      },
      "source": [
        "from sklearn import preprocessing\n",
        "#X_train = preprocessing.scale(X_train, axis=0)"
      ],
      "execution_count": 0,
      "outputs": []
    },
    {
      "cell_type": "code",
      "metadata": {
        "id": "3lt36a3th-6A",
        "colab_type": "code",
        "colab": {
          "base_uri": "https://localhost:8080/",
          "height": 34
        },
        "outputId": "249b96f3-5309-4eba-faa0-95f7802689c6"
      },
      "source": [
        "X_train.shape, X_holdout.shape"
      ],
      "execution_count": 966,
      "outputs": [
        {
          "output_type": "execute_result",
          "data": {
            "text/plain": [
              "((2002, 10), (501, 10))"
            ]
          },
          "metadata": {
            "tags": []
          },
          "execution_count": 966
        }
      ]
    },
    {
      "cell_type": "code",
      "metadata": {
        "id": "FcvpVVCQiAYj",
        "colab_type": "code",
        "colab": {}
      },
      "source": [
        "from sklearn.tree import DecisionTreeClassifier"
      ],
      "execution_count": 0,
      "outputs": []
    },
    {
      "cell_type": "code",
      "metadata": {
        "id": "Y1HySs02iBvJ",
        "colab_type": "code",
        "colab": {}
      },
      "source": [
        "tree_clf = DecisionTreeClassifier(random_state=241)"
      ],
      "execution_count": 0,
      "outputs": []
    },
    {
      "cell_type": "code",
      "metadata": {
        "id": "_XamGBuWiDOu",
        "colab_type": "code",
        "colab": {
          "base_uri": "https://localhost:8080/",
          "height": 119
        },
        "outputId": "d49a7076-0ece-4a31-b185-2ac897f7f035"
      },
      "source": [
        "tree_clf.fit(X_train, y_train)"
      ],
      "execution_count": 969,
      "outputs": [
        {
          "output_type": "execute_result",
          "data": {
            "text/plain": [
              "DecisionTreeClassifier(ccp_alpha=0.0, class_weight=None, criterion='gini',\n",
              "                       max_depth=None, max_features=None, max_leaf_nodes=None,\n",
              "                       min_impurity_decrease=0.0, min_impurity_split=None,\n",
              "                       min_samples_leaf=1, min_samples_split=2,\n",
              "                       min_weight_fraction_leaf=0.0, presort='deprecated',\n",
              "                       random_state=241, splitter='best')"
            ]
          },
          "metadata": {
            "tags": []
          },
          "execution_count": 969
        }
      ]
    },
    {
      "cell_type": "code",
      "metadata": {
        "id": "wokiaKimllo8",
        "colab_type": "code",
        "colab": {}
      },
      "source": [
        "from sklearn.model_selection import cross_val_score, StratifiedKFold, ShuffleSplit, RepeatedKFold, cross_val_predict\n",
        "from sklearn.metrics import accuracy_score\n",
        "from sklearn.neighbors import KNeighborsClassifier\n",
        "from sklearn.linear_model import Ridge\n",
        "from sklearn.ensemble import RandomForestRegressor\n",
        "from sklearn.svm import SVC\n",
        "from sklearn.linear_model import SGDClassifier\n",
        "from sklearn.multiclass import OneVsOneClassifier\n",
        "from sklearn.pipeline import Pipeline\n",
        "from sklearn.ensemble import VotingClassifier\n",
        "from sklearn.ensemble import RandomForestClassifier\n",
        "from sklearn.linear_model import LogisticRegression"
      ],
      "execution_count": 0,
      "outputs": []
    },
    {
      "cell_type": "code",
      "metadata": {
        "id": "PJTTz3F8loMT",
        "colab_type": "code",
        "colab": {}
      },
      "source": [
        "from tqdm import tqdm_notebook"
      ],
      "execution_count": 0,
      "outputs": []
    },
    {
      "cell_type": "code",
      "metadata": {
        "id": "gXeZ08TVlqCp",
        "colab_type": "code",
        "colab": {}
      },
      "source": [
        "skf = StratifiedKFold(n_splits=2, shuffle=True, random_state=241)\n",
        "cv = ShuffleSplit(n_splits=1, test_size=0.2, random_state=241)\n",
        "rskf = RepeatedKFold(n_splits=2, n_repeats=3, random_state=241)"
      ],
      "execution_count": 0,
      "outputs": []
    },
    {
      "cell_type": "code",
      "metadata": {
        "id": "Q8bbjS3DlsY_",
        "colab_type": "code",
        "colab": {
          "base_uri": "https://localhost:8080/",
          "height": 117,
          "referenced_widgets": [
            "f9d2845202944905b5639612a1fd8f7c",
            "0e2e288ea3b54363b2b4684b1e8302bd",
            "dfa06bbd33644f10bf48e544aef59126",
            "405aee87b090448db96f110d8e7da28f",
            "9e4716e377714b2c8a26be4b3b30dc0f",
            "8e7b200fa59941ee97050b407b4132e9",
            "c2fc42e610f94f3097e7b754b68ef4d9",
            "23cb53d896bd420893a0ab89b21d9799"
          ]
        },
        "outputId": "992e1602-407e-453d-d323-0c5c85658f97"
      },
      "source": [
        "cv_accuracies_by_depth, ho_accuracies_by_depth = [], []\n",
        "cv_accuracies_by_death_1, cv_accuracies_by_death_2 = [], []\n",
        "max_depth_values = np.arange(50, 100)\n",
        "\n",
        "# for each value of max depth \n",
        "for curr_max_depth in tqdm_notebook(max_depth_values):\n",
        "    tree = neigh = KNeighborsClassifier(n_neighbors=curr_max_depth)\n",
        "\n",
        "    # perform cross-validation (algorithm - KFold)\n",
        "    val_scores = cross_val_score(estimator=tree, X=X_train, y=y_train, cv=skf)\n",
        "    #print(val_scores.shape)\n",
        "    cv_accuracies_by_depth.append(val_scores.mean())\n",
        "\n",
        "    # perfrom cross-validation (algorithm - ShuffleSplit)\n",
        "    val_scores = cross_val_score(estimator=tree, X=X_train, y=y_train, cv=cv)\n",
        "    #print(val_scores.shape)\n",
        "    cv_accuracies_by_death_1.append(val_scores.mean())\n",
        "\n",
        "    # prefrom cross-validation (algorithm - Repeat KFold)\n",
        "\n",
        "    val_scores = cross_val_score(estimator=tree, X=X_train, y=y_train, cv=rskf)\n",
        "    cv_accuracies_by_death_2.append(val_scores.mean())\n",
        "\n",
        "    # assess the model with the holdout set\n",
        "    tree.fit(X_train, y_train)\n",
        "    \n",
        "    cuur_ho_pred = tree.predict(X_holdout)\n",
        "    \n",
        "    ho_accuracies_by_depth.append(accuracy_score(y_holdout, cuur_ho_pred))"
      ],
      "execution_count": 996,
      "outputs": [
        {
          "output_type": "stream",
          "text": [
            "/usr/local/lib/python3.6/dist-packages/ipykernel_launcher.py:6: TqdmDeprecationWarning: This function will be removed in tqdm==5.0.0\n",
            "Please use `tqdm.notebook.tqdm` instead of `tqdm.tqdm_notebook`\n",
            "  \n"
          ],
          "name": "stderr"
        },
        {
          "output_type": "display_data",
          "data": {
            "application/vnd.jupyter.widget-view+json": {
              "model_id": "f9d2845202944905b5639612a1fd8f7c",
              "version_minor": 0,
              "version_major": 2
            },
            "text/plain": [
              "HBox(children=(IntProgress(value=0, max=50), HTML(value='')))"
            ]
          },
          "metadata": {
            "tags": []
          }
        },
        {
          "output_type": "stream",
          "text": [
            "\n"
          ],
          "name": "stdout"
        }
      ]
    },
    {
      "cell_type": "code",
      "metadata": {
        "id": "8Bun2amDlue0",
        "colab_type": "code",
        "colab": {
          "base_uri": "https://localhost:8080/",
          "height": 295
        },
        "outputId": "5514e383-1344-47c9-e763-64e0dc5bb4b4"
      },
      "source": [
        "plt.plot(max_depth_values, cv_accuracies_by_depth, label='CV', c='blue')\n",
        "plt.plot(max_depth_values, ho_accuracies_by_depth, label='holdout', c='orange')\n",
        "plt.plot(max_depth_values, cv_accuracies_by_death_1, label='CV1', c='red')\n",
        "plt.plot(max_depth_values, cv_accuracies_by_death_2, label='CV2', c='green')\n",
        "plt.legend();\n",
        "plt.xlabel('max depth')\n",
        "plt.ylabel('Accuracy')\n",
        "plt.title('DT validation curves for max_depth');"
      ],
      "execution_count": 997,
      "outputs": [
        {
          "output_type": "display_data",
          "data": {
            "image/png": "[encoded data removed]",
            "text/plain": [
              "<Figure size 432x288 with 1 Axes>"
            ]
          },
          "metadata": {
            "tags": [],
            "needs_background": "light"
          }
        }
      ]
    },
    {
      "cell_type": "code",
      "metadata": {
        "id": "J78U8Tg027zP",
        "colab_type": "code",
        "colab": {
          "base_uri": "https://localhost:8080/",
          "height": 117,
          "referenced_widgets": [
            "b77cf78e2f814dd2812e18f8436f39db",
            "59a769dcdae74d4288f21ee198eced0c",
            "148af72d1710459f8863b30c8f54f346",
            "94a1908fde7946148bf7f193451b0464",
            "2ad92ce6d7804813ac8a6de715ecdeed",
            "b6b91d428e044fac9409e27026d9ef7d",
            "7d88ae8b17db405f91904541d1958ca5",
            "8ba46fd9877e45248b38289fee3b5c85"
          ]
        },
        "outputId": "ac4a0b79-019f-42f4-a3e1-bd7ce93941bf"
      },
      "source": [
        "cv_accuracies_by_depth, ho_accuracies_by_depth = [], []\n",
        "cv_accuracies_by_death_1, cv_accuracies_by_death_2 = [], []\n",
        "max_depth_values = np.arange(6, 20)\n",
        "\n",
        "# for each value of max depth \n",
        "for curr_max_depth in tqdm_notebook(max_depth_values):\n",
        "    tree = neigh = DecisionTreeClassifier(max_depth=curr_max_depth)\n",
        "\n",
        "    # perform cross-validation (algorithm - KFold)\n",
        "    val_scores = cross_val_score(estimator=tree, X=X_train, y=y_train, cv=skf)\n",
        "    #print(val_scores.shape)\n",
        "    cv_accuracies_by_depth.append(val_scores.mean())\n",
        "\n",
        "    # perfrom cross-validation (algorithm - ShuffleSplit)\n",
        "    val_scores = cross_val_score(estimator=tree, X=X_train, y=y_train, cv=cv)\n",
        "    #print(val_scores.shape)\n",
        "    cv_accuracies_by_death_1.append(val_scores.mean())\n",
        "\n",
        "    # prefrom cross-validation (algorithm - Repeat KFold)\n",
        "\n",
        "    val_scores = cross_val_score(estimator=tree, X=X_train, y=y_train, cv=rskf)\n",
        "    cv_accuracies_by_death_2.append(val_scores.mean())\n",
        "\n",
        "    # assess the model with the holdout set\n",
        "    tree.fit(X_train, y_train)\n",
        "    \n",
        "    cuur_ho_pred = tree.predict(X_holdout)\n",
        "    \n",
        "    ho_accuracies_by_depth.append(accuracy_score(y_holdout, cuur_ho_pred))"
      ],
      "execution_count": 975,
      "outputs": [
        {
          "output_type": "stream",
          "text": [
            "/usr/local/lib/python3.6/dist-packages/ipykernel_launcher.py:6: TqdmDeprecationWarning: This function will be removed in tqdm==5.0.0\n",
            "Please use `tqdm.notebook.tqdm` instead of `tqdm.tqdm_notebook`\n",
            "  \n"
          ],
          "name": "stderr"
        },
        {
          "output_type": "display_data",
          "data": {
            "application/vnd.jupyter.widget-view+json": {
              "model_id": "b77cf78e2f814dd2812e18f8436f39db",
              "version_minor": 0,
              "version_major": 2
            },
            "text/plain": [
              "HBox(children=(IntProgress(value=0, max=14), HTML(value='')))"
            ]
          },
          "metadata": {
            "tags": []
          }
        },
        {
          "output_type": "stream",
          "text": [
            "\n"
          ],
          "name": "stdout"
        }
      ]
    },
    {
      "cell_type": "code",
      "metadata": {
        "id": "ZIEDM43_28gh",
        "colab_type": "code",
        "colab": {
          "base_uri": "https://localhost:8080/",
          "height": 295
        },
        "outputId": "cf4ecc31-a518-4157-bc18-d92076878a04"
      },
      "source": [
        "plt.plot(max_depth_values, cv_accuracies_by_depth, label='CV', c='blue')\n",
        "plt.plot(max_depth_values, ho_accuracies_by_depth, label='holdout', c='orange')\n",
        "plt.plot(max_depth_values, cv_accuracies_by_death_1, label='CV1', c='red')\n",
        "plt.plot(max_depth_values, cv_accuracies_by_death_2, label='CV2', c='green')\n",
        "plt.legend();\n",
        "plt.xlabel('max depth')\n",
        "plt.ylabel('Accuracy')\n",
        "plt.title('DT validation curves for max_depth');"
      ],
      "execution_count": 976,
      "outputs": [
        {
          "output_type": "display_data",
          "data": {
            "image/png": "[encoded data removed]",
            "text/plain": [
              "<Figure size 432x288 with 1 Axes>"
            ]
          },
          "metadata": {
            "tags": [],
            "needs_background": "light"
          }
        }
      ]
    },
    {
      "cell_type": "code",
      "metadata": {
        "id": "44CiwcPL3T2H",
        "colab_type": "code",
        "colab": {
          "base_uri": "https://localhost:8080/",
          "height": 117,
          "referenced_widgets": [
            "1bc874670c3c43eaa5c12de2b69ab429",
            "e76db54659444f21bfaa7909e093774f",
            "7e14ad3555f9424099b8c7b271935c0f",
            "e2ad6bd9879c45ad8415d394b74bbecd",
            "9a1653ccc4d64694a8469a2f51681331",
            "3db50396d9cd498ca239985d70352b18",
            "0a4cda9902df4af19f762b56e2baa317",
            "36d6036da043426cbca49c461d7db307"
          ]
        },
        "outputId": "362e5c5c-f071-41c9-ff4a-dca0357cc8cd"
      },
      "source": [
        "cv_accuracies_by_depth, ho_accuracies_by_depth = [], []\n",
        "cv_accuracies_by_death_1, cv_accuracies_by_death_2 = [], []\n",
        "max_depth_values = np.arange(6, 20)\n",
        "\n",
        "# for each value of max depth \n",
        "for curr_max_depth in tqdm_notebook(max_depth_values):\n",
        "    tree = neigh = RandomForestClassifier(max_depth=curr_max_depth)\n",
        "\n",
        "    # perform cross-validation (algorithm - KFold)\n",
        "    val_scores = cross_val_score(estimator=tree, X=X_train, y=y_train, cv=skf)\n",
        "    #print(val_scores.shape)\n",
        "    cv_accuracies_by_depth.append(val_scores.mean())\n",
        "\n",
        "    # perfrom cross-validation (algorithm - ShuffleSplit)\n",
        "    val_scores = cross_val_score(estimator=tree, X=X_train, y=y_train, cv=cv)\n",
        "    #print(val_scores.shape)\n",
        "    cv_accuracies_by_death_1.append(val_scores.mean())\n",
        "\n",
        "    # prefrom cross-validation (algorithm - Repeat KFold)\n",
        "\n",
        "    val_scores = cross_val_score(estimator=tree, X=X_train, y=y_train, cv=rskf)\n",
        "    cv_accuracies_by_death_2.append(val_scores.mean())\n",
        "\n",
        "    # assess the model with the holdout set\n",
        "    tree.fit(X_train, y_train)\n",
        "    \n",
        "    cuur_ho_pred = tree.predict(X_holdout)\n",
        "    \n",
        "    ho_accuracies_by_depth.append(accuracy_score(y_holdout, cuur_ho_pred))"
      ],
      "execution_count": 977,
      "outputs": [
        {
          "output_type": "stream",
          "text": [
            "/usr/local/lib/python3.6/dist-packages/ipykernel_launcher.py:6: TqdmDeprecationWarning: This function will be removed in tqdm==5.0.0\n",
            "Please use `tqdm.notebook.tqdm` instead of `tqdm.tqdm_notebook`\n",
            "  \n"
          ],
          "name": "stderr"
        },
        {
          "output_type": "display_data",
          "data": {
            "application/vnd.jupyter.widget-view+json": {
              "model_id": "1bc874670c3c43eaa5c12de2b69ab429",
              "version_minor": 0,
              "version_major": 2
            },
            "text/plain": [
              "HBox(children=(IntProgress(value=0, max=14), HTML(value='')))"
            ]
          },
          "metadata": {
            "tags": []
          }
        },
        {
          "output_type": "stream",
          "text": [
            "\n"
          ],
          "name": "stdout"
        }
      ]
    },
    {
      "cell_type": "code",
      "metadata": {
        "id": "IMGSsVvC3VJX",
        "colab_type": "code",
        "colab": {
          "base_uri": "https://localhost:8080/",
          "height": 295
        },
        "outputId": "0f57b62d-7e82-4f7d-9a1d-cadc232d7e12"
      },
      "source": [
        "plt.plot(max_depth_values, cv_accuracies_by_depth, label='CV', c='blue')\n",
        "plt.plot(max_depth_values, ho_accuracies_by_depth, label='holdout', c='orange')\n",
        "plt.plot(max_depth_values, cv_accuracies_by_death_1, label='CV1', c='red')\n",
        "plt.plot(max_depth_values, cv_accuracies_by_death_2, label='CV2', c='green')\n",
        "plt.legend();\n",
        "plt.xlabel('max depth')\n",
        "plt.ylabel('Accuracy')\n",
        "plt.title('DT validation curves for max_depth');"
      ],
      "execution_count": 978,
      "outputs": [
        {
          "output_type": "display_data",
          "data": {
            "image/png": "[encoded data removed]",
            "text/plain": [
              "<Figure size 432x288 with 1 Axes>"
            ]
          },
          "metadata": {
            "tags": [],
            "needs_background": "light"
          }
        }
      ]
    },
    {
      "cell_type": "code",
      "metadata": {
        "id": "egQ9vkMr3BGc",
        "colab_type": "code",
        "colab": {
          "base_uri": "https://localhost:8080/",
          "height": 34
        },
        "outputId": "a554b9e8-cfc2-47cf-8fed-efb00f411561"
      },
      "source": [
        "print(max(cv_accuracies_by_death_1))"
      ],
      "execution_count": 979,
      "outputs": [
        {
          "output_type": "stream",
          "text": [
            "0.19201995012468828\n"
          ],
          "name": "stdout"
        }
      ]
    },
    {
      "cell_type": "code",
      "metadata": {
        "id": "KfcB4-O8mG03",
        "colab_type": "code",
        "colab": {}
      },
      "source": [
        "from sklearn.model_selection import cross_val_score, StratifiedKFold\n",
        "skf = StratifiedKFold(n_splits=2, shuffle=True, random_state=42)"
      ],
      "execution_count": 0,
      "outputs": []
    },
    {
      "cell_type": "code",
      "metadata": {
        "id": "UZIgsYvQmI2a",
        "colab_type": "code",
        "colab": {}
      },
      "source": [
        "from sklearn.model_selection import GridSearchCV\n",
        "from sklearn.neighbors import KNeighborsClassifier\n",
        "rnd_clf = RandomForestClassifier(max_depth=9) \n",
        "dt_clf = DecisionTreeClassifier(random_state=17, max_depth=11)\n",
        "knn_clf = KNeighborsClassifier(n_neighbors=43)\n",
        "voting_clf = VotingClassifier(estimators=[ ('rnd', rnd_clf), ('knn', knn_clf), ('dt', dt_clf)], voting='hard')\n",
        "params = {'max_depth': np.arange(2, 100)}\n",
        "params1 = {'n_neighbors': np.arange(2, 100)}\n",
        "best_neigh = GridSearchCV(estimator=rnd_clf, param_grid=params, scoring='accuracy', cv = cv)\n",
        "best_neigh.fit(X_train, y_train)\n",
        "best_neigh1 = GridSearchCV(estimator=dt_clf, param_grid=params, scoring='accuracy', cv = cv)\n",
        "best_neigh1.fit(X_train, y_train)\n",
        "best_neigh2 = GridSearchCV(estimator=knn_clf, param_grid=params1, scoring='accuracy', cv = cv)\n",
        "best_neigh2.fit(X_train, y_train)\n",
        "rnd_clf = RandomForestClassifier(max_depth=best_neigh.best_params_['max_depth']) \n",
        "dt_clf = DecisionTreeClassifier(random_state=17, max_depth=best_neigh1.best_params_['max_depth'])\n",
        "knn_clf = KNeighborsClassifier(n_neighbors=best_neigh2.best_params_['n_neighbors'])\n",
        "voting_clf = VotingClassifier(estimators=[('rnd', rnd_clf), ('knn', knn_clf), ('dt', dt_clf)], voting='hard')"
      ],
      "execution_count": 0,
      "outputs": []
    },
    {
      "cell_type": "code",
      "metadata": {
        "id": "Y9nDZVGjvxWu",
        "colab_type": "code",
        "colab": {
          "base_uri": "https://localhost:8080/",
          "height": 119
        },
        "outputId": "ecfa2670-dde1-4164-ea1e-45ae1e7e5d6c"
      },
      "source": [
        "print(best_neigh.best_params_)\n",
        "print(best_neigh.best_score_)\n",
        "print(best_neigh1.best_params_)\n",
        "print(best_neigh1.best_score_)\n",
        "print(best_neigh2.best_params_)\n",
        "print(best_neigh2.best_score_)\n",
        "rnd_clf = RandomForestClassifier(max_depth=8, random_state=241) \n",
        "dt_clf = DecisionTreeClassifier(random_state=241, max_depth=7)\n",
        "knn_clf = KNeighborsClassifier(n_neighbors=121)\n",
        "tree = VotingClassifier(estimators=[('rnd', rnd_clf), ('dt', dt_clf), ('knn', knn_clf)], voting='hard')"
      ],
      "execution_count": 982,
      "outputs": [
        {
          "output_type": "stream",
          "text": [
            "{'max_depth': 4}\n",
            "0.19950124688279303\n",
            "{'max_depth': 6}\n",
            "0.18703241895261846\n",
            "{'n_neighbors': 51}\n",
            "0.14713216957605985\n"
          ],
          "name": "stdout"
        }
      ]
    },
    {
      "cell_type": "code",
      "metadata": {
        "id": "ZerD06iBmNfU",
        "colab_type": "code",
        "colab": {
          "base_uri": "https://localhost:8080/",
          "height": 34
        },
        "outputId": "04989ae1-5b66-474a-832d-7ade91f57b39"
      },
      "source": [
        "tree_cv_score = np.mean(cross_val_score(tree, X_train, y_train, cv=cv))\n",
        "print(tree_cv_score)"
      ],
      "execution_count": 983,
      "outputs": [
        {
          "output_type": "stream",
          "text": [
            "0.16957605985037408\n"
          ],
          "name": "stdout"
        }
      ]
    },
    {
      "cell_type": "code",
      "metadata": {
        "id": "vwxTXW-sC5tB",
        "colab_type": "code",
        "colab": {
          "base_uri": "https://localhost:8080/",
          "height": 281
        },
        "outputId": "2b094103-022f-46ba-b7f4-fb6d2e12c61b"
      },
      "source": [
        "cv_scores, holdout_scores = [], []\n",
        "n_neighb = np.arange(1, 20, 1)\n",
        "\n",
        "for k in n_neighb:\n",
        "\n",
        "    tree = DecisionTreeClassifier(random_state=234, max_depth=k)\n",
        "    cv_scores.append(np.mean(cross_val_score(tree, X_train, y_train, cv=skf)))\n",
        "    tree.fit(X_train, y_train)\n",
        "    holdout_scores.append(accuracy_score(y_holdout, tree.predict(X_holdout)))\n",
        "\n",
        "plt.plot(n_neighb, cv_scores, label='CV')\n",
        "plt.plot(n_neighb, holdout_scores, label='holdout')\n",
        "plt.title('Easy task. kNN fails')\n",
        "plt.legend();"
      ],
      "execution_count": 984,
      "outputs": [
        {
          "output_type": "display_data",
          "data": {
            "image/png": "[encoded data removed]",
            "text/plain": [
              "<Figure size 432x288 with 1 Axes>"
            ]
          },
          "metadata": {
            "tags": [],
            "needs_background": "light"
          }
        }
      ]
    },
    {
      "cell_type": "code",
      "metadata": {
        "id": "DkGCzbUYECWO",
        "colab_type": "code",
        "colab": {
          "base_uri": "https://localhost:8080/",
          "height": 34
        },
        "outputId": "6045f8e5-0462-4130-fb58-52bdc0154e66"
      },
      "source": [
        "print(max(cv_scores))"
      ],
      "execution_count": 985,
      "outputs": [
        {
          "output_type": "stream",
          "text": [
            "0.15984015984015984\n"
          ],
          "name": "stdout"
        }
      ]
    },
    {
      "cell_type": "code",
      "metadata": {
        "id": "XPE-fbiJEeuM",
        "colab_type": "code",
        "colab": {
          "base_uri": "https://localhost:8080/",
          "height": 34
        },
        "outputId": "adc6e901-155e-4a17-aca0-3c3579c57341"
      },
      "source": [
        "tree = DecisionTreeClassifier(random_state=17, max_depth=11)\n",
        "tree_cv_score = np.mean(cross_val_score(tree, X_train, y_train, cv=skf))\n",
        "tree.fit(X_train, y_train)\n",
        "tree_holdout_score = accuracy_score(y_holdout, tree.predict(X_holdout))\n",
        "print('Decision tree. CV: {}, holdout: {}'.format(tree_cv_score, tree_holdout_score))"
      ],
      "execution_count": 986,
      "outputs": [
        {
          "output_type": "stream",
          "text": [
            "Decision tree. CV: 0.15784215784215783, holdout: 0.15768463073852296\n"
          ],
          "name": "stdout"
        }
      ]
    },
    {
      "cell_type": "code",
      "metadata": {
        "id": "0y9J9mRmP7wG",
        "colab_type": "code",
        "colab": {}
      },
      "source": [
        "from sklearn.model_selection import train_test_split\n",
        "from sklearn.metrics import confusion_matrix"
      ],
      "execution_count": 0,
      "outputs": []
    },
    {
      "cell_type": "code",
      "metadata": {
        "id": "FJkvFVSAP9JJ",
        "colab_type": "code",
        "colab": {
          "base_uri": "https://localhost:8080/",
          "height": 275
        },
        "outputId": "d411d99d-8df5-4e35-ac62-324aeb26d644"
      },
      "source": [
        "tree = DecisionTreeClassifier(random_state=17, max_depth=11)\n",
        "#print(X_train.shape, y_train.shape)\n",
        "y_pred = cross_val_predict(tree, X_train, y_train, cv = skf)\n",
        "#print(y_train.shape, y_pred.shape)\n",
        "conf_m = confusion_matrix(y_train, y_pred)\n",
        "plt.matshow(conf_m, cmap=plt.cm.gray)\n",
        "plt.show()"
      ],
      "execution_count": 988,
      "outputs": [
        {
          "output_type": "display_data",
          "data": {
            "image/png": "[encoded data removed]",
            "text/plain": [
              "<Figure size 288x288 with 1 Axes>"
            ]
          },
          "metadata": {
            "tags": [],
            "needs_background": "light"
          }
        }
      ]
    },
    {
      "cell_type": "code",
      "metadata": {
        "id": "BYFESOdGTKit",
        "colab_type": "code",
        "colab": {
          "base_uri": "https://localhost:8080/",
          "height": 275
        },
        "outputId": "18409a3c-85e4-472e-b113-0d55f4dba946"
      },
      "source": [
        "row_sums = conf_m.sum(axis=1,keepdims=True)\n",
        "norm_conf_mx = conf_m / row_sums \n",
        "np.fill_diagonal(norm_conf_mx, 0)\n",
        "plt.matshow(conf_m, cmap=plt.cm.gray)\n",
        "plt.show()"
      ],
      "execution_count": 989,
      "outputs": [
        {
          "output_type": "display_data",
          "data": {
            "image/png": "[encoded data removed]",
            "text/plain": [
              "<Figure size 288x288 with 1 Axes>"
            ]
          },
          "metadata": {
            "tags": [],
            "needs_background": "light"
          }
        }
      ]
    },
    {
      "cell_type": "code",
      "metadata": {
        "id": "OSy8F5ucWC6B",
        "colab_type": "code",
        "colab": {}
      },
      "source": [
        "from sklearn.metrics import classification_report"
      ],
      "execution_count": 0,
      "outputs": []
    },
    {
      "cell_type": "code",
      "metadata": {
        "id": "RNzKLqkXWDmk",
        "colab_type": "code",
        "colab": {
          "base_uri": "https://localhost:8080/",
          "height": 320
        },
        "outputId": "468dc402-d6a0-40b1-9c59-0b34aa1ec1df"
      },
      "source": [
        "target_names = ['0', '1', '2', '3', '4']\n",
        "print(classification_report(y_train, y_pred, target_names=target_names))"
      ],
      "execution_count": 991,
      "outputs": [
        {
          "output_type": "error",
          "ename": "ValueError",
          "evalue": "ignored",
          "traceback": [
            "\u001b[0;31m---------------------------------------------------------------------------\u001b[0m",
            "\u001b[0;31mValueError\u001b[0m                                Traceback (most recent call last)",
            "\u001b[0;32m<ipython-input-991-6f491df932bf>\u001b[0m in \u001b[0;36m<module>\u001b[0;34m()\u001b[0m\n\u001b[1;32m      1\u001b[0m \u001b[0mtarget_names\u001b[0m \u001b[0;34m=\u001b[0m \u001b[0;34m[\u001b[0m\u001b[0;34m'0'\u001b[0m\u001b[0;34m,\u001b[0m \u001b[0;34m'1'\u001b[0m\u001b[0;34m,\u001b[0m \u001b[0;34m'2'\u001b[0m\u001b[0;34m,\u001b[0m \u001b[0;34m'3'\u001b[0m\u001b[0;34m,\u001b[0m \u001b[0;34m'4'\u001b[0m\u001b[0;34m]\u001b[0m\u001b[0;34m\u001b[0m\u001b[0;34m\u001b[0m\u001b[0m\n\u001b[0;32m----> 2\u001b[0;31m \u001b[0mprint\u001b[0m\u001b[0;34m(\u001b[0m\u001b[0mclassification_report\u001b[0m\u001b[0;34m(\u001b[0m\u001b[0my_train\u001b[0m\u001b[0;34m,\u001b[0m \u001b[0my_pred\u001b[0m\u001b[0;34m,\u001b[0m \u001b[0mtarget_names\u001b[0m\u001b[0;34m=\u001b[0m\u001b[0mtarget_names\u001b[0m\u001b[0;34m)\u001b[0m\u001b[0;34m)\u001b[0m\u001b[0;34m\u001b[0m\u001b[0;34m\u001b[0m\u001b[0m\n\u001b[0m",
            "\u001b[0;32m/usr/local/lib/python3.6/dist-packages/sklearn/metrics/_classification.py\u001b[0m in \u001b[0;36mclassification_report\u001b[0;34m(y_true, y_pred, labels, target_names, sample_weight, digits, output_dict, zero_division)\u001b[0m\n\u001b[1;32m   1993\u001b[0m                 \u001b[0;34m\"Number of classes, {0}, does not match size of \"\u001b[0m\u001b[0;34m\u001b[0m\u001b[0;34m\u001b[0m\u001b[0m\n\u001b[1;32m   1994\u001b[0m                 \u001b[0;34m\"target_names, {1}. Try specifying the labels \"\u001b[0m\u001b[0;34m\u001b[0m\u001b[0;34m\u001b[0m\u001b[0m\n\u001b[0;32m-> 1995\u001b[0;31m                 \u001b[0;34m\"parameter\"\u001b[0m\u001b[0;34m.\u001b[0m\u001b[0mformat\u001b[0m\u001b[0;34m(\u001b[0m\u001b[0mlen\u001b[0m\u001b[0;34m(\u001b[0m\u001b[0mlabels\u001b[0m\u001b[0;34m)\u001b[0m\u001b[0;34m,\u001b[0m \u001b[0mlen\u001b[0m\u001b[0;34m(\u001b[0m\u001b[0mtarget_names\u001b[0m\u001b[0;34m)\u001b[0m\u001b[0;34m)\u001b[0m\u001b[0;34m\u001b[0m\u001b[0;34m\u001b[0m\u001b[0m\n\u001b[0m\u001b[1;32m   1996\u001b[0m             )\n\u001b[1;32m   1997\u001b[0m     \u001b[0;32mif\u001b[0m \u001b[0mtarget_names\u001b[0m \u001b[0;32mis\u001b[0m \u001b[0;32mNone\u001b[0m\u001b[0;34m:\u001b[0m\u001b[0;34m\u001b[0m\u001b[0;34m\u001b[0m\u001b[0m\n",
            "\u001b[0;31mValueError\u001b[0m: Number of classes, 26, does not match size of target_names, 5. Try specifying the labels parameter"
          ]
        }
      ]
    },
    {
      "cell_type": "code",
      "metadata": {
        "id": "qsgeXXygaU86",
        "colab_type": "code",
        "colab": {
          "base_uri": "https://localhost:8080/",
          "height": 714
        },
        "outputId": "afaf7e1c-11f6-4d03-ff2e-0af4120d92a6"
      },
      "source": [
        "lr_clf = LogisticRegression()\n",
        "rnd_clf = RandomForestClassifier(max_depth=9, random_state=17) \n",
        "dt_clf = DecisionTreeClassifier(random_state=17, max_depth=11)\n",
        "knn_clf = KNeighborsClassifier(n_neighbors=43)\n",
        "rnd_clf.fit(X_train, y_train)\n",
        "lr_clf.fit(X_train, y_train)\n",
        "dt_clf.fit(X_train, y_train)\n",
        "knn_clf.fit(X_train, y_train)\n",
        "voting_clf = VotingClassifier(estimators=[ ('rnd', rnd_clf), ('knn', knn_clf), ('dt', dt_clf)], voting='hard')\n",
        "voting_clf.fit(X_train, y_train)"
      ],
      "execution_count": 992,
      "outputs": [
        {
          "output_type": "stream",
          "text": [
            "/usr/local/lib/python3.6/dist-packages/sklearn/linear_model/_logistic.py:940: ConvergenceWarning: lbfgs failed to converge (status=1):\n",
            "STOP: TOTAL NO. of ITERATIONS REACHED LIMIT.\n",
            "\n",
            "Increase the number of iterations (max_iter) or scale the data as shown in:\n",
            "    https://scikit-learn.org/stable/modules/preprocessing.html\n",
            "Please also refer to the documentation for alternative solver options:\n",
            "    https://scikit-learn.org/stable/modules/linear_model.html#logistic-regression\n",
            "  extra_warning_msg=_LOGISTIC_SOLVER_CONVERGENCE_MSG)\n"
          ],
          "name": "stderr"
        },
        {
          "output_type": "execute_result",
          "data": {
            "text/plain": [
              "VotingClassifier(estimators=[('rnd',\n",
              "                              RandomForestClassifier(bootstrap=True,\n",
              "                                                     ccp_alpha=0.0,\n",
              "                                                     class_weight=None,\n",
              "                                                     criterion='gini',\n",
              "                                                     max_depth=9,\n",
              "                                                     max_features='auto',\n",
              "                                                     max_leaf_nodes=None,\n",
              "                                                     max_samples=None,\n",
              "                                                     min_impurity_decrease=0.0,\n",
              "                                                     min_impurity_split=None,\n",
              "                                                     min_samples_leaf=1,\n",
              "                                                     min_samples_split=2,\n",
              "                                                     min_weight_fraction_leaf=0.0,\n",
              "                                                     n_estimators=100,\n",
              "                                                     n_jobs=None,\n",
              "                                                     oob_score=F...\n",
              "                              DecisionTreeClassifier(ccp_alpha=0.0,\n",
              "                                                     class_weight=None,\n",
              "                                                     criterion='gini',\n",
              "                                                     max_depth=11,\n",
              "                                                     max_features=None,\n",
              "                                                     max_leaf_nodes=None,\n",
              "                                                     min_impurity_decrease=0.0,\n",
              "                                                     min_impurity_split=None,\n",
              "                                                     min_samples_leaf=1,\n",
              "                                                     min_samples_split=2,\n",
              "                                                     min_weight_fraction_leaf=0.0,\n",
              "                                                     presort='deprecated',\n",
              "                                                     random_state=17,\n",
              "                                                     splitter='best'))],\n",
              "                 flatten_transform=True, n_jobs=None, voting='hard',\n",
              "                 weights=None)"
            ]
          },
          "metadata": {
            "tags": []
          },
          "execution_count": 992
        }
      ]
    },
    {
      "cell_type": "code",
      "metadata": {
        "id": "FDmjn8IQbCti",
        "colab_type": "code",
        "colab": {
          "base_uri": "https://localhost:8080/",
          "height": 102
        },
        "outputId": "df96c593-a7d9-4182-ae16-cac431537fe4"
      },
      "source": [
        "y_pred = lr_clf.predict(X_holdout)\n",
        "print(accuracy_score(y_holdout, y_pred))\n",
        "y_pred = rnd_clf.predict(X_holdout)\n",
        "print(accuracy_score(y_holdout, y_pred))\n",
        "y_pred = dt_clf.predict(X_holdout)\n",
        "print(accuracy_score(y_holdout, y_pred))\n",
        "y_pred = knn_clf.predict(X_holdout)\n",
        "print(accuracy_score(y_holdout, y_pred))\n",
        "y_pred = voting_clf.predict(X_holdout)\n",
        "print(accuracy_score(y_holdout, y_pred))"
      ],
      "execution_count": 993,
      "outputs": [
        {
          "output_type": "stream",
          "text": [
            "0.059880239520958084\n",
            "0.1377245508982036\n",
            "0.15768463073852296\n",
            "0.11377245508982035\n",
            "0.13572854291417166\n"
          ],
          "name": "stdout"
        }
      ]
    },
    {
      "cell_type": "code",
      "metadata": {
        "id": "Nhp1zjVOb_z7",
        "colab_type": "code",
        "colab": {
          "base_uri": "https://localhost:8080/",
          "height": 34
        },
        "outputId": "f007b110-2b88-4829-c078-9f2e49eb964a"
      },
      "source": [
        "tree = VotingClassifier(estimators=[('rnd', rnd_clf), ('dt', dt_clf), ('knn', knn_clf)], voting='hard')\n",
        "tree_cv_score = np.mean(cross_val_score(tree, X_train, y_train, cv=cv))\n",
        "tree.fit(X_train, y_train)\n",
        "tree_holdout_score = accuracy_score(y_holdout, tree.predict(X_holdout))\n",
        "print('Voiting. CV: {}, holdout: {}'.format(tree_cv_score, tree_holdout_score))"
      ],
      "execution_count": 994,
      "outputs": [
        {
          "output_type": "stream",
          "text": [
            "Voiting. CV: 0.1745635910224439, holdout: 0.13572854291417166\n"
          ],
          "name": "stdout"
        }
      ]
    },
    {
      "cell_type": "code",
      "metadata": {
        "id": "QnCiCLvbsOWk",
        "colab_type": "code",
        "colab": {
          "base_uri": "https://localhost:8080/",
          "height": 185,
          "referenced_widgets": [
            "ae36d8f969814bf8b5d7caecfdc41239",
            "e6c8ea91d80f4a2992f82c7aace29e74",
            "fde48dfcbc2147739f4469c274cd6a83",
            "f9cada191b624c41ad91a45662ff0d25",
            "3e63a4986ef848caac8f5065034bc94a",
            "5114e848a3da4e9db1dcbccc99054059",
            "2f5b8eb69fa745768d4df523c20a4109",
            "34ba644ddc83493bb85593c021813b06"
          ]
        },
        "outputId": "0ce5950e-c735-4da4-8133-60af5d849001"
      },
      "source": [
        "from sklearn.ensemble import BaggingClassifier\n",
        "temp, temp1 = 0, 0\n",
        "a, b, c = 0, 0, 0\n",
        "a1, b1, c1 = 0, 0, 0\n",
        "for curr_max_depth in tqdm_notebook(np.arange(4, 10)):\n",
        "    for curr_max_depth1 in np.arange(4, 10):\n",
        "        for curr_n_neight in np.arange(50, 90):\n",
        "            rnd_clf = RandomForestClassifier(max_depth=curr_max_depth, random_state=241) \n",
        "            dt_clf = DecisionTreeClassifier(random_state=241, max_depth=curr_max_depth1)\n",
        "            knn_clf = KNeighborsClassifier(n_neighbors=curr_n_neight)\n",
        "            tree = VotingClassifier(estimators=[('rnd', rnd_clf), ('dt', dt_clf), ('knn', knn_clf)], voting='hard')\n",
        "            tree_cv_score = np.mean(cross_val_score(tree, X_train, y_train, cv=cv))\n",
        "            tree.fit(X_train, y_train)\n",
        "            tree_holdout_score = accuracy_score(y_holdout, tree.predict(X_holdout))\n",
        "            if temp < tree_cv_score:\n",
        "                temp = tree_cv_score\n",
        "                a = curr_max_depth\n",
        "                b = curr_max_depth1\n",
        "                c = curr_n_neight\n",
        "            if temp1 < tree_holdout_score:\n",
        "                temp1 = tree_holdout_score\n",
        "                a1 = curr_max_depth\n",
        "                b1 = curr_max_depth1\n",
        "                c1 = curr_n_neight\n",
        "print(temp)\n",
        "print(a, b, c)\n",
        "print(temp1)\n",
        "print(a1, b1, c1)"
      ],
      "execution_count": 1004,
      "outputs": [
        {
          "output_type": "stream",
          "text": [
            "/usr/local/lib/python3.6/dist-packages/ipykernel_launcher.py:5: TqdmDeprecationWarning: This function will be removed in tqdm==5.0.0\n",
            "Please use `tqdm.notebook.tqdm` instead of `tqdm.tqdm_notebook`\n",
            "  \"\"\"\n"
          ],
          "name": "stderr"
        },
        {
          "output_type": "display_data",
          "data": {
            "application/vnd.jupyter.widget-view+json": {
              "model_id": "ae36d8f969814bf8b5d7caecfdc41239",
              "version_minor": 0,
              "version_major": 2
            },
            "text/plain": [
              "HBox(children=(IntProgress(value=0, max=6), HTML(value='')))"
            ]
          },
          "metadata": {
            "tags": []
          }
        },
        {
          "output_type": "stream",
          "text": [
            "\n",
            "0.19451371571072318\n",
            "5 7 64\n",
            "0.1377245508982036\n",
            "9 9 70\n"
          ],
          "name": "stdout"
        }
      ]
    },
    {
      "cell_type": "code",
      "metadata": {
        "id": "8FVZoKKj71Qf",
        "colab_type": "code",
        "colab": {}
      },
      "source": [
        "from sklearn.ensemble import BaggingClassifier\n",
        "dt_clf = RandomForestClassifier(random_state=241, max_depth=8 , n_jobs=-1, max_leaf_nodes=200)\n",
        "#my_clf = BaggingClassifier(dt_clf, n_estimators=300, bootstrap = True, n_jobs=-1, oob_score=True)"
      ],
      "execution_count": 0,
      "outputs": []
    },
    {
      "cell_type": "code",
      "metadata": {
        "id": "zr2QMTje8To1",
        "colab_type": "code",
        "colab": {}
      },
      "source": [
        "print(np.mean(cross_val_score(dt_clf, X_train, y_train, cv=cv)))\n",
        "#print(np.mean(cross_val_score(my_clf, X_train, y_train, cv=cv)))"
      ],
      "execution_count": 0,
      "outputs": []
    },
    {
      "cell_type": "code",
      "metadata": {
        "id": "0EzaZmtwcW5Y",
        "colab_type": "code",
        "colab": {}
      },
      "source": [
        "#print(X_train.shape, y_train.shape)\n",
        "y_pred = cross_val_predict(tree, X_train, y_train, cv = skf)\n",
        "#print(y_train.shape, y_pred.shape)\n",
        "conf_m = confusion_matrix(y_train, y_pred)\n",
        "plt.matshow(conf_m, cmap=plt.cm.gray)\n",
        "plt.show()"
      ],
      "execution_count": 0,
      "outputs": []
    },
    {
      "cell_type": "code",
      "metadata": {
        "id": "YIlODiHycQpH",
        "colab_type": "code",
        "colab": {}
      },
      "source": [
        "target_names = ['0', '1', '2', '3', '4']\n",
        "print(classification_report(y_train, y_pred, target_names=target_names))"
      ],
      "execution_count": 0,
      "outputs": []
    }
  ]
}