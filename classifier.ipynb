{
  "nbformat": 4,
  "nbformat_minor": 0,
  "metadata": {
    "colab": {
      "name": "Untitled15.ipynb",
      "provenance": [],
      "collapsed_sections": [],
      "authorship_tag": "ABX9TyOwSLfhOJDDRvJA4kv4h+Vx",
      "include_colab_link": true
    },
    "kernelspec": {
      "name": "python3",
      "display_name": "Python 3"
    },
    "widgets": {
      "application/vnd.jupyter.widget-state+json": {
        "8595d121f2a242ceb68de42225c2d12f": {
          "model_module": "@jupyter-widgets/controls",
          "model_name": "HBoxModel",
          "state": {
            "_view_name": "HBoxView",
            "_dom_classes": [],
            "_model_name": "HBoxModel",
            "_view_module": "@jupyter-widgets/controls",
            "_model_module_version": "1.5.0",
            "_view_count": null,
            "_view_module_version": "1.5.0",
            "box_style": "",
            "layout": "IPY_MODEL_317e8b62b73b4a288a60e18781c2473d",
            "_model_module": "@jupyter-widgets/controls",
            "children": [
              "IPY_MODEL_40049034b8674284a2f2c66781ed8bf8",
              "IPY_MODEL_4eeb5eec6805427ea0dcf86539430ba6"
            ]
          }
        },
        "317e8b62b73b4a288a60e18781c2473d": {
          "model_module": "@jupyter-widgets/base",
          "model_name": "LayoutModel",
          "state": {
            "_view_name": "LayoutView",
            "grid_template_rows": null,
            "right": null,
            "justify_content": null,
            "_view_module": "@jupyter-widgets/base",
            "overflow": null,
            "_model_module_version": "1.2.0",
            "_view_count": null,
            "flex_flow": null,
            "width": null,
            "min_width": null,
            "border": null,
            "align_items": null,
            "bottom": null,
            "_model_module": "@jupyter-widgets/base",
            "top": null,
            "grid_column": null,
            "overflow_y": null,
            "overflow_x": null,
            "grid_auto_flow": null,
            "grid_area": null,
            "grid_template_columns": null,
            "flex": null,
            "_model_name": "LayoutModel",
            "justify_items": null,
            "grid_row": null,
            "max_height": null,
            "align_content": null,
            "visibility": null,
            "align_self": null,
            "height": null,
            "min_height": null,
            "padding": null,
            "grid_auto_rows": null,
            "grid_gap": null,
            "max_width": null,
            "order": null,
            "_view_module_version": "1.2.0",
            "grid_template_areas": null,
            "object_position": null,
            "object_fit": null,
            "grid_auto_columns": null,
            "margin": null,
            "display": null,
            "left": null
          }
        },
        "40049034b8674284a2f2c66781ed8bf8": {
          "model_module": "@jupyter-widgets/controls",
          "model_name": "IntProgressModel",
          "state": {
            "_view_name": "ProgressView",
            "style": "IPY_MODEL_9244dd90733e4b80bc5ff3c587861942",
            "_dom_classes": [],
            "description": "100%",
            "_model_name": "IntProgressModel",
            "bar_style": "success",
            "max": 50,
            "_view_module": "@jupyter-widgets/controls",
            "_model_module_version": "1.5.0",
            "value": 50,
            "_view_count": null,
            "_view_module_version": "1.5.0",
            "orientation": "horizontal",
            "min": 0,
            "description_tooltip": null,
            "_model_module": "@jupyter-widgets/controls",
            "layout": "IPY_MODEL_b4840bfa5fbe421facd5fec16d3ba883"
          }
        },
        "4eeb5eec6805427ea0dcf86539430ba6": {
          "model_module": "@jupyter-widgets/controls",
          "model_name": "HTMLModel",
          "state": {
            "_view_name": "HTMLView",
            "style": "IPY_MODEL_c2e8759e3a5648fe88936ee508d434d6",
            "_dom_classes": [],
            "description": "",
            "_model_name": "HTMLModel",
            "placeholder": "​",
            "_view_module": "@jupyter-widgets/controls",
            "_model_module_version": "1.5.0",
            "value": " 50/50 [13:13&lt;00:00, 15.87s/it]",
            "_view_count": null,
            "_view_module_version": "1.5.0",
            "description_tooltip": null,
            "_model_module": "@jupyter-widgets/controls",
            "layout": "IPY_MODEL_7665e3de10144c9ca440da3c68a1372c"
          }
        },
        "9244dd90733e4b80bc5ff3c587861942": {
          "model_module": "@jupyter-widgets/controls",
          "model_name": "ProgressStyleModel",
          "state": {
            "_view_name": "StyleView",
            "_model_name": "ProgressStyleModel",
            "description_width": "initial",
            "_view_module": "@jupyter-widgets/base",
            "_model_module_version": "1.5.0",
            "_view_count": null,
            "_view_module_version": "1.2.0",
            "bar_color": null,
            "_model_module": "@jupyter-widgets/controls"
          }
        },
        "b4840bfa5fbe421facd5fec16d3ba883": {
          "model_module": "@jupyter-widgets/base",
          "model_name": "LayoutModel",
          "state": {
            "_view_name": "LayoutView",
            "grid_template_rows": null,
            "right": null,
            "justify_content": null,
            "_view_module": "@jupyter-widgets/base",
            "overflow": null,
            "_model_module_version": "1.2.0",
            "_view_count": null,
            "flex_flow": null,
            "width": null,
            "min_width": null,
            "border": null,
            "align_items": null,
            "bottom": null,
            "_model_module": "@jupyter-widgets/base",
            "top": null,
            "grid_column": null,
            "overflow_y": null,
            "overflow_x": null,
            "grid_auto_flow": null,
            "grid_area": null,
            "grid_template_columns": null,
            "flex": null,
            "_model_name": "LayoutModel",
            "justify_items": null,
            "grid_row": null,
            "max_height": null,
            "align_content": null,
            "visibility": null,
            "align_self": null,
            "height": null,
            "min_height": null,
            "padding": null,
            "grid_auto_rows": null,
            "grid_gap": null,
            "max_width": null,
            "order": null,
            "_view_module_version": "1.2.0",
            "grid_template_areas": null,
            "object_position": null,
            "object_fit": null,
            "grid_auto_columns": null,
            "margin": null,
            "display": null,
            "left": null
          }
        },
        "c2e8759e3a5648fe88936ee508d434d6": {
          "model_module": "@jupyter-widgets/controls",
          "model_name": "DescriptionStyleModel",
          "state": {
            "_view_name": "StyleView",
            "_model_name": "DescriptionStyleModel",
            "description_width": "",
            "_view_module": "@jupyter-widgets/base",
            "_model_module_version": "1.5.0",
            "_view_count": null,
            "_view_module_version": "1.2.0",
            "_model_module": "@jupyter-widgets/controls"
          }
        },
        "7665e3de10144c9ca440da3c68a1372c": {
          "model_module": "@jupyter-widgets/base",
          "model_name": "LayoutModel",
          "state": {
            "_view_name": "LayoutView",
            "grid_template_rows": null,
            "right": null,
            "justify_content": null,
            "_view_module": "@jupyter-widgets/base",
            "overflow": null,
            "_model_module_version": "1.2.0",
            "_view_count": null,
            "flex_flow": null,
            "width": null,
            "min_width": null,
            "border": null,
            "align_items": null,
            "bottom": null,
            "_model_module": "@jupyter-widgets/base",
            "top": null,
            "grid_column": null,
            "overflow_y": null,
            "overflow_x": null,
            "grid_auto_flow": null,
            "grid_area": null,
            "grid_template_columns": null,
            "flex": null,
            "_model_name": "LayoutModel",
            "justify_items": null,
            "grid_row": null,
            "max_height": null,
            "align_content": null,
            "visibility": null,
            "align_self": null,
            "height": null,
            "min_height": null,
            "padding": null,
            "grid_auto_rows": null,
            "grid_gap": null,
            "max_width": null,
            "order": null,
            "_view_module_version": "1.2.0",
            "grid_template_areas": null,
            "object_position": null,
            "object_fit": null,
            "grid_auto_columns": null,
            "margin": null,
            "display": null,
            "left": null
          }
        },
        "a64108ec3b8044aa99fa0fb22909b355": {
          "model_module": "@jupyter-widgets/controls",
          "model_name": "HBoxModel",
          "state": {
            "_view_name": "HBoxView",
            "_dom_classes": [],
            "_model_name": "HBoxModel",
            "_view_module": "@jupyter-widgets/controls",
            "_model_module_version": "1.5.0",
            "_view_count": null,
            "_view_module_version": "1.5.0",
            "box_style": "",
            "layout": "IPY_MODEL_29f2515152524dbb90e15cbd87ce615f",
            "_model_module": "@jupyter-widgets/controls",
            "children": [
              "IPY_MODEL_f80ae99edc864090a3356199786d0379",
              "IPY_MODEL_54c456c18b83470f94b8681bf4d28a28"
            ]
          }
        },
        "29f2515152524dbb90e15cbd87ce615f": {
          "model_module": "@jupyter-widgets/base",
          "model_name": "LayoutModel",
          "state": {
            "_view_name": "LayoutView",
            "grid_template_rows": null,
            "right": null,
            "justify_content": null,
            "_view_module": "@jupyter-widgets/base",
            "overflow": null,
            "_model_module_version": "1.2.0",
            "_view_count": null,
            "flex_flow": null,
            "width": null,
            "min_width": null,
            "border": null,
            "align_items": null,
            "bottom": null,
            "_model_module": "@jupyter-widgets/base",
            "top": null,
            "grid_column": null,
            "overflow_y": null,
            "overflow_x": null,
            "grid_auto_flow": null,
            "grid_area": null,
            "grid_template_columns": null,
            "flex": null,
            "_model_name": "LayoutModel",
            "justify_items": null,
            "grid_row": null,
            "max_height": null,
            "align_content": null,
            "visibility": null,
            "align_self": null,
            "height": null,
            "min_height": null,
            "padding": null,
            "grid_auto_rows": null,
            "grid_gap": null,
            "max_width": null,
            "order": null,
            "_view_module_version": "1.2.0",
            "grid_template_areas": null,
            "object_position": null,
            "object_fit": null,
            "grid_auto_columns": null,
            "margin": null,
            "display": null,
            "left": null
          }
        },
        "f80ae99edc864090a3356199786d0379": {
          "model_module": "@jupyter-widgets/controls",
          "model_name": "IntProgressModel",
          "state": {
            "_view_name": "ProgressView",
            "style": "IPY_MODEL_8d5f15261ed54ea08c766f1cae46b70d",
            "_dom_classes": [],
            "description": "100%",
            "_model_name": "IntProgressModel",
            "bar_style": "success",
            "max": 14,
            "_view_module": "@jupyter-widgets/controls",
            "_model_module_version": "1.5.0",
            "value": 14,
            "_view_count": null,
            "_view_module_version": "1.5.0",
            "orientation": "horizontal",
            "min": 0,
            "description_tooltip": null,
            "_model_module": "@jupyter-widgets/controls",
            "layout": "IPY_MODEL_ea1710fdb4064c03b0c7af36a7bccfa2"
          }
        },
        "54c456c18b83470f94b8681bf4d28a28": {
          "model_module": "@jupyter-widgets/controls",
          "model_name": "HTMLModel",
          "state": {
            "_view_name": "HTMLView",
            "style": "IPY_MODEL_5e21aeced53c43f0b2a0de4871aab3d7",
            "_dom_classes": [],
            "description": "",
            "_model_name": "HTMLModel",
            "placeholder": "​",
            "_view_module": "@jupyter-widgets/controls",
            "_model_module_version": "1.5.0",
            "value": " 14/14 [12:55&lt;00:00, 55.38s/it]",
            "_view_count": null,
            "_view_module_version": "1.5.0",
            "description_tooltip": null,
            "_model_module": "@jupyter-widgets/controls",
            "layout": "IPY_MODEL_eb2264a398234c1e85aacd01f5256f21"
          }
        },
        "8d5f15261ed54ea08c766f1cae46b70d": {
          "model_module": "@jupyter-widgets/controls",
          "model_name": "ProgressStyleModel",
          "state": {
            "_view_name": "StyleView",
            "_model_name": "ProgressStyleModel",
            "description_width": "initial",
            "_view_module": "@jupyter-widgets/base",
            "_model_module_version": "1.5.0",
            "_view_count": null,
            "_view_module_version": "1.2.0",
            "bar_color": null,
            "_model_module": "@jupyter-widgets/controls"
          }
        },
        "ea1710fdb4064c03b0c7af36a7bccfa2": {
          "model_module": "@jupyter-widgets/base",
          "model_name": "LayoutModel",
          "state": {
            "_view_name": "LayoutView",
            "grid_template_rows": null,
            "right": null,
            "justify_content": null,
            "_view_module": "@jupyter-widgets/base",
            "overflow": null,
            "_model_module_version": "1.2.0",
            "_view_count": null,
            "flex_flow": null,
            "width": null,
            "min_width": null,
            "border": null,
            "align_items": null,
            "bottom": null,
            "_model_module": "@jupyter-widgets/base",
            "top": null,
            "grid_column": null,
            "overflow_y": null,
            "overflow_x": null,
            "grid_auto_flow": null,
            "grid_area": null,
            "grid_template_columns": null,
            "flex": null,
            "_model_name": "LayoutModel",
            "justify_items": null,
            "grid_row": null,
            "max_height": null,
            "align_content": null,
            "visibility": null,
            "align_self": null,
            "height": null,
            "min_height": null,
            "padding": null,
            "grid_auto_rows": null,
            "grid_gap": null,
            "max_width": null,
            "order": null,
            "_view_module_version": "1.2.0",
            "grid_template_areas": null,
            "object_position": null,
            "object_fit": null,
            "grid_auto_columns": null,
            "margin": null,
            "display": null,
            "left": null
          }
        },
        "5e21aeced53c43f0b2a0de4871aab3d7": {
          "model_module": "@jupyter-widgets/controls",
          "model_name": "DescriptionStyleModel",
          "state": {
            "_view_name": "StyleView",
            "_model_name": "DescriptionStyleModel",
            "description_width": "",
            "_view_module": "@jupyter-widgets/base",
            "_model_module_version": "1.5.0",
            "_view_count": null,
            "_view_module_version": "1.2.0",
            "_model_module": "@jupyter-widgets/controls"
          }
        },
        "eb2264a398234c1e85aacd01f5256f21": {
          "model_module": "@jupyter-widgets/base",
          "model_name": "LayoutModel",
          "state": {
            "_view_name": "LayoutView",
            "grid_template_rows": null,
            "right": null,
            "justify_content": null,
            "_view_module": "@jupyter-widgets/base",
            "overflow": null,
            "_model_module_version": "1.2.0",
            "_view_count": null,
            "flex_flow": null,
            "width": null,
            "min_width": null,
            "border": null,
            "align_items": null,
            "bottom": null,
            "_model_module": "@jupyter-widgets/base",
            "top": null,
            "grid_column": null,
            "overflow_y": null,
            "overflow_x": null,
            "grid_auto_flow": null,
            "grid_area": null,
            "grid_template_columns": null,
            "flex": null,
            "_model_name": "LayoutModel",
            "justify_items": null,
            "grid_row": null,
            "max_height": null,
            "align_content": null,
            "visibility": null,
            "align_self": null,
            "height": null,
            "min_height": null,
            "padding": null,
            "grid_auto_rows": null,
            "grid_gap": null,
            "max_width": null,
            "order": null,
            "_view_module_version": "1.2.0",
            "grid_template_areas": null,
            "object_position": null,
            "object_fit": null,
            "grid_auto_columns": null,
            "margin": null,
            "display": null,
            "left": null
          }
        },
        "c3078e24c0f24b3cb7b03204b1362112": {
          "model_module": "@jupyter-widgets/controls",
          "model_name": "HBoxModel",
          "state": {
            "_view_name": "HBoxView",
            "_dom_classes": [],
            "_model_name": "HBoxModel",
            "_view_module": "@jupyter-widgets/controls",
            "_model_module_version": "1.5.0",
            "_view_count": null,
            "_view_module_version": "1.5.0",
            "box_style": "",
            "layout": "IPY_MODEL_eeb5cb7f6a804b8a982a3d443ff2d85a",
            "_model_module": "@jupyter-widgets/controls",
            "children": [
              "IPY_MODEL_e38bc07640544f9994c77fc5b50292cc",
              "IPY_MODEL_336068f8985d4ee8ae86ce2805282ff4"
            ]
          }
        },
        "eeb5cb7f6a804b8a982a3d443ff2d85a": {
          "model_module": "@jupyter-widgets/base",
          "model_name": "LayoutModel",
          "state": {
            "_view_name": "LayoutView",
            "grid_template_rows": null,
            "right": null,
            "justify_content": null,
            "_view_module": "@jupyter-widgets/base",
            "overflow": null,
            "_model_module_version": "1.2.0",
            "_view_count": null,
            "flex_flow": null,
            "width": null,
            "min_width": null,
            "border": null,
            "align_items": null,
            "bottom": null,
            "_model_module": "@jupyter-widgets/base",
            "top": null,
            "grid_column": null,
            "overflow_y": null,
            "overflow_x": null,
            "grid_auto_flow": null,
            "grid_area": null,
            "grid_template_columns": null,
            "flex": null,
            "_model_name": "LayoutModel",
            "justify_items": null,
            "grid_row": null,
            "max_height": null,
            "align_content": null,
            "visibility": null,
            "align_self": null,
            "height": null,
            "min_height": null,
            "padding": null,
            "grid_auto_rows": null,
            "grid_gap": null,
            "max_width": null,
            "order": null,
            "_view_module_version": "1.2.0",
            "grid_template_areas": null,
            "object_position": null,
            "object_fit": null,
            "grid_auto_columns": null,
            "margin": null,
            "display": null,
            "left": null
          }
        },
        "e38bc07640544f9994c77fc5b50292cc": {
          "model_module": "@jupyter-widgets/controls",
          "model_name": "IntProgressModel",
          "state": {
            "_view_name": "ProgressView",
            "style": "IPY_MODEL_4ccd299a19a44a82986dbb3cef580fe0",
            "_dom_classes": [],
            "description": "100%",
            "_model_name": "IntProgressModel",
            "bar_style": "success",
            "max": 14,
            "_view_module": "@jupyter-widgets/controls",
            "_model_module_version": "1.5.0",
            "value": 14,
            "_view_count": null,
            "_view_module_version": "1.5.0",
            "orientation": "horizontal",
            "min": 0,
            "description_tooltip": null,
            "_model_module": "@jupyter-widgets/controls",
            "layout": "IPY_MODEL_25945c8e329d4ed09ec1ac5d09c51563"
          }
        },
        "336068f8985d4ee8ae86ce2805282ff4": {
          "model_module": "@jupyter-widgets/controls",
          "model_name": "HTMLModel",
          "state": {
            "_view_name": "HTMLView",
            "style": "IPY_MODEL_6bf9b0a9f5b54df08b0555c33a36af9b",
            "_dom_classes": [],
            "description": "",
            "_model_name": "HTMLModel",
            "placeholder": "​",
            "_view_module": "@jupyter-widgets/controls",
            "_model_module_version": "1.5.0",
            "value": " 14/14 [12:53&lt;00:00, 55.26s/it]",
            "_view_count": null,
            "_view_module_version": "1.5.0",
            "description_tooltip": null,
            "_model_module": "@jupyter-widgets/controls",
            "layout": "IPY_MODEL_fcccf57634964d6789a98cd3d1129352"
          }
        },
        "4ccd299a19a44a82986dbb3cef580fe0": {
          "model_module": "@jupyter-widgets/controls",
          "model_name": "ProgressStyleModel",
          "state": {
            "_view_name": "StyleView",
            "_model_name": "ProgressStyleModel",
            "description_width": "initial",
            "_view_module": "@jupyter-widgets/base",
            "_model_module_version": "1.5.0",
            "_view_count": null,
            "_view_module_version": "1.2.0",
            "bar_color": null,
            "_model_module": "@jupyter-widgets/controls"
          }
        },
        "25945c8e329d4ed09ec1ac5d09c51563": {
          "model_module": "@jupyter-widgets/base",
          "model_name": "LayoutModel",
          "state": {
            "_view_name": "LayoutView",
            "grid_template_rows": null,
            "right": null,
            "justify_content": null,
            "_view_module": "@jupyter-widgets/base",
            "overflow": null,
            "_model_module_version": "1.2.0",
            "_view_count": null,
            "flex_flow": null,
            "width": null,
            "min_width": null,
            "border": null,
            "align_items": null,
            "bottom": null,
            "_model_module": "@jupyter-widgets/base",
            "top": null,
            "grid_column": null,
            "overflow_y": null,
            "overflow_x": null,
            "grid_auto_flow": null,
            "grid_area": null,
            "grid_template_columns": null,
            "flex": null,
            "_model_name": "LayoutModel",
            "justify_items": null,
            "grid_row": null,
            "max_height": null,
            "align_content": null,
            "visibility": null,
            "align_self": null,
            "height": null,
            "min_height": null,
            "padding": null,
            "grid_auto_rows": null,
            "grid_gap": null,
            "max_width": null,
            "order": null,
            "_view_module_version": "1.2.0",
            "grid_template_areas": null,
            "object_position": null,
            "object_fit": null,
            "grid_auto_columns": null,
            "margin": null,
            "display": null,
            "left": null
          }
        },
        "6bf9b0a9f5b54df08b0555c33a36af9b": {
          "model_module": "@jupyter-widgets/controls",
          "model_name": "DescriptionStyleModel",
          "state": {
            "_view_name": "StyleView",
            "_model_name": "DescriptionStyleModel",
            "description_width": "",
            "_view_module": "@jupyter-widgets/base",
            "_model_module_version": "1.5.0",
            "_view_count": null,
            "_view_module_version": "1.2.0",
            "_model_module": "@jupyter-widgets/controls"
          }
        },
        "fcccf57634964d6789a98cd3d1129352": {
          "model_module": "@jupyter-widgets/base",
          "model_name": "LayoutModel",
          "state": {
            "_view_name": "LayoutView",
            "grid_template_rows": null,
            "right": null,
            "justify_content": null,
            "_view_module": "@jupyter-widgets/base",
            "overflow": null,
            "_model_module_version": "1.2.0",
            "_view_count": null,
            "flex_flow": null,
            "width": null,
            "min_width": null,
            "border": null,
            "align_items": null,
            "bottom": null,
            "_model_module": "@jupyter-widgets/base",
            "top": null,
            "grid_column": null,
            "overflow_y": null,
            "overflow_x": null,
            "grid_auto_flow": null,
            "grid_area": null,
            "grid_template_columns": null,
            "flex": null,
            "_model_name": "LayoutModel",
            "justify_items": null,
            "grid_row": null,
            "max_height": null,
            "align_content": null,
            "visibility": null,
            "align_self": null,
            "height": null,
            "min_height": null,
            "padding": null,
            "grid_auto_rows": null,
            "grid_gap": null,
            "max_width": null,
            "order": null,
            "_view_module_version": "1.2.0",
            "grid_template_areas": null,
            "object_position": null,
            "object_fit": null,
            "grid_auto_columns": null,
            "margin": null,
            "display": null,
            "left": null
          }
        },
        "a9a0df893be648318ce6b48807e02b41": {
          "model_module": "@jupyter-widgets/controls",
          "model_name": "HBoxModel",
          "state": {
            "_view_name": "HBoxView",
            "_dom_classes": [],
            "_model_name": "HBoxModel",
            "_view_module": "@jupyter-widgets/controls",
            "_model_module_version": "1.5.0",
            "_view_count": null,
            "_view_module_version": "1.5.0",
            "box_style": "",
            "layout": "IPY_MODEL_d00e03ef716a4b8ebe83033346e19815",
            "_model_module": "@jupyter-widgets/controls",
            "children": [
              "IPY_MODEL_12b1eeb0ad324d1e95927d2fca47fa9d",
              "IPY_MODEL_98f10d1aaa6543f58a2e3f51e418b757"
            ]
          }
        },
        "d00e03ef716a4b8ebe83033346e19815": {
          "model_module": "@jupyter-widgets/base",
          "model_name": "LayoutModel",
          "state": {
            "_view_name": "LayoutView",
            "grid_template_rows": null,
            "right": null,
            "justify_content": null,
            "_view_module": "@jupyter-widgets/base",
            "overflow": null,
            "_model_module_version": "1.2.0",
            "_view_count": null,
            "flex_flow": null,
            "width": null,
            "min_width": null,
            "border": null,
            "align_items": null,
            "bottom": null,
            "_model_module": "@jupyter-widgets/base",
            "top": null,
            "grid_column": null,
            "overflow_y": null,
            "overflow_x": null,
            "grid_auto_flow": null,
            "grid_area": null,
            "grid_template_columns": null,
            "flex": null,
            "_model_name": "LayoutModel",
            "justify_items": null,
            "grid_row": null,
            "max_height": null,
            "align_content": null,
            "visibility": null,
            "align_self": null,
            "height": null,
            "min_height": null,
            "padding": null,
            "grid_auto_rows": null,
            "grid_gap": null,
            "max_width": null,
            "order": null,
            "_view_module_version": "1.2.0",
            "grid_template_areas": null,
            "object_position": null,
            "object_fit": null,
            "grid_auto_columns": null,
            "margin": null,
            "display": null,
            "left": null
          }
        },
        "12b1eeb0ad324d1e95927d2fca47fa9d": {
          "model_module": "@jupyter-widgets/controls",
          "model_name": "IntProgressModel",
          "state": {
            "_view_name": "ProgressView",
            "style": "IPY_MODEL_72cb98466c7948a5b0fdf111f98872b5",
            "_dom_classes": [],
            "description": "100%",
            "_model_name": "IntProgressModel",
            "bar_style": "success",
            "max": 1,
            "_view_module": "@jupyter-widgets/controls",
            "_model_module_version": "1.5.0",
            "value": 1,
            "_view_count": null,
            "_view_module_version": "1.5.0",
            "orientation": "horizontal",
            "min": 0,
            "description_tooltip": null,
            "_model_module": "@jupyter-widgets/controls",
            "layout": "IPY_MODEL_8aeca678bfff4cdd8245b8ae4f8434fe"
          }
        },
        "98f10d1aaa6543f58a2e3f51e418b757": {
          "model_module": "@jupyter-widgets/controls",
          "model_name": "HTMLModel",
          "state": {
            "_view_name": "HTMLView",
            "style": "IPY_MODEL_5a231574bff34b1ba1cc282f9286e355",
            "_dom_classes": [],
            "description": "",
            "_model_name": "HTMLModel",
            "placeholder": "​",
            "_view_module": "@jupyter-widgets/controls",
            "_model_module_version": "1.5.0",
            "value": " 1/1 [00:32&lt;00:00, 32.40s/it]",
            "_view_count": null,
            "_view_module_version": "1.5.0",
            "description_tooltip": null,
            "_model_module": "@jupyter-widgets/controls",
            "layout": "IPY_MODEL_56b2decb58dc49308ab6682339531b38"
          }
        },
        "72cb98466c7948a5b0fdf111f98872b5": {
          "model_module": "@jupyter-widgets/controls",
          "model_name": "ProgressStyleModel",
          "state": {
            "_view_name": "StyleView",
            "_model_name": "ProgressStyleModel",
            "description_width": "initial",
            "_view_module": "@jupyter-widgets/base",
            "_model_module_version": "1.5.0",
            "_view_count": null,
            "_view_module_version": "1.2.0",
            "bar_color": null,
            "_model_module": "@jupyter-widgets/controls"
          }
        },
        "8aeca678bfff4cdd8245b8ae4f8434fe": {
          "model_module": "@jupyter-widgets/base",
          "model_name": "LayoutModel",
          "state": {
            "_view_name": "LayoutView",
            "grid_template_rows": null,
            "right": null,
            "justify_content": null,
            "_view_module": "@jupyter-widgets/base",
            "overflow": null,
            "_model_module_version": "1.2.0",
            "_view_count": null,
            "flex_flow": null,
            "width": null,
            "min_width": null,
            "border": null,
            "align_items": null,
            "bottom": null,
            "_model_module": "@jupyter-widgets/base",
            "top": null,
            "grid_column": null,
            "overflow_y": null,
            "overflow_x": null,
            "grid_auto_flow": null,
            "grid_area": null,
            "grid_template_columns": null,
            "flex": null,
            "_model_name": "LayoutModel",
            "justify_items": null,
            "grid_row": null,
            "max_height": null,
            "align_content": null,
            "visibility": null,
            "align_self": null,
            "height": null,
            "min_height": null,
            "padding": null,
            "grid_auto_rows": null,
            "grid_gap": null,
            "max_width": null,
            "order": null,
            "_view_module_version": "1.2.0",
            "grid_template_areas": null,
            "object_position": null,
            "object_fit": null,
            "grid_auto_columns": null,
            "margin": null,
            "display": null,
            "left": null
          }
        },
        "5a231574bff34b1ba1cc282f9286e355": {
          "model_module": "@jupyter-widgets/controls",
          "model_name": "DescriptionStyleModel",
          "state": {
            "_view_name": "StyleView",
            "_model_name": "DescriptionStyleModel",
            "description_width": "",
            "_view_module": "@jupyter-widgets/base",
            "_model_module_version": "1.5.0",
            "_view_count": null,
            "_view_module_version": "1.2.0",
            "_model_module": "@jupyter-widgets/controls"
          }
        },
        "56b2decb58dc49308ab6682339531b38": {
          "model_module": "@jupyter-widgets/base",
          "model_name": "LayoutModel",
          "state": {
            "_view_name": "LayoutView",
            "grid_template_rows": null,
            "right": null,
            "justify_content": null,
            "_view_module": "@jupyter-widgets/base",
            "overflow": null,
            "_model_module_version": "1.2.0",
            "_view_count": null,
            "flex_flow": null,
            "width": null,
            "min_width": null,
            "border": null,
            "align_items": null,
            "bottom": null,
            "_model_module": "@jupyter-widgets/base",
            "top": null,
            "grid_column": null,
            "overflow_y": null,
            "overflow_x": null,
            "grid_auto_flow": null,
            "grid_area": null,
            "grid_template_columns": null,
            "flex": null,
            "_model_name": "LayoutModel",
            "justify_items": null,
            "grid_row": null,
            "max_height": null,
            "align_content": null,
            "visibility": null,
            "align_self": null,
            "height": null,
            "min_height": null,
            "padding": null,
            "grid_auto_rows": null,
            "grid_gap": null,
            "max_width": null,
            "order": null,
            "_view_module_version": "1.2.0",
            "grid_template_areas": null,
            "object_position": null,
            "object_fit": null,
            "grid_auto_columns": null,
            "margin": null,
            "display": null,
            "left": null
          }
        }
      }
    }
  },
  "cells": [
    {
      "cell_type": "markdown",
      "metadata": {
        "id": "view-in-github",
        "colab_type": "text"
      },
      "source": [
        "<a href=\"https://colab.research.google.com/github/lordoz234/ML/blob/master/classifier.ipynb\" target=\"_parent\"><img src=\"https://colab.research.google.com/assets/colab-badge.svg\" alt=\"Open In Colab\"/></a>"
      ]
    },
    {
      "cell_type": "code",
      "metadata": {
        "id": "aG6b6VCMYoZ5",
        "colab_type": "code",
        "colab": {
          "base_uri": "https://localhost:8080/",
          "height": 34
        },
        "outputId": "248bc9fe-50c1-4a6b-a914-99f268029ff0"
      },
      "source": [
        "from google.colab import drive\n",
        "drive.mount('/content/drive',force_remount=True)"
      ],
      "execution_count": 643,
      "outputs": [
        {
          "output_type": "stream",
          "text": [
            "Mounted at /content/drive\n"
          ],
          "name": "stdout"
        }
      ]
    },
    {
      "cell_type": "code",
      "metadata": {
        "id": "Jzc3LoWpYxAD",
        "colab_type": "code",
        "colab": {}
      },
      "source": [
        "import numpy as np\n",
        "import pandas as pd\n",
        "from matplotlib import pyplot as plt"
      ],
      "execution_count": 0,
      "outputs": []
    },
    {
      "cell_type": "code",
      "metadata": {
        "id": "G9dmUhixZHNb",
        "colab_type": "code",
        "colab": {}
      },
      "source": [
        "data = pd.read_csv('/content/drive/My Drive/files/ku2.csv')"
      ],
      "execution_count": 0,
      "outputs": []
    },
    {
      "cell_type": "code",
      "metadata": {
        "id": "NFyNlSNdZO8k",
        "colab_type": "code",
        "colab": {
          "base_uri": "https://localhost:8080/",
          "height": 357
        },
        "outputId": "e5e1ed27-10b3-45e5-966a-34d9cd89f3b3"
      },
      "source": [
        "data.info()"
      ],
      "execution_count": 646,
      "outputs": [
        {
          "output_type": "stream",
          "text": [
            "<class 'pandas.core.frame.DataFrame'>\n",
            "RangeIndex: 2503 entries, 0 to 2502\n",
            "Data columns (total 13 columns):\n",
            " #   Column                        Non-Null Count  Dtype  \n",
            "---  ------                        --------------  -----  \n",
            " 0   files                         2503 non-null   object \n",
            " 1   is_eulerian                   2503 non-null   bool   \n",
            " 2   degree                        2503 non-null   int64  \n",
            " 3   is_multigraphical             2503 non-null   bool   \n",
            " 4   is_pseudographical            2503 non-null   bool   \n",
            " 5   maximal_matching              2503 non-null   int64  \n",
            " 6   number_of_cliques             2503 non-null   int64  \n",
            " 7   rich_club_coefficient         2503 non-null   float64\n",
            " 8   average_shortest_path_length  2503 non-null   float64\n",
            " 9   s_metric                      2503 non-null   float64\n",
            " 10  wiener_index                  2503 non-null   float64\n",
            " 11  population                    2503 non-null   object \n",
            " 12  super_population              2503 non-null   object \n",
            "dtypes: bool(3), float64(4), int64(3), object(3)\n",
            "memory usage: 203.0+ KB\n"
          ],
          "name": "stdout"
        }
      ]
    },
    {
      "cell_type": "code",
      "metadata": {
        "id": "0ARijWShZ38J",
        "colab_type": "code",
        "colab": {
          "base_uri": "https://localhost:8080/",
          "height": 162
        },
        "outputId": "14f4040a-c6d3-4271-c564-f1d64a7bb138"
      },
      "source": [
        "data.sample(3)"
      ],
      "execution_count": 647,
      "outputs": [
        {
          "output_type": "execute_result",
          "data": {
            "text/html": [
              "<div>\n",
              "<style scoped>\n",
              "    .dataframe tbody tr th:only-of-type {\n",
              "        vertical-align: middle;\n",
              "    }\n",
              "\n",
              "    .dataframe tbody tr th {\n",
              "        vertical-align: top;\n",
              "    }\n",
              "\n",
              "    .dataframe thead th {\n",
              "        text-align: right;\n",
              "    }\n",
              "</style>\n",
              "<table border=\"1\" class=\"dataframe\">\n",
              "  <thead>\n",
              "    <tr style=\"text-align: right;\">\n",
              "      <th></th>\n",
              "      <th>files</th>\n",
              "      <th>is_eulerian</th>\n",
              "      <th>degree</th>\n",
              "      <th>is_multigraphical</th>\n",
              "      <th>is_pseudographical</th>\n",
              "      <th>maximal_matching</th>\n",
              "      <th>number_of_cliques</th>\n",
              "      <th>rich_club_coefficient</th>\n",
              "      <th>average_shortest_path_length</th>\n",
              "      <th>s_metric</th>\n",
              "      <th>wiener_index</th>\n",
              "      <th>population</th>\n",
              "      <th>super_population</th>\n",
              "    </tr>\n",
              "  </thead>\n",
              "  <tbody>\n",
              "    <tr>\n",
              "      <th>1627</th>\n",
              "      <td>NA19093.txt</td>\n",
              "      <td>False</td>\n",
              "      <td>716</td>\n",
              "      <td>True</td>\n",
              "      <td>True</td>\n",
              "      <td>18</td>\n",
              "      <td>691</td>\n",
              "      <td>0.028566</td>\n",
              "      <td>1.971434</td>\n",
              "      <td>46376100.0</td>\n",
              "      <td>469980.0</td>\n",
              "      <td>YRI</td>\n",
              "      <td>AFR</td>\n",
              "    </tr>\n",
              "    <tr>\n",
              "      <th>389</th>\n",
              "      <td>HG01613.txt</td>\n",
              "      <td>False</td>\n",
              "      <td>714</td>\n",
              "      <td>True</td>\n",
              "      <td>True</td>\n",
              "      <td>13</td>\n",
              "      <td>665</td>\n",
              "      <td>0.008995</td>\n",
              "      <td>1.991005</td>\n",
              "      <td>3944196.0</td>\n",
              "      <td>439574.0</td>\n",
              "      <td>IBS</td>\n",
              "      <td>EUR</td>\n",
              "    </tr>\n",
              "    <tr>\n",
              "      <th>419</th>\n",
              "      <td>NA18644.txt</td>\n",
              "      <td>True</td>\n",
              "      <td>716</td>\n",
              "      <td>False</td>\n",
              "      <td>False</td>\n",
              "      <td>18</td>\n",
              "      <td>652</td>\n",
              "      <td>0.030251</td>\n",
              "      <td>1.969749</td>\n",
              "      <td>41216400.0</td>\n",
              "      <td>418032.0</td>\n",
              "      <td>CHB</td>\n",
              "      <td>EAS</td>\n",
              "    </tr>\n",
              "  </tbody>\n",
              "</table>\n",
              "</div>"
            ],
            "text/plain": [
              "            files  is_eulerian  ...  population  super_population\n",
              "1627  NA19093.txt        False  ...         YRI               AFR\n",
              "389   HG01613.txt        False  ...         IBS               EUR\n",
              "419   NA18644.txt         True  ...         CHB               EAS\n",
              "\n",
              "[3 rows x 13 columns]"
            ]
          },
          "metadata": {
            "tags": []
          },
          "execution_count": 647
        }
      ]
    },
    {
      "cell_type": "code",
      "metadata": {
        "id": "Hhdv2M1gZR2J",
        "colab_type": "code",
        "colab": {}
      },
      "source": [
        "data['is_eulerian'] = data['is_eulerian'].map({True: 1, False: 0})\n",
        "data['is_multigraphical'] = data['is_multigraphical'].map({True: 1, False: 0})\n",
        "data['is_pseudographical'] = data['is_pseudographical'].map({True: 1, False: 0})"
      ],
      "execution_count": 0,
      "outputs": []
    },
    {
      "cell_type": "code",
      "metadata": {
        "id": "WoeSZJBdZtDt",
        "colab_type": "code",
        "colab": {
          "base_uri": "https://localhost:8080/",
          "height": 162
        },
        "outputId": "b48e6c9e-826d-4906-a445-66ad8c84f0e0"
      },
      "source": [
        "data.sample(3)"
      ],
      "execution_count": 649,
      "outputs": [
        {
          "output_type": "execute_result",
          "data": {
            "text/html": [
              "<div>\n",
              "<style scoped>\n",
              "    .dataframe tbody tr th:only-of-type {\n",
              "        vertical-align: middle;\n",
              "    }\n",
              "\n",
              "    .dataframe tbody tr th {\n",
              "        vertical-align: top;\n",
              "    }\n",
              "\n",
              "    .dataframe thead th {\n",
              "        text-align: right;\n",
              "    }\n",
              "</style>\n",
              "<table border=\"1\" class=\"dataframe\">\n",
              "  <thead>\n",
              "    <tr style=\"text-align: right;\">\n",
              "      <th></th>\n",
              "      <th>files</th>\n",
              "      <th>is_eulerian</th>\n",
              "      <th>degree</th>\n",
              "      <th>is_multigraphical</th>\n",
              "      <th>is_pseudographical</th>\n",
              "      <th>maximal_matching</th>\n",
              "      <th>number_of_cliques</th>\n",
              "      <th>rich_club_coefficient</th>\n",
              "      <th>average_shortest_path_length</th>\n",
              "      <th>s_metric</th>\n",
              "      <th>wiener_index</th>\n",
              "      <th>population</th>\n",
              "      <th>super_population</th>\n",
              "    </tr>\n",
              "  </thead>\n",
              "  <tbody>\n",
              "    <tr>\n",
              "      <th>2049</th>\n",
              "      <td>NA19023.txt</td>\n",
              "      <td>1</td>\n",
              "      <td>715</td>\n",
              "      <td>1</td>\n",
              "      <td>1</td>\n",
              "      <td>18</td>\n",
              "      <td>688</td>\n",
              "      <td>0.028689</td>\n",
              "      <td>1.971311</td>\n",
              "      <td>45968400.0</td>\n",
              "      <td>465876.0</td>\n",
              "      <td>LWK</td>\n",
              "      <td>AFR</td>\n",
              "    </tr>\n",
              "    <tr>\n",
              "      <th>330</th>\n",
              "      <td>NA21115.txt</td>\n",
              "      <td>1</td>\n",
              "      <td>710</td>\n",
              "      <td>0</td>\n",
              "      <td>0</td>\n",
              "      <td>18</td>\n",
              "      <td>642</td>\n",
              "      <td>0.024650</td>\n",
              "      <td>1.975350</td>\n",
              "      <td>25725184.0</td>\n",
              "      <td>406450.0</td>\n",
              "      <td>GIH</td>\n",
              "      <td>SAS</td>\n",
              "    </tr>\n",
              "    <tr>\n",
              "      <th>2102</th>\n",
              "      <td>HG02138.txt</td>\n",
              "      <td>1</td>\n",
              "      <td>716</td>\n",
              "      <td>0</td>\n",
              "      <td>0</td>\n",
              "      <td>20</td>\n",
              "      <td>650</td>\n",
              "      <td>0.030343</td>\n",
              "      <td>1.969657</td>\n",
              "      <td>40960000.0</td>\n",
              "      <td>415450.0</td>\n",
              "      <td>KHV</td>\n",
              "      <td>EAS</td>\n",
              "    </tr>\n",
              "  </tbody>\n",
              "</table>\n",
              "</div>"
            ],
            "text/plain": [
              "            files  is_eulerian  ...  population  super_population\n",
              "2049  NA19023.txt            1  ...         LWK               AFR\n",
              "330   NA21115.txt            1  ...         GIH               SAS\n",
              "2102  HG02138.txt            1  ...         KHV               EAS\n",
              "\n",
              "[3 rows x 13 columns]"
            ]
          },
          "metadata": {
            "tags": []
          },
          "execution_count": 649
        }
      ]
    },
    {
      "cell_type": "code",
      "metadata": {
        "id": "F9UYFKQha8nk",
        "colab_type": "code",
        "colab": {}
      },
      "source": [
        "data['population'] = data['population'].map({'ASW': 1, 'YRI': 2, 'LWK': 3, 'JPT': 4, 'CDX': 5, 'CEU': 6, 'CHB': 7, 'GIH': 8, 'GWD': 9, 'MSL': 10, 'IBS': 11, \n",
        "                                             'TSI': 12, 'PJL': 13, 'ESN': 14, 'MXL': 15, 'CLM': 16, 'PEL': 17, 'CHS': 18, 'PUR': 19, 'FIN': 20, 'KHV': 21,\n",
        "                                             'BEB': 22, 'ACB': 23, 'ITU': 24, 'GBR': 25, 'STU': 26})\n",
        "data['super_population'] = data['super_population'].map({'EUR': 1, 'EAS': 2, 'AMR': 3, 'SAS': 4, 'AFR': 5})"
      ],
      "execution_count": 0,
      "outputs": []
    },
    {
      "cell_type": "code",
      "metadata": {
        "id": "gIR1ydVRXuRs",
        "colab_type": "code",
        "colab": {
          "base_uri": "https://localhost:8080/",
          "height": 906
        },
        "outputId": "14ecafbe-7839-48ae-9dd0-64f1bc6dac73"
      },
      "source": [
        "data.set_index([\"super_population\", \"population\"]).count(level=\"population\")"
      ],
      "execution_count": 651,
      "outputs": [
        {
          "output_type": "execute_result",
          "data": {
            "text/html": [
              "<div>\n",
              "<style scoped>\n",
              "    .dataframe tbody tr th:only-of-type {\n",
              "        vertical-align: middle;\n",
              "    }\n",
              "\n",
              "    .dataframe tbody tr th {\n",
              "        vertical-align: top;\n",
              "    }\n",
              "\n",
              "    .dataframe thead th {\n",
              "        text-align: right;\n",
              "    }\n",
              "</style>\n",
              "<table border=\"1\" class=\"dataframe\">\n",
              "  <thead>\n",
              "    <tr style=\"text-align: right;\">\n",
              "      <th></th>\n",
              "      <th>files</th>\n",
              "      <th>is_eulerian</th>\n",
              "      <th>degree</th>\n",
              "      <th>is_multigraphical</th>\n",
              "      <th>is_pseudographical</th>\n",
              "      <th>maximal_matching</th>\n",
              "      <th>number_of_cliques</th>\n",
              "      <th>rich_club_coefficient</th>\n",
              "      <th>average_shortest_path_length</th>\n",
              "      <th>s_metric</th>\n",
              "      <th>wiener_index</th>\n",
              "    </tr>\n",
              "    <tr>\n",
              "      <th>population</th>\n",
              "      <th></th>\n",
              "      <th></th>\n",
              "      <th></th>\n",
              "      <th></th>\n",
              "      <th></th>\n",
              "      <th></th>\n",
              "      <th></th>\n",
              "      <th></th>\n",
              "      <th></th>\n",
              "      <th></th>\n",
              "      <th></th>\n",
              "    </tr>\n",
              "  </thead>\n",
              "  <tbody>\n",
              "    <tr>\n",
              "      <th>1</th>\n",
              "      <td>61</td>\n",
              "      <td>61</td>\n",
              "      <td>61</td>\n",
              "      <td>61</td>\n",
              "      <td>61</td>\n",
              "      <td>61</td>\n",
              "      <td>61</td>\n",
              "      <td>61</td>\n",
              "      <td>61</td>\n",
              "      <td>61</td>\n",
              "      <td>61</td>\n",
              "    </tr>\n",
              "    <tr>\n",
              "      <th>2</th>\n",
              "      <td>107</td>\n",
              "      <td>107</td>\n",
              "      <td>107</td>\n",
              "      <td>107</td>\n",
              "      <td>107</td>\n",
              "      <td>107</td>\n",
              "      <td>107</td>\n",
              "      <td>107</td>\n",
              "      <td>107</td>\n",
              "      <td>107</td>\n",
              "      <td>107</td>\n",
              "    </tr>\n",
              "    <tr>\n",
              "      <th>3</th>\n",
              "      <td>99</td>\n",
              "      <td>99</td>\n",
              "      <td>99</td>\n",
              "      <td>99</td>\n",
              "      <td>99</td>\n",
              "      <td>99</td>\n",
              "      <td>99</td>\n",
              "      <td>99</td>\n",
              "      <td>99</td>\n",
              "      <td>99</td>\n",
              "      <td>99</td>\n",
              "    </tr>\n",
              "    <tr>\n",
              "      <th>4</th>\n",
              "      <td>104</td>\n",
              "      <td>104</td>\n",
              "      <td>104</td>\n",
              "      <td>104</td>\n",
              "      <td>104</td>\n",
              "      <td>104</td>\n",
              "      <td>104</td>\n",
              "      <td>104</td>\n",
              "      <td>104</td>\n",
              "      <td>104</td>\n",
              "      <td>104</td>\n",
              "    </tr>\n",
              "    <tr>\n",
              "      <th>5</th>\n",
              "      <td>93</td>\n",
              "      <td>93</td>\n",
              "      <td>93</td>\n",
              "      <td>93</td>\n",
              "      <td>93</td>\n",
              "      <td>93</td>\n",
              "      <td>93</td>\n",
              "      <td>93</td>\n",
              "      <td>93</td>\n",
              "      <td>93</td>\n",
              "      <td>93</td>\n",
              "    </tr>\n",
              "    <tr>\n",
              "      <th>6</th>\n",
              "      <td>99</td>\n",
              "      <td>99</td>\n",
              "      <td>99</td>\n",
              "      <td>99</td>\n",
              "      <td>99</td>\n",
              "      <td>99</td>\n",
              "      <td>99</td>\n",
              "      <td>99</td>\n",
              "      <td>99</td>\n",
              "      <td>99</td>\n",
              "      <td>99</td>\n",
              "    </tr>\n",
              "    <tr>\n",
              "      <th>7</th>\n",
              "      <td>103</td>\n",
              "      <td>103</td>\n",
              "      <td>103</td>\n",
              "      <td>103</td>\n",
              "      <td>103</td>\n",
              "      <td>103</td>\n",
              "      <td>103</td>\n",
              "      <td>103</td>\n",
              "      <td>103</td>\n",
              "      <td>103</td>\n",
              "      <td>103</td>\n",
              "    </tr>\n",
              "    <tr>\n",
              "      <th>8</th>\n",
              "      <td>103</td>\n",
              "      <td>103</td>\n",
              "      <td>103</td>\n",
              "      <td>103</td>\n",
              "      <td>103</td>\n",
              "      <td>103</td>\n",
              "      <td>103</td>\n",
              "      <td>103</td>\n",
              "      <td>103</td>\n",
              "      <td>103</td>\n",
              "      <td>103</td>\n",
              "    </tr>\n",
              "    <tr>\n",
              "      <th>9</th>\n",
              "      <td>113</td>\n",
              "      <td>113</td>\n",
              "      <td>113</td>\n",
              "      <td>113</td>\n",
              "      <td>113</td>\n",
              "      <td>113</td>\n",
              "      <td>113</td>\n",
              "      <td>113</td>\n",
              "      <td>113</td>\n",
              "      <td>113</td>\n",
              "      <td>113</td>\n",
              "    </tr>\n",
              "    <tr>\n",
              "      <th>10</th>\n",
              "      <td>85</td>\n",
              "      <td>85</td>\n",
              "      <td>85</td>\n",
              "      <td>85</td>\n",
              "      <td>85</td>\n",
              "      <td>85</td>\n",
              "      <td>85</td>\n",
              "      <td>85</td>\n",
              "      <td>85</td>\n",
              "      <td>85</td>\n",
              "      <td>85</td>\n",
              "    </tr>\n",
              "    <tr>\n",
              "      <th>11</th>\n",
              "      <td>107</td>\n",
              "      <td>107</td>\n",
              "      <td>107</td>\n",
              "      <td>107</td>\n",
              "      <td>107</td>\n",
              "      <td>107</td>\n",
              "      <td>107</td>\n",
              "      <td>107</td>\n",
              "      <td>107</td>\n",
              "      <td>107</td>\n",
              "      <td>107</td>\n",
              "    </tr>\n",
              "    <tr>\n",
              "      <th>12</th>\n",
              "      <td>107</td>\n",
              "      <td>107</td>\n",
              "      <td>107</td>\n",
              "      <td>107</td>\n",
              "      <td>107</td>\n",
              "      <td>107</td>\n",
              "      <td>107</td>\n",
              "      <td>107</td>\n",
              "      <td>107</td>\n",
              "      <td>107</td>\n",
              "      <td>107</td>\n",
              "    </tr>\n",
              "    <tr>\n",
              "      <th>13</th>\n",
              "      <td>96</td>\n",
              "      <td>96</td>\n",
              "      <td>96</td>\n",
              "      <td>96</td>\n",
              "      <td>96</td>\n",
              "      <td>96</td>\n",
              "      <td>96</td>\n",
              "      <td>96</td>\n",
              "      <td>96</td>\n",
              "      <td>96</td>\n",
              "      <td>96</td>\n",
              "    </tr>\n",
              "    <tr>\n",
              "      <th>14</th>\n",
              "      <td>99</td>\n",
              "      <td>99</td>\n",
              "      <td>99</td>\n",
              "      <td>99</td>\n",
              "      <td>99</td>\n",
              "      <td>99</td>\n",
              "      <td>99</td>\n",
              "      <td>99</td>\n",
              "      <td>99</td>\n",
              "      <td>99</td>\n",
              "      <td>99</td>\n",
              "    </tr>\n",
              "    <tr>\n",
              "      <th>15</th>\n",
              "      <td>64</td>\n",
              "      <td>64</td>\n",
              "      <td>64</td>\n",
              "      <td>64</td>\n",
              "      <td>64</td>\n",
              "      <td>64</td>\n",
              "      <td>64</td>\n",
              "      <td>64</td>\n",
              "      <td>64</td>\n",
              "      <td>64</td>\n",
              "      <td>64</td>\n",
              "    </tr>\n",
              "    <tr>\n",
              "      <th>16</th>\n",
              "      <td>94</td>\n",
              "      <td>94</td>\n",
              "      <td>94</td>\n",
              "      <td>94</td>\n",
              "      <td>94</td>\n",
              "      <td>94</td>\n",
              "      <td>94</td>\n",
              "      <td>94</td>\n",
              "      <td>94</td>\n",
              "      <td>94</td>\n",
              "      <td>94</td>\n",
              "    </tr>\n",
              "    <tr>\n",
              "      <th>17</th>\n",
              "      <td>85</td>\n",
              "      <td>85</td>\n",
              "      <td>85</td>\n",
              "      <td>85</td>\n",
              "      <td>85</td>\n",
              "      <td>85</td>\n",
              "      <td>85</td>\n",
              "      <td>85</td>\n",
              "      <td>85</td>\n",
              "      <td>85</td>\n",
              "      <td>85</td>\n",
              "    </tr>\n",
              "    <tr>\n",
              "      <th>18</th>\n",
              "      <td>105</td>\n",
              "      <td>105</td>\n",
              "      <td>105</td>\n",
              "      <td>105</td>\n",
              "      <td>105</td>\n",
              "      <td>105</td>\n",
              "      <td>105</td>\n",
              "      <td>105</td>\n",
              "      <td>105</td>\n",
              "      <td>105</td>\n",
              "      <td>105</td>\n",
              "    </tr>\n",
              "    <tr>\n",
              "      <th>19</th>\n",
              "      <td>104</td>\n",
              "      <td>104</td>\n",
              "      <td>104</td>\n",
              "      <td>104</td>\n",
              "      <td>104</td>\n",
              "      <td>104</td>\n",
              "      <td>104</td>\n",
              "      <td>104</td>\n",
              "      <td>104</td>\n",
              "      <td>104</td>\n",
              "      <td>104</td>\n",
              "    </tr>\n",
              "    <tr>\n",
              "      <th>20</th>\n",
              "      <td>99</td>\n",
              "      <td>99</td>\n",
              "      <td>99</td>\n",
              "      <td>99</td>\n",
              "      <td>99</td>\n",
              "      <td>99</td>\n",
              "      <td>99</td>\n",
              "      <td>99</td>\n",
              "      <td>99</td>\n",
              "      <td>99</td>\n",
              "      <td>99</td>\n",
              "    </tr>\n",
              "    <tr>\n",
              "      <th>21</th>\n",
              "      <td>99</td>\n",
              "      <td>99</td>\n",
              "      <td>99</td>\n",
              "      <td>99</td>\n",
              "      <td>99</td>\n",
              "      <td>99</td>\n",
              "      <td>99</td>\n",
              "      <td>99</td>\n",
              "      <td>99</td>\n",
              "      <td>99</td>\n",
              "      <td>99</td>\n",
              "    </tr>\n",
              "    <tr>\n",
              "      <th>22</th>\n",
              "      <td>86</td>\n",
              "      <td>86</td>\n",
              "      <td>86</td>\n",
              "      <td>86</td>\n",
              "      <td>86</td>\n",
              "      <td>86</td>\n",
              "      <td>86</td>\n",
              "      <td>86</td>\n",
              "      <td>86</td>\n",
              "      <td>86</td>\n",
              "      <td>86</td>\n",
              "    </tr>\n",
              "    <tr>\n",
              "      <th>23</th>\n",
              "      <td>96</td>\n",
              "      <td>96</td>\n",
              "      <td>96</td>\n",
              "      <td>96</td>\n",
              "      <td>96</td>\n",
              "      <td>96</td>\n",
              "      <td>96</td>\n",
              "      <td>96</td>\n",
              "      <td>96</td>\n",
              "      <td>96</td>\n",
              "      <td>96</td>\n",
              "    </tr>\n",
              "    <tr>\n",
              "      <th>24</th>\n",
              "      <td>102</td>\n",
              "      <td>102</td>\n",
              "      <td>102</td>\n",
              "      <td>102</td>\n",
              "      <td>102</td>\n",
              "      <td>102</td>\n",
              "      <td>102</td>\n",
              "      <td>102</td>\n",
              "      <td>102</td>\n",
              "      <td>102</td>\n",
              "      <td>102</td>\n",
              "    </tr>\n",
              "    <tr>\n",
              "      <th>25</th>\n",
              "      <td>91</td>\n",
              "      <td>91</td>\n",
              "      <td>91</td>\n",
              "      <td>91</td>\n",
              "      <td>91</td>\n",
              "      <td>91</td>\n",
              "      <td>91</td>\n",
              "      <td>91</td>\n",
              "      <td>91</td>\n",
              "      <td>91</td>\n",
              "      <td>91</td>\n",
              "    </tr>\n",
              "    <tr>\n",
              "      <th>26</th>\n",
              "      <td>102</td>\n",
              "      <td>102</td>\n",
              "      <td>102</td>\n",
              "      <td>102</td>\n",
              "      <td>102</td>\n",
              "      <td>102</td>\n",
              "      <td>102</td>\n",
              "      <td>102</td>\n",
              "      <td>102</td>\n",
              "      <td>102</td>\n",
              "      <td>102</td>\n",
              "    </tr>\n",
              "  </tbody>\n",
              "</table>\n",
              "</div>"
            ],
            "text/plain": [
              "            files  is_eulerian  ...  s_metric  wiener_index\n",
              "population                      ...                        \n",
              "1              61           61  ...        61            61\n",
              "2             107          107  ...       107           107\n",
              "3              99           99  ...        99            99\n",
              "4             104          104  ...       104           104\n",
              "5              93           93  ...        93            93\n",
              "6              99           99  ...        99            99\n",
              "7             103          103  ...       103           103\n",
              "8             103          103  ...       103           103\n",
              "9             113          113  ...       113           113\n",
              "10             85           85  ...        85            85\n",
              "11            107          107  ...       107           107\n",
              "12            107          107  ...       107           107\n",
              "13             96           96  ...        96            96\n",
              "14             99           99  ...        99            99\n",
              "15             64           64  ...        64            64\n",
              "16             94           94  ...        94            94\n",
              "17             85           85  ...        85            85\n",
              "18            105          105  ...       105           105\n",
              "19            104          104  ...       104           104\n",
              "20             99           99  ...        99            99\n",
              "21             99           99  ...        99            99\n",
              "22             86           86  ...        86            86\n",
              "23             96           96  ...        96            96\n",
              "24            102          102  ...       102           102\n",
              "25             91           91  ...        91            91\n",
              "26            102          102  ...       102           102\n",
              "\n",
              "[26 rows x 11 columns]"
            ]
          },
          "metadata": {
            "tags": []
          },
          "execution_count": 651
        }
      ]
    },
    {
      "cell_type": "code",
      "metadata": {
        "id": "1SkmXKO6eniA",
        "colab_type": "code",
        "colab": {
          "base_uri": "https://localhost:8080/",
          "height": 162
        },
        "outputId": "e037774e-8318-4ff6-e014-2becd470aa9f"
      },
      "source": [
        "data.sample(3)"
      ],
      "execution_count": 652,
      "outputs": [
        {
          "output_type": "execute_result",
          "data": {
            "text/html": [
              "<div>\n",
              "<style scoped>\n",
              "    .dataframe tbody tr th:only-of-type {\n",
              "        vertical-align: middle;\n",
              "    }\n",
              "\n",
              "    .dataframe tbody tr th {\n",
              "        vertical-align: top;\n",
              "    }\n",
              "\n",
              "    .dataframe thead th {\n",
              "        text-align: right;\n",
              "    }\n",
              "</style>\n",
              "<table border=\"1\" class=\"dataframe\">\n",
              "  <thead>\n",
              "    <tr style=\"text-align: right;\">\n",
              "      <th></th>\n",
              "      <th>files</th>\n",
              "      <th>is_eulerian</th>\n",
              "      <th>degree</th>\n",
              "      <th>is_multigraphical</th>\n",
              "      <th>is_pseudographical</th>\n",
              "      <th>maximal_matching</th>\n",
              "      <th>number_of_cliques</th>\n",
              "      <th>rich_club_coefficient</th>\n",
              "      <th>average_shortest_path_length</th>\n",
              "      <th>s_metric</th>\n",
              "      <th>wiener_index</th>\n",
              "      <th>population</th>\n",
              "      <th>super_population</th>\n",
              "    </tr>\n",
              "  </thead>\n",
              "  <tbody>\n",
              "    <tr>\n",
              "      <th>1149</th>\n",
              "      <td>HG03640.txt</td>\n",
              "      <td>0</td>\n",
              "      <td>709</td>\n",
              "      <td>1</td>\n",
              "      <td>1</td>\n",
              "      <td>653</td>\n",
              "      <td>668</td>\n",
              "      <td>0.026623</td>\n",
              "      <td>1.973377</td>\n",
              "      <td>35176761.0</td>\n",
              "      <td>439625.0</td>\n",
              "      <td>13</td>\n",
              "      <td>4</td>\n",
              "    </tr>\n",
              "    <tr>\n",
              "      <th>1394</th>\n",
              "      <td>HG01870.txt</td>\n",
              "      <td>0</td>\n",
              "      <td>716</td>\n",
              "      <td>0</td>\n",
              "      <td>0</td>\n",
              "      <td>653</td>\n",
              "      <td>659</td>\n",
              "      <td>0.026982</td>\n",
              "      <td>1.973018</td>\n",
              "      <td>34222500.0</td>\n",
              "      <td>427772.0</td>\n",
              "      <td>21</td>\n",
              "      <td>2</td>\n",
              "    </tr>\n",
              "    <tr>\n",
              "      <th>424</th>\n",
              "      <td>HG00653.txt</td>\n",
              "      <td>0</td>\n",
              "      <td>716</td>\n",
              "      <td>0</td>\n",
              "      <td>0</td>\n",
              "      <td>18</td>\n",
              "      <td>641</td>\n",
              "      <td>0.024688</td>\n",
              "      <td>1.975312</td>\n",
              "      <td>25644096.0</td>\n",
              "      <td>405176.0</td>\n",
              "      <td>18</td>\n",
              "      <td>2</td>\n",
              "    </tr>\n",
              "  </tbody>\n",
              "</table>\n",
              "</div>"
            ],
            "text/plain": [
              "            files  is_eulerian  ...  population  super_population\n",
              "1149  HG03640.txt            0  ...          13                 4\n",
              "1394  HG01870.txt            0  ...          21                 2\n",
              "424   HG00653.txt            0  ...          18                 2\n",
              "\n",
              "[3 rows x 13 columns]"
            ]
          },
          "metadata": {
            "tags": []
          },
          "execution_count": 652
        }
      ]
    },
    {
      "cell_type": "code",
      "metadata": {
        "id": "XNTVphazhHCL",
        "colab_type": "code",
        "colab": {
          "base_uri": "https://localhost:8080/",
          "height": 357
        },
        "outputId": "85e9e679-9a85-4851-e79d-a610eb4117d2"
      },
      "source": [
        "data.info()"
      ],
      "execution_count": 653,
      "outputs": [
        {
          "output_type": "stream",
          "text": [
            "<class 'pandas.core.frame.DataFrame'>\n",
            "RangeIndex: 2503 entries, 0 to 2502\n",
            "Data columns (total 13 columns):\n",
            " #   Column                        Non-Null Count  Dtype  \n",
            "---  ------                        --------------  -----  \n",
            " 0   files                         2503 non-null   object \n",
            " 1   is_eulerian                   2503 non-null   int64  \n",
            " 2   degree                        2503 non-null   int64  \n",
            " 3   is_multigraphical             2503 non-null   int64  \n",
            " 4   is_pseudographical            2503 non-null   int64  \n",
            " 5   maximal_matching              2503 non-null   int64  \n",
            " 6   number_of_cliques             2503 non-null   int64  \n",
            " 7   rich_club_coefficient         2503 non-null   float64\n",
            " 8   average_shortest_path_length  2503 non-null   float64\n",
            " 9   s_metric                      2503 non-null   float64\n",
            " 10  wiener_index                  2503 non-null   float64\n",
            " 11  population                    2503 non-null   int64  \n",
            " 12  super_population              2503 non-null   int64  \n",
            "dtypes: float64(4), int64(8), object(1)\n",
            "memory usage: 254.3+ KB\n"
          ],
          "name": "stdout"
        }
      ]
    },
    {
      "cell_type": "code",
      "metadata": {
        "id": "6iH3vU0NhXIE",
        "colab_type": "code",
        "colab": {}
      },
      "source": [
        "from sklearn.preprocessing import StandardScaler\n",
        "scaler = StandardScaler()\n",
        "X, y = data.drop(['population','files', 'super_population'], axis = 1), data['super_population']"
      ],
      "execution_count": 0,
      "outputs": []
    },
    {
      "cell_type": "code",
      "metadata": {
        "id": "smOIAAXVh2QC",
        "colab_type": "code",
        "colab": {
          "base_uri": "https://localhost:8080/",
          "height": 34
        },
        "outputId": "72c107d9-4a2a-4f03-caff-1e24cfa8468f"
      },
      "source": [
        "X.shape, y.shape"
      ],
      "execution_count": 655,
      "outputs": [
        {
          "output_type": "execute_result",
          "data": {
            "text/plain": [
              "((2503, 10), (2503,))"
            ]
          },
          "metadata": {
            "tags": []
          },
          "execution_count": 655
        }
      ]
    },
    {
      "cell_type": "code",
      "metadata": {
        "id": "s_6HwQa4h6GQ",
        "colab_type": "code",
        "colab": {}
      },
      "source": [
        "from sklearn.model_selection import train_test_split"
      ],
      "execution_count": 0,
      "outputs": []
    },
    {
      "cell_type": "code",
      "metadata": {
        "id": "HuHakslGh7yl",
        "colab_type": "code",
        "colab": {}
      },
      "source": [
        "X_train, X_holdout,  y_train, y_holdout = \\\n",
        "    train_test_split(X, y, test_size=.2, random_state=251)\n",
        "#X_train = scaler.fit_transform(X_train)"
      ],
      "execution_count": 0,
      "outputs": []
    },
    {
      "cell_type": "code",
      "metadata": {
        "id": "A_m0MQY5h8qL",
        "colab_type": "code",
        "colab": {}
      },
      "source": [
        "from sklearn import preprocessing\n",
        "#X_train = preprocessing.scale(X_train, axis=0)"
      ],
      "execution_count": 0,
      "outputs": []
    },
    {
      "cell_type": "code",
      "metadata": {
        "id": "3lt36a3th-6A",
        "colab_type": "code",
        "colab": {
          "base_uri": "https://localhost:8080/",
          "height": 34
        },
        "outputId": "19f5a8af-60cc-43ad-e0aa-23bc549e5a9c"
      },
      "source": [
        "X_train.shape, X_holdout.shape"
      ],
      "execution_count": 659,
      "outputs": [
        {
          "output_type": "execute_result",
          "data": {
            "text/plain": [
              "((2002, 10), (501, 10))"
            ]
          },
          "metadata": {
            "tags": []
          },
          "execution_count": 659
        }
      ]
    },
    {
      "cell_type": "code",
      "metadata": {
        "id": "FcvpVVCQiAYj",
        "colab_type": "code",
        "colab": {}
      },
      "source": [
        "from sklearn.tree import DecisionTreeClassifier"
      ],
      "execution_count": 0,
      "outputs": []
    },
    {
      "cell_type": "code",
      "metadata": {
        "id": "Y1HySs02iBvJ",
        "colab_type": "code",
        "colab": {}
      },
      "source": [
        "tree_clf = DecisionTreeClassifier(random_state=241)"
      ],
      "execution_count": 0,
      "outputs": []
    },
    {
      "cell_type": "code",
      "metadata": {
        "id": "_XamGBuWiDOu",
        "colab_type": "code",
        "colab": {
          "base_uri": "https://localhost:8080/",
          "height": 119
        },
        "outputId": "2a29c244-b7a8-4b3e-f151-eb58f168378f"
      },
      "source": [
        "tree_clf.fit(X_train, y_train)"
      ],
      "execution_count": 662,
      "outputs": [
        {
          "output_type": "execute_result",
          "data": {
            "text/plain": [
              "DecisionTreeClassifier(ccp_alpha=0.0, class_weight=None, criterion='gini',\n",
              "                       max_depth=None, max_features=None, max_leaf_nodes=None,\n",
              "                       min_impurity_decrease=0.0, min_impurity_split=None,\n",
              "                       min_samples_leaf=1, min_samples_split=2,\n",
              "                       min_weight_fraction_leaf=0.0, presort='deprecated',\n",
              "                       random_state=241, splitter='best')"
            ]
          },
          "metadata": {
            "tags": []
          },
          "execution_count": 662
        }
      ]
    },
    {
      "cell_type": "code",
      "metadata": {
        "id": "wokiaKimllo8",
        "colab_type": "code",
        "colab": {}
      },
      "source": [
        "from sklearn.model_selection import cross_val_score, StratifiedKFold, ShuffleSplit, RepeatedKFold, cross_val_predict\n",
        "from sklearn.metrics import accuracy_score\n",
        "from sklearn.neighbors import KNeighborsClassifier\n",
        "from sklearn.linear_model import Ridge\n",
        "from sklearn.ensemble import RandomForestRegressor\n",
        "from sklearn.svm import SVC\n",
        "from sklearn.linear_model import SGDClassifier\n",
        "from sklearn.multiclass import OneVsOneClassifier\n",
        "from sklearn.pipeline import Pipeline\n",
        "from sklearn.ensemble import VotingClassifier\n",
        "from sklearn.ensemble import RandomForestClassifier\n",
        "from sklearn.linear_model import LogisticRegression"
      ],
      "execution_count": 0,
      "outputs": []
    },
    {
      "cell_type": "code",
      "metadata": {
        "id": "PJTTz3F8loMT",
        "colab_type": "code",
        "colab": {}
      },
      "source": [
        "from tqdm import tqdm_notebook"
      ],
      "execution_count": 0,
      "outputs": []
    },
    {
      "cell_type": "code",
      "metadata": {
        "id": "gXeZ08TVlqCp",
        "colab_type": "code",
        "colab": {}
      },
      "source": [
        "skf = StratifiedKFold(n_splits=2, shuffle=True, random_state=241)\n",
        "cv = ShuffleSplit(n_splits=1, test_size=0.2, random_state=241)\n",
        "rskf = RepeatedKFold(n_splits=2, n_repeats=3, random_state=241)"
      ],
      "execution_count": 0,
      "outputs": []
    },
    {
      "cell_type": "code",
      "metadata": {
        "id": "Q8bbjS3DlsY_",
        "colab_type": "code",
        "colab": {
          "base_uri": "https://localhost:8080/",
          "height": 117,
          "referenced_widgets": [
            "8595d121f2a242ceb68de42225c2d12f",
            "317e8b62b73b4a288a60e18781c2473d",
            "40049034b8674284a2f2c66781ed8bf8",
            "4eeb5eec6805427ea0dcf86539430ba6",
            "9244dd90733e4b80bc5ff3c587861942",
            "b4840bfa5fbe421facd5fec16d3ba883",
            "c2e8759e3a5648fe88936ee508d434d6",
            "7665e3de10144c9ca440da3c68a1372c"
          ]
        },
        "outputId": "75c4edb9-9c0f-463f-95de-1e7d223337b9"
      },
      "source": [
        "cv_accuracies_by_depth, ho_accuracies_by_depth = [], []\n",
        "cv_accuracies_by_death_1, cv_accuracies_by_death_2 = [], []\n",
        "max_depth_values = np.arange(2, 52)\n",
        "\n",
        "# for each value of max depth \n",
        "for curr_max_depth in tqdm_notebook(max_depth_values):\n",
        "    tree = neigh = KNeighborsClassifier(n_neighbors=curr_max_depth)\n",
        "\n",
        "    # perform cross-validation (algorithm - KFold)\n",
        "    val_scores = cross_val_score(estimator=tree, X=X_train, y=y_train, cv=skf)\n",
        "    #print(val_scores.shape)\n",
        "    cv_accuracies_by_depth.append(val_scores.mean())\n",
        "\n",
        "    # perfrom cross-validation (algorithm - ShuffleSplit)\n",
        "    val_scores = cross_val_score(estimator=tree, X=X_train, y=y_train, cv=cv)\n",
        "    #print(val_scores.shape)\n",
        "    cv_accuracies_by_death_1.append(val_scores.mean())\n",
        "\n",
        "    # prefrom cross-validation (algorithm - Repeat KFold)\n",
        "\n",
        "    val_scores = cross_val_score(estimator=tree, X=X_train, y=y_train, cv=rskf)\n",
        "    cv_accuracies_by_death_2.append(val_scores.mean())\n",
        "\n",
        "    # assess the model with the holdout set\n",
        "    tree.fit(X_train, y_train)\n",
        "    \n",
        "    cuur_ho_pred = tree.predict(X_holdout)\n",
        "    \n",
        "    ho_accuracies_by_depth.append(accuracy_score(y_holdout, cuur_ho_pred))"
      ],
      "execution_count": 666,
      "outputs": [
        {
          "output_type": "stream",
          "text": [
            "/usr/local/lib/python3.6/dist-packages/ipykernel_launcher.py:6: TqdmDeprecationWarning: This function will be removed in tqdm==5.0.0\n",
            "Please use `tqdm.notebook.tqdm` instead of `tqdm.tqdm_notebook`\n",
            "  \n"
          ],
          "name": "stderr"
        },
        {
          "output_type": "display_data",
          "data": {
            "application/vnd.jupyter.widget-view+json": {
              "model_id": "8595d121f2a242ceb68de42225c2d12f",
              "version_minor": 0,
              "version_major": 2
            },
            "text/plain": [
              "HBox(children=(IntProgress(value=0, max=50), HTML(value='')))"
            ]
          },
          "metadata": {
            "tags": []
          }
        },
        {
          "output_type": "stream",
          "text": [
            "\n"
          ],
          "name": "stdout"
        }
      ]
    },
    {
      "cell_type": "code",
      "metadata": {
        "id": "8Bun2amDlue0",
        "colab_type": "code",
        "colab": {
          "base_uri": "https://localhost:8080/",
          "height": 295
        },
        "outputId": "b3238d7c-7412-4af5-b37f-38a17a00c36b"
      },
      "source": [
        "plt.plot(max_depth_values, cv_accuracies_by_depth, label='CV', c='blue')\n",
        "plt.plot(max_depth_values, ho_accuracies_by_depth, label='holdout', c='orange')\n",
        "plt.plot(max_depth_values, cv_accuracies_by_death_1, label='CV1', c='red')\n",
        "plt.plot(max_depth_values, cv_accuracies_by_death_2, label='CV2', c='green')\n",
        "plt.legend();\n",
        "plt.xlabel('max depth')\n",
        "plt.ylabel('Accuracy')\n",
        "plt.title('DT validation curves for max_depth');"
      ],
      "execution_count": 667,
      "outputs": [
        {
          "output_type": "display_data",
          "data": {
            "image/png": "[encoded data removed]",
            "text/plain": [
              "<Figure size 432x288 with 1 Axes>"
            ]
          },
          "metadata": {
            "tags": [],
            "needs_background": "light"
          }
        }
      ]
    },
    {
      "cell_type": "code",
      "metadata": {
        "id": "J78U8Tg027zP",
        "colab_type": "code",
        "colab": {
          "base_uri": "https://localhost:8080/",
          "height": 117,
          "referenced_widgets": [
            "a64108ec3b8044aa99fa0fb22909b355",
            "29f2515152524dbb90e15cbd87ce615f",
            "f80ae99edc864090a3356199786d0379",
            "54c456c18b83470f94b8681bf4d28a28",
            "8d5f15261ed54ea08c766f1cae46b70d",
            "ea1710fdb4064c03b0c7af36a7bccfa2",
            "5e21aeced53c43f0b2a0de4871aab3d7",
            "eb2264a398234c1e85aacd01f5256f21"
          ]
        },
        "outputId": "7553e4b7-f50e-47c9-a9db-6d2020b6a13f"
      },
      "source": [
        "cv_accuracies_by_depth, ho_accuracies_by_depth = [], []\n",
        "cv_accuracies_by_death_1, cv_accuracies_by_death_2 = [], []\n",
        "max_depth_values = np.arange(6, 20)\n",
        "\n",
        "# for each value of max depth \n",
        "for curr_max_depth in tqdm_notebook(max_depth_values):\n",
        "    tree = neigh = DecisionTreeClassifier(max_depth=curr_max_depth)\n",
        "\n",
        "    # perform cross-validation (algorithm - KFold)\n",
        "    val_scores = cross_val_score(estimator=tree, X=X_train, y=y_train, cv=skf)\n",
        "    #print(val_scores.shape)\n",
        "    cv_accuracies_by_depth.append(val_scores.mean())\n",
        "\n",
        "    # perfrom cross-validation (algorithm - ShuffleSplit)\n",
        "    val_scores = cross_val_score(estimator=tree, X=X_train, y=y_train, cv=cv)\n",
        "    #print(val_scores.shape)\n",
        "    cv_accuracies_by_death_1.append(val_scores.mean())\n",
        "\n",
        "    # prefrom cross-validation (algorithm - Repeat KFold)\n",
        "\n",
        "    val_scores = cross_val_score(estimator=tree, X=X_train, y=y_train, cv=rskf)\n",
        "    cv_accuracies_by_death_2.append(val_scores.mean())\n",
        "\n",
        "    # assess the model with the holdout set\n",
        "    tree.fit(X_train, y_train)\n",
        "    \n",
        "    cuur_ho_pred = tree.predict(X_holdout)\n",
        "    \n",
        "    ho_accuracies_by_depth.append(accuracy_score(y_holdout, cuur_ho_pred))"
      ],
      "execution_count": 668,
      "outputs": [
        {
          "output_type": "stream",
          "text": [
            "/usr/local/lib/python3.6/dist-packages/ipykernel_launcher.py:6: TqdmDeprecationWarning: This function will be removed in tqdm==5.0.0\n",
            "Please use `tqdm.notebook.tqdm` instead of `tqdm.tqdm_notebook`\n",
            "  \n"
          ],
          "name": "stderr"
        },
        {
          "output_type": "display_data",
          "data": {
            "application/vnd.jupyter.widget-view+json": {
              "model_id": "a64108ec3b8044aa99fa0fb22909b355",
              "version_minor": 0,
              "version_major": 2
            },
            "text/plain": [
              "HBox(children=(IntProgress(value=0, max=14), HTML(value='')))"
            ]
          },
          "metadata": {
            "tags": []
          }
        },
        {
          "output_type": "stream",
          "text": [
            "\n"
          ],
          "name": "stdout"
        }
      ]
    },
    {
      "cell_type": "code",
      "metadata": {
        "id": "ZIEDM43_28gh",
        "colab_type": "code",
        "colab": {
          "base_uri": "https://localhost:8080/",
          "height": 295
        },
        "outputId": "0426e17a-a2c3-4239-e978-e3b3261fdaac"
      },
      "source": [
        "plt.plot(max_depth_values, cv_accuracies_by_depth, label='CV', c='blue')\n",
        "plt.plot(max_depth_values, ho_accuracies_by_depth, label='holdout', c='orange')\n",
        "plt.plot(max_depth_values, cv_accuracies_by_death_1, label='CV1', c='red')\n",
        "plt.plot(max_depth_values, cv_accuracies_by_death_2, label='CV2', c='green')\n",
        "plt.legend();\n",
        "plt.xlabel('max depth')\n",
        "plt.ylabel('Accuracy')\n",
        "plt.title('DT validation curves for max_depth');"
      ],
      "execution_count": 669,
      "outputs": [
        {
          "output_type": "display_data",
          "data": {
            "image/png": "[encoded data removed]",
            "text/plain": [
              "<Figure size 432x288 with 1 Axes>"
            ]
          },
          "metadata": {
            "tags": [],
            "needs_background": "light"
          }
        }
      ]
    },
    {
      "cell_type": "code",
      "metadata": {
        "id": "44CiwcPL3T2H",
        "colab_type": "code",
        "colab": {
          "base_uri": "https://localhost:8080/",
          "height": 117,
          "referenced_widgets": [
            "c3078e24c0f24b3cb7b03204b1362112",
            "eeb5cb7f6a804b8a982a3d443ff2d85a",
            "e38bc07640544f9994c77fc5b50292cc",
            "336068f8985d4ee8ae86ce2805282ff4",
            "4ccd299a19a44a82986dbb3cef580fe0",
            "25945c8e329d4ed09ec1ac5d09c51563",
            "6bf9b0a9f5b54df08b0555c33a36af9b",
            "fcccf57634964d6789a98cd3d1129352"
          ]
        },
        "outputId": "81400222-fc48-4cfc-cf9a-0651207bb57a"
      },
      "source": [
        "cv_accuracies_by_depth, ho_accuracies_by_depth = [], []\n",
        "cv_accuracies_by_death_1, cv_accuracies_by_death_2 = [], []\n",
        "max_depth_values = np.arange(6, 20)\n",
        "\n",
        "# for each value of max depth \n",
        "for curr_max_depth in tqdm_notebook(max_depth_values):\n",
        "    tree = neigh = RandomForestClassifier(max_depth=curr_max_depth)\n",
        "\n",
        "    # perform cross-validation (algorithm - KFold)\n",
        "    val_scores = cross_val_score(estimator=tree, X=X_train, y=y_train, cv=skf)\n",
        "    #print(val_scores.shape)\n",
        "    cv_accuracies_by_depth.append(val_scores.mean())\n",
        "\n",
        "    # perfrom cross-validation (algorithm - ShuffleSplit)\n",
        "    val_scores = cross_val_score(estimator=tree, X=X_train, y=y_train, cv=cv)\n",
        "    #print(val_scores.shape)\n",
        "    cv_accuracies_by_death_1.append(val_scores.mean())\n",
        "\n",
        "    # prefrom cross-validation (algorithm - Repeat KFold)\n",
        "\n",
        "    val_scores = cross_val_score(estimator=tree, X=X_train, y=y_train, cv=rskf)\n",
        "    cv_accuracies_by_death_2.append(val_scores.mean())\n",
        "\n",
        "    # assess the model with the holdout set\n",
        "    tree.fit(X_train, y_train)\n",
        "    \n",
        "    cuur_ho_pred = tree.predict(X_holdout)\n",
        "    \n",
        "    ho_accuracies_by_depth.append(accuracy_score(y_holdout, cuur_ho_pred))"
      ],
      "execution_count": 670,
      "outputs": [
        {
          "output_type": "stream",
          "text": [
            "/usr/local/lib/python3.6/dist-packages/ipykernel_launcher.py:6: TqdmDeprecationWarning: This function will be removed in tqdm==5.0.0\n",
            "Please use `tqdm.notebook.tqdm` instead of `tqdm.tqdm_notebook`\n",
            "  \n"
          ],
          "name": "stderr"
        },
        {
          "output_type": "display_data",
          "data": {
            "application/vnd.jupyter.widget-view+json": {
              "model_id": "c3078e24c0f24b3cb7b03204b1362112",
              "version_minor": 0,
              "version_major": 2
            },
            "text/plain": [
              "HBox(children=(IntProgress(value=0, max=14), HTML(value='')))"
            ]
          },
          "metadata": {
            "tags": []
          }
        },
        {
          "output_type": "stream",
          "text": [
            "\n"
          ],
          "name": "stdout"
        }
      ]
    },
    {
      "cell_type": "code",
      "metadata": {
        "id": "IMGSsVvC3VJX",
        "colab_type": "code",
        "colab": {
          "base_uri": "https://localhost:8080/",
          "height": 295
        },
        "outputId": "4002ee08-14c7-4208-862a-3f312c19f6d2"
      },
      "source": [
        "plt.plot(max_depth_values, cv_accuracies_by_depth, label='CV', c='blue')\n",
        "plt.plot(max_depth_values, ho_accuracies_by_depth, label='holdout', c='orange')\n",
        "plt.plot(max_depth_values, cv_accuracies_by_death_1, label='CV1', c='red')\n",
        "plt.plot(max_depth_values, cv_accuracies_by_death_2, label='CV2', c='green')\n",
        "plt.legend();\n",
        "plt.xlabel('max depth')\n",
        "plt.ylabel('Accuracy')\n",
        "plt.title('DT validation curves for max_depth');"
      ],
      "execution_count": 671,
      "outputs": [
        {
          "output_type": "display_data",
          "data": {
            "image/png": "[encoded data removed]",
            "text/plain": [
              "<Figure size 432x288 with 1 Axes>"
            ]
          },
          "metadata": {
            "tags": [],
            "needs_background": "light"
          }
        }
      ]
    },
    {
      "cell_type": "code",
      "metadata": {
        "id": "egQ9vkMr3BGc",
        "colab_type": "code",
        "colab": {
          "base_uri": "https://localhost:8080/",
          "height": 34
        },
        "outputId": "fcf84666-aaa6-4faa-b822-900f8db8fba1"
      },
      "source": [
        "print(max(cv_accuracies_by_death_1))"
      ],
      "execution_count": 672,
      "outputs": [
        {
          "output_type": "stream",
          "text": [
            "0.6583541147132169\n"
          ],
          "name": "stdout"
        }
      ]
    },
    {
      "cell_type": "code",
      "metadata": {
        "id": "KfcB4-O8mG03",
        "colab_type": "code",
        "colab": {}
      },
      "source": [
        "from sklearn.model_selection import cross_val_score, StratifiedKFold\n",
        "skf = StratifiedKFold(n_splits=2, shuffle=True, random_state=42)"
      ],
      "execution_count": 0,
      "outputs": []
    },
    {
      "cell_type": "code",
      "metadata": {
        "id": "UZIgsYvQmI2a",
        "colab_type": "code",
        "colab": {}
      },
      "source": [
        "from sklearn.model_selection import GridSearchCV\n",
        "from sklearn.neighbors import KNeighborsClassifier\n",
        "rnd_clf = RandomForestClassifier(max_depth=9) \n",
        "dt_clf = DecisionTreeClassifier(random_state=17, max_depth=11)\n",
        "knn_clf = KNeighborsClassifier(n_neighbors=43)\n",
        "voting_clf = VotingClassifier(estimators=[ ('rnd', rnd_clf), ('knn', knn_clf), ('dt', dt_clf)], voting='hard')\n",
        "params = {'max_depth': np.arange(2, 100)}\n",
        "params1 = {'n_neighbors': np.arange(2, 100)}\n",
        "best_neigh = GridSearchCV(estimator=rnd_clf, param_grid=params, scoring='accuracy', cv = cv)\n",
        "best_neigh.fit(X_train, y_train)\n",
        "best_neigh1 = GridSearchCV(estimator=dt_clf, param_grid=params, scoring='accuracy', cv = cv)\n",
        "best_neigh1.fit(X_train, y_train)\n",
        "best_neigh2 = GridSearchCV(estimator=knn_clf, param_grid=params1, scoring='accuracy', cv = cv)\n",
        "best_neigh2.fit(X_train, y_train)\n",
        "rnd_clf = RandomForestClassifier(max_depth=best_neigh.best_params_['max_depth']) \n",
        "dt_clf = DecisionTreeClassifier(random_state=17, max_depth=best_neigh1.best_params_['max_depth'])\n",
        "knn_clf = KNeighborsClassifier(n_neighbors=best_neigh2.best_params_['n_neighbors'])\n",
        "voting_clf = VotingClassifier(estimators=[('rnd', rnd_clf), ('knn', knn_clf), ('dt', dt_clf)], voting='hard')"
      ],
      "execution_count": 0,
      "outputs": []
    },
    {
      "cell_type": "code",
      "metadata": {
        "id": "Y9nDZVGjvxWu",
        "colab_type": "code",
        "colab": {
          "base_uri": "https://localhost:8080/",
          "height": 119
        },
        "outputId": "16cee41b-9d43-4ac7-b26c-c184e2c240df"
      },
      "source": [
        "print(best_neigh.best_params_)\n",
        "print(best_neigh.best_score_)\n",
        "print(best_neigh1.best_params_)\n",
        "print(best_neigh1.best_score_)\n",
        "print(best_neigh2.best_params_)\n",
        "print(best_neigh2.best_score_)\n",
        "rnd_clf = RandomForestClassifier(max_depth=8, random_state=241) \n",
        "dt_clf = DecisionTreeClassifier(random_state=241, max_depth=7)\n",
        "knn_clf = KNeighborsClassifier(n_neighbors=121)\n",
        "tree = VotingClassifier(estimators=[('rnd', rnd_clf), ('dt', dt_clf), ('knn', knn_clf)], voting='hard')"
      ],
      "execution_count": 675,
      "outputs": [
        {
          "output_type": "stream",
          "text": [
            "{'max_depth': 8}\n",
            "0.6658354114713217\n",
            "{'max_depth': 7}\n",
            "0.6334164588528678\n",
            "{'n_neighbors': 3}\n",
            "0.5461346633416458\n"
          ],
          "name": "stdout"
        }
      ]
    },
    {
      "cell_type": "code",
      "metadata": {
        "id": "ZerD06iBmNfU",
        "colab_type": "code",
        "colab": {
          "base_uri": "https://localhost:8080/",
          "height": 34
        },
        "outputId": "7fd91bbf-c6ae-4dbb-98a7-dc0df93b6e42"
      },
      "source": [
        "tree_cv_score = np.mean(cross_val_score(tree, X_train, y_train, cv=cv))\n",
        "print(tree_cv_score)"
      ],
      "execution_count": 676,
      "outputs": [
        {
          "output_type": "stream",
          "text": [
            "0.6783042394014963\n"
          ],
          "name": "stdout"
        }
      ]
    },
    {
      "cell_type": "code",
      "metadata": {
        "id": "vwxTXW-sC5tB",
        "colab_type": "code",
        "colab": {
          "base_uri": "https://localhost:8080/",
          "height": 281
        },
        "outputId": "1258e424-ed50-4584-9181-d0eea65e9b98"
      },
      "source": [
        "cv_scores, holdout_scores = [], []\n",
        "n_neighb = np.arange(1, 20, 1)\n",
        "\n",
        "for k in n_neighb:\n",
        "\n",
        "    tree = DecisionTreeClassifier(random_state=234, max_depth=k)\n",
        "    cv_scores.append(np.mean(cross_val_score(tree, X_train, y_train, cv=skf)))\n",
        "    tree.fit(X_train, y_train)\n",
        "    holdout_scores.append(accuracy_score(y_holdout, tree.predict(X_holdout)))\n",
        "\n",
        "plt.plot(n_neighb, cv_scores, label='CV')\n",
        "plt.plot(n_neighb, holdout_scores, label='holdout')\n",
        "plt.title('Easy task. kNN fails')\n",
        "plt.legend();"
      ],
      "execution_count": 677,
      "outputs": [
        {
          "output_type": "display_data",
          "data": {
            "image/png": "[encoded data removed]",
            "text/plain": [
              "<Figure size 432x288 with 1 Axes>"
            ]
          },
          "metadata": {
            "tags": [],
            "needs_background": "light"
          }
        }
      ]
    },
    {
      "cell_type": "code",
      "metadata": {
        "id": "DkGCzbUYECWO",
        "colab_type": "code",
        "colab": {
          "base_uri": "https://localhost:8080/",
          "height": 34
        },
        "outputId": "50a45ccc-28e1-4404-92e8-681bcf042e0e"
      },
      "source": [
        "print(max(cv_scores))"
      ],
      "execution_count": 678,
      "outputs": [
        {
          "output_type": "stream",
          "text": [
            "0.6118881118881119\n"
          ],
          "name": "stdout"
        }
      ]
    },
    {
      "cell_type": "code",
      "metadata": {
        "id": "XPE-fbiJEeuM",
        "colab_type": "code",
        "colab": {
          "base_uri": "https://localhost:8080/",
          "height": 34
        },
        "outputId": "e8f2dd12-4224-43c4-e1ca-da567d08ab61"
      },
      "source": [
        "tree = DecisionTreeClassifier(random_state=17, max_depth=11)\n",
        "tree_cv_score = np.mean(cross_val_score(tree, X_train, y_train, cv=skf))\n",
        "tree.fit(X_train, y_train)\n",
        "tree_holdout_score = accuracy_score(y_holdout, tree.predict(X_holdout))\n",
        "print('Decision tree. CV: {}, holdout: {}'.format(tree_cv_score, tree_holdout_score))"
      ],
      "execution_count": 679,
      "outputs": [
        {
          "output_type": "stream",
          "text": [
            "Decision tree. CV: 0.5864135864135864, holdout: 0.6327345309381237\n"
          ],
          "name": "stdout"
        }
      ]
    },
    {
      "cell_type": "code",
      "metadata": {
        "id": "0y9J9mRmP7wG",
        "colab_type": "code",
        "colab": {}
      },
      "source": [
        "from sklearn.model_selection import train_test_split\n",
        "from sklearn.metrics import confusion_matrix"
      ],
      "execution_count": 0,
      "outputs": []
    },
    {
      "cell_type": "code",
      "metadata": {
        "id": "FJkvFVSAP9JJ",
        "colab_type": "code",
        "colab": {
          "base_uri": "https://localhost:8080/",
          "height": 275
        },
        "outputId": "ddb4bb62-3947-4c6b-82a2-85901d2031e5"
      },
      "source": [
        "tree = DecisionTreeClassifier(random_state=17, max_depth=11)\n",
        "#print(X_train.shape, y_train.shape)\n",
        "y_pred = cross_val_predict(tree, X_train, y_train, cv = skf)\n",
        "#print(y_train.shape, y_pred.shape)\n",
        "conf_m = confusion_matrix(y_train, y_pred)\n",
        "plt.matshow(conf_m, cmap=plt.cm.gray)\n",
        "plt.show()"
      ],
      "execution_count": 681,
      "outputs": [
        {
          "output_type": "display_data",
          "data": {
            "image/png": "[encoded data removed]",
            "text/plain": [
              "<Figure size 288x288 with 1 Axes>"
            ]
          },
          "metadata": {
            "tags": [],
            "needs_background": "light"
          }
        }
      ]
    },
    {
      "cell_type": "code",
      "metadata": {
        "id": "BYFESOdGTKit",
        "colab_type": "code",
        "colab": {
          "base_uri": "https://localhost:8080/",
          "height": 275
        },
        "outputId": "74e6bdb7-73a4-432d-eb3b-7bafd4d96714"
      },
      "source": [
        "row_sums = conf_m.sum(axis=1,keepdims=True)\n",
        "norm_conf_mx = conf_m / row_sums \n",
        "np.fill_diagonal(norm_conf_mx, 0)\n",
        "plt.matshow(conf_m, cmap=plt.cm.gray)\n",
        "plt.show()"
      ],
      "execution_count": 682,
      "outputs": [
        {
          "output_type": "display_data",
          "data": {
            "image/png": "[encoded data removed]",
            "text/plain": [
              "<Figure size 288x288 with 1 Axes>"
            ]
          },
          "metadata": {
            "tags": [],
            "needs_background": "light"
          }
        }
      ]
    },
    {
      "cell_type": "code",
      "metadata": {
        "id": "OSy8F5ucWC6B",
        "colab_type": "code",
        "colab": {}
      },
      "source": [
        "from sklearn.metrics import classification_report"
      ],
      "execution_count": 0,
      "outputs": []
    },
    {
      "cell_type": "code",
      "metadata": {
        "id": "RNzKLqkXWDmk",
        "colab_type": "code",
        "colab": {
          "base_uri": "https://localhost:8080/",
          "height": 221
        },
        "outputId": "fed625c1-4a5f-4cbf-b006-9def5cb8a3f1"
      },
      "source": [
        "target_names = ['0', '1', '2', '3', '4']\n",
        "print(classification_report(y_train, y_pred, target_names=target_names))"
      ],
      "execution_count": 684,
      "outputs": [
        {
          "output_type": "stream",
          "text": [
            "              precision    recall  f1-score   support\n",
            "\n",
            "           0       0.56      0.62      0.59       413\n",
            "           1       0.49      0.50      0.49       402\n",
            "           2       0.35      0.33      0.34       278\n",
            "           3       0.44      0.43      0.43       385\n",
            "           4       0.92      0.89      0.90       524\n",
            "\n",
            "    accuracy                           0.59      2002\n",
            "   macro avg       0.55      0.55      0.55      2002\n",
            "weighted avg       0.59      0.59      0.59      2002\n",
            "\n"
          ],
          "name": "stdout"
        }
      ]
    },
    {
      "cell_type": "code",
      "metadata": {
        "id": "qsgeXXygaU86",
        "colab_type": "code",
        "colab": {
          "base_uri": "https://localhost:8080/",
          "height": 578
        },
        "outputId": "cad41d6d-77d9-47df-c5a5-7023beed02b1"
      },
      "source": [
        "lr_clf = LogisticRegression()\n",
        "rnd_clf = RandomForestClassifier(max_depth=9, random_state=17) \n",
        "dt_clf = DecisionTreeClassifier(random_state=17, max_depth=11)\n",
        "knn_clf = KNeighborsClassifier(n_neighbors=43)\n",
        "rnd_clf.fit(X_train, y_train)\n",
        "lr_clf.fit(X_train, y_train)\n",
        "dt_clf.fit(X_train, y_train)\n",
        "knn_clf.fit(X_train, y_train)\n",
        "voting_clf = VotingClassifier(estimators=[ ('rnd', rnd_clf), ('knn', knn_clf), ('dt', dt_clf)], voting='hard')\n",
        "voting_clf.fit(X_train, y_train)"
      ],
      "execution_count": 685,
      "outputs": [
        {
          "output_type": "execute_result",
          "data": {
            "text/plain": [
              "VotingClassifier(estimators=[('rnd',\n",
              "                              RandomForestClassifier(bootstrap=True,\n",
              "                                                     ccp_alpha=0.0,\n",
              "                                                     class_weight=None,\n",
              "                                                     criterion='gini',\n",
              "                                                     max_depth=9,\n",
              "                                                     max_features='auto',\n",
              "                                                     max_leaf_nodes=None,\n",
              "                                                     max_samples=None,\n",
              "                                                     min_impurity_decrease=0.0,\n",
              "                                                     min_impurity_split=None,\n",
              "                                                     min_samples_leaf=1,\n",
              "                                                     min_samples_split=2,\n",
              "                                                     min_weight_fraction_leaf=0.0,\n",
              "                                                     n_estimators=100,\n",
              "                                                     n_jobs=None,\n",
              "                                                     oob_score=F...\n",
              "                              DecisionTreeClassifier(ccp_alpha=0.0,\n",
              "                                                     class_weight=None,\n",
              "                                                     criterion='gini',\n",
              "                                                     max_depth=11,\n",
              "                                                     max_features=None,\n",
              "                                                     max_leaf_nodes=None,\n",
              "                                                     min_impurity_decrease=0.0,\n",
              "                                                     min_impurity_split=None,\n",
              "                                                     min_samples_leaf=1,\n",
              "                                                     min_samples_split=2,\n",
              "                                                     min_weight_fraction_leaf=0.0,\n",
              "                                                     presort='deprecated',\n",
              "                                                     random_state=17,\n",
              "                                                     splitter='best'))],\n",
              "                 flatten_transform=True, n_jobs=None, voting='hard',\n",
              "                 weights=None)"
            ]
          },
          "metadata": {
            "tags": []
          },
          "execution_count": 685
        }
      ]
    },
    {
      "cell_type": "code",
      "metadata": {
        "id": "FDmjn8IQbCti",
        "colab_type": "code",
        "colab": {
          "base_uri": "https://localhost:8080/",
          "height": 102
        },
        "outputId": "2cad586f-36c6-4d98-ff42-7129578dbd4e"
      },
      "source": [
        "y_pred = lr_clf.predict(X_holdout)\n",
        "print(accuracy_score(y_holdout, y_pred))\n",
        "y_pred = rnd_clf.predict(X_holdout)\n",
        "print(accuracy_score(y_holdout, y_pred))\n",
        "y_pred = dt_clf.predict(X_holdout)\n",
        "print(accuracy_score(y_holdout, y_pred))\n",
        "y_pred = knn_clf.predict(X_holdout)\n",
        "print(accuracy_score(y_holdout, y_pred))\n",
        "y_pred = voting_clf.predict(X_holdout)\n",
        "print(accuracy_score(y_holdout, y_pred))"
      ],
      "execution_count": 686,
      "outputs": [
        {
          "output_type": "stream",
          "text": [
            "0.3872255489021956\n",
            "0.6666666666666666\n",
            "0.6327345309381237\n",
            "0.5269461077844312\n",
            "0.6646706586826348\n"
          ],
          "name": "stdout"
        }
      ]
    },
    {
      "cell_type": "code",
      "metadata": {
        "id": "Nhp1zjVOb_z7",
        "colab_type": "code",
        "colab": {
          "base_uri": "https://localhost:8080/",
          "height": 34
        },
        "outputId": "8e3f15e3-340d-461c-cead-75308d37449a"
      },
      "source": [
        "tree = VotingClassifier(estimators=[('rnd', rnd_clf), ('dt', dt_clf), ('knn', knn_clf)], voting='hard')\n",
        "tree_cv_score = np.mean(cross_val_score(tree, X_train, y_train, cv=cv))\n",
        "tree.fit(X_train, y_train)\n",
        "tree_holdout_score = accuracy_score(y_holdout, tree.predict(X_holdout))\n",
        "print('Voiting. CV: {}, holdout: {}'.format(tree_cv_score, tree_holdout_score))"
      ],
      "execution_count": 687,
      "outputs": [
        {
          "output_type": "stream",
          "text": [
            "Voiting. CV: 0.628428927680798, holdout: 0.6646706586826348\n"
          ],
          "name": "stdout"
        }
      ]
    },
    {
      "cell_type": "code",
      "metadata": {
        "id": "QnCiCLvbsOWk",
        "colab_type": "code",
        "colab": {
          "base_uri": "https://localhost:8080/",
          "height": 185,
          "referenced_widgets": [
            "a9a0df893be648318ce6b48807e02b41",
            "d00e03ef716a4b8ebe83033346e19815",
            "12b1eeb0ad324d1e95927d2fca47fa9d",
            "98f10d1aaa6543f58a2e3f51e418b757",
            "72cb98466c7948a5b0fdf111f98872b5",
            "8aeca678bfff4cdd8245b8ae4f8434fe",
            "5a231574bff34b1ba1cc282f9286e355",
            "56b2decb58dc49308ab6682339531b38"
          ]
        },
        "outputId": "e005e1c8-f1a3-44a4-90b8-50b2df2ef565"
      },
      "source": [
        "from sklearn.ensemble import BaggingClassifier\n",
        "temp, temp1 = 0, 0\n",
        "a, b, c = 0, 0, 0\n",
        "a1, b1, c1 = 0, 0, 0\n",
        "for curr_max_depth in tqdm_notebook(np.arange(8, 9)):\n",
        "    for curr_max_depth1 in np.arange(7, 8):\n",
        "        for curr_n_neight in np.arange(100, 150):\n",
        "            rnd_clf = RandomForestClassifier(max_depth=curr_max_depth, random_state=241) \n",
        "            dt_clf = DecisionTreeClassifier(random_state=241, max_depth=curr_max_depth1)\n",
        "            knn_clf = KNeighborsClassifier(n_neighbors=curr_n_neight)\n",
        "            tree = VotingClassifier(estimators=[('rnd', rnd_clf), ('dt', dt_clf), ('knn', knn_clf)], voting='hard')\n",
        "            tree_cv_score = np.mean(cross_val_score(tree, X_train, y_train, cv=cv))\n",
        "            tree.fit(X_train, y_train)\n",
        "            tree_holdout_score = accuracy_score(y_holdout, tree.predict(X_holdout))\n",
        "            if temp < tree_cv_score:\n",
        "                temp = tree_cv_score\n",
        "                a = curr_max_depth\n",
        "                b = curr_max_depth1\n",
        "                c = curr_n_neight\n",
        "            if temp1 < tree_holdout_score:\n",
        "                temp1 = tree_holdout_score\n",
        "                a1 = curr_max_depth\n",
        "                b1 = curr_max_depth1\n",
        "                c1 = curr_n_neight\n",
        "print(temp)\n",
        "print(a, b, c)\n",
        "print(temp1)\n",
        "print(a1, b1, c1)"
      ],
      "execution_count": 740,
      "outputs": [
        {
          "output_type": "stream",
          "text": [
            "/usr/local/lib/python3.6/dist-packages/ipykernel_launcher.py:5: TqdmDeprecationWarning: This function will be removed in tqdm==5.0.0\n",
            "Please use `tqdm.notebook.tqdm` instead of `tqdm.tqdm_notebook`\n",
            "  \"\"\"\n"
          ],
          "name": "stderr"
        },
        {
          "output_type": "display_data",
          "data": {
            "application/vnd.jupyter.widget-view+json": {
              "model_id": "a9a0df893be648318ce6b48807e02b41",
              "version_minor": 0,
              "version_major": 2
            },
            "text/plain": [
              "HBox(children=(IntProgress(value=0, max=1), HTML(value='')))"
            ]
          },
          "metadata": {
            "tags": []
          }
        },
        {
          "output_type": "stream",
          "text": [
            "\n",
            "0.6807980049875312\n",
            "8 7 120\n",
            "0.6367265469061876\n",
            "8 7 104\n"
          ],
          "name": "stdout"
        }
      ]
    },
    {
      "cell_type": "code",
      "metadata": {
        "id": "8FVZoKKj71Qf",
        "colab_type": "code",
        "colab": {}
      },
      "source": [
        "from sklearn.ensemble import BaggingClassifier\n",
        "dt_clf = RandomForestClassifier(random_state=241, max_depth=8 , n_jobs=-1, max_leaf_nodes=200)\n",
        "#my_clf = BaggingClassifier(dt_clf, n_estimators=300, bootstrap = True, n_jobs=-1, oob_score=True)"
      ],
      "execution_count": 0,
      "outputs": []
    },
    {
      "cell_type": "code",
      "metadata": {
        "id": "zr2QMTje8To1",
        "colab_type": "code",
        "colab": {
          "base_uri": "https://localhost:8080/",
          "height": 34
        },
        "outputId": "e2ca12ed-e7f9-4214-bfac-5e42dcbc2c12"
      },
      "source": [
        "print(np.mean(cross_val_score(dt_clf, X_train, y_train, cv=cv)))\n",
        "#print(np.mean(cross_val_score(my_clf, X_train, y_train, cv=cv)))"
      ],
      "execution_count": 738,
      "outputs": [
        {
          "output_type": "stream",
          "text": [
            "0.6683291770573566\n"
          ],
          "name": "stdout"
        }
      ]
    },
    {
      "cell_type": "code",
      "metadata": {
        "id": "0EzaZmtwcW5Y",
        "colab_type": "code",
        "colab": {
          "base_uri": "https://localhost:8080/",
          "height": 275
        },
        "outputId": "7b31e629-abe2-42fc-97f7-a52b2a56877e"
      },
      "source": [
        "#print(X_train.shape, y_train.shape)\n",
        "y_pred = cross_val_predict(tree, X_train, y_train, cv = skf)\n",
        "#print(y_train.shape, y_pred.shape)\n",
        "conf_m = confusion_matrix(y_train, y_pred)\n",
        "plt.matshow(conf_m, cmap=plt.cm.gray)\n",
        "plt.show()"
      ],
      "execution_count": 689,
      "outputs": [
        {
          "output_type": "display_data",
          "data": {
            "image/png": "[encoded data removed]",
            "text/plain": [
              "<Figure size 288x288 with 1 Axes>"
            ]
          },
          "metadata": {
            "tags": [],
            "needs_background": "light"
          }
        }
      ]
    },
    {
      "cell_type": "code",
      "metadata": {
        "id": "YIlODiHycQpH",
        "colab_type": "code",
        "colab": {
          "base_uri": "https://localhost:8080/",
          "height": 221
        },
        "outputId": "b4873d42-5ba9-4a2e-f9a7-e2fdf224f927"
      },
      "source": [
        "target_names = ['0', '1', '2', '3', '4']\n",
        "print(classification_report(y_train, y_pred, target_names=target_names))"
      ],
      "execution_count": 690,
      "outputs": [
        {
          "output_type": "stream",
          "text": [
            "              precision    recall  f1-score   support\n",
            "\n",
            "           0       0.61      0.66      0.63       413\n",
            "           1       0.48      0.62      0.54       402\n",
            "           2       0.44      0.23      0.30       278\n",
            "           3       0.45      0.45      0.45       385\n",
            "           4       0.92      0.90      0.91       524\n",
            "\n",
            "    accuracy                           0.61      2002\n",
            "   macro avg       0.58      0.57      0.57      2002\n",
            "weighted avg       0.61      0.61      0.61      2002\n",
            "\n"
          ],
          "name": "stdout"
        }
      ]
    }
  ]
}