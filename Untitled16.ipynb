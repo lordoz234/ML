{
  "nbformat": 4,
  "nbformat_minor": 0,
  "metadata": {
    "colab": {
      "name": "Untitled16.ipynb",
      "provenance": [],
      "collapsed_sections": [],
      "authorship_tag": "ABX9TyPQ4qpLPCf9aXNEjqDAB5Sx",
      "include_colab_link": true
    },
    "kernelspec": {
      "name": "python3",
      "display_name": "Python 3"
    },
    "widgets": {
      "application/vnd.jupyter.widget-state+json": {
        "f879ac7043134eb8b8b7ee671b825d18": {
          "model_module": "@jupyter-widgets/controls",
          "model_name": "HBoxModel",
          "state": {
            "_view_name": "HBoxView",
            "_dom_classes": [],
            "_model_name": "HBoxModel",
            "_view_module": "@jupyter-widgets/controls",
            "_model_module_version": "1.5.0",
            "_view_count": null,
            "_view_module_version": "1.5.0",
            "box_style": "",
            "layout": "IPY_MODEL_62a1889ed60f4acc8de379f82e25c676",
            "_model_module": "@jupyter-widgets/controls",
            "children": [
              "IPY_MODEL_bbc883cedb844cbc99d84bc1e85b3b6c",
              "IPY_MODEL_2242e1a6da2b4c55bacf09dfab570516"
            ]
          }
        },
        "62a1889ed60f4acc8de379f82e25c676": {
          "model_module": "@jupyter-widgets/base",
          "model_name": "LayoutModel",
          "state": {
            "_view_name": "LayoutView",
            "grid_template_rows": null,
            "right": null,
            "justify_content": null,
            "_view_module": "@jupyter-widgets/base",
            "overflow": null,
            "_model_module_version": "1.2.0",
            "_view_count": null,
            "flex_flow": null,
            "width": null,
            "min_width": null,
            "border": null,
            "align_items": null,
            "bottom": null,
            "_model_module": "@jupyter-widgets/base",
            "top": null,
            "grid_column": null,
            "overflow_y": null,
            "overflow_x": null,
            "grid_auto_flow": null,
            "grid_area": null,
            "grid_template_columns": null,
            "flex": null,
            "_model_name": "LayoutModel",
            "justify_items": null,
            "grid_row": null,
            "max_height": null,
            "align_content": null,
            "visibility": null,
            "align_self": null,
            "height": null,
            "min_height": null,
            "padding": null,
            "grid_auto_rows": null,
            "grid_gap": null,
            "max_width": null,
            "order": null,
            "_view_module_version": "1.2.0",
            "grid_template_areas": null,
            "object_position": null,
            "object_fit": null,
            "grid_auto_columns": null,
            "margin": null,
            "display": null,
            "left": null
          }
        },
        "bbc883cedb844cbc99d84bc1e85b3b6c": {
          "model_module": "@jupyter-widgets/controls",
          "model_name": "FloatProgressModel",
          "state": {
            "_view_name": "ProgressView",
            "style": "IPY_MODEL_a9626c78c3d94d0f81ab2de825b4c7f9",
            "_dom_classes": [],
            "description": "100%",
            "_model_name": "FloatProgressModel",
            "bar_style": "success",
            "max": 20,
            "_view_module": "@jupyter-widgets/controls",
            "_model_module_version": "1.5.0",
            "value": 20,
            "_view_count": null,
            "_view_module_version": "1.5.0",
            "orientation": "horizontal",
            "min": 0,
            "description_tooltip": null,
            "_model_module": "@jupyter-widgets/controls",
            "layout": "IPY_MODEL_dbd0184a5cdd45dba036f63e25236fc7"
          }
        },
        "2242e1a6da2b4c55bacf09dfab570516": {
          "model_module": "@jupyter-widgets/controls",
          "model_name": "HTMLModel",
          "state": {
            "_view_name": "HTMLView",
            "style": "IPY_MODEL_3cc5b2538c56466195d752b63dd201aa",
            "_dom_classes": [],
            "description": "",
            "_model_name": "HTMLModel",
            "placeholder": "​",
            "_view_module": "@jupyter-widgets/controls",
            "_model_module_version": "1.5.0",
            "value": " 20/20 [05:52&lt;00:00, 17.60s/it]",
            "_view_count": null,
            "_view_module_version": "1.5.0",
            "description_tooltip": null,
            "_model_module": "@jupyter-widgets/controls",
            "layout": "IPY_MODEL_61c9105da29746f7b2a629183767e5cf"
          }
        },
        "a9626c78c3d94d0f81ab2de825b4c7f9": {
          "model_module": "@jupyter-widgets/controls",
          "model_name": "ProgressStyleModel",
          "state": {
            "_view_name": "StyleView",
            "_model_name": "ProgressStyleModel",
            "description_width": "initial",
            "_view_module": "@jupyter-widgets/base",
            "_model_module_version": "1.5.0",
            "_view_count": null,
            "_view_module_version": "1.2.0",
            "bar_color": null,
            "_model_module": "@jupyter-widgets/controls"
          }
        },
        "dbd0184a5cdd45dba036f63e25236fc7": {
          "model_module": "@jupyter-widgets/base",
          "model_name": "LayoutModel",
          "state": {
            "_view_name": "LayoutView",
            "grid_template_rows": null,
            "right": null,
            "justify_content": null,
            "_view_module": "@jupyter-widgets/base",
            "overflow": null,
            "_model_module_version": "1.2.0",
            "_view_count": null,
            "flex_flow": null,
            "width": null,
            "min_width": null,
            "border": null,
            "align_items": null,
            "bottom": null,
            "_model_module": "@jupyter-widgets/base",
            "top": null,
            "grid_column": null,
            "overflow_y": null,
            "overflow_x": null,
            "grid_auto_flow": null,
            "grid_area": null,
            "grid_template_columns": null,
            "flex": null,
            "_model_name": "LayoutModel",
            "justify_items": null,
            "grid_row": null,
            "max_height": null,
            "align_content": null,
            "visibility": null,
            "align_self": null,
            "height": null,
            "min_height": null,
            "padding": null,
            "grid_auto_rows": null,
            "grid_gap": null,
            "max_width": null,
            "order": null,
            "_view_module_version": "1.2.0",
            "grid_template_areas": null,
            "object_position": null,
            "object_fit": null,
            "grid_auto_columns": null,
            "margin": null,
            "display": null,
            "left": null
          }
        },
        "3cc5b2538c56466195d752b63dd201aa": {
          "model_module": "@jupyter-widgets/controls",
          "model_name": "DescriptionStyleModel",
          "state": {
            "_view_name": "StyleView",
            "_model_name": "DescriptionStyleModel",
            "description_width": "",
            "_view_module": "@jupyter-widgets/base",
            "_model_module_version": "1.5.0",
            "_view_count": null,
            "_view_module_version": "1.2.0",
            "_model_module": "@jupyter-widgets/controls"
          }
        },
        "61c9105da29746f7b2a629183767e5cf": {
          "model_module": "@jupyter-widgets/base",
          "model_name": "LayoutModel",
          "state": {
            "_view_name": "LayoutView",
            "grid_template_rows": null,
            "right": null,
            "justify_content": null,
            "_view_module": "@jupyter-widgets/base",
            "overflow": null,
            "_model_module_version": "1.2.0",
            "_view_count": null,
            "flex_flow": null,
            "width": null,
            "min_width": null,
            "border": null,
            "align_items": null,
            "bottom": null,
            "_model_module": "@jupyter-widgets/base",
            "top": null,
            "grid_column": null,
            "overflow_y": null,
            "overflow_x": null,
            "grid_auto_flow": null,
            "grid_area": null,
            "grid_template_columns": null,
            "flex": null,
            "_model_name": "LayoutModel",
            "justify_items": null,
            "grid_row": null,
            "max_height": null,
            "align_content": null,
            "visibility": null,
            "align_self": null,
            "height": null,
            "min_height": null,
            "padding": null,
            "grid_auto_rows": null,
            "grid_gap": null,
            "max_width": null,
            "order": null,
            "_view_module_version": "1.2.0",
            "grid_template_areas": null,
            "object_position": null,
            "object_fit": null,
            "grid_auto_columns": null,
            "margin": null,
            "display": null,
            "left": null
          }
        },
        "a0b866a75c6a4572865d06e7e30d4f7d": {
          "model_module": "@jupyter-widgets/controls",
          "model_name": "HBoxModel",
          "state": {
            "_view_name": "HBoxView",
            "_dom_classes": [],
            "_model_name": "HBoxModel",
            "_view_module": "@jupyter-widgets/controls",
            "_model_module_version": "1.5.0",
            "_view_count": null,
            "_view_module_version": "1.5.0",
            "box_style": "",
            "layout": "IPY_MODEL_869142cf57054613acfdc932622da41b",
            "_model_module": "@jupyter-widgets/controls",
            "children": [
              "IPY_MODEL_0041d227e9ad4124b03021c418d45145",
              "IPY_MODEL_60e318b999d24f559835467fb7b3e7e2"
            ]
          }
        },
        "869142cf57054613acfdc932622da41b": {
          "model_module": "@jupyter-widgets/base",
          "model_name": "LayoutModel",
          "state": {
            "_view_name": "LayoutView",
            "grid_template_rows": null,
            "right": null,
            "justify_content": null,
            "_view_module": "@jupyter-widgets/base",
            "overflow": null,
            "_model_module_version": "1.2.0",
            "_view_count": null,
            "flex_flow": null,
            "width": null,
            "min_width": null,
            "border": null,
            "align_items": null,
            "bottom": null,
            "_model_module": "@jupyter-widgets/base",
            "top": null,
            "grid_column": null,
            "overflow_y": null,
            "overflow_x": null,
            "grid_auto_flow": null,
            "grid_area": null,
            "grid_template_columns": null,
            "flex": null,
            "_model_name": "LayoutModel",
            "justify_items": null,
            "grid_row": null,
            "max_height": null,
            "align_content": null,
            "visibility": null,
            "align_self": null,
            "height": null,
            "min_height": null,
            "padding": null,
            "grid_auto_rows": null,
            "grid_gap": null,
            "max_width": null,
            "order": null,
            "_view_module_version": "1.2.0",
            "grid_template_areas": null,
            "object_position": null,
            "object_fit": null,
            "grid_auto_columns": null,
            "margin": null,
            "display": null,
            "left": null
          }
        },
        "0041d227e9ad4124b03021c418d45145": {
          "model_module": "@jupyter-widgets/controls",
          "model_name": "FloatProgressModel",
          "state": {
            "_view_name": "ProgressView",
            "style": "IPY_MODEL_928b37c296154e38a4a64b6e3950fecc",
            "_dom_classes": [],
            "description": "100%",
            "_model_name": "FloatProgressModel",
            "bar_style": "success",
            "max": 20,
            "_view_module": "@jupyter-widgets/controls",
            "_model_module_version": "1.5.0",
            "value": 20,
            "_view_count": null,
            "_view_module_version": "1.5.0",
            "orientation": "horizontal",
            "min": 0,
            "description_tooltip": null,
            "_model_module": "@jupyter-widgets/controls",
            "layout": "IPY_MODEL_1e5c7a06cb284b8d97a6486813f6fc35"
          }
        },
        "60e318b999d24f559835467fb7b3e7e2": {
          "model_module": "@jupyter-widgets/controls",
          "model_name": "HTMLModel",
          "state": {
            "_view_name": "HTMLView",
            "style": "IPY_MODEL_d84d66fde4664bfd85efd1e5dea6d9d5",
            "_dom_classes": [],
            "description": "",
            "_model_name": "HTMLModel",
            "placeholder": "​",
            "_view_module": "@jupyter-widgets/controls",
            "_model_module_version": "1.5.0",
            "value": " 20/20 [05:44&lt;00:00, 17.21s/it]",
            "_view_count": null,
            "_view_module_version": "1.5.0",
            "description_tooltip": null,
            "_model_module": "@jupyter-widgets/controls",
            "layout": "IPY_MODEL_a63f4dd8183341d586f46aad0c0649a1"
          }
        },
        "928b37c296154e38a4a64b6e3950fecc": {
          "model_module": "@jupyter-widgets/controls",
          "model_name": "ProgressStyleModel",
          "state": {
            "_view_name": "StyleView",
            "_model_name": "ProgressStyleModel",
            "description_width": "initial",
            "_view_module": "@jupyter-widgets/base",
            "_model_module_version": "1.5.0",
            "_view_count": null,
            "_view_module_version": "1.2.0",
            "bar_color": null,
            "_model_module": "@jupyter-widgets/controls"
          }
        },
        "1e5c7a06cb284b8d97a6486813f6fc35": {
          "model_module": "@jupyter-widgets/base",
          "model_name": "LayoutModel",
          "state": {
            "_view_name": "LayoutView",
            "grid_template_rows": null,
            "right": null,
            "justify_content": null,
            "_view_module": "@jupyter-widgets/base",
            "overflow": null,
            "_model_module_version": "1.2.0",
            "_view_count": null,
            "flex_flow": null,
            "width": null,
            "min_width": null,
            "border": null,
            "align_items": null,
            "bottom": null,
            "_model_module": "@jupyter-widgets/base",
            "top": null,
            "grid_column": null,
            "overflow_y": null,
            "overflow_x": null,
            "grid_auto_flow": null,
            "grid_area": null,
            "grid_template_columns": null,
            "flex": null,
            "_model_name": "LayoutModel",
            "justify_items": null,
            "grid_row": null,
            "max_height": null,
            "align_content": null,
            "visibility": null,
            "align_self": null,
            "height": null,
            "min_height": null,
            "padding": null,
            "grid_auto_rows": null,
            "grid_gap": null,
            "max_width": null,
            "order": null,
            "_view_module_version": "1.2.0",
            "grid_template_areas": null,
            "object_position": null,
            "object_fit": null,
            "grid_auto_columns": null,
            "margin": null,
            "display": null,
            "left": null
          }
        },
        "d84d66fde4664bfd85efd1e5dea6d9d5": {
          "model_module": "@jupyter-widgets/controls",
          "model_name": "DescriptionStyleModel",
          "state": {
            "_view_name": "StyleView",
            "_model_name": "DescriptionStyleModel",
            "description_width": "",
            "_view_module": "@jupyter-widgets/base",
            "_model_module_version": "1.5.0",
            "_view_count": null,
            "_view_module_version": "1.2.0",
            "_model_module": "@jupyter-widgets/controls"
          }
        },
        "a63f4dd8183341d586f46aad0c0649a1": {
          "model_module": "@jupyter-widgets/base",
          "model_name": "LayoutModel",
          "state": {
            "_view_name": "LayoutView",
            "grid_template_rows": null,
            "right": null,
            "justify_content": null,
            "_view_module": "@jupyter-widgets/base",
            "overflow": null,
            "_model_module_version": "1.2.0",
            "_view_count": null,
            "flex_flow": null,
            "width": null,
            "min_width": null,
            "border": null,
            "align_items": null,
            "bottom": null,
            "_model_module": "@jupyter-widgets/base",
            "top": null,
            "grid_column": null,
            "overflow_y": null,
            "overflow_x": null,
            "grid_auto_flow": null,
            "grid_area": null,
            "grid_template_columns": null,
            "flex": null,
            "_model_name": "LayoutModel",
            "justify_items": null,
            "grid_row": null,
            "max_height": null,
            "align_content": null,
            "visibility": null,
            "align_self": null,
            "height": null,
            "min_height": null,
            "padding": null,
            "grid_auto_rows": null,
            "grid_gap": null,
            "max_width": null,
            "order": null,
            "_view_module_version": "1.2.0",
            "grid_template_areas": null,
            "object_position": null,
            "object_fit": null,
            "grid_auto_columns": null,
            "margin": null,
            "display": null,
            "left": null
          }
        },
        "cc7ec9503a5b486cb7876fbd95b48b0c": {
          "model_module": "@jupyter-widgets/controls",
          "model_name": "HBoxModel",
          "state": {
            "_view_name": "HBoxView",
            "_dom_classes": [],
            "_model_name": "HBoxModel",
            "_view_module": "@jupyter-widgets/controls",
            "_model_module_version": "1.5.0",
            "_view_count": null,
            "_view_module_version": "1.5.0",
            "box_style": "",
            "layout": "IPY_MODEL_6b898b458e654eedb13d870a5a49bfb3",
            "_model_module": "@jupyter-widgets/controls",
            "children": [
              "IPY_MODEL_0bff0d27cfa344bea2d7f3b73c67e015",
              "IPY_MODEL_b97e07e819cb4c2a9ea9896d2e860fc5"
            ]
          }
        },
        "6b898b458e654eedb13d870a5a49bfb3": {
          "model_module": "@jupyter-widgets/base",
          "model_name": "LayoutModel",
          "state": {
            "_view_name": "LayoutView",
            "grid_template_rows": null,
            "right": null,
            "justify_content": null,
            "_view_module": "@jupyter-widgets/base",
            "overflow": null,
            "_model_module_version": "1.2.0",
            "_view_count": null,
            "flex_flow": null,
            "width": null,
            "min_width": null,
            "border": null,
            "align_items": null,
            "bottom": null,
            "_model_module": "@jupyter-widgets/base",
            "top": null,
            "grid_column": null,
            "overflow_y": null,
            "overflow_x": null,
            "grid_auto_flow": null,
            "grid_area": null,
            "grid_template_columns": null,
            "flex": null,
            "_model_name": "LayoutModel",
            "justify_items": null,
            "grid_row": null,
            "max_height": null,
            "align_content": null,
            "visibility": null,
            "align_self": null,
            "height": null,
            "min_height": null,
            "padding": null,
            "grid_auto_rows": null,
            "grid_gap": null,
            "max_width": null,
            "order": null,
            "_view_module_version": "1.2.0",
            "grid_template_areas": null,
            "object_position": null,
            "object_fit": null,
            "grid_auto_columns": null,
            "margin": null,
            "display": null,
            "left": null
          }
        },
        "0bff0d27cfa344bea2d7f3b73c67e015": {
          "model_module": "@jupyter-widgets/controls",
          "model_name": "FloatProgressModel",
          "state": {
            "_view_name": "ProgressView",
            "style": "IPY_MODEL_fcf662e512d24699864179351b9e5426",
            "_dom_classes": [],
            "description": "100%",
            "_model_name": "FloatProgressModel",
            "bar_style": "success",
            "max": 20,
            "_view_module": "@jupyter-widgets/controls",
            "_model_module_version": "1.5.0",
            "value": 20,
            "_view_count": null,
            "_view_module_version": "1.5.0",
            "orientation": "horizontal",
            "min": 0,
            "description_tooltip": null,
            "_model_module": "@jupyter-widgets/controls",
            "layout": "IPY_MODEL_511feec6847f4df8982c94b73a2d23a7"
          }
        },
        "b97e07e819cb4c2a9ea9896d2e860fc5": {
          "model_module": "@jupyter-widgets/controls",
          "model_name": "HTMLModel",
          "state": {
            "_view_name": "HTMLView",
            "style": "IPY_MODEL_50ab8ce4c6e0429ebc3fb4c973a8c6b7",
            "_dom_classes": [],
            "description": "",
            "_model_name": "HTMLModel",
            "placeholder": "​",
            "_view_module": "@jupyter-widgets/controls",
            "_model_module_version": "1.5.0",
            "value": " 20/20 [05:36&lt;00:00, 16.83s/it]",
            "_view_count": null,
            "_view_module_version": "1.5.0",
            "description_tooltip": null,
            "_model_module": "@jupyter-widgets/controls",
            "layout": "IPY_MODEL_970539425aca48ebb62e49ba90ce0e24"
          }
        },
        "fcf662e512d24699864179351b9e5426": {
          "model_module": "@jupyter-widgets/controls",
          "model_name": "ProgressStyleModel",
          "state": {
            "_view_name": "StyleView",
            "_model_name": "ProgressStyleModel",
            "description_width": "initial",
            "_view_module": "@jupyter-widgets/base",
            "_model_module_version": "1.5.0",
            "_view_count": null,
            "_view_module_version": "1.2.0",
            "bar_color": null,
            "_model_module": "@jupyter-widgets/controls"
          }
        },
        "511feec6847f4df8982c94b73a2d23a7": {
          "model_module": "@jupyter-widgets/base",
          "model_name": "LayoutModel",
          "state": {
            "_view_name": "LayoutView",
            "grid_template_rows": null,
            "right": null,
            "justify_content": null,
            "_view_module": "@jupyter-widgets/base",
            "overflow": null,
            "_model_module_version": "1.2.0",
            "_view_count": null,
            "flex_flow": null,
            "width": null,
            "min_width": null,
            "border": null,
            "align_items": null,
            "bottom": null,
            "_model_module": "@jupyter-widgets/base",
            "top": null,
            "grid_column": null,
            "overflow_y": null,
            "overflow_x": null,
            "grid_auto_flow": null,
            "grid_area": null,
            "grid_template_columns": null,
            "flex": null,
            "_model_name": "LayoutModel",
            "justify_items": null,
            "grid_row": null,
            "max_height": null,
            "align_content": null,
            "visibility": null,
            "align_self": null,
            "height": null,
            "min_height": null,
            "padding": null,
            "grid_auto_rows": null,
            "grid_gap": null,
            "max_width": null,
            "order": null,
            "_view_module_version": "1.2.0",
            "grid_template_areas": null,
            "object_position": null,
            "object_fit": null,
            "grid_auto_columns": null,
            "margin": null,
            "display": null,
            "left": null
          }
        },
        "50ab8ce4c6e0429ebc3fb4c973a8c6b7": {
          "model_module": "@jupyter-widgets/controls",
          "model_name": "DescriptionStyleModel",
          "state": {
            "_view_name": "StyleView",
            "_model_name": "DescriptionStyleModel",
            "description_width": "",
            "_view_module": "@jupyter-widgets/base",
            "_model_module_version": "1.5.0",
            "_view_count": null,
            "_view_module_version": "1.2.0",
            "_model_module": "@jupyter-widgets/controls"
          }
        },
        "970539425aca48ebb62e49ba90ce0e24": {
          "model_module": "@jupyter-widgets/base",
          "model_name": "LayoutModel",
          "state": {
            "_view_name": "LayoutView",
            "grid_template_rows": null,
            "right": null,
            "justify_content": null,
            "_view_module": "@jupyter-widgets/base",
            "overflow": null,
            "_model_module_version": "1.2.0",
            "_view_count": null,
            "flex_flow": null,
            "width": null,
            "min_width": null,
            "border": null,
            "align_items": null,
            "bottom": null,
            "_model_module": "@jupyter-widgets/base",
            "top": null,
            "grid_column": null,
            "overflow_y": null,
            "overflow_x": null,
            "grid_auto_flow": null,
            "grid_area": null,
            "grid_template_columns": null,
            "flex": null,
            "_model_name": "LayoutModel",
            "justify_items": null,
            "grid_row": null,
            "max_height": null,
            "align_content": null,
            "visibility": null,
            "align_self": null,
            "height": null,
            "min_height": null,
            "padding": null,
            "grid_auto_rows": null,
            "grid_gap": null,
            "max_width": null,
            "order": null,
            "_view_module_version": "1.2.0",
            "grid_template_areas": null,
            "object_position": null,
            "object_fit": null,
            "grid_auto_columns": null,
            "margin": null,
            "display": null,
            "left": null
          }
        },
        "9d27b9869d66496f87457b3b039cf763": {
          "model_module": "@jupyter-widgets/controls",
          "model_name": "HBoxModel",
          "state": {
            "_view_name": "HBoxView",
            "_dom_classes": [],
            "_model_name": "HBoxModel",
            "_view_module": "@jupyter-widgets/controls",
            "_model_module_version": "1.5.0",
            "_view_count": null,
            "_view_module_version": "1.5.0",
            "box_style": "",
            "layout": "IPY_MODEL_90531eb0a531408bbbf870e197f248c3",
            "_model_module": "@jupyter-widgets/controls",
            "children": [
              "IPY_MODEL_979699192c7746d3b01e18615330e802",
              "IPY_MODEL_4a2c8e957ffb4b3aa551212f4ab3c6db"
            ]
          }
        },
        "90531eb0a531408bbbf870e197f248c3": {
          "model_module": "@jupyter-widgets/base",
          "model_name": "LayoutModel",
          "state": {
            "_view_name": "LayoutView",
            "grid_template_rows": null,
            "right": null,
            "justify_content": null,
            "_view_module": "@jupyter-widgets/base",
            "overflow": null,
            "_model_module_version": "1.2.0",
            "_view_count": null,
            "flex_flow": null,
            "width": null,
            "min_width": null,
            "border": null,
            "align_items": null,
            "bottom": null,
            "_model_module": "@jupyter-widgets/base",
            "top": null,
            "grid_column": null,
            "overflow_y": null,
            "overflow_x": null,
            "grid_auto_flow": null,
            "grid_area": null,
            "grid_template_columns": null,
            "flex": null,
            "_model_name": "LayoutModel",
            "justify_items": null,
            "grid_row": null,
            "max_height": null,
            "align_content": null,
            "visibility": null,
            "align_self": null,
            "height": null,
            "min_height": null,
            "padding": null,
            "grid_auto_rows": null,
            "grid_gap": null,
            "max_width": null,
            "order": null,
            "_view_module_version": "1.2.0",
            "grid_template_areas": null,
            "object_position": null,
            "object_fit": null,
            "grid_auto_columns": null,
            "margin": null,
            "display": null,
            "left": null
          }
        },
        "979699192c7746d3b01e18615330e802": {
          "model_module": "@jupyter-widgets/controls",
          "model_name": "FloatProgressModel",
          "state": {
            "_view_name": "ProgressView",
            "style": "IPY_MODEL_9250c3c6b9a74e6e914e8cd88068019b",
            "_dom_classes": [],
            "description": "100%",
            "_model_name": "FloatProgressModel",
            "bar_style": "success",
            "max": 20,
            "_view_module": "@jupyter-widgets/controls",
            "_model_module_version": "1.5.0",
            "value": 20,
            "_view_count": null,
            "_view_module_version": "1.5.0",
            "orientation": "horizontal",
            "min": 0,
            "description_tooltip": null,
            "_model_module": "@jupyter-widgets/controls",
            "layout": "IPY_MODEL_5cbb5ff6fb9d4fe48ee582288d8da989"
          }
        },
        "4a2c8e957ffb4b3aa551212f4ab3c6db": {
          "model_module": "@jupyter-widgets/controls",
          "model_name": "HTMLModel",
          "state": {
            "_view_name": "HTMLView",
            "style": "IPY_MODEL_f71b31a2869945dbbc38f137f6937bb0",
            "_dom_classes": [],
            "description": "",
            "_model_name": "HTMLModel",
            "placeholder": "​",
            "_view_module": "@jupyter-widgets/controls",
            "_model_module_version": "1.5.0",
            "value": " 20/20 [05:28&lt;00:00, 16.45s/it]",
            "_view_count": null,
            "_view_module_version": "1.5.0",
            "description_tooltip": null,
            "_model_module": "@jupyter-widgets/controls",
            "layout": "IPY_MODEL_6073345fa5424701889d7b13c9999c9c"
          }
        },
        "9250c3c6b9a74e6e914e8cd88068019b": {
          "model_module": "@jupyter-widgets/controls",
          "model_name": "ProgressStyleModel",
          "state": {
            "_view_name": "StyleView",
            "_model_name": "ProgressStyleModel",
            "description_width": "initial",
            "_view_module": "@jupyter-widgets/base",
            "_model_module_version": "1.5.0",
            "_view_count": null,
            "_view_module_version": "1.2.0",
            "bar_color": null,
            "_model_module": "@jupyter-widgets/controls"
          }
        },
        "5cbb5ff6fb9d4fe48ee582288d8da989": {
          "model_module": "@jupyter-widgets/base",
          "model_name": "LayoutModel",
          "state": {
            "_view_name": "LayoutView",
            "grid_template_rows": null,
            "right": null,
            "justify_content": null,
            "_view_module": "@jupyter-widgets/base",
            "overflow": null,
            "_model_module_version": "1.2.0",
            "_view_count": null,
            "flex_flow": null,
            "width": null,
            "min_width": null,
            "border": null,
            "align_items": null,
            "bottom": null,
            "_model_module": "@jupyter-widgets/base",
            "top": null,
            "grid_column": null,
            "overflow_y": null,
            "overflow_x": null,
            "grid_auto_flow": null,
            "grid_area": null,
            "grid_template_columns": null,
            "flex": null,
            "_model_name": "LayoutModel",
            "justify_items": null,
            "grid_row": null,
            "max_height": null,
            "align_content": null,
            "visibility": null,
            "align_self": null,
            "height": null,
            "min_height": null,
            "padding": null,
            "grid_auto_rows": null,
            "grid_gap": null,
            "max_width": null,
            "order": null,
            "_view_module_version": "1.2.0",
            "grid_template_areas": null,
            "object_position": null,
            "object_fit": null,
            "grid_auto_columns": null,
            "margin": null,
            "display": null,
            "left": null
          }
        },
        "f71b31a2869945dbbc38f137f6937bb0": {
          "model_module": "@jupyter-widgets/controls",
          "model_name": "DescriptionStyleModel",
          "state": {
            "_view_name": "StyleView",
            "_model_name": "DescriptionStyleModel",
            "description_width": "",
            "_view_module": "@jupyter-widgets/base",
            "_model_module_version": "1.5.0",
            "_view_count": null,
            "_view_module_version": "1.2.0",
            "_model_module": "@jupyter-widgets/controls"
          }
        },
        "6073345fa5424701889d7b13c9999c9c": {
          "model_module": "@jupyter-widgets/base",
          "model_name": "LayoutModel",
          "state": {
            "_view_name": "LayoutView",
            "grid_template_rows": null,
            "right": null,
            "justify_content": null,
            "_view_module": "@jupyter-widgets/base",
            "overflow": null,
            "_model_module_version": "1.2.0",
            "_view_count": null,
            "flex_flow": null,
            "width": null,
            "min_width": null,
            "border": null,
            "align_items": null,
            "bottom": null,
            "_model_module": "@jupyter-widgets/base",
            "top": null,
            "grid_column": null,
            "overflow_y": null,
            "overflow_x": null,
            "grid_auto_flow": null,
            "grid_area": null,
            "grid_template_columns": null,
            "flex": null,
            "_model_name": "LayoutModel",
            "justify_items": null,
            "grid_row": null,
            "max_height": null,
            "align_content": null,
            "visibility": null,
            "align_self": null,
            "height": null,
            "min_height": null,
            "padding": null,
            "grid_auto_rows": null,
            "grid_gap": null,
            "max_width": null,
            "order": null,
            "_view_module_version": "1.2.0",
            "grid_template_areas": null,
            "object_position": null,
            "object_fit": null,
            "grid_auto_columns": null,
            "margin": null,
            "display": null,
            "left": null
          }
        },
        "2b2c7d2f145545bd808360b99fdcf254": {
          "model_module": "@jupyter-widgets/controls",
          "model_name": "HBoxModel",
          "state": {
            "_view_name": "HBoxView",
            "_dom_classes": [],
            "_model_name": "HBoxModel",
            "_view_module": "@jupyter-widgets/controls",
            "_model_module_version": "1.5.0",
            "_view_count": null,
            "_view_module_version": "1.5.0",
            "box_style": "",
            "layout": "IPY_MODEL_29a7e768c92b48888c36f45de5896512",
            "_model_module": "@jupyter-widgets/controls",
            "children": [
              "IPY_MODEL_6886819eddbe46778aaa7b1598981d7a",
              "IPY_MODEL_bed4f21636df4430aea704ffd7a30134"
            ]
          }
        },
        "29a7e768c92b48888c36f45de5896512": {
          "model_module": "@jupyter-widgets/base",
          "model_name": "LayoutModel",
          "state": {
            "_view_name": "LayoutView",
            "grid_template_rows": null,
            "right": null,
            "justify_content": null,
            "_view_module": "@jupyter-widgets/base",
            "overflow": null,
            "_model_module_version": "1.2.0",
            "_view_count": null,
            "flex_flow": null,
            "width": null,
            "min_width": null,
            "border": null,
            "align_items": null,
            "bottom": null,
            "_model_module": "@jupyter-widgets/base",
            "top": null,
            "grid_column": null,
            "overflow_y": null,
            "overflow_x": null,
            "grid_auto_flow": null,
            "grid_area": null,
            "grid_template_columns": null,
            "flex": null,
            "_model_name": "LayoutModel",
            "justify_items": null,
            "grid_row": null,
            "max_height": null,
            "align_content": null,
            "visibility": null,
            "align_self": null,
            "height": null,
            "min_height": null,
            "padding": null,
            "grid_auto_rows": null,
            "grid_gap": null,
            "max_width": null,
            "order": null,
            "_view_module_version": "1.2.0",
            "grid_template_areas": null,
            "object_position": null,
            "object_fit": null,
            "grid_auto_columns": null,
            "margin": null,
            "display": null,
            "left": null
          }
        },
        "6886819eddbe46778aaa7b1598981d7a": {
          "model_module": "@jupyter-widgets/controls",
          "model_name": "FloatProgressModel",
          "state": {
            "_view_name": "ProgressView",
            "style": "IPY_MODEL_f38d1825001345a58236a617780ce142",
            "_dom_classes": [],
            "description": "100%",
            "_model_name": "FloatProgressModel",
            "bar_style": "success",
            "max": 20,
            "_view_module": "@jupyter-widgets/controls",
            "_model_module_version": "1.5.0",
            "value": 20,
            "_view_count": null,
            "_view_module_version": "1.5.0",
            "orientation": "horizontal",
            "min": 0,
            "description_tooltip": null,
            "_model_module": "@jupyter-widgets/controls",
            "layout": "IPY_MODEL_3f51d59a1b1349bbb7da0155f3dcc618"
          }
        },
        "bed4f21636df4430aea704ffd7a30134": {
          "model_module": "@jupyter-widgets/controls",
          "model_name": "HTMLModel",
          "state": {
            "_view_name": "HTMLView",
            "style": "IPY_MODEL_b8b3a5bcc71547d7a87066173dc880f5",
            "_dom_classes": [],
            "description": "",
            "_model_name": "HTMLModel",
            "placeholder": "​",
            "_view_module": "@jupyter-widgets/controls",
            "_model_module_version": "1.5.0",
            "value": " 20/20 [04:58&lt;00:00, 14.92s/it]",
            "_view_count": null,
            "_view_module_version": "1.5.0",
            "description_tooltip": null,
            "_model_module": "@jupyter-widgets/controls",
            "layout": "IPY_MODEL_4f1a730ab6a3419f912a1e5bb71de8d6"
          }
        },
        "f38d1825001345a58236a617780ce142": {
          "model_module": "@jupyter-widgets/controls",
          "model_name": "ProgressStyleModel",
          "state": {
            "_view_name": "StyleView",
            "_model_name": "ProgressStyleModel",
            "description_width": "initial",
            "_view_module": "@jupyter-widgets/base",
            "_model_module_version": "1.5.0",
            "_view_count": null,
            "_view_module_version": "1.2.0",
            "bar_color": null,
            "_model_module": "@jupyter-widgets/controls"
          }
        },
        "3f51d59a1b1349bbb7da0155f3dcc618": {
          "model_module": "@jupyter-widgets/base",
          "model_name": "LayoutModel",
          "state": {
            "_view_name": "LayoutView",
            "grid_template_rows": null,
            "right": null,
            "justify_content": null,
            "_view_module": "@jupyter-widgets/base",
            "overflow": null,
            "_model_module_version": "1.2.0",
            "_view_count": null,
            "flex_flow": null,
            "width": null,
            "min_width": null,
            "border": null,
            "align_items": null,
            "bottom": null,
            "_model_module": "@jupyter-widgets/base",
            "top": null,
            "grid_column": null,
            "overflow_y": null,
            "overflow_x": null,
            "grid_auto_flow": null,
            "grid_area": null,
            "grid_template_columns": null,
            "flex": null,
            "_model_name": "LayoutModel",
            "justify_items": null,
            "grid_row": null,
            "max_height": null,
            "align_content": null,
            "visibility": null,
            "align_self": null,
            "height": null,
            "min_height": null,
            "padding": null,
            "grid_auto_rows": null,
            "grid_gap": null,
            "max_width": null,
            "order": null,
            "_view_module_version": "1.2.0",
            "grid_template_areas": null,
            "object_position": null,
            "object_fit": null,
            "grid_auto_columns": null,
            "margin": null,
            "display": null,
            "left": null
          }
        },
        "b8b3a5bcc71547d7a87066173dc880f5": {
          "model_module": "@jupyter-widgets/controls",
          "model_name": "DescriptionStyleModel",
          "state": {
            "_view_name": "StyleView",
            "_model_name": "DescriptionStyleModel",
            "description_width": "",
            "_view_module": "@jupyter-widgets/base",
            "_model_module_version": "1.5.0",
            "_view_count": null,
            "_view_module_version": "1.2.0",
            "_model_module": "@jupyter-widgets/controls"
          }
        },
        "4f1a730ab6a3419f912a1e5bb71de8d6": {
          "model_module": "@jupyter-widgets/base",
          "model_name": "LayoutModel",
          "state": {
            "_view_name": "LayoutView",
            "grid_template_rows": null,
            "right": null,
            "justify_content": null,
            "_view_module": "@jupyter-widgets/base",
            "overflow": null,
            "_model_module_version": "1.2.0",
            "_view_count": null,
            "flex_flow": null,
            "width": null,
            "min_width": null,
            "border": null,
            "align_items": null,
            "bottom": null,
            "_model_module": "@jupyter-widgets/base",
            "top": null,
            "grid_column": null,
            "overflow_y": null,
            "overflow_x": null,
            "grid_auto_flow": null,
            "grid_area": null,
            "grid_template_columns": null,
            "flex": null,
            "_model_name": "LayoutModel",
            "justify_items": null,
            "grid_row": null,
            "max_height": null,
            "align_content": null,
            "visibility": null,
            "align_self": null,
            "height": null,
            "min_height": null,
            "padding": null,
            "grid_auto_rows": null,
            "grid_gap": null,
            "max_width": null,
            "order": null,
            "_view_module_version": "1.2.0",
            "grid_template_areas": null,
            "object_position": null,
            "object_fit": null,
            "grid_auto_columns": null,
            "margin": null,
            "display": null,
            "left": null
          }
        },
        "3751b72cc1e04043ba0abcea41f7b5a7": {
          "model_module": "@jupyter-widgets/controls",
          "model_name": "HBoxModel",
          "state": {
            "_view_name": "HBoxView",
            "_dom_classes": [],
            "_model_name": "HBoxModel",
            "_view_module": "@jupyter-widgets/controls",
            "_model_module_version": "1.5.0",
            "_view_count": null,
            "_view_module_version": "1.5.0",
            "box_style": "",
            "layout": "IPY_MODEL_4a2499a5eada454c825c94b1893777e6",
            "_model_module": "@jupyter-widgets/controls",
            "children": [
              "IPY_MODEL_361f128b619443a1a3fce75156fd681b",
              "IPY_MODEL_ce9b61fb31684630bed2f16038193c16"
            ]
          }
        },
        "4a2499a5eada454c825c94b1893777e6": {
          "model_module": "@jupyter-widgets/base",
          "model_name": "LayoutModel",
          "state": {
            "_view_name": "LayoutView",
            "grid_template_rows": null,
            "right": null,
            "justify_content": null,
            "_view_module": "@jupyter-widgets/base",
            "overflow": null,
            "_model_module_version": "1.2.0",
            "_view_count": null,
            "flex_flow": null,
            "width": null,
            "min_width": null,
            "border": null,
            "align_items": null,
            "bottom": null,
            "_model_module": "@jupyter-widgets/base",
            "top": null,
            "grid_column": null,
            "overflow_y": null,
            "overflow_x": null,
            "grid_auto_flow": null,
            "grid_area": null,
            "grid_template_columns": null,
            "flex": null,
            "_model_name": "LayoutModel",
            "justify_items": null,
            "grid_row": null,
            "max_height": null,
            "align_content": null,
            "visibility": null,
            "align_self": null,
            "height": null,
            "min_height": null,
            "padding": null,
            "grid_auto_rows": null,
            "grid_gap": null,
            "max_width": null,
            "order": null,
            "_view_module_version": "1.2.0",
            "grid_template_areas": null,
            "object_position": null,
            "object_fit": null,
            "grid_auto_columns": null,
            "margin": null,
            "display": null,
            "left": null
          }
        },
        "361f128b619443a1a3fce75156fd681b": {
          "model_module": "@jupyter-widgets/controls",
          "model_name": "FloatProgressModel",
          "state": {
            "_view_name": "ProgressView",
            "style": "IPY_MODEL_a9315501ec404a6e94952ef64b97590d",
            "_dom_classes": [],
            "description": "100%",
            "_model_name": "FloatProgressModel",
            "bar_style": "success",
            "max": 20,
            "_view_module": "@jupyter-widgets/controls",
            "_model_module_version": "1.5.0",
            "value": 20,
            "_view_count": null,
            "_view_module_version": "1.5.0",
            "orientation": "horizontal",
            "min": 0,
            "description_tooltip": null,
            "_model_module": "@jupyter-widgets/controls",
            "layout": "IPY_MODEL_a3ff5893d5a64bc0b96a0ee99d600aa7"
          }
        },
        "ce9b61fb31684630bed2f16038193c16": {
          "model_module": "@jupyter-widgets/controls",
          "model_name": "HTMLModel",
          "state": {
            "_view_name": "HTMLView",
            "style": "IPY_MODEL_c4c548b433024d4482e752e640d34f53",
            "_dom_classes": [],
            "description": "",
            "_model_name": "HTMLModel",
            "placeholder": "​",
            "_view_module": "@jupyter-widgets/controls",
            "_model_module_version": "1.5.0",
            "value": " 20/20 [03:56&lt;00:00, 11.84s/it]",
            "_view_count": null,
            "_view_module_version": "1.5.0",
            "description_tooltip": null,
            "_model_module": "@jupyter-widgets/controls",
            "layout": "IPY_MODEL_ad8b2a34ec7c4d9aad609bfaefbf9e5b"
          }
        },
        "a9315501ec404a6e94952ef64b97590d": {
          "model_module": "@jupyter-widgets/controls",
          "model_name": "ProgressStyleModel",
          "state": {
            "_view_name": "StyleView",
            "_model_name": "ProgressStyleModel",
            "description_width": "initial",
            "_view_module": "@jupyter-widgets/base",
            "_model_module_version": "1.5.0",
            "_view_count": null,
            "_view_module_version": "1.2.0",
            "bar_color": null,
            "_model_module": "@jupyter-widgets/controls"
          }
        },
        "a3ff5893d5a64bc0b96a0ee99d600aa7": {
          "model_module": "@jupyter-widgets/base",
          "model_name": "LayoutModel",
          "state": {
            "_view_name": "LayoutView",
            "grid_template_rows": null,
            "right": null,
            "justify_content": null,
            "_view_module": "@jupyter-widgets/base",
            "overflow": null,
            "_model_module_version": "1.2.0",
            "_view_count": null,
            "flex_flow": null,
            "width": null,
            "min_width": null,
            "border": null,
            "align_items": null,
            "bottom": null,
            "_model_module": "@jupyter-widgets/base",
            "top": null,
            "grid_column": null,
            "overflow_y": null,
            "overflow_x": null,
            "grid_auto_flow": null,
            "grid_area": null,
            "grid_template_columns": null,
            "flex": null,
            "_model_name": "LayoutModel",
            "justify_items": null,
            "grid_row": null,
            "max_height": null,
            "align_content": null,
            "visibility": null,
            "align_self": null,
            "height": null,
            "min_height": null,
            "padding": null,
            "grid_auto_rows": null,
            "grid_gap": null,
            "max_width": null,
            "order": null,
            "_view_module_version": "1.2.0",
            "grid_template_areas": null,
            "object_position": null,
            "object_fit": null,
            "grid_auto_columns": null,
            "margin": null,
            "display": null,
            "left": null
          }
        },
        "c4c548b433024d4482e752e640d34f53": {
          "model_module": "@jupyter-widgets/controls",
          "model_name": "DescriptionStyleModel",
          "state": {
            "_view_name": "StyleView",
            "_model_name": "DescriptionStyleModel",
            "description_width": "",
            "_view_module": "@jupyter-widgets/base",
            "_model_module_version": "1.5.0",
            "_view_count": null,
            "_view_module_version": "1.2.0",
            "_model_module": "@jupyter-widgets/controls"
          }
        },
        "ad8b2a34ec7c4d9aad609bfaefbf9e5b": {
          "model_module": "@jupyter-widgets/base",
          "model_name": "LayoutModel",
          "state": {
            "_view_name": "LayoutView",
            "grid_template_rows": null,
            "right": null,
            "justify_content": null,
            "_view_module": "@jupyter-widgets/base",
            "overflow": null,
            "_model_module_version": "1.2.0",
            "_view_count": null,
            "flex_flow": null,
            "width": null,
            "min_width": null,
            "border": null,
            "align_items": null,
            "bottom": null,
            "_model_module": "@jupyter-widgets/base",
            "top": null,
            "grid_column": null,
            "overflow_y": null,
            "overflow_x": null,
            "grid_auto_flow": null,
            "grid_area": null,
            "grid_template_columns": null,
            "flex": null,
            "_model_name": "LayoutModel",
            "justify_items": null,
            "grid_row": null,
            "max_height": null,
            "align_content": null,
            "visibility": null,
            "align_self": null,
            "height": null,
            "min_height": null,
            "padding": null,
            "grid_auto_rows": null,
            "grid_gap": null,
            "max_width": null,
            "order": null,
            "_view_module_version": "1.2.0",
            "grid_template_areas": null,
            "object_position": null,
            "object_fit": null,
            "grid_auto_columns": null,
            "margin": null,
            "display": null,
            "left": null
          }
        },
        "36565e7a21db436dbebbc939585081ca": {
          "model_module": "@jupyter-widgets/controls",
          "model_name": "HBoxModel",
          "state": {
            "_view_name": "HBoxView",
            "_dom_classes": [],
            "_model_name": "HBoxModel",
            "_view_module": "@jupyter-widgets/controls",
            "_model_module_version": "1.5.0",
            "_view_count": null,
            "_view_module_version": "1.5.0",
            "box_style": "",
            "layout": "IPY_MODEL_e651c00f4a8d4c7d9553437e5ad189b8",
            "_model_module": "@jupyter-widgets/controls",
            "children": [
              "IPY_MODEL_a755f141b81b4ac29726f6fd2b36bebc",
              "IPY_MODEL_a8600b52962a47bf9ac8e017f054ddb7"
            ]
          }
        },
        "e651c00f4a8d4c7d9553437e5ad189b8": {
          "model_module": "@jupyter-widgets/base",
          "model_name": "LayoutModel",
          "state": {
            "_view_name": "LayoutView",
            "grid_template_rows": null,
            "right": null,
            "justify_content": null,
            "_view_module": "@jupyter-widgets/base",
            "overflow": null,
            "_model_module_version": "1.2.0",
            "_view_count": null,
            "flex_flow": null,
            "width": null,
            "min_width": null,
            "border": null,
            "align_items": null,
            "bottom": null,
            "_model_module": "@jupyter-widgets/base",
            "top": null,
            "grid_column": null,
            "overflow_y": null,
            "overflow_x": null,
            "grid_auto_flow": null,
            "grid_area": null,
            "grid_template_columns": null,
            "flex": null,
            "_model_name": "LayoutModel",
            "justify_items": null,
            "grid_row": null,
            "max_height": null,
            "align_content": null,
            "visibility": null,
            "align_self": null,
            "height": null,
            "min_height": null,
            "padding": null,
            "grid_auto_rows": null,
            "grid_gap": null,
            "max_width": null,
            "order": null,
            "_view_module_version": "1.2.0",
            "grid_template_areas": null,
            "object_position": null,
            "object_fit": null,
            "grid_auto_columns": null,
            "margin": null,
            "display": null,
            "left": null
          }
        },
        "a755f141b81b4ac29726f6fd2b36bebc": {
          "model_module": "@jupyter-widgets/controls",
          "model_name": "FloatProgressModel",
          "state": {
            "_view_name": "ProgressView",
            "style": "IPY_MODEL_d23c6e3244894797a894402923c7d765",
            "_dom_classes": [],
            "description": "100%",
            "_model_name": "FloatProgressModel",
            "bar_style": "success",
            "max": 20,
            "_view_module": "@jupyter-widgets/controls",
            "_model_module_version": "1.5.0",
            "value": 20,
            "_view_count": null,
            "_view_module_version": "1.5.0",
            "orientation": "horizontal",
            "min": 0,
            "description_tooltip": null,
            "_model_module": "@jupyter-widgets/controls",
            "layout": "IPY_MODEL_2b5f8380986b4df3bdd734b64df178b7"
          }
        },
        "a8600b52962a47bf9ac8e017f054ddb7": {
          "model_module": "@jupyter-widgets/controls",
          "model_name": "HTMLModel",
          "state": {
            "_view_name": "HTMLView",
            "style": "IPY_MODEL_0dbcc0044d38465488d5f7aba0a85ec1",
            "_dom_classes": [],
            "description": "",
            "_model_name": "HTMLModel",
            "placeholder": "​",
            "_view_module": "@jupyter-widgets/controls",
            "_model_module_version": "1.5.0",
            "value": " 20/20 [03:54&lt;00:00, 11.70s/it]",
            "_view_count": null,
            "_view_module_version": "1.5.0",
            "description_tooltip": null,
            "_model_module": "@jupyter-widgets/controls",
            "layout": "IPY_MODEL_e50dc7fb1d8447f7a7fa7d734db06b5d"
          }
        },
        "d23c6e3244894797a894402923c7d765": {
          "model_module": "@jupyter-widgets/controls",
          "model_name": "ProgressStyleModel",
          "state": {
            "_view_name": "StyleView",
            "_model_name": "ProgressStyleModel",
            "description_width": "initial",
            "_view_module": "@jupyter-widgets/base",
            "_model_module_version": "1.5.0",
            "_view_count": null,
            "_view_module_version": "1.2.0",
            "bar_color": null,
            "_model_module": "@jupyter-widgets/controls"
          }
        },
        "2b5f8380986b4df3bdd734b64df178b7": {
          "model_module": "@jupyter-widgets/base",
          "model_name": "LayoutModel",
          "state": {
            "_view_name": "LayoutView",
            "grid_template_rows": null,
            "right": null,
            "justify_content": null,
            "_view_module": "@jupyter-widgets/base",
            "overflow": null,
            "_model_module_version": "1.2.0",
            "_view_count": null,
            "flex_flow": null,
            "width": null,
            "min_width": null,
            "border": null,
            "align_items": null,
            "bottom": null,
            "_model_module": "@jupyter-widgets/base",
            "top": null,
            "grid_column": null,
            "overflow_y": null,
            "overflow_x": null,
            "grid_auto_flow": null,
            "grid_area": null,
            "grid_template_columns": null,
            "flex": null,
            "_model_name": "LayoutModel",
            "justify_items": null,
            "grid_row": null,
            "max_height": null,
            "align_content": null,
            "visibility": null,
            "align_self": null,
            "height": null,
            "min_height": null,
            "padding": null,
            "grid_auto_rows": null,
            "grid_gap": null,
            "max_width": null,
            "order": null,
            "_view_module_version": "1.2.0",
            "grid_template_areas": null,
            "object_position": null,
            "object_fit": null,
            "grid_auto_columns": null,
            "margin": null,
            "display": null,
            "left": null
          }
        },
        "0dbcc0044d38465488d5f7aba0a85ec1": {
          "model_module": "@jupyter-widgets/controls",
          "model_name": "DescriptionStyleModel",
          "state": {
            "_view_name": "StyleView",
            "_model_name": "DescriptionStyleModel",
            "description_width": "",
            "_view_module": "@jupyter-widgets/base",
            "_model_module_version": "1.5.0",
            "_view_count": null,
            "_view_module_version": "1.2.0",
            "_model_module": "@jupyter-widgets/controls"
          }
        },
        "e50dc7fb1d8447f7a7fa7d734db06b5d": {
          "model_module": "@jupyter-widgets/base",
          "model_name": "LayoutModel",
          "state": {
            "_view_name": "LayoutView",
            "grid_template_rows": null,
            "right": null,
            "justify_content": null,
            "_view_module": "@jupyter-widgets/base",
            "overflow": null,
            "_model_module_version": "1.2.0",
            "_view_count": null,
            "flex_flow": null,
            "width": null,
            "min_width": null,
            "border": null,
            "align_items": null,
            "bottom": null,
            "_model_module": "@jupyter-widgets/base",
            "top": null,
            "grid_column": null,
            "overflow_y": null,
            "overflow_x": null,
            "grid_auto_flow": null,
            "grid_area": null,
            "grid_template_columns": null,
            "flex": null,
            "_model_name": "LayoutModel",
            "justify_items": null,
            "grid_row": null,
            "max_height": null,
            "align_content": null,
            "visibility": null,
            "align_self": null,
            "height": null,
            "min_height": null,
            "padding": null,
            "grid_auto_rows": null,
            "grid_gap": null,
            "max_width": null,
            "order": null,
            "_view_module_version": "1.2.0",
            "grid_template_areas": null,
            "object_position": null,
            "object_fit": null,
            "grid_auto_columns": null,
            "margin": null,
            "display": null,
            "left": null
          }
        },
        "afcacdfe384945bca3322fb821e73c6f": {
          "model_module": "@jupyter-widgets/controls",
          "model_name": "HBoxModel",
          "state": {
            "_view_name": "HBoxView",
            "_dom_classes": [],
            "_model_name": "HBoxModel",
            "_view_module": "@jupyter-widgets/controls",
            "_model_module_version": "1.5.0",
            "_view_count": null,
            "_view_module_version": "1.5.0",
            "box_style": "",
            "layout": "IPY_MODEL_f47321010840404d830fcd238e2b87ef",
            "_model_module": "@jupyter-widgets/controls",
            "children": [
              "IPY_MODEL_5b0ad3faa1c943ba859bd8e22578515c",
              "IPY_MODEL_879df305ffda419086767319a6a2657d"
            ]
          }
        },
        "f47321010840404d830fcd238e2b87ef": {
          "model_module": "@jupyter-widgets/base",
          "model_name": "LayoutModel",
          "state": {
            "_view_name": "LayoutView",
            "grid_template_rows": null,
            "right": null,
            "justify_content": null,
            "_view_module": "@jupyter-widgets/base",
            "overflow": null,
            "_model_module_version": "1.2.0",
            "_view_count": null,
            "flex_flow": null,
            "width": null,
            "min_width": null,
            "border": null,
            "align_items": null,
            "bottom": null,
            "_model_module": "@jupyter-widgets/base",
            "top": null,
            "grid_column": null,
            "overflow_y": null,
            "overflow_x": null,
            "grid_auto_flow": null,
            "grid_area": null,
            "grid_template_columns": null,
            "flex": null,
            "_model_name": "LayoutModel",
            "justify_items": null,
            "grid_row": null,
            "max_height": null,
            "align_content": null,
            "visibility": null,
            "align_self": null,
            "height": null,
            "min_height": null,
            "padding": null,
            "grid_auto_rows": null,
            "grid_gap": null,
            "max_width": null,
            "order": null,
            "_view_module_version": "1.2.0",
            "grid_template_areas": null,
            "object_position": null,
            "object_fit": null,
            "grid_auto_columns": null,
            "margin": null,
            "display": null,
            "left": null
          }
        },
        "5b0ad3faa1c943ba859bd8e22578515c": {
          "model_module": "@jupyter-widgets/controls",
          "model_name": "FloatProgressModel",
          "state": {
            "_view_name": "ProgressView",
            "style": "IPY_MODEL_37c6c25a6d384dd38d0b5237f3c08593",
            "_dom_classes": [],
            "description": " 50%",
            "_model_name": "FloatProgressModel",
            "bar_style": "",
            "max": 20,
            "_view_module": "@jupyter-widgets/controls",
            "_model_module_version": "1.5.0",
            "value": 10,
            "_view_count": null,
            "_view_module_version": "1.5.0",
            "orientation": "horizontal",
            "min": 0,
            "description_tooltip": null,
            "_model_module": "@jupyter-widgets/controls",
            "layout": "IPY_MODEL_9bf68b67d7594ac3a06706a900edab69"
          }
        },
        "879df305ffda419086767319a6a2657d": {
          "model_module": "@jupyter-widgets/controls",
          "model_name": "HTMLModel",
          "state": {
            "_view_name": "HTMLView",
            "style": "IPY_MODEL_085656aac8ae43d3a6ac108827fa90f9",
            "_dom_classes": [],
            "description": "",
            "_model_name": "HTMLModel",
            "placeholder": "​",
            "_view_module": "@jupyter-widgets/controls",
            "_model_module_version": "1.5.0",
            "value": " 10/20 [01:56&lt;01:56, 11.63s/it]",
            "_view_count": null,
            "_view_module_version": "1.5.0",
            "description_tooltip": null,
            "_model_module": "@jupyter-widgets/controls",
            "layout": "IPY_MODEL_2337a11daa414546ae3523ff4e691cbc"
          }
        },
        "37c6c25a6d384dd38d0b5237f3c08593": {
          "model_module": "@jupyter-widgets/controls",
          "model_name": "ProgressStyleModel",
          "state": {
            "_view_name": "StyleView",
            "_model_name": "ProgressStyleModel",
            "description_width": "initial",
            "_view_module": "@jupyter-widgets/base",
            "_model_module_version": "1.5.0",
            "_view_count": null,
            "_view_module_version": "1.2.0",
            "bar_color": null,
            "_model_module": "@jupyter-widgets/controls"
          }
        },
        "9bf68b67d7594ac3a06706a900edab69": {
          "model_module": "@jupyter-widgets/base",
          "model_name": "LayoutModel",
          "state": {
            "_view_name": "LayoutView",
            "grid_template_rows": null,
            "right": null,
            "justify_content": null,
            "_view_module": "@jupyter-widgets/base",
            "overflow": null,
            "_model_module_version": "1.2.0",
            "_view_count": null,
            "flex_flow": null,
            "width": null,
            "min_width": null,
            "border": null,
            "align_items": null,
            "bottom": null,
            "_model_module": "@jupyter-widgets/base",
            "top": null,
            "grid_column": null,
            "overflow_y": null,
            "overflow_x": null,
            "grid_auto_flow": null,
            "grid_area": null,
            "grid_template_columns": null,
            "flex": null,
            "_model_name": "LayoutModel",
            "justify_items": null,
            "grid_row": null,
            "max_height": null,
            "align_content": null,
            "visibility": null,
            "align_self": null,
            "height": null,
            "min_height": null,
            "padding": null,
            "grid_auto_rows": null,
            "grid_gap": null,
            "max_width": null,
            "order": null,
            "_view_module_version": "1.2.0",
            "grid_template_areas": null,
            "object_position": null,
            "object_fit": null,
            "grid_auto_columns": null,
            "margin": null,
            "display": null,
            "left": null
          }
        },
        "085656aac8ae43d3a6ac108827fa90f9": {
          "model_module": "@jupyter-widgets/controls",
          "model_name": "DescriptionStyleModel",
          "state": {
            "_view_name": "StyleView",
            "_model_name": "DescriptionStyleModel",
            "description_width": "",
            "_view_module": "@jupyter-widgets/base",
            "_model_module_version": "1.5.0",
            "_view_count": null,
            "_view_module_version": "1.2.0",
            "_model_module": "@jupyter-widgets/controls"
          }
        },
        "2337a11daa414546ae3523ff4e691cbc": {
          "model_module": "@jupyter-widgets/base",
          "model_name": "LayoutModel",
          "state": {
            "_view_name": "LayoutView",
            "grid_template_rows": null,
            "right": null,
            "justify_content": null,
            "_view_module": "@jupyter-widgets/base",
            "overflow": null,
            "_model_module_version": "1.2.0",
            "_view_count": null,
            "flex_flow": null,
            "width": null,
            "min_width": null,
            "border": null,
            "align_items": null,
            "bottom": null,
            "_model_module": "@jupyter-widgets/base",
            "top": null,
            "grid_column": null,
            "overflow_y": null,
            "overflow_x": null,
            "grid_auto_flow": null,
            "grid_area": null,
            "grid_template_columns": null,
            "flex": null,
            "_model_name": "LayoutModel",
            "justify_items": null,
            "grid_row": null,
            "max_height": null,
            "align_content": null,
            "visibility": null,
            "align_self": null,
            "height": null,
            "min_height": null,
            "padding": null,
            "grid_auto_rows": null,
            "grid_gap": null,
            "max_width": null,
            "order": null,
            "_view_module_version": "1.2.0",
            "grid_template_areas": null,
            "object_position": null,
            "object_fit": null,
            "grid_auto_columns": null,
            "margin": null,
            "display": null,
            "left": null
          }
        }
      }
    }
  },
  "cells": [
    {
      "cell_type": "markdown",
      "metadata": {
        "id": "view-in-github",
        "colab_type": "text"
      },
      "source": [
        "<a href=\"https://colab.research.google.com/github/lordoz234/ML/blob/master/Untitled16.ipynb\" target=\"_parent\"><img src=\"https://colab.research.google.com/assets/colab-badge.svg\" alt=\"Open In Colab\"/></a>"
      ]
    },
    {
      "cell_type": "code",
      "metadata": {
        "id": "jT1lazpdBrkV",
        "colab_type": "code",
        "colab": {
          "base_uri": "https://localhost:8080/",
          "height": 34
        },
        "outputId": "cd693a91-99f3-46cc-ab38-08d1e8f3f9c8"
      },
      "source": [
        "from google.colab import drive\n",
        "drive.mount('/content/drive',force_remount=True)"
      ],
      "execution_count": 226,
      "outputs": [
        {
          "output_type": "stream",
          "text": [
            "Mounted at /content/drive\n"
          ],
          "name": "stdout"
        }
      ]
    },
    {
      "cell_type": "code",
      "metadata": {
        "id": "OH4Sikq8Bzgo",
        "colab_type": "code",
        "colab": {}
      },
      "source": [
        "import numpy as np\n",
        "import pandas as pd\n",
        "from matplotlib import pyplot as plt\n",
        "from tqdm import tqdm_notebook"
      ],
      "execution_count": 227,
      "outputs": []
    },
    {
      "cell_type": "code",
      "metadata": {
        "id": "f3g07OQ_B0ww",
        "colab_type": "code",
        "colab": {}
      },
      "source": [
        "data = pd.read_csv('/content/drive/My Drive/files/data_SAS.csv')"
      ],
      "execution_count": 228,
      "outputs": []
    },
    {
      "cell_type": "code",
      "metadata": {
        "id": "HtEcZRWRB2Fi",
        "colab_type": "code",
        "colab": {
          "base_uri": "https://localhost:8080/",
          "height": 391
        },
        "outputId": "07a2615d-9e57-4865-a7a6-7aaf68148cfc"
      },
      "source": [
        "data.info()"
      ],
      "execution_count": 229,
      "outputs": [
        {
          "output_type": "stream",
          "text": [
            "<class 'pandas.core.frame.DataFrame'>\n",
            "RangeIndex: 489 entries, 0 to 488\n",
            "Data columns (total 15 columns):\n",
            " #   Column                              Non-Null Count  Dtype  \n",
            "---  ------                              --------------  -----  \n",
            " 0   files                               489 non-null    object \n",
            " 1   eighvalue A                         489 non-null    float64\n",
            " 2   eighvalue L                         489 non-null    float64\n",
            " 3   algebraic_connectivity              489 non-null    float64\n",
            " 4   degree                              489 non-null    float64\n",
            " 5   maximal_matching                    489 non-null    float64\n",
            " 6   number_of_cliques                   489 non-null    float64\n",
            " 7   rich_club_coefficient               489 non-null    float64\n",
            " 8   average_shortest_path_length        489 non-null    float64\n",
            " 9   s_metric                            489 non-null    float64\n",
            " 10  wiener_index                        489 non-null    float64\n",
            " 11  single_source_shortest_path_length  489 non-null    float64\n",
            " 12  betweenness_centrality              489 non-null    float64\n",
            " 13  population                          489 non-null    object \n",
            " 14  super_population                    489 non-null    object \n",
            "dtypes: float64(12), object(3)\n",
            "memory usage: 57.4+ KB\n"
          ],
          "name": "stdout"
        }
      ]
    },
    {
      "cell_type": "code",
      "metadata": {
        "id": "FONTmPUxB3Tc",
        "colab_type": "code",
        "colab": {
          "base_uri": "https://localhost:8080/",
          "height": 179
        },
        "outputId": "238e25b3-069e-4317-f319-cdc088fb84d3"
      },
      "source": [
        "data.sample(3)"
      ],
      "execution_count": 230,
      "outputs": [
        {
          "output_type": "execute_result",
          "data": {
            "text/html": [
              "<div>\n",
              "<style scoped>\n",
              "    .dataframe tbody tr th:only-of-type {\n",
              "        vertical-align: middle;\n",
              "    }\n",
              "\n",
              "    .dataframe tbody tr th {\n",
              "        vertical-align: top;\n",
              "    }\n",
              "\n",
              "    .dataframe thead th {\n",
              "        text-align: right;\n",
              "    }\n",
              "</style>\n",
              "<table border=\"1\" class=\"dataframe\">\n",
              "  <thead>\n",
              "    <tr style=\"text-align: right;\">\n",
              "      <th></th>\n",
              "      <th>files</th>\n",
              "      <th>eighvalue A</th>\n",
              "      <th>eighvalue L</th>\n",
              "      <th>algebraic_connectivity</th>\n",
              "      <th>degree</th>\n",
              "      <th>maximal_matching</th>\n",
              "      <th>number_of_cliques</th>\n",
              "      <th>rich_club_coefficient</th>\n",
              "      <th>average_shortest_path_length</th>\n",
              "      <th>s_metric</th>\n",
              "      <th>wiener_index</th>\n",
              "      <th>single_source_shortest_path_length</th>\n",
              "      <th>betweenness_centrality</th>\n",
              "      <th>population</th>\n",
              "      <th>super_population</th>\n",
              "    </tr>\n",
              "  </thead>\n",
              "  <tbody>\n",
              "    <tr>\n",
              "      <th>253</th>\n",
              "      <td>HG03870.txt</td>\n",
              "      <td>0.941295</td>\n",
              "      <td>0.962791</td>\n",
              "      <td>0.083333</td>\n",
              "      <td>0.887370</td>\n",
              "      <td>0.842105</td>\n",
              "      <td>0.966912</td>\n",
              "      <td>0.910156</td>\n",
              "      <td>0.992912</td>\n",
              "      <td>0.785121</td>\n",
              "      <td>0.928126</td>\n",
              "      <td>0.966912</td>\n",
              "      <td>0.259986</td>\n",
              "      <td>ITU</td>\n",
              "      <td>SAS</td>\n",
              "    </tr>\n",
              "    <tr>\n",
              "      <th>365</th>\n",
              "      <td>HG03757.txt</td>\n",
              "      <td>0.816137</td>\n",
              "      <td>0.992194</td>\n",
              "      <td>0.666667</td>\n",
              "      <td>0.675506</td>\n",
              "      <td>0.684211</td>\n",
              "      <td>0.983518</td>\n",
              "      <td>0.645242</td>\n",
              "      <td>0.995766</td>\n",
              "      <td>0.443663</td>\n",
              "      <td>0.986935</td>\n",
              "      <td>0.983518</td>\n",
              "      <td>0.352231</td>\n",
              "      <td>STU</td>\n",
              "      <td>SAS</td>\n",
              "    </tr>\n",
              "    <tr>\n",
              "      <th>333</th>\n",
              "      <td>HG03890.txt</td>\n",
              "      <td>0.568910</td>\n",
              "      <td>0.960971</td>\n",
              "      <td>0.333333</td>\n",
              "      <td>0.332769</td>\n",
              "      <td>0.578947</td>\n",
              "      <td>0.969203</td>\n",
              "      <td>0.334248</td>\n",
              "      <td>0.999125</td>\n",
              "      <td>0.104755</td>\n",
              "      <td>0.928894</td>\n",
              "      <td>0.969203</td>\n",
              "      <td>0.739934</td>\n",
              "      <td>STU</td>\n",
              "      <td>SAS</td>\n",
              "    </tr>\n",
              "  </tbody>\n",
              "</table>\n",
              "</div>"
            ],
            "text/plain": [
              "           files  eighvalue A  ...  population  super_population\n",
              "253  HG03870.txt     0.941295  ...         ITU               SAS\n",
              "365  HG03757.txt     0.816137  ...         STU               SAS\n",
              "333  HG03890.txt     0.568910  ...         STU               SAS\n",
              "\n",
              "[3 rows x 15 columns]"
            ]
          },
          "metadata": {
            "tags": []
          },
          "execution_count": 230
        }
      ]
    },
    {
      "cell_type": "code",
      "metadata": {
        "id": "WJ0f0A9xB7Vn",
        "colab_type": "code",
        "colab": {
          "base_uri": "https://localhost:8080/",
          "height": 179
        },
        "outputId": "2d859494-7351-42d8-e904-8647e4e09eac"
      },
      "source": [
        "data.sample(3)"
      ],
      "execution_count": 231,
      "outputs": [
        {
          "output_type": "execute_result",
          "data": {
            "text/html": [
              "<div>\n",
              "<style scoped>\n",
              "    .dataframe tbody tr th:only-of-type {\n",
              "        vertical-align: middle;\n",
              "    }\n",
              "\n",
              "    .dataframe tbody tr th {\n",
              "        vertical-align: top;\n",
              "    }\n",
              "\n",
              "    .dataframe thead th {\n",
              "        text-align: right;\n",
              "    }\n",
              "</style>\n",
              "<table border=\"1\" class=\"dataframe\">\n",
              "  <thead>\n",
              "    <tr style=\"text-align: right;\">\n",
              "      <th></th>\n",
              "      <th>files</th>\n",
              "      <th>eighvalue A</th>\n",
              "      <th>eighvalue L</th>\n",
              "      <th>algebraic_connectivity</th>\n",
              "      <th>degree</th>\n",
              "      <th>maximal_matching</th>\n",
              "      <th>number_of_cliques</th>\n",
              "      <th>rich_club_coefficient</th>\n",
              "      <th>average_shortest_path_length</th>\n",
              "      <th>s_metric</th>\n",
              "      <th>wiener_index</th>\n",
              "      <th>single_source_shortest_path_length</th>\n",
              "      <th>betweenness_centrality</th>\n",
              "      <th>population</th>\n",
              "      <th>super_population</th>\n",
              "    </tr>\n",
              "  </thead>\n",
              "  <tbody>\n",
              "    <tr>\n",
              "      <th>451</th>\n",
              "      <td>HG03619.txt</td>\n",
              "      <td>0.808921</td>\n",
              "      <td>0.974848</td>\n",
              "      <td>0.666667</td>\n",
              "      <td>0.663289</td>\n",
              "      <td>0.736842</td>\n",
              "      <td>0.973712</td>\n",
              "      <td>0.656651</td>\n",
              "      <td>0.995642</td>\n",
              "      <td>0.428179</td>\n",
              "      <td>0.952595</td>\n",
              "      <td>0.973712</td>\n",
              "      <td>0.358301</td>\n",
              "      <td>PJL</td>\n",
              "      <td>SAS</td>\n",
              "    </tr>\n",
              "    <tr>\n",
              "      <th>145</th>\n",
              "      <td>HG04195.txt</td>\n",
              "      <td>0.908041</td>\n",
              "      <td>0.984389</td>\n",
              "      <td>0.833333</td>\n",
              "      <td>0.830058</td>\n",
              "      <td>0.789474</td>\n",
              "      <td>0.984250</td>\n",
              "      <td>0.811466</td>\n",
              "      <td>0.993970</td>\n",
              "      <td>0.679863</td>\n",
              "      <td>0.969709</td>\n",
              "      <td>0.984250</td>\n",
              "      <td>0.281438</td>\n",
              "      <td>BEB</td>\n",
              "      <td>SAS</td>\n",
              "    </tr>\n",
              "    <tr>\n",
              "      <th>306</th>\n",
              "      <td>HG03862.txt</td>\n",
              "      <td>0.807470</td>\n",
              "      <td>0.971379</td>\n",
              "      <td>0.666667</td>\n",
              "      <td>0.660846</td>\n",
              "      <td>0.684211</td>\n",
              "      <td>0.981107</td>\n",
              "      <td>0.658981</td>\n",
              "      <td>0.995617</td>\n",
              "      <td>0.425115</td>\n",
              "      <td>0.945800</td>\n",
              "      <td>0.981107</td>\n",
              "      <td>0.359541</td>\n",
              "      <td>ITU</td>\n",
              "      <td>SAS</td>\n",
              "    </tr>\n",
              "  </tbody>\n",
              "</table>\n",
              "</div>"
            ],
            "text/plain": [
              "           files  eighvalue A  ...  population  super_population\n",
              "451  HG03619.txt     0.808921  ...         PJL               SAS\n",
              "145  HG04195.txt     0.908041  ...         BEB               SAS\n",
              "306  HG03862.txt     0.807470  ...         ITU               SAS\n",
              "\n",
              "[3 rows x 15 columns]"
            ]
          },
          "metadata": {
            "tags": []
          },
          "execution_count": 231
        }
      ]
    },
    {
      "cell_type": "code",
      "metadata": {
        "id": "pZ8NruDxB9-1",
        "colab_type": "code",
        "colab": {}
      },
      "source": [
        "data['population'] = data['population'].map({'ASW': 1, 'YRI': 2, 'LWK': 3, 'JPT': 4, 'CDX': 5, 'CEU': 6, 'CHB': 7, 'GIH': 8, 'GWD': 9, 'MSL': 10, 'IBS': 11, \n",
        "                                             'TSI': 12, 'PJL': 13, 'ESN': 14, 'MXL': 15, 'CLM': 16, 'PEL': 17, 'CHS': 18, 'PUR': 19, 'FIN': 20, 'KHV': 21,\n",
        "                                             'BEB': 22, 'ACB': 23, 'ITU': 24, 'GBR': 25, 'STU': 26})\n",
        "data['super_population'] = data['super_population'].map({'EUR': 1, 'EAS': 2, 'AMR': 3, 'SAS': 4, 'AFR': 5})"
      ],
      "execution_count": 232,
      "outputs": []
    },
    {
      "cell_type": "code",
      "metadata": {
        "id": "yP-FeqLRB_in",
        "colab_type": "code",
        "colab": {
          "base_uri": "https://localhost:8080/",
          "height": 272
        },
        "outputId": "b762d0ac-2543-4c63-f3bb-0a1645d07a53"
      },
      "source": [
        "data.set_index([\"super_population\", \"population\"]).count(level=\"population\")"
      ],
      "execution_count": 233,
      "outputs": [
        {
          "output_type": "execute_result",
          "data": {
            "text/html": [
              "<div>\n",
              "<style scoped>\n",
              "    .dataframe tbody tr th:only-of-type {\n",
              "        vertical-align: middle;\n",
              "    }\n",
              "\n",
              "    .dataframe tbody tr th {\n",
              "        vertical-align: top;\n",
              "    }\n",
              "\n",
              "    .dataframe thead th {\n",
              "        text-align: right;\n",
              "    }\n",
              "</style>\n",
              "<table border=\"1\" class=\"dataframe\">\n",
              "  <thead>\n",
              "    <tr style=\"text-align: right;\">\n",
              "      <th></th>\n",
              "      <th>files</th>\n",
              "      <th>eighvalue A</th>\n",
              "      <th>eighvalue L</th>\n",
              "      <th>algebraic_connectivity</th>\n",
              "      <th>degree</th>\n",
              "      <th>maximal_matching</th>\n",
              "      <th>number_of_cliques</th>\n",
              "      <th>rich_club_coefficient</th>\n",
              "      <th>average_shortest_path_length</th>\n",
              "      <th>s_metric</th>\n",
              "      <th>wiener_index</th>\n",
              "      <th>single_source_shortest_path_length</th>\n",
              "      <th>betweenness_centrality</th>\n",
              "    </tr>\n",
              "    <tr>\n",
              "      <th>population</th>\n",
              "      <th></th>\n",
              "      <th></th>\n",
              "      <th></th>\n",
              "      <th></th>\n",
              "      <th></th>\n",
              "      <th></th>\n",
              "      <th></th>\n",
              "      <th></th>\n",
              "      <th></th>\n",
              "      <th></th>\n",
              "      <th></th>\n",
              "      <th></th>\n",
              "      <th></th>\n",
              "    </tr>\n",
              "  </thead>\n",
              "  <tbody>\n",
              "    <tr>\n",
              "      <th>8</th>\n",
              "      <td>103</td>\n",
              "      <td>103</td>\n",
              "      <td>103</td>\n",
              "      <td>103</td>\n",
              "      <td>103</td>\n",
              "      <td>103</td>\n",
              "      <td>103</td>\n",
              "      <td>103</td>\n",
              "      <td>103</td>\n",
              "      <td>103</td>\n",
              "      <td>103</td>\n",
              "      <td>103</td>\n",
              "      <td>103</td>\n",
              "    </tr>\n",
              "    <tr>\n",
              "      <th>13</th>\n",
              "      <td>96</td>\n",
              "      <td>96</td>\n",
              "      <td>96</td>\n",
              "      <td>96</td>\n",
              "      <td>96</td>\n",
              "      <td>96</td>\n",
              "      <td>96</td>\n",
              "      <td>96</td>\n",
              "      <td>96</td>\n",
              "      <td>96</td>\n",
              "      <td>96</td>\n",
              "      <td>96</td>\n",
              "      <td>96</td>\n",
              "    </tr>\n",
              "    <tr>\n",
              "      <th>22</th>\n",
              "      <td>86</td>\n",
              "      <td>86</td>\n",
              "      <td>86</td>\n",
              "      <td>86</td>\n",
              "      <td>86</td>\n",
              "      <td>86</td>\n",
              "      <td>86</td>\n",
              "      <td>86</td>\n",
              "      <td>86</td>\n",
              "      <td>86</td>\n",
              "      <td>86</td>\n",
              "      <td>86</td>\n",
              "      <td>86</td>\n",
              "    </tr>\n",
              "    <tr>\n",
              "      <th>24</th>\n",
              "      <td>102</td>\n",
              "      <td>102</td>\n",
              "      <td>102</td>\n",
              "      <td>102</td>\n",
              "      <td>102</td>\n",
              "      <td>102</td>\n",
              "      <td>102</td>\n",
              "      <td>102</td>\n",
              "      <td>102</td>\n",
              "      <td>102</td>\n",
              "      <td>102</td>\n",
              "      <td>102</td>\n",
              "      <td>102</td>\n",
              "    </tr>\n",
              "    <tr>\n",
              "      <th>26</th>\n",
              "      <td>102</td>\n",
              "      <td>102</td>\n",
              "      <td>102</td>\n",
              "      <td>102</td>\n",
              "      <td>102</td>\n",
              "      <td>102</td>\n",
              "      <td>102</td>\n",
              "      <td>102</td>\n",
              "      <td>102</td>\n",
              "      <td>102</td>\n",
              "      <td>102</td>\n",
              "      <td>102</td>\n",
              "      <td>102</td>\n",
              "    </tr>\n",
              "  </tbody>\n",
              "</table>\n",
              "</div>"
            ],
            "text/plain": [
              "            files  ...  betweenness_centrality\n",
              "population         ...                        \n",
              "8             103  ...                     103\n",
              "13             96  ...                      96\n",
              "22             86  ...                      86\n",
              "24            102  ...                     102\n",
              "26            102  ...                     102\n",
              "\n",
              "[5 rows x 13 columns]"
            ]
          },
          "metadata": {
            "tags": []
          },
          "execution_count": 233
        }
      ]
    },
    {
      "cell_type": "code",
      "metadata": {
        "id": "oaPmcZWYCC8W",
        "colab_type": "code",
        "colab": {
          "base_uri": "https://localhost:8080/",
          "height": 179
        },
        "outputId": "be1fbd51-5254-4e44-9fd8-965c2c16c28a"
      },
      "source": [
        "data.sample(3)"
      ],
      "execution_count": 234,
      "outputs": [
        {
          "output_type": "execute_result",
          "data": {
            "text/html": [
              "<div>\n",
              "<style scoped>\n",
              "    .dataframe tbody tr th:only-of-type {\n",
              "        vertical-align: middle;\n",
              "    }\n",
              "\n",
              "    .dataframe tbody tr th {\n",
              "        vertical-align: top;\n",
              "    }\n",
              "\n",
              "    .dataframe thead th {\n",
              "        text-align: right;\n",
              "    }\n",
              "</style>\n",
              "<table border=\"1\" class=\"dataframe\">\n",
              "  <thead>\n",
              "    <tr style=\"text-align: right;\">\n",
              "      <th></th>\n",
              "      <th>files</th>\n",
              "      <th>eighvalue A</th>\n",
              "      <th>eighvalue L</th>\n",
              "      <th>algebraic_connectivity</th>\n",
              "      <th>degree</th>\n",
              "      <th>maximal_matching</th>\n",
              "      <th>number_of_cliques</th>\n",
              "      <th>rich_club_coefficient</th>\n",
              "      <th>average_shortest_path_length</th>\n",
              "      <th>s_metric</th>\n",
              "      <th>wiener_index</th>\n",
              "      <th>single_source_shortest_path_length</th>\n",
              "      <th>betweenness_centrality</th>\n",
              "      <th>population</th>\n",
              "      <th>super_population</th>\n",
              "    </tr>\n",
              "  </thead>\n",
              "  <tbody>\n",
              "    <tr>\n",
              "      <th>90</th>\n",
              "      <td>HG03775.txt</td>\n",
              "      <td>0.852210</td>\n",
              "      <td>0.962812</td>\n",
              "      <td>0.083333</td>\n",
              "      <td>0.732731</td>\n",
              "      <td>0.736842</td>\n",
              "      <td>0.975279</td>\n",
              "      <td>0.746042</td>\n",
              "      <td>0.994683</td>\n",
              "      <td>0.527503</td>\n",
              "      <td>0.929782</td>\n",
              "      <td>0.975279</td>\n",
              "      <td>0.320657</td>\n",
              "      <td>24</td>\n",
              "      <td>4</td>\n",
              "    </tr>\n",
              "    <tr>\n",
              "      <th>165</th>\n",
              "      <td>HG04020.txt</td>\n",
              "      <td>0.849496</td>\n",
              "      <td>0.956741</td>\n",
              "      <td>0.083333</td>\n",
              "      <td>0.727921</td>\n",
              "      <td>0.736842</td>\n",
              "      <td>0.966427</td>\n",
              "      <td>0.750734</td>\n",
              "      <td>0.994633</td>\n",
              "      <td>0.520817</td>\n",
              "      <td>0.918050</td>\n",
              "      <td>0.966427</td>\n",
              "      <td>0.322616</td>\n",
              "      <td>24</td>\n",
              "      <td>4</td>\n",
              "    </tr>\n",
              "    <tr>\n",
              "      <th>192</th>\n",
              "      <td>HG03772.txt</td>\n",
              "      <td>0.814339</td>\n",
              "      <td>0.987858</td>\n",
              "      <td>0.666667</td>\n",
              "      <td>0.672452</td>\n",
              "      <td>0.684211</td>\n",
              "      <td>0.971724</td>\n",
              "      <td>0.648057</td>\n",
              "      <td>0.995735</td>\n",
              "      <td>0.439766</td>\n",
              "      <td>0.978293</td>\n",
              "      <td>0.971724</td>\n",
              "      <td>0.353729</td>\n",
              "      <td>24</td>\n",
              "      <td>4</td>\n",
              "    </tr>\n",
              "  </tbody>\n",
              "</table>\n",
              "</div>"
            ],
            "text/plain": [
              "           files  eighvalue A  ...  population  super_population\n",
              "90   HG03775.txt     0.852210  ...          24                 4\n",
              "165  HG04020.txt     0.849496  ...          24                 4\n",
              "192  HG03772.txt     0.814339  ...          24                 4\n",
              "\n",
              "[3 rows x 15 columns]"
            ]
          },
          "metadata": {
            "tags": []
          },
          "execution_count": 234
        }
      ]
    },
    {
      "cell_type": "code",
      "metadata": {
        "id": "_hOlvr4KCDLo",
        "colab_type": "code",
        "colab": {
          "base_uri": "https://localhost:8080/",
          "height": 391
        },
        "outputId": "f3082b12-d795-4ea3-ce59-ef999be2c300"
      },
      "source": [
        "data.info()"
      ],
      "execution_count": 235,
      "outputs": [
        {
          "output_type": "stream",
          "text": [
            "<class 'pandas.core.frame.DataFrame'>\n",
            "RangeIndex: 489 entries, 0 to 488\n",
            "Data columns (total 15 columns):\n",
            " #   Column                              Non-Null Count  Dtype  \n",
            "---  ------                              --------------  -----  \n",
            " 0   files                               489 non-null    object \n",
            " 1   eighvalue A                         489 non-null    float64\n",
            " 2   eighvalue L                         489 non-null    float64\n",
            " 3   algebraic_connectivity              489 non-null    float64\n",
            " 4   degree                              489 non-null    float64\n",
            " 5   maximal_matching                    489 non-null    float64\n",
            " 6   number_of_cliques                   489 non-null    float64\n",
            " 7   rich_club_coefficient               489 non-null    float64\n",
            " 8   average_shortest_path_length        489 non-null    float64\n",
            " 9   s_metric                            489 non-null    float64\n",
            " 10  wiener_index                        489 non-null    float64\n",
            " 11  single_source_shortest_path_length  489 non-null    float64\n",
            " 12  betweenness_centrality              489 non-null    float64\n",
            " 13  population                          489 non-null    int64  \n",
            " 14  super_population                    489 non-null    int64  \n",
            "dtypes: float64(12), int64(2), object(1)\n",
            "memory usage: 57.4+ KB\n"
          ],
          "name": "stdout"
        }
      ]
    },
    {
      "cell_type": "code",
      "metadata": {
        "id": "r3vz2kRUCGNK",
        "colab_type": "code",
        "colab": {}
      },
      "source": [
        "filter = data['population'] == 13\n",
        "filter1 = data['population'] == 24\n",
        "data = data.where(filter | filter1)"
      ],
      "execution_count": 236,
      "outputs": []
    },
    {
      "cell_type": "code",
      "metadata": {
        "id": "XGmI1maTCI_M",
        "colab_type": "code",
        "colab": {
          "base_uri": "https://localhost:8080/",
          "height": 255
        },
        "outputId": "c4d6b0d7-f7f7-4b6d-d7a8-49f6b3d4eae3"
      },
      "source": [
        "data = data.dropna(axis=\"rows\", how=\"any\")\n",
        "print(data)"
      ],
      "execution_count": 237,
      "outputs": [
        {
          "output_type": "stream",
          "text": [
            "           files  eighvalue A  ...  population  super_population\n",
            "0    HG03717.txt     0.813259  ...        24.0               4.0\n",
            "1    HG03703.txt     0.914074  ...        13.0               4.0\n",
            "2    HG04093.txt     0.851043  ...        24.0               4.0\n",
            "6    HG03713.txt     0.947272  ...        24.0               4.0\n",
            "7    HG04054.txt     0.815059  ...        24.0               4.0\n",
            "..           ...          ...  ...         ...               ...\n",
            "473  HG03963.txt     0.855300  ...        24.0               4.0\n",
            "475  HG03785.txt     0.944715  ...        24.0               4.0\n",
            "476  HG04001.txt     0.859527  ...        24.0               4.0\n",
            "480  HG04015.txt     0.850272  ...        24.0               4.0\n",
            "482  HG02699.txt     0.891756  ...        13.0               4.0\n",
            "\n",
            "[198 rows x 15 columns]\n"
          ],
          "name": "stdout"
        }
      ]
    },
    {
      "cell_type": "code",
      "metadata": {
        "id": "0vFi_sw3CJeY",
        "colab_type": "code",
        "colab": {}
      },
      "source": [
        "X, y = data.drop(['population','files', 'super_population', 'eighvalue A',  'eighvalue L', 'algebraic_connectivity', 'betweenness_centrality', 'number_of_cliques', 'maximal_matching'], axis = 1), data['population']"
      ],
      "execution_count": 238,
      "outputs": []
    },
    {
      "cell_type": "code",
      "metadata": {
        "id": "yaK8osqbCNbN",
        "colab_type": "code",
        "colab": {
          "base_uri": "https://localhost:8080/",
          "height": 34
        },
        "outputId": "9585b86b-13c8-45d1-aca0-c3b4a0db9293"
      },
      "source": [
        "X.shape, y.shape"
      ],
      "execution_count": 239,
      "outputs": [
        {
          "output_type": "execute_result",
          "data": {
            "text/plain": [
              "((198, 6), (198,))"
            ]
          },
          "metadata": {
            "tags": []
          },
          "execution_count": 239
        }
      ]
    },
    {
      "cell_type": "code",
      "metadata": {
        "id": "UsPk6O8pCOz4",
        "colab_type": "code",
        "colab": {}
      },
      "source": [
        "from sklearn.model_selection import train_test_split"
      ],
      "execution_count": 240,
      "outputs": []
    },
    {
      "cell_type": "code",
      "metadata": {
        "id": "POrzqmV_CQD8",
        "colab_type": "code",
        "colab": {}
      },
      "source": [
        "X_train, X_holdout,  y_train, y_holdout = \\\n",
        "    train_test_split(X, y, test_size=.2, random_state=251)"
      ],
      "execution_count": 241,
      "outputs": []
    },
    {
      "cell_type": "code",
      "metadata": {
        "id": "6NruW4j9CRhB",
        "colab_type": "code",
        "colab": {
          "base_uri": "https://localhost:8080/",
          "height": 34
        },
        "outputId": "f6245b23-1a79-4f65-d440-fd964b94617c"
      },
      "source": [
        "X_train.shape, X_holdout.shape"
      ],
      "execution_count": 242,
      "outputs": [
        {
          "output_type": "execute_result",
          "data": {
            "text/plain": [
              "((158, 6), (40, 6))"
            ]
          },
          "metadata": {
            "tags": []
          },
          "execution_count": 242
        }
      ]
    },
    {
      "cell_type": "code",
      "metadata": {
        "id": "UR59krC_CVyk",
        "colab_type": "code",
        "colab": {}
      },
      "source": [
        "from sklearn.tree import DecisionTreeClassifier\n",
        "from sklearn.model_selection import GridSearchCV\n",
        "from sklearn.model_selection import cross_val_score, StratifiedKFold, ShuffleSplit, RepeatedKFold, cross_val_predict\n",
        "cv = ShuffleSplit(n_splits=1, test_size=0.2)"
      ],
      "execution_count": 243,
      "outputs": []
    },
    {
      "cell_type": "code",
      "metadata": {
        "id": "4WZPjlAuCjc7",
        "colab_type": "code",
        "colab": {}
      },
      "source": [
        "depth = np.arange(2, 52)\n",
        "parameters = {'criterion':('gini', 'entropy'),\n",
        "              'max_depth': depth\n",
        "             }\n",
        "best_tree = GridSearchCV(DecisionTreeClassifier(), parameters, scoring='accuracy', cv = cv)"
      ],
      "execution_count": 244,
      "outputs": []
    },
    {
      "cell_type": "code",
      "metadata": {
        "id": "L3tVTuDJDc2d",
        "colab_type": "code",
        "colab": {
          "base_uri": "https://localhost:8080/",
          "height": 468,
          "referenced_widgets": [
            "f879ac7043134eb8b8b7ee671b825d18",
            "62a1889ed60f4acc8de379f82e25c676",
            "bbc883cedb844cbc99d84bc1e85b3b6c",
            "2242e1a6da2b4c55bacf09dfab570516",
            "a9626c78c3d94d0f81ab2de825b4c7f9",
            "dbd0184a5cdd45dba036f63e25236fc7",
            "3cc5b2538c56466195d752b63dd201aa",
            "61c9105da29746f7b2a629183767e5cf",
            "a0b866a75c6a4572865d06e7e30d4f7d",
            "869142cf57054613acfdc932622da41b",
            "0041d227e9ad4124b03021c418d45145",
            "60e318b999d24f559835467fb7b3e7e2",
            "928b37c296154e38a4a64b6e3950fecc",
            "1e5c7a06cb284b8d97a6486813f6fc35",
            "d84d66fde4664bfd85efd1e5dea6d9d5",
            "a63f4dd8183341d586f46aad0c0649a1",
            "cc7ec9503a5b486cb7876fbd95b48b0c",
            "6b898b458e654eedb13d870a5a49bfb3",
            "0bff0d27cfa344bea2d7f3b73c67e015",
            "b97e07e819cb4c2a9ea9896d2e860fc5",
            "fcf662e512d24699864179351b9e5426",
            "511feec6847f4df8982c94b73a2d23a7",
            "50ab8ce4c6e0429ebc3fb4c973a8c6b7",
            "970539425aca48ebb62e49ba90ce0e24",
            "9d27b9869d66496f87457b3b039cf763",
            "90531eb0a531408bbbf870e197f248c3",
            "979699192c7746d3b01e18615330e802",
            "4a2c8e957ffb4b3aa551212f4ab3c6db",
            "9250c3c6b9a74e6e914e8cd88068019b",
            "5cbb5ff6fb9d4fe48ee582288d8da989",
            "f71b31a2869945dbbc38f137f6937bb0",
            "6073345fa5424701889d7b13c9999c9c"
          ]
        },
        "outputId": "e3ebda2f-8c24-4cda-a381-6ac10eecd832"
      },
      "source": [
        "ans1 = 0\n",
        "ans = []\n",
        "xx = np.arange(0, 20)\n",
        "for i in tqdm_notebook(xx):\n",
        "    best_tree.fit(X_train, y_train)\n",
        "    ans.append(best_tree.best_score_)\n",
        "ans.sort()\n",
        "ans1 += (ans[9] + ans[10])/2\n",
        "print((ans[9] + ans[10])/2)\n",
        "ans = []\n",
        "xx = np.arange(0, 20)\n",
        "for i in tqdm_notebook(xx):\n",
        "    best_tree.fit(X_train, y_train)\n",
        "    ans.append(best_tree.best_score_)\n",
        "ans.sort()\n",
        "ans1 += (ans[9] + ans[10])/2\n",
        "print((ans[9] + ans[10])/2)\n",
        "ans = []\n",
        "xx = np.arange(0, 20)\n",
        "for i in tqdm_notebook(xx):\n",
        "    best_tree.fit(X_train, y_train)\n",
        "    ans.append(best_tree.best_score_)\n",
        "ans.sort()\n",
        "ans1 += (ans[9] + ans[10])/2\n",
        "print((ans[9] + ans[10])/2)\n",
        "ans = []\n",
        "xx = np.arange(0, 20)\n",
        "for i in tqdm_notebook(xx):\n",
        "    best_tree.fit(X_train, y_train)\n",
        "    ans.append(best_tree.best_score_)\n",
        "ans.sort()\n",
        "ans1 += (ans[9] + ans[10])/2\n",
        "print((ans[9] + ans[10])/2)\n",
        "print(ans1/4)"
      ],
      "execution_count": 249,
      "outputs": [
        {
          "output_type": "stream",
          "text": [
            "/usr/local/lib/python3.6/dist-packages/ipykernel_launcher.py:4: TqdmDeprecationWarning: This function will be removed in tqdm==5.0.0\n",
            "Please use `tqdm.notebook.tqdm` instead of `tqdm.tqdm_notebook`\n",
            "  after removing the cwd from sys.path.\n"
          ],
          "name": "stderr"
        },
        {
          "output_type": "display_data",
          "data": {
            "application/vnd.jupyter.widget-view+json": {
              "model_id": "f879ac7043134eb8b8b7ee671b825d18",
              "version_minor": 0,
              "version_major": 2
            },
            "text/plain": [
              "HBox(children=(FloatProgress(value=0.0, max=20.0), HTML(value='')))"
            ]
          },
          "metadata": {
            "tags": []
          }
        },
        {
          "output_type": "stream",
          "text": [
            "\n",
            "0.625\n"
          ],
          "name": "stdout"
        },
        {
          "output_type": "stream",
          "text": [
            "/usr/local/lib/python3.6/dist-packages/ipykernel_launcher.py:12: TqdmDeprecationWarning: This function will be removed in tqdm==5.0.0\n",
            "Please use `tqdm.notebook.tqdm` instead of `tqdm.tqdm_notebook`\n",
            "  if sys.path[0] == '':\n"
          ],
          "name": "stderr"
        },
        {
          "output_type": "display_data",
          "data": {
            "application/vnd.jupyter.widget-view+json": {
              "model_id": "a0b866a75c6a4572865d06e7e30d4f7d",
              "version_minor": 0,
              "version_major": 2
            },
            "text/plain": [
              "HBox(children=(FloatProgress(value=0.0, max=20.0), HTML(value='')))"
            ]
          },
          "metadata": {
            "tags": []
          }
        },
        {
          "output_type": "stream",
          "text": [
            "\n",
            "0.640625\n"
          ],
          "name": "stdout"
        },
        {
          "output_type": "stream",
          "text": [
            "/usr/local/lib/python3.6/dist-packages/ipykernel_launcher.py:20: TqdmDeprecationWarning: This function will be removed in tqdm==5.0.0\n",
            "Please use `tqdm.notebook.tqdm` instead of `tqdm.tqdm_notebook`\n"
          ],
          "name": "stderr"
        },
        {
          "output_type": "display_data",
          "data": {
            "application/vnd.jupyter.widget-view+json": {
              "model_id": "cc7ec9503a5b486cb7876fbd95b48b0c",
              "version_minor": 0,
              "version_major": 2
            },
            "text/plain": [
              "HBox(children=(FloatProgress(value=0.0, max=20.0), HTML(value='')))"
            ]
          },
          "metadata": {
            "tags": []
          }
        },
        {
          "output_type": "stream",
          "text": [
            "\n",
            "0.59375\n"
          ],
          "name": "stdout"
        },
        {
          "output_type": "stream",
          "text": [
            "/usr/local/lib/python3.6/dist-packages/ipykernel_launcher.py:28: TqdmDeprecationWarning: This function will be removed in tqdm==5.0.0\n",
            "Please use `tqdm.notebook.tqdm` instead of `tqdm.tqdm_notebook`\n"
          ],
          "name": "stderr"
        },
        {
          "output_type": "display_data",
          "data": {
            "application/vnd.jupyter.widget-view+json": {
              "model_id": "9d27b9869d66496f87457b3b039cf763",
              "version_minor": 0,
              "version_major": 2
            },
            "text/plain": [
              "HBox(children=(FloatProgress(value=0.0, max=20.0), HTML(value='')))"
            ]
          },
          "metadata": {
            "tags": []
          }
        },
        {
          "output_type": "stream",
          "text": [
            "\n",
            "0.609375\n",
            "0.6171875\n"
          ],
          "name": "stdout"
        }
      ]
    },
    {
      "cell_type": "code",
      "metadata": {
        "id": "4AIljBnmIk99",
        "colab_type": "code",
        "colab": {}
      },
      "source": [
        "from sklearn.neighbors import KNeighborsClassifier"
      ],
      "execution_count": 246,
      "outputs": []
    },
    {
      "cell_type": "code",
      "metadata": {
        "id": "bCzUdu_CIxu0",
        "colab_type": "code",
        "colab": {}
      },
      "source": [
        "param_grid = {'n_neighbors':np.arange(1,62), \n",
        "              'weights': ['uniform', 'distance'],\n",
        "              'metric': ['minkowski', 'euclidean', 'manhattan']}\n",
        "best_knn = GridSearchCV(KNeighborsClassifier(), param_grid=param_grid, scoring='accuracy', cv = cv)"
      ],
      "execution_count": 247,
      "outputs": []
    },
    {
      "cell_type": "code",
      "metadata": {
        "id": "n4jXNyC9JSAq",
        "colab_type": "code",
        "colab": {}
      },
      "source": [
        "ans1 = 0\n",
        "ans = []\n",
        "xx = np.arange(0, 20)\n",
        "for i in tqdm_notebook(xx):\n",
        "    best_knn.fit(X_train, y_train)\n",
        "    ans.append(best_knn.best_score_)\n",
        "ans.sort()\n",
        "ans1 += (ans[9] + ans[10])/2\n",
        "print((ans[9] + ans[10])/2)\n",
        "ans = []\n",
        "xx = np.arange(0, 20)\n",
        "for i in tqdm_notebook(xx):\n",
        "    best_knn.fit(X_train, y_train)\n",
        "    ans.append(best_knn.best_score_)\n",
        "ans.sort()\n",
        "ans1 += (ans[9] + ans[10])/2\n",
        "print((ans[9] + ans[10])/2)\n",
        "ans = []\n",
        "xx = np.arange(0, 20)\n",
        "for i in tqdm_notebook(xx):\n",
        "    best_knn.fit(X_train, y_train)\n",
        "    ans.append(best_knn.best_score_)\n",
        "ans.sort()\n",
        "ans1 += (ans[9] + ans[10])/2\n",
        "print((ans[9] + ans[10])/2)\n",
        "ans = []\n",
        "xx = np.arange(0, 20)\n",
        "for i in tqdm_notebook(xx):\n",
        "    best_knn.fit(X_train, y_train)\n",
        "    ans.append(best_knn.best_score_)\n",
        "ans.sort()\n",
        "ans1 += (ans[9] + ans[10])/2\n",
        "print((ans[9] + ans[10])/2)\n",
        "print(ans1/4)"
      ],
      "execution_count": null,
      "outputs": []
    },
    {
      "cell_type": "code",
      "metadata": {
        "id": "pUpjB88pKwV2",
        "colab_type": "code",
        "colab": {}
      },
      "source": [
        "from sklearn.ensemble import RandomForestClassifier"
      ],
      "execution_count": null,
      "outputs": []
    },
    {
      "cell_type": "code",
      "metadata": {
        "id": "WRIV6JBSI1Ve",
        "colab_type": "code",
        "colab": {}
      },
      "source": [
        "param_grid = {\n",
        "    'n_estimators': [200],\n",
        "    'max_features': ['sqrt'],\n",
        "    'max_depth' : range(2, 20, 3),\n",
        "    'criterion' :['gini', 'entropy'],\n",
        "}\n",
        "best_forest = GridSearchCV(RandomForestClassifier(), param_grid=param_grid, scoring='accuracy', cv = cv)"
      ],
      "execution_count": null,
      "outputs": []
    },
    {
      "cell_type": "code",
      "metadata": {
        "id": "s0C18VALK7ES",
        "colab_type": "code",
        "colab": {}
      },
      "source": [
        "ans1 = 0\n",
        "ans = []\n",
        "xx = np.arange(0, 20)\n",
        "for i in tqdm_notebook(xx):\n",
        "    best_forest.fit(X_train, y_train)\n",
        "    ans.append(best_forest.best_score_)\n",
        "ans.sort()\n",
        "ans1 += (ans[9] + ans[10])/2\n",
        "print((ans[9] + ans[10])/2)\n",
        "ans = []\n",
        "xx = np.arange(0, 20)\n",
        "for i in tqdm_notebook(xx):\n",
        "    best_forest.fit(X_train, y_train)\n",
        "    ans.append(best_forest.best_score_)\n",
        "ans.sort()\n",
        "ans1 += (ans[9] + ans[10])/2\n",
        "print((ans[9] + ans[10])/2)\n",
        "ans = []\n",
        "xx = np.arange(0, 20)\n",
        "for i in tqdm_notebook(xx):\n",
        "    best_forest.fit(X_train, y_train)\n",
        "    ans.append(best_forest.best_score_)\n",
        "ans.sort()\n",
        "ans1 += (ans[9] + ans[10])/2\n",
        "print((ans[9] + ans[10])/2)\n",
        "ans = []\n",
        "xx = np.arange(0, 20)\n",
        "for i in tqdm_notebook(xx):\n",
        "    best_forest.fit(X_train, y_train)\n",
        "    ans.append(best_forest.best_score_)\n",
        "ans.sort()\n",
        "ans1 += (ans[9] + ans[10])/2\n",
        "print((ans[9] + ans[10])/2)\n",
        "print(ans1/4)"
      ],
      "execution_count": null,
      "outputs": []
    },
    {
      "cell_type": "code",
      "metadata": {
        "id": "4BG7FloRLXy2",
        "colab_type": "code",
        "colab": {}
      },
      "source": [
        "from sklearn.ensemble import GradientBoostingClassifier"
      ],
      "execution_count": 254,
      "outputs": []
    },
    {
      "cell_type": "code",
      "metadata": {
        "id": "Wdn0J-H5L7RQ",
        "colab_type": "code",
        "colab": {}
      },
      "source": [
        "parameters = {\n",
        "    \"learning_rate\": [0.01, 0.025, 0.05, 0.075, 0.1, 0.15, 0.2],\n",
        "    \"max_depth\": range(2, 52, 2),\n",
        "    \"max_features\":[\"log2\",\"sqrt\"],\n",
        "    \"criterion\": [\"friedman_mse\",  \"mae\"],\n",
        "    \"n_estimators\":[5],\n",
        "    }\n",
        "best_boost = GridSearchCV(GradientBoostingClassifier(), param_grid=parameters, scoring='accuracy', cv = cv)"
      ],
      "execution_count": 255,
      "outputs": []
    },
    {
      "cell_type": "code",
      "metadata": {
        "id": "1JyMO3TaMWUK",
        "colab_type": "code",
        "colab": {
          "base_uri": "https://localhost:8080/",
          "height": 757,
          "referenced_widgets": [
            "2b2c7d2f145545bd808360b99fdcf254",
            "29a7e768c92b48888c36f45de5896512",
            "6886819eddbe46778aaa7b1598981d7a",
            "bed4f21636df4430aea704ffd7a30134",
            "f38d1825001345a58236a617780ce142",
            "3f51d59a1b1349bbb7da0155f3dcc618",
            "b8b3a5bcc71547d7a87066173dc880f5",
            "4f1a730ab6a3419f912a1e5bb71de8d6",
            "3751b72cc1e04043ba0abcea41f7b5a7",
            "4a2499a5eada454c825c94b1893777e6",
            "361f128b619443a1a3fce75156fd681b",
            "ce9b61fb31684630bed2f16038193c16",
            "a9315501ec404a6e94952ef64b97590d",
            "a3ff5893d5a64bc0b96a0ee99d600aa7",
            "c4c548b433024d4482e752e640d34f53",
            "ad8b2a34ec7c4d9aad609bfaefbf9e5b",
            "36565e7a21db436dbebbc939585081ca",
            "e651c00f4a8d4c7d9553437e5ad189b8",
            "a755f141b81b4ac29726f6fd2b36bebc",
            "a8600b52962a47bf9ac8e017f054ddb7",
            "d23c6e3244894797a894402923c7d765",
            "2b5f8380986b4df3bdd734b64df178b7",
            "0dbcc0044d38465488d5f7aba0a85ec1",
            "e50dc7fb1d8447f7a7fa7d734db06b5d",
            "afcacdfe384945bca3322fb821e73c6f",
            "f47321010840404d830fcd238e2b87ef",
            "5b0ad3faa1c943ba859bd8e22578515c",
            "879df305ffda419086767319a6a2657d",
            "37c6c25a6d384dd38d0b5237f3c08593",
            "9bf68b67d7594ac3a06706a900edab69",
            "085656aac8ae43d3a6ac108827fa90f9",
            "2337a11daa414546ae3523ff4e691cbc"
          ]
        },
        "outputId": "e9691b3d-d4d0-4630-922d-e942aa1b8f9b"
      },
      "source": [
        "ans1 = 0\n",
        "ans = []\n",
        "xx = np.arange(0, 20)\n",
        "for i in tqdm_notebook(xx):\n",
        "    best_boost.fit(X_train, y_train)\n",
        "    ans.append(best_boost.best_score_)\n",
        "    print(best_boost.best_params_, best_boost.best_score_)\n",
        "ans.sort()\n",
        "ans1 += (ans[9] + ans[10])/2\n",
        "print((ans[9] + ans[10])/2)\n",
        "ans = []\n",
        "xx = np.arange(0, 20)\n",
        "for i in tqdm_notebook(xx):\n",
        "    best_boost.fit(X_train, y_train)\n",
        "    ans.append(best_boost.best_score_)\n",
        "ans.sort()\n",
        "ans1 += (ans[9] + ans[10])/2\n",
        "print((ans[9] + ans[10])/2)\n",
        "ans = []\n",
        "xx = np.arange(0, 20)\n",
        "for i in tqdm_notebook(xx):\n",
        "    best_boost.fit(X_train, y_train)\n",
        "    ans.append(best_boost.best_score_)\n",
        "ans.sort()\n",
        "ans1 += (ans[9] + ans[10])/2\n",
        "print((ans[9] + ans[10])/2)\n",
        "ans = []\n",
        "xx = np.arange(0, 20)\n",
        "for i in tqdm_notebook(xx):\n",
        "    best_boost.fit(X_train, y_train)\n",
        "    ans.append(best_boost.best_score_)\n",
        "ans.sort()\n",
        "ans1 += (ans[9] + ans[10])/2\n",
        "print((ans[9] + ans[10])/2)\n",
        "print(ans1/4)"
      ],
      "execution_count": null,
      "outputs": [
        {
          "output_type": "stream",
          "text": [
            "/usr/local/lib/python3.6/dist-packages/ipykernel_launcher.py:4: TqdmDeprecationWarning: This function will be removed in tqdm==5.0.0\n",
            "Please use `tqdm.notebook.tqdm` instead of `tqdm.tqdm_notebook`\n",
            "  after removing the cwd from sys.path.\n"
          ],
          "name": "stderr"
        },
        {
          "output_type": "display_data",
          "data": {
            "application/vnd.jupyter.widget-view+json": {
              "model_id": "2b2c7d2f145545bd808360b99fdcf254",
              "version_minor": 0,
              "version_major": 2
            },
            "text/plain": [
              "HBox(children=(FloatProgress(value=0.0, max=20.0), HTML(value='')))"
            ]
          },
          "metadata": {
            "tags": []
          }
        },
        {
          "output_type": "stream",
          "text": [
            "{'criterion': 'friedman_mse', 'learning_rate': 0.05, 'max_depth': 8, 'max_features': 'sqrt', 'n_estimators': 5} 0.65625\n",
            "{'criterion': 'friedman_mse', 'learning_rate': 0.025, 'max_depth': 42, 'max_features': 'log2', 'n_estimators': 5} 0.75\n",
            "{'criterion': 'friedman_mse', 'learning_rate': 0.05, 'max_depth': 46, 'max_features': 'sqrt', 'n_estimators': 5} 0.65625\n",
            "{'criterion': 'friedman_mse', 'learning_rate': 0.075, 'max_depth': 2, 'max_features': 'log2', 'n_estimators': 5} 0.6875\n",
            "{'criterion': 'mae', 'learning_rate': 0.075, 'max_depth': 22, 'max_features': 'sqrt', 'n_estimators': 5} 0.75\n",
            "{'criterion': 'friedman_mse', 'learning_rate': 0.1, 'max_depth': 18, 'max_features': 'sqrt', 'n_estimators': 5} 0.75\n",
            "{'criterion': 'friedman_mse', 'learning_rate': 0.05, 'max_depth': 34, 'max_features': 'log2', 'n_estimators': 5} 0.65625\n",
            "{'criterion': 'friedman_mse', 'learning_rate': 0.1, 'max_depth': 24, 'max_features': 'log2', 'n_estimators': 5} 0.65625\n",
            "{'criterion': 'friedman_mse', 'learning_rate': 0.2, 'max_depth': 20, 'max_features': 'sqrt', 'n_estimators': 5} 0.71875\n",
            "{'criterion': 'mae', 'learning_rate': 0.025, 'max_depth': 18, 'max_features': 'sqrt', 'n_estimators': 5} 0.75\n",
            "{'criterion': 'friedman_mse', 'learning_rate': 0.025, 'max_depth': 26, 'max_features': 'sqrt', 'n_estimators': 5} 0.59375\n",
            "{'criterion': 'friedman_mse', 'learning_rate': 0.025, 'max_depth': 48, 'max_features': 'log2', 'n_estimators': 5} 0.75\n",
            "{'criterion': 'mae', 'learning_rate': 0.025, 'max_depth': 36, 'max_features': 'log2', 'n_estimators': 5} 0.65625\n",
            "{'criterion': 'friedman_mse', 'learning_rate': 0.2, 'max_depth': 4, 'max_features': 'log2', 'n_estimators': 5} 0.65625\n",
            "{'criterion': 'friedman_mse', 'learning_rate': 0.15, 'max_depth': 22, 'max_features': 'log2', 'n_estimators': 5} 0.625\n",
            "{'criterion': 'mae', 'learning_rate': 0.05, 'max_depth': 6, 'max_features': 'log2', 'n_estimators': 5} 0.625\n",
            "{'criterion': 'mae', 'learning_rate': 0.05, 'max_depth': 4, 'max_features': 'log2', 'n_estimators': 5} 0.59375\n",
            "{'criterion': 'friedman_mse', 'learning_rate': 0.01, 'max_depth': 2, 'max_features': 'log2', 'n_estimators': 5} 0.65625\n",
            "{'criterion': 'friedman_mse', 'learning_rate': 0.075, 'max_depth': 4, 'max_features': 'log2', 'n_estimators': 5} 0.71875\n",
            "{'criterion': 'friedman_mse', 'learning_rate': 0.025, 'max_depth': 12, 'max_features': 'sqrt', 'n_estimators': 5} 0.625\n",
            "\n",
            "0.65625\n"
          ],
          "name": "stdout"
        },
        {
          "output_type": "stream",
          "text": [
            "/usr/local/lib/python3.6/dist-packages/ipykernel_launcher.py:13: TqdmDeprecationWarning: This function will be removed in tqdm==5.0.0\n",
            "Please use `tqdm.notebook.tqdm` instead of `tqdm.tqdm_notebook`\n",
            "  del sys.path[0]\n"
          ],
          "name": "stderr"
        },
        {
          "output_type": "display_data",
          "data": {
            "application/vnd.jupyter.widget-view+json": {
              "model_id": "3751b72cc1e04043ba0abcea41f7b5a7",
              "version_minor": 0,
              "version_major": 2
            },
            "text/plain": [
              "HBox(children=(FloatProgress(value=0.0, max=20.0), HTML(value='')))"
            ]
          },
          "metadata": {
            "tags": []
          }
        },
        {
          "output_type": "stream",
          "text": [
            "\n",
            "0.703125\n"
          ],
          "name": "stdout"
        },
        {
          "output_type": "stream",
          "text": [
            "/usr/local/lib/python3.6/dist-packages/ipykernel_launcher.py:21: TqdmDeprecationWarning: This function will be removed in tqdm==5.0.0\n",
            "Please use `tqdm.notebook.tqdm` instead of `tqdm.tqdm_notebook`\n"
          ],
          "name": "stderr"
        },
        {
          "output_type": "display_data",
          "data": {
            "application/vnd.jupyter.widget-view+json": {
              "model_id": "36565e7a21db436dbebbc939585081ca",
              "version_minor": 0,
              "version_major": 2
            },
            "text/plain": [
              "HBox(children=(FloatProgress(value=0.0, max=20.0), HTML(value='')))"
            ]
          },
          "metadata": {
            "tags": []
          }
        },
        {
          "output_type": "stream",
          "text": [
            "\n",
            "0.6875\n"
          ],
          "name": "stdout"
        },
        {
          "output_type": "stream",
          "text": [
            "/usr/local/lib/python3.6/dist-packages/ipykernel_launcher.py:29: TqdmDeprecationWarning: This function will be removed in tqdm==5.0.0\n",
            "Please use `tqdm.notebook.tqdm` instead of `tqdm.tqdm_notebook`\n"
          ],
          "name": "stderr"
        },
        {
          "output_type": "display_data",
          "data": {
            "application/vnd.jupyter.widget-view+json": {
              "model_id": "afcacdfe384945bca3322fb821e73c6f",
              "version_minor": 0,
              "version_major": 2
            },
            "text/plain": [
              "HBox(children=(FloatProgress(value=0.0, max=20.0), HTML(value='')))"
            ]
          },
          "metadata": {
            "tags": []
          }
        }
      ]
    },
    {
      "cell_type": "code",
      "metadata": {
        "id": "Wk67XAsx-arW",
        "colab_type": "code",
        "colab": {
          "base_uri": "https://localhost:8080/",
          "height": 424
        },
        "outputId": "fc60071f-f192-4605-9123-5a18f15f5526"
      },
      "source": [
        "reg = GradientBoostingClassifier(learning_rate = 0.2, max_depth = 40, max_features = \"sqrt\", n_estimators = 5)\n",
        "reg.fit(X_train, y_train)\n",
        "feature_importance = reg.feature_importances_\n",
        "print(feature_importance)\n",
        "sorted_idx = np.argsort(feature_importance)\n",
        "pos = np.arange(sorted_idx.shape[0]) + .5\n",
        "fig = plt.figure(figsize=(12, 6))\n",
        "plt.subplot(1, 2, 1)\n",
        "plt.barh(pos, feature_importance[sorted_idx], align = 'center')\n",
        "plt.title('Features')\n"
      ],
      "execution_count": 253,
      "outputs": [
        {
          "output_type": "stream",
          "text": [
            "[0.10252705 0.16742441 0.11297564 0.10147356 0.15485761 0.36074173]\n"
          ],
          "name": "stdout"
        },
        {
          "output_type": "execute_result",
          "data": {
            "text/plain": [
              "Text(0.5, 1.0, 'Features')"
            ]
          },
          "metadata": {
            "tags": []
          },
          "execution_count": 253
        },
        {
          "output_type": "display_data",
          "data": {
            "image/png": "[encoded data removed]",
            "text/plain": [
              "<Figure size 864x432 with 1 Axes>"
            ]
          },
          "metadata": {
            "tags": [],
            "needs_background": "light"
          }
        }
      ]
    },
    {
      "cell_type": "code",
      "metadata": {
        "id": "SewtYUa5fQRA",
        "colab_type": "code",
        "colab": {}
      },
      "source": [
        "from sklearn.ensemble import ExtraTreesClassifier\n",
        "model = ExtraTreesClassifier(n_estimators=100, max_features=100)\n",
        "                       \n",
        "gsc = GridSearchCV(\n",
        "    estimator=model,\n",
        "    param_grid={\n",
        "        'max_features': range(2,10,2),\n",
        "        'max_depth': range(2, 30, 3)\n",
        "    },\n",
        "    cv=cv\n",
        ")"
      ],
      "execution_count": null,
      "outputs": []
    },
    {
      "cell_type": "code",
      "metadata": {
        "id": "m6GO8GogfUWM",
        "colab_type": "code",
        "colab": {}
      },
      "source": [
        "ans1 = 0\n",
        "ans = []\n",
        "xx = np.arange(0, 20)\n",
        "for i in tqdm_notebook(xx):\n",
        "    gsc.fit(X_train, y_train)\n",
        "    ans.append(gsc.best_score_)\n",
        "ans.sort()\n",
        "ans1 += (ans[9] + ans[10])/2\n",
        "print((ans[9] + ans[10])/2)\n",
        "ans = []\n",
        "xx = np.arange(0, 20)\n",
        "for i in tqdm_notebook(xx):\n",
        "    gsc.fit(X_train, y_train)\n",
        "    ans.append(gsc.best_score_)\n",
        "ans.sort()\n",
        "ans1 += (ans[9] + ans[10])/2\n",
        "print((ans[9] + ans[10])/2)\n",
        "ans = []\n",
        "xx = np.arange(0, 20)\n",
        "for i in tqdm_notebook(xx):\n",
        "    gsc.fit(X_train, y_train)\n",
        "    ans.append(gsc.best_score_)\n",
        "ans.sort()\n",
        "ans1 += (ans[9] + ans[10])/2\n",
        "print((ans[9] + ans[10])/2)\n",
        "ans = []\n",
        "xx = np.arange(0, 20)\n",
        "for i in tqdm_notebook(xx):\n",
        "    gsc.fit(X_train, y_train)\n",
        "    ans.append(gsc.best_score_)\n",
        "ans.sort()\n",
        "ans1 += (ans[9] + ans[10])/2\n",
        "print((ans[9] + ans[10])/2)\n",
        "print(ans1/4)"
      ],
      "execution_count": null,
      "outputs": []
    },
    {
      "cell_type": "code",
      "metadata": {
        "id": "5RhBWUgZifYd",
        "colab_type": "code",
        "colab": {}
      },
      "source": [
        "from sklearn.ensemble import AdaBoostClassifier\n",
        "model = AdaBoostClassifier(n_estimators=100)\n",
        "                       \n",
        "gsc1 = GridSearchCV(\n",
        "    estimator=model,\n",
        "    param_grid={\n",
        "        \"learning_rate\": [0.01, 0.025, 0.05, 0.075, 0.1],\n",
        "    },\n",
        "    cv=cv\n",
        ")"
      ],
      "execution_count": null,
      "outputs": []
    },
    {
      "cell_type": "code",
      "metadata": {
        "id": "CO1qsbjTini6",
        "colab_type": "code",
        "colab": {}
      },
      "source": [
        "ans1 = 0\n",
        "ans = []\n",
        "xx = np.arange(0, 20)\n",
        "for i in tqdm_notebook(xx):\n",
        "    gsc1.fit(X_train, y_train)\n",
        "    ans.append(gsc1.best_score_)\n",
        "ans.sort()\n",
        "ans1 += (ans[9] + ans[10])/2\n",
        "print((ans[9] + ans[10])/2)\n",
        "ans = []\n",
        "xx = np.arange(0, 20)\n",
        "for i in tqdm_notebook(xx):\n",
        "    gsc1.fit(X_train, y_train)\n",
        "    ans.append(gsc1.best_score_)\n",
        "ans.sort()\n",
        "ans1 += (ans[9] + ans[10])/2\n",
        "print((ans[9] + ans[10])/2)\n",
        "ans = []\n",
        "xx = np.arange(0, 20)\n",
        "for i in tqdm_notebook(xx):\n",
        "    gsc1.fit(X_train, y_train)\n",
        "    ans.append(gsc1.best_score_)\n",
        "ans.sort()\n",
        "ans1 += (ans[9] + ans[10])/2\n",
        "print((ans[9] + ans[10])/2)\n",
        "ans = []\n",
        "xx = np.arange(0, 20)\n",
        "for i in tqdm_notebook(xx):\n",
        "    gsc1.fit(X_train, y_train)\n",
        "    ans.append(gsc1.best_score_)\n",
        "ans.sort()\n",
        "ans1 += (ans[9] + ans[10])/2\n",
        "print((ans[9] + ans[10])/2)\n",
        "print(ans1/4)"
      ],
      "execution_count": null,
      "outputs": []
    }
  ]
}